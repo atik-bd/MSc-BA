{
  "cells": [
    {
      "cell_type": "markdown",
      "metadata": {
        "id": "view-in-github",
        "colab_type": "text"
      },
      "source": [
        "<a href=\"https://colab.research.google.com/github/atik-bd/MSc-BA/blob/main/ML_Household_Income_Analysis.ipynb\" target=\"_parent\"><img src=\"https://colab.research.google.com/assets/colab-badge.svg\" alt=\"Open In Colab\"/></a>"
      ]
    },
    {
      "cell_type": "markdown",
      "source": [
        "# Data Preparation"
      ],
      "metadata": {
        "id": "ml9cSeX888fL"
      }
    },
    {
      "cell_type": "markdown",
      "source": [
        "##Data Reading"
      ],
      "metadata": {
        "id": "LNa8ljp99Bxj"
      }
    },
    {
      "cell_type": "code",
      "source": [
        "# Mounting the packages into Colab\n",
        "from pandas import read_csv, DataFrame, get_dummies\n",
        "from sklearn.preprocessing import StandardScaler\n",
        "from sklearn.model_selection import GridSearchCV\n",
        "from sklearn import linear_model\n",
        "from  plotly import figure_factory"
      ],
      "metadata": {
        "id": "oedmL3SYFgLC"
      },
      "execution_count": null,
      "outputs": []
    },
    {
      "cell_type": "code",
      "source": [
        "# Mounting the dataset into Colab\n",
        "data1=read_csv(\"/content/Regression Dataset for Household Income Analysis.csv\")"
      ],
      "metadata": {
        "id": "CYTvj0di0qy0"
      },
      "execution_count": null,
      "outputs": []
    },
    {
      "cell_type": "code",
      "source": [
        "# Checking the first ten rows of the dataset\n",
        "data1.head(10)"
      ],
      "metadata": {
        "colab": {
          "base_uri": "https://localhost:8080/",
          "height": 417
        },
        "id": "eXl4tclq9mZE",
        "outputId": "605bd339-e66a-4a1e-e542-52d2ea301911",
        "collapsed": true
      },
      "execution_count": null,
      "outputs": [
        {
          "output_type": "execute_result",
          "data": {
            "text/plain": [
              "   Age Education_Level  Occupation  Number_of_Dependents  Location  \\\n",
              "0   56        Master's  Technology                     5     Urban   \n",
              "1   69     High School     Finance                     0     Urban   \n",
              "2   46      Bachelor's  Technology                     1     Urban   \n",
              "3   32     High School      Others                     2     Urban   \n",
              "4   60      Bachelor's     Finance                     3     Urban   \n",
              "5   25     High School      Others                     1     Rural   \n",
              "6   38        Master's  Technology                     3     Rural   \n",
              "7   56        Master's   Education                     1  Suburban   \n",
              "8   36        Master's     Finance                     4  Suburban   \n",
              "9   40      Bachelor's   Education                     4     Urban   \n",
              "\n",
              "   Work_Experience Marital_Status Employment_Status  Household_Size  \\\n",
              "0               21        Married         Full-time               7   \n",
              "1                4         Single         Full-time               7   \n",
              "2                1         Single         Full-time               7   \n",
              "3               32        Married         Full-time               1   \n",
              "4               15        Married     Self-employed               4   \n",
              "5                6         Single         Part-time               1   \n",
              "6               20        Married         Full-time               4   \n",
              "7               34        Married         Part-time               7   \n",
              "8               45        Married         Full-time               2   \n",
              "9               21        Married         Full-time               6   \n",
              "\n",
              "  Homeownership_Status     Type_of_Housing  Gender  \\\n",
              "0                  Own           Apartment    Male   \n",
              "1                  Own           Apartment    Male   \n",
              "2                  Own  Single-family home  Female   \n",
              "3                  Own           Apartment  Female   \n",
              "4                  Own           Townhouse    Male   \n",
              "5                 Rent           Townhouse  Female   \n",
              "6                 Rent  Single-family home    Male   \n",
              "7                  Own           Townhouse  Female   \n",
              "8                  Own           Apartment  Female   \n",
              "9                  Own           Apartment  Female   \n",
              "\n",
              "  Primary_Mode_of_Transportation   Income  \n",
              "0                 Public transit    72510  \n",
              "1                         Biking    75462  \n",
              "2                            Car    71748  \n",
              "3                            Car    74520  \n",
              "4                        Walking   640210  \n",
              "5                            Car    73406  \n",
              "6                 Public transit  3584362  \n",
              "7                 Public transit    70066  \n",
              "8                 Public transit    69636  \n",
              "9                         Biking  5188124  "
            ],
            "text/html": [
              "\n",
              "  <div id=\"df-3dc64f6b-15d2-46a5-a4a5-c9f2a2b9f315\" class=\"colab-df-container\">\n",
              "    <div>\n",
              "<style scoped>\n",
              "    .dataframe tbody tr th:only-of-type {\n",
              "        vertical-align: middle;\n",
              "    }\n",
              "\n",
              "    .dataframe tbody tr th {\n",
              "        vertical-align: top;\n",
              "    }\n",
              "\n",
              "    .dataframe thead th {\n",
              "        text-align: right;\n",
              "    }\n",
              "</style>\n",
              "<table border=\"1\" class=\"dataframe\">\n",
              "  <thead>\n",
              "    <tr style=\"text-align: right;\">\n",
              "      <th></th>\n",
              "      <th>Age</th>\n",
              "      <th>Education_Level</th>\n",
              "      <th>Occupation</th>\n",
              "      <th>Number_of_Dependents</th>\n",
              "      <th>Location</th>\n",
              "      <th>Work_Experience</th>\n",
              "      <th>Marital_Status</th>\n",
              "      <th>Employment_Status</th>\n",
              "      <th>Household_Size</th>\n",
              "      <th>Homeownership_Status</th>\n",
              "      <th>Type_of_Housing</th>\n",
              "      <th>Gender</th>\n",
              "      <th>Primary_Mode_of_Transportation</th>\n",
              "      <th>Income</th>\n",
              "    </tr>\n",
              "  </thead>\n",
              "  <tbody>\n",
              "    <tr>\n",
              "      <th>0</th>\n",
              "      <td>56</td>\n",
              "      <td>Master's</td>\n",
              "      <td>Technology</td>\n",
              "      <td>5</td>\n",
              "      <td>Urban</td>\n",
              "      <td>21</td>\n",
              "      <td>Married</td>\n",
              "      <td>Full-time</td>\n",
              "      <td>7</td>\n",
              "      <td>Own</td>\n",
              "      <td>Apartment</td>\n",
              "      <td>Male</td>\n",
              "      <td>Public transit</td>\n",
              "      <td>72510</td>\n",
              "    </tr>\n",
              "    <tr>\n",
              "      <th>1</th>\n",
              "      <td>69</td>\n",
              "      <td>High School</td>\n",
              "      <td>Finance</td>\n",
              "      <td>0</td>\n",
              "      <td>Urban</td>\n",
              "      <td>4</td>\n",
              "      <td>Single</td>\n",
              "      <td>Full-time</td>\n",
              "      <td>7</td>\n",
              "      <td>Own</td>\n",
              "      <td>Apartment</td>\n",
              "      <td>Male</td>\n",
              "      <td>Biking</td>\n",
              "      <td>75462</td>\n",
              "    </tr>\n",
              "    <tr>\n",
              "      <th>2</th>\n",
              "      <td>46</td>\n",
              "      <td>Bachelor's</td>\n",
              "      <td>Technology</td>\n",
              "      <td>1</td>\n",
              "      <td>Urban</td>\n",
              "      <td>1</td>\n",
              "      <td>Single</td>\n",
              "      <td>Full-time</td>\n",
              "      <td>7</td>\n",
              "      <td>Own</td>\n",
              "      <td>Single-family home</td>\n",
              "      <td>Female</td>\n",
              "      <td>Car</td>\n",
              "      <td>71748</td>\n",
              "    </tr>\n",
              "    <tr>\n",
              "      <th>3</th>\n",
              "      <td>32</td>\n",
              "      <td>High School</td>\n",
              "      <td>Others</td>\n",
              "      <td>2</td>\n",
              "      <td>Urban</td>\n",
              "      <td>32</td>\n",
              "      <td>Married</td>\n",
              "      <td>Full-time</td>\n",
              "      <td>1</td>\n",
              "      <td>Own</td>\n",
              "      <td>Apartment</td>\n",
              "      <td>Female</td>\n",
              "      <td>Car</td>\n",
              "      <td>74520</td>\n",
              "    </tr>\n",
              "    <tr>\n",
              "      <th>4</th>\n",
              "      <td>60</td>\n",
              "      <td>Bachelor's</td>\n",
              "      <td>Finance</td>\n",
              "      <td>3</td>\n",
              "      <td>Urban</td>\n",
              "      <td>15</td>\n",
              "      <td>Married</td>\n",
              "      <td>Self-employed</td>\n",
              "      <td>4</td>\n",
              "      <td>Own</td>\n",
              "      <td>Townhouse</td>\n",
              "      <td>Male</td>\n",
              "      <td>Walking</td>\n",
              "      <td>640210</td>\n",
              "    </tr>\n",
              "    <tr>\n",
              "      <th>5</th>\n",
              "      <td>25</td>\n",
              "      <td>High School</td>\n",
              "      <td>Others</td>\n",
              "      <td>1</td>\n",
              "      <td>Rural</td>\n",
              "      <td>6</td>\n",
              "      <td>Single</td>\n",
              "      <td>Part-time</td>\n",
              "      <td>1</td>\n",
              "      <td>Rent</td>\n",
              "      <td>Townhouse</td>\n",
              "      <td>Female</td>\n",
              "      <td>Car</td>\n",
              "      <td>73406</td>\n",
              "    </tr>\n",
              "    <tr>\n",
              "      <th>6</th>\n",
              "      <td>38</td>\n",
              "      <td>Master's</td>\n",
              "      <td>Technology</td>\n",
              "      <td>3</td>\n",
              "      <td>Rural</td>\n",
              "      <td>20</td>\n",
              "      <td>Married</td>\n",
              "      <td>Full-time</td>\n",
              "      <td>4</td>\n",
              "      <td>Rent</td>\n",
              "      <td>Single-family home</td>\n",
              "      <td>Male</td>\n",
              "      <td>Public transit</td>\n",
              "      <td>3584362</td>\n",
              "    </tr>\n",
              "    <tr>\n",
              "      <th>7</th>\n",
              "      <td>56</td>\n",
              "      <td>Master's</td>\n",
              "      <td>Education</td>\n",
              "      <td>1</td>\n",
              "      <td>Suburban</td>\n",
              "      <td>34</td>\n",
              "      <td>Married</td>\n",
              "      <td>Part-time</td>\n",
              "      <td>7</td>\n",
              "      <td>Own</td>\n",
              "      <td>Townhouse</td>\n",
              "      <td>Female</td>\n",
              "      <td>Public transit</td>\n",
              "      <td>70066</td>\n",
              "    </tr>\n",
              "    <tr>\n",
              "      <th>8</th>\n",
              "      <td>36</td>\n",
              "      <td>Master's</td>\n",
              "      <td>Finance</td>\n",
              "      <td>4</td>\n",
              "      <td>Suburban</td>\n",
              "      <td>45</td>\n",
              "      <td>Married</td>\n",
              "      <td>Full-time</td>\n",
              "      <td>2</td>\n",
              "      <td>Own</td>\n",
              "      <td>Apartment</td>\n",
              "      <td>Female</td>\n",
              "      <td>Public transit</td>\n",
              "      <td>69636</td>\n",
              "    </tr>\n",
              "    <tr>\n",
              "      <th>9</th>\n",
              "      <td>40</td>\n",
              "      <td>Bachelor's</td>\n",
              "      <td>Education</td>\n",
              "      <td>4</td>\n",
              "      <td>Urban</td>\n",
              "      <td>21</td>\n",
              "      <td>Married</td>\n",
              "      <td>Full-time</td>\n",
              "      <td>6</td>\n",
              "      <td>Own</td>\n",
              "      <td>Apartment</td>\n",
              "      <td>Female</td>\n",
              "      <td>Biking</td>\n",
              "      <td>5188124</td>\n",
              "    </tr>\n",
              "  </tbody>\n",
              "</table>\n",
              "</div>\n",
              "    <div class=\"colab-df-buttons\">\n",
              "\n",
              "  <div class=\"colab-df-container\">\n",
              "    <button class=\"colab-df-convert\" onclick=\"convertToInteractive('df-3dc64f6b-15d2-46a5-a4a5-c9f2a2b9f315')\"\n",
              "            title=\"Convert this dataframe to an interactive table.\"\n",
              "            style=\"display:none;\">\n",
              "\n",
              "  <svg xmlns=\"http://www.w3.org/2000/svg\" height=\"24px\" viewBox=\"0 -960 960 960\">\n",
              "    <path d=\"M120-120v-720h720v720H120Zm60-500h600v-160H180v160Zm220 220h160v-160H400v160Zm0 220h160v-160H400v160ZM180-400h160v-160H180v160Zm440 0h160v-160H620v160ZM180-180h160v-160H180v160Zm440 0h160v-160H620v160Z\"/>\n",
              "  </svg>\n",
              "    </button>\n",
              "\n",
              "  <style>\n",
              "    .colab-df-container {\n",
              "      display:flex;\n",
              "      gap: 12px;\n",
              "    }\n",
              "\n",
              "    .colab-df-convert {\n",
              "      background-color: #E8F0FE;\n",
              "      border: none;\n",
              "      border-radius: 50%;\n",
              "      cursor: pointer;\n",
              "      display: none;\n",
              "      fill: #1967D2;\n",
              "      height: 32px;\n",
              "      padding: 0 0 0 0;\n",
              "      width: 32px;\n",
              "    }\n",
              "\n",
              "    .colab-df-convert:hover {\n",
              "      background-color: #E2EBFA;\n",
              "      box-shadow: 0px 1px 2px rgba(60, 64, 67, 0.3), 0px 1px 3px 1px rgba(60, 64, 67, 0.15);\n",
              "      fill: #174EA6;\n",
              "    }\n",
              "\n",
              "    .colab-df-buttons div {\n",
              "      margin-bottom: 4px;\n",
              "    }\n",
              "\n",
              "    [theme=dark] .colab-df-convert {\n",
              "      background-color: #3B4455;\n",
              "      fill: #D2E3FC;\n",
              "    }\n",
              "\n",
              "    [theme=dark] .colab-df-convert:hover {\n",
              "      background-color: #434B5C;\n",
              "      box-shadow: 0px 1px 3px 1px rgba(0, 0, 0, 0.15);\n",
              "      filter: drop-shadow(0px 1px 2px rgba(0, 0, 0, 0.3));\n",
              "      fill: #FFFFFF;\n",
              "    }\n",
              "  </style>\n",
              "\n",
              "    <script>\n",
              "      const buttonEl =\n",
              "        document.querySelector('#df-3dc64f6b-15d2-46a5-a4a5-c9f2a2b9f315 button.colab-df-convert');\n",
              "      buttonEl.style.display =\n",
              "        google.colab.kernel.accessAllowed ? 'block' : 'none';\n",
              "\n",
              "      async function convertToInteractive(key) {\n",
              "        const element = document.querySelector('#df-3dc64f6b-15d2-46a5-a4a5-c9f2a2b9f315');\n",
              "        const dataTable =\n",
              "          await google.colab.kernel.invokeFunction('convertToInteractive',\n",
              "                                                    [key], {});\n",
              "        if (!dataTable) return;\n",
              "\n",
              "        const docLinkHtml = 'Like what you see? Visit the ' +\n",
              "          '<a target=\"_blank\" href=https://colab.research.google.com/notebooks/data_table.ipynb>data table notebook</a>'\n",
              "          + ' to learn more about interactive tables.';\n",
              "        element.innerHTML = '';\n",
              "        dataTable['output_type'] = 'display_data';\n",
              "        await google.colab.output.renderOutput(dataTable, element);\n",
              "        const docLink = document.createElement('div');\n",
              "        docLink.innerHTML = docLinkHtml;\n",
              "        element.appendChild(docLink);\n",
              "      }\n",
              "    </script>\n",
              "  </div>\n",
              "\n",
              "\n",
              "<div id=\"df-7de08c7e-85d7-4d3c-a818-f3053972efe8\">\n",
              "  <button class=\"colab-df-quickchart\" onclick=\"quickchart('df-7de08c7e-85d7-4d3c-a818-f3053972efe8')\"\n",
              "            title=\"Suggest charts\"\n",
              "            style=\"display:none;\">\n",
              "\n",
              "<svg xmlns=\"http://www.w3.org/2000/svg\" height=\"24px\"viewBox=\"0 0 24 24\"\n",
              "     width=\"24px\">\n",
              "    <g>\n",
              "        <path d=\"M19 3H5c-1.1 0-2 .9-2 2v14c0 1.1.9 2 2 2h14c1.1 0 2-.9 2-2V5c0-1.1-.9-2-2-2zM9 17H7v-7h2v7zm4 0h-2V7h2v10zm4 0h-2v-4h2v4z\"/>\n",
              "    </g>\n",
              "</svg>\n",
              "  </button>\n",
              "\n",
              "<style>\n",
              "  .colab-df-quickchart {\n",
              "      --bg-color: #E8F0FE;\n",
              "      --fill-color: #1967D2;\n",
              "      --hover-bg-color: #E2EBFA;\n",
              "      --hover-fill-color: #174EA6;\n",
              "      --disabled-fill-color: #AAA;\n",
              "      --disabled-bg-color: #DDD;\n",
              "  }\n",
              "\n",
              "  [theme=dark] .colab-df-quickchart {\n",
              "      --bg-color: #3B4455;\n",
              "      --fill-color: #D2E3FC;\n",
              "      --hover-bg-color: #434B5C;\n",
              "      --hover-fill-color: #FFFFFF;\n",
              "      --disabled-bg-color: #3B4455;\n",
              "      --disabled-fill-color: #666;\n",
              "  }\n",
              "\n",
              "  .colab-df-quickchart {\n",
              "    background-color: var(--bg-color);\n",
              "    border: none;\n",
              "    border-radius: 50%;\n",
              "    cursor: pointer;\n",
              "    display: none;\n",
              "    fill: var(--fill-color);\n",
              "    height: 32px;\n",
              "    padding: 0;\n",
              "    width: 32px;\n",
              "  }\n",
              "\n",
              "  .colab-df-quickchart:hover {\n",
              "    background-color: var(--hover-bg-color);\n",
              "    box-shadow: 0 1px 2px rgba(60, 64, 67, 0.3), 0 1px 3px 1px rgba(60, 64, 67, 0.15);\n",
              "    fill: var(--button-hover-fill-color);\n",
              "  }\n",
              "\n",
              "  .colab-df-quickchart-complete:disabled,\n",
              "  .colab-df-quickchart-complete:disabled:hover {\n",
              "    background-color: var(--disabled-bg-color);\n",
              "    fill: var(--disabled-fill-color);\n",
              "    box-shadow: none;\n",
              "  }\n",
              "\n",
              "  .colab-df-spinner {\n",
              "    border: 2px solid var(--fill-color);\n",
              "    border-color: transparent;\n",
              "    border-bottom-color: var(--fill-color);\n",
              "    animation:\n",
              "      spin 1s steps(1) infinite;\n",
              "  }\n",
              "\n",
              "  @keyframes spin {\n",
              "    0% {\n",
              "      border-color: transparent;\n",
              "      border-bottom-color: var(--fill-color);\n",
              "      border-left-color: var(--fill-color);\n",
              "    }\n",
              "    20% {\n",
              "      border-color: transparent;\n",
              "      border-left-color: var(--fill-color);\n",
              "      border-top-color: var(--fill-color);\n",
              "    }\n",
              "    30% {\n",
              "      border-color: transparent;\n",
              "      border-left-color: var(--fill-color);\n",
              "      border-top-color: var(--fill-color);\n",
              "      border-right-color: var(--fill-color);\n",
              "    }\n",
              "    40% {\n",
              "      border-color: transparent;\n",
              "      border-right-color: var(--fill-color);\n",
              "      border-top-color: var(--fill-color);\n",
              "    }\n",
              "    60% {\n",
              "      border-color: transparent;\n",
              "      border-right-color: var(--fill-color);\n",
              "    }\n",
              "    80% {\n",
              "      border-color: transparent;\n",
              "      border-right-color: var(--fill-color);\n",
              "      border-bottom-color: var(--fill-color);\n",
              "    }\n",
              "    90% {\n",
              "      border-color: transparent;\n",
              "      border-bottom-color: var(--fill-color);\n",
              "    }\n",
              "  }\n",
              "</style>\n",
              "\n",
              "  <script>\n",
              "    async function quickchart(key) {\n",
              "      const quickchartButtonEl =\n",
              "        document.querySelector('#' + key + ' button');\n",
              "      quickchartButtonEl.disabled = true;  // To prevent multiple clicks.\n",
              "      quickchartButtonEl.classList.add('colab-df-spinner');\n",
              "      try {\n",
              "        const charts = await google.colab.kernel.invokeFunction(\n",
              "            'suggestCharts', [key], {});\n",
              "      } catch (error) {\n",
              "        console.error('Error during call to suggestCharts:', error);\n",
              "      }\n",
              "      quickchartButtonEl.classList.remove('colab-df-spinner');\n",
              "      quickchartButtonEl.classList.add('colab-df-quickchart-complete');\n",
              "    }\n",
              "    (() => {\n",
              "      let quickchartButtonEl =\n",
              "        document.querySelector('#df-7de08c7e-85d7-4d3c-a818-f3053972efe8 button');\n",
              "      quickchartButtonEl.style.display =\n",
              "        google.colab.kernel.accessAllowed ? 'block' : 'none';\n",
              "    })();\n",
              "  </script>\n",
              "</div>\n",
              "\n",
              "    </div>\n",
              "  </div>\n"
            ],
            "application/vnd.google.colaboratory.intrinsic+json": {
              "type": "dataframe",
              "variable_name": "data1",
              "summary": "{\n  \"name\": \"data1\",\n  \"rows\": 10000,\n  \"fields\": [\n    {\n      \"column\": \"Age\",\n      \"properties\": {\n        \"dtype\": \"number\",\n        \"std\": 15,\n        \"min\": 18,\n        \"max\": 70,\n        \"num_unique_values\": 53,\n        \"samples\": [\n          55,\n          23,\n          58\n        ],\n        \"semantic_type\": \"\",\n        \"description\": \"\"\n      }\n    },\n    {\n      \"column\": \"Education_Level\",\n      \"properties\": {\n        \"dtype\": \"category\",\n        \"num_unique_values\": 4,\n        \"samples\": [\n          \"High School\",\n          \"Doctorate\",\n          \"Master's\"\n        ],\n        \"semantic_type\": \"\",\n        \"description\": \"\"\n      }\n    },\n    {\n      \"column\": \"Occupation\",\n      \"properties\": {\n        \"dtype\": \"category\",\n        \"num_unique_values\": 5,\n        \"samples\": [\n          \"Finance\",\n          \"Healthcare\",\n          \"Others\"\n        ],\n        \"semantic_type\": \"\",\n        \"description\": \"\"\n      }\n    },\n    {\n      \"column\": \"Number_of_Dependents\",\n      \"properties\": {\n        \"dtype\": \"number\",\n        \"std\": 1,\n        \"min\": 0,\n        \"max\": 5,\n        \"num_unique_values\": 6,\n        \"samples\": [\n          5,\n          0,\n          4\n        ],\n        \"semantic_type\": \"\",\n        \"description\": \"\"\n      }\n    },\n    {\n      \"column\": \"Location\",\n      \"properties\": {\n        \"dtype\": \"category\",\n        \"num_unique_values\": 3,\n        \"samples\": [\n          \"Urban\",\n          \"Rural\",\n          \"Suburban\"\n        ],\n        \"semantic_type\": \"\",\n        \"description\": \"\"\n      }\n    },\n    {\n      \"column\": \"Work_Experience\",\n      \"properties\": {\n        \"dtype\": \"number\",\n        \"std\": 14,\n        \"min\": 0,\n        \"max\": 50,\n        \"num_unique_values\": 51,\n        \"samples\": [\n          36,\n          18,\n          35\n        ],\n        \"semantic_type\": \"\",\n        \"description\": \"\"\n      }\n    },\n    {\n      \"column\": \"Marital_Status\",\n      \"properties\": {\n        \"dtype\": \"category\",\n        \"num_unique_values\": 3,\n        \"samples\": [\n          \"Married\",\n          \"Single\",\n          \"Divorced\"\n        ],\n        \"semantic_type\": \"\",\n        \"description\": \"\"\n      }\n    },\n    {\n      \"column\": \"Employment_Status\",\n      \"properties\": {\n        \"dtype\": \"category\",\n        \"num_unique_values\": 3,\n        \"samples\": [\n          \"Full-time\",\n          \"Self-employed\",\n          \"Part-time\"\n        ],\n        \"semantic_type\": \"\",\n        \"description\": \"\"\n      }\n    },\n    {\n      \"column\": \"Household_Size\",\n      \"properties\": {\n        \"dtype\": \"number\",\n        \"std\": 2,\n        \"min\": 1,\n        \"max\": 7,\n        \"num_unique_values\": 7,\n        \"samples\": [\n          7,\n          1,\n          5\n        ],\n        \"semantic_type\": \"\",\n        \"description\": \"\"\n      }\n    },\n    {\n      \"column\": \"Homeownership_Status\",\n      \"properties\": {\n        \"dtype\": \"category\",\n        \"num_unique_values\": 2,\n        \"samples\": [\n          \"Rent\",\n          \"Own\"\n        ],\n        \"semantic_type\": \"\",\n        \"description\": \"\"\n      }\n    },\n    {\n      \"column\": \"Type_of_Housing\",\n      \"properties\": {\n        \"dtype\": \"category\",\n        \"num_unique_values\": 3,\n        \"samples\": [\n          \"Apartment\",\n          \"Single-family home\"\n        ],\n        \"semantic_type\": \"\",\n        \"description\": \"\"\n      }\n    },\n    {\n      \"column\": \"Gender\",\n      \"properties\": {\n        \"dtype\": \"category\",\n        \"num_unique_values\": 2,\n        \"samples\": [\n          \"Female\",\n          \"Male\"\n        ],\n        \"semantic_type\": \"\",\n        \"description\": \"\"\n      }\n    },\n    {\n      \"column\": \"Primary_Mode_of_Transportation\",\n      \"properties\": {\n        \"dtype\": \"category\",\n        \"num_unique_values\": 4,\n        \"samples\": [\n          \"Biking\",\n          \"Walking\"\n        ],\n        \"semantic_type\": \"\",\n        \"description\": \"\"\n      }\n    },\n    {\n      \"column\": \"Income\",\n      \"properties\": {\n        \"dtype\": \"number\",\n        \"std\": 1821089,\n        \"min\": 31044,\n        \"max\": 9992571,\n        \"num_unique_values\": 7667,\n        \"samples\": [\n          37367,\n          73368\n        ],\n        \"semantic_type\": \"\",\n        \"description\": \"\"\n      }\n    }\n  ]\n}"
            }
          },
          "metadata": {},
          "execution_count": 278
        }
      ]
    },
    {
      "cell_type": "code",
      "source": [
        "# Checking the numbers of rows and columns (features) in the dataset\n",
        "data1.shape"
      ],
      "metadata": {
        "colab": {
          "base_uri": "https://localhost:8080/"
        },
        "id": "_71aCe6-9uMj",
        "outputId": "1ef5b8a0-57bf-4301-dbb0-81b1381aa797",
        "collapsed": true
      },
      "execution_count": null,
      "outputs": [
        {
          "output_type": "execute_result",
          "data": {
            "text/plain": [
              "(10000, 14)"
            ]
          },
          "metadata": {},
          "execution_count": 279
        }
      ]
    },
    {
      "cell_type": "code",
      "source": [
        "# Checking the basic statistics for the dataset\n",
        "data1.describe()"
      ],
      "metadata": {
        "colab": {
          "base_uri": "https://localhost:8080/",
          "height": 300
        },
        "id": "HkkTffX0-GCM",
        "outputId": "d0d54948-8617-4ef9-af9c-bc5bc0e197eb",
        "collapsed": true
      },
      "execution_count": null,
      "outputs": [
        {
          "output_type": "execute_result",
          "data": {
            "text/plain": [
              "                Age  Number_of_Dependents  Work_Experience  Household_Size  \\\n",
              "count  10000.000000          10000.000000     10000.000000    10000.000000   \n",
              "mean      44.021700              2.527000        24.858800        3.989600   \n",
              "std       15.203998              1.713991        14.652622        2.010496   \n",
              "min       18.000000              0.000000         0.000000        1.000000   \n",
              "25%       31.000000              1.000000        12.000000        2.000000   \n",
              "50%       44.000000              3.000000        25.000000        4.000000   \n",
              "75%       57.000000              4.000000        37.000000        6.000000   \n",
              "max       70.000000              5.000000        50.000000        7.000000   \n",
              "\n",
              "             Income  \n",
              "count  1.000000e+04  \n",
              "mean   8.168382e+05  \n",
              "std    1.821089e+06  \n",
              "min    3.104400e+04  \n",
              "25%    6.844600e+04  \n",
              "50%    7.294300e+04  \n",
              "75%    3.506675e+05  \n",
              "max    9.992571e+06  "
            ],
            "text/html": [
              "\n",
              "  <div id=\"df-043abaf2-2b9e-407f-b842-8c8867df24c6\" class=\"colab-df-container\">\n",
              "    <div>\n",
              "<style scoped>\n",
              "    .dataframe tbody tr th:only-of-type {\n",
              "        vertical-align: middle;\n",
              "    }\n",
              "\n",
              "    .dataframe tbody tr th {\n",
              "        vertical-align: top;\n",
              "    }\n",
              "\n",
              "    .dataframe thead th {\n",
              "        text-align: right;\n",
              "    }\n",
              "</style>\n",
              "<table border=\"1\" class=\"dataframe\">\n",
              "  <thead>\n",
              "    <tr style=\"text-align: right;\">\n",
              "      <th></th>\n",
              "      <th>Age</th>\n",
              "      <th>Number_of_Dependents</th>\n",
              "      <th>Work_Experience</th>\n",
              "      <th>Household_Size</th>\n",
              "      <th>Income</th>\n",
              "    </tr>\n",
              "  </thead>\n",
              "  <tbody>\n",
              "    <tr>\n",
              "      <th>count</th>\n",
              "      <td>10000.000000</td>\n",
              "      <td>10000.000000</td>\n",
              "      <td>10000.000000</td>\n",
              "      <td>10000.000000</td>\n",
              "      <td>1.000000e+04</td>\n",
              "    </tr>\n",
              "    <tr>\n",
              "      <th>mean</th>\n",
              "      <td>44.021700</td>\n",
              "      <td>2.527000</td>\n",
              "      <td>24.858800</td>\n",
              "      <td>3.989600</td>\n",
              "      <td>8.168382e+05</td>\n",
              "    </tr>\n",
              "    <tr>\n",
              "      <th>std</th>\n",
              "      <td>15.203998</td>\n",
              "      <td>1.713991</td>\n",
              "      <td>14.652622</td>\n",
              "      <td>2.010496</td>\n",
              "      <td>1.821089e+06</td>\n",
              "    </tr>\n",
              "    <tr>\n",
              "      <th>min</th>\n",
              "      <td>18.000000</td>\n",
              "      <td>0.000000</td>\n",
              "      <td>0.000000</td>\n",
              "      <td>1.000000</td>\n",
              "      <td>3.104400e+04</td>\n",
              "    </tr>\n",
              "    <tr>\n",
              "      <th>25%</th>\n",
              "      <td>31.000000</td>\n",
              "      <td>1.000000</td>\n",
              "      <td>12.000000</td>\n",
              "      <td>2.000000</td>\n",
              "      <td>6.844600e+04</td>\n",
              "    </tr>\n",
              "    <tr>\n",
              "      <th>50%</th>\n",
              "      <td>44.000000</td>\n",
              "      <td>3.000000</td>\n",
              "      <td>25.000000</td>\n",
              "      <td>4.000000</td>\n",
              "      <td>7.294300e+04</td>\n",
              "    </tr>\n",
              "    <tr>\n",
              "      <th>75%</th>\n",
              "      <td>57.000000</td>\n",
              "      <td>4.000000</td>\n",
              "      <td>37.000000</td>\n",
              "      <td>6.000000</td>\n",
              "      <td>3.506675e+05</td>\n",
              "    </tr>\n",
              "    <tr>\n",
              "      <th>max</th>\n",
              "      <td>70.000000</td>\n",
              "      <td>5.000000</td>\n",
              "      <td>50.000000</td>\n",
              "      <td>7.000000</td>\n",
              "      <td>9.992571e+06</td>\n",
              "    </tr>\n",
              "  </tbody>\n",
              "</table>\n",
              "</div>\n",
              "    <div class=\"colab-df-buttons\">\n",
              "\n",
              "  <div class=\"colab-df-container\">\n",
              "    <button class=\"colab-df-convert\" onclick=\"convertToInteractive('df-043abaf2-2b9e-407f-b842-8c8867df24c6')\"\n",
              "            title=\"Convert this dataframe to an interactive table.\"\n",
              "            style=\"display:none;\">\n",
              "\n",
              "  <svg xmlns=\"http://www.w3.org/2000/svg\" height=\"24px\" viewBox=\"0 -960 960 960\">\n",
              "    <path d=\"M120-120v-720h720v720H120Zm60-500h600v-160H180v160Zm220 220h160v-160H400v160Zm0 220h160v-160H400v160ZM180-400h160v-160H180v160Zm440 0h160v-160H620v160ZM180-180h160v-160H180v160Zm440 0h160v-160H620v160Z\"/>\n",
              "  </svg>\n",
              "    </button>\n",
              "\n",
              "  <style>\n",
              "    .colab-df-container {\n",
              "      display:flex;\n",
              "      gap: 12px;\n",
              "    }\n",
              "\n",
              "    .colab-df-convert {\n",
              "      background-color: #E8F0FE;\n",
              "      border: none;\n",
              "      border-radius: 50%;\n",
              "      cursor: pointer;\n",
              "      display: none;\n",
              "      fill: #1967D2;\n",
              "      height: 32px;\n",
              "      padding: 0 0 0 0;\n",
              "      width: 32px;\n",
              "    }\n",
              "\n",
              "    .colab-df-convert:hover {\n",
              "      background-color: #E2EBFA;\n",
              "      box-shadow: 0px 1px 2px rgba(60, 64, 67, 0.3), 0px 1px 3px 1px rgba(60, 64, 67, 0.15);\n",
              "      fill: #174EA6;\n",
              "    }\n",
              "\n",
              "    .colab-df-buttons div {\n",
              "      margin-bottom: 4px;\n",
              "    }\n",
              "\n",
              "    [theme=dark] .colab-df-convert {\n",
              "      background-color: #3B4455;\n",
              "      fill: #D2E3FC;\n",
              "    }\n",
              "\n",
              "    [theme=dark] .colab-df-convert:hover {\n",
              "      background-color: #434B5C;\n",
              "      box-shadow: 0px 1px 3px 1px rgba(0, 0, 0, 0.15);\n",
              "      filter: drop-shadow(0px 1px 2px rgba(0, 0, 0, 0.3));\n",
              "      fill: #FFFFFF;\n",
              "    }\n",
              "  </style>\n",
              "\n",
              "    <script>\n",
              "      const buttonEl =\n",
              "        document.querySelector('#df-043abaf2-2b9e-407f-b842-8c8867df24c6 button.colab-df-convert');\n",
              "      buttonEl.style.display =\n",
              "        google.colab.kernel.accessAllowed ? 'block' : 'none';\n",
              "\n",
              "      async function convertToInteractive(key) {\n",
              "        const element = document.querySelector('#df-043abaf2-2b9e-407f-b842-8c8867df24c6');\n",
              "        const dataTable =\n",
              "          await google.colab.kernel.invokeFunction('convertToInteractive',\n",
              "                                                    [key], {});\n",
              "        if (!dataTable) return;\n",
              "\n",
              "        const docLinkHtml = 'Like what you see? Visit the ' +\n",
              "          '<a target=\"_blank\" href=https://colab.research.google.com/notebooks/data_table.ipynb>data table notebook</a>'\n",
              "          + ' to learn more about interactive tables.';\n",
              "        element.innerHTML = '';\n",
              "        dataTable['output_type'] = 'display_data';\n",
              "        await google.colab.output.renderOutput(dataTable, element);\n",
              "        const docLink = document.createElement('div');\n",
              "        docLink.innerHTML = docLinkHtml;\n",
              "        element.appendChild(docLink);\n",
              "      }\n",
              "    </script>\n",
              "  </div>\n",
              "\n",
              "\n",
              "<div id=\"df-64eca244-de99-490b-9215-71727b4c1a0f\">\n",
              "  <button class=\"colab-df-quickchart\" onclick=\"quickchart('df-64eca244-de99-490b-9215-71727b4c1a0f')\"\n",
              "            title=\"Suggest charts\"\n",
              "            style=\"display:none;\">\n",
              "\n",
              "<svg xmlns=\"http://www.w3.org/2000/svg\" height=\"24px\"viewBox=\"0 0 24 24\"\n",
              "     width=\"24px\">\n",
              "    <g>\n",
              "        <path d=\"M19 3H5c-1.1 0-2 .9-2 2v14c0 1.1.9 2 2 2h14c1.1 0 2-.9 2-2V5c0-1.1-.9-2-2-2zM9 17H7v-7h2v7zm4 0h-2V7h2v10zm4 0h-2v-4h2v4z\"/>\n",
              "    </g>\n",
              "</svg>\n",
              "  </button>\n",
              "\n",
              "<style>\n",
              "  .colab-df-quickchart {\n",
              "      --bg-color: #E8F0FE;\n",
              "      --fill-color: #1967D2;\n",
              "      --hover-bg-color: #E2EBFA;\n",
              "      --hover-fill-color: #174EA6;\n",
              "      --disabled-fill-color: #AAA;\n",
              "      --disabled-bg-color: #DDD;\n",
              "  }\n",
              "\n",
              "  [theme=dark] .colab-df-quickchart {\n",
              "      --bg-color: #3B4455;\n",
              "      --fill-color: #D2E3FC;\n",
              "      --hover-bg-color: #434B5C;\n",
              "      --hover-fill-color: #FFFFFF;\n",
              "      --disabled-bg-color: #3B4455;\n",
              "      --disabled-fill-color: #666;\n",
              "  }\n",
              "\n",
              "  .colab-df-quickchart {\n",
              "    background-color: var(--bg-color);\n",
              "    border: none;\n",
              "    border-radius: 50%;\n",
              "    cursor: pointer;\n",
              "    display: none;\n",
              "    fill: var(--fill-color);\n",
              "    height: 32px;\n",
              "    padding: 0;\n",
              "    width: 32px;\n",
              "  }\n",
              "\n",
              "  .colab-df-quickchart:hover {\n",
              "    background-color: var(--hover-bg-color);\n",
              "    box-shadow: 0 1px 2px rgba(60, 64, 67, 0.3), 0 1px 3px 1px rgba(60, 64, 67, 0.15);\n",
              "    fill: var(--button-hover-fill-color);\n",
              "  }\n",
              "\n",
              "  .colab-df-quickchart-complete:disabled,\n",
              "  .colab-df-quickchart-complete:disabled:hover {\n",
              "    background-color: var(--disabled-bg-color);\n",
              "    fill: var(--disabled-fill-color);\n",
              "    box-shadow: none;\n",
              "  }\n",
              "\n",
              "  .colab-df-spinner {\n",
              "    border: 2px solid var(--fill-color);\n",
              "    border-color: transparent;\n",
              "    border-bottom-color: var(--fill-color);\n",
              "    animation:\n",
              "      spin 1s steps(1) infinite;\n",
              "  }\n",
              "\n",
              "  @keyframes spin {\n",
              "    0% {\n",
              "      border-color: transparent;\n",
              "      border-bottom-color: var(--fill-color);\n",
              "      border-left-color: var(--fill-color);\n",
              "    }\n",
              "    20% {\n",
              "      border-color: transparent;\n",
              "      border-left-color: var(--fill-color);\n",
              "      border-top-color: var(--fill-color);\n",
              "    }\n",
              "    30% {\n",
              "      border-color: transparent;\n",
              "      border-left-color: var(--fill-color);\n",
              "      border-top-color: var(--fill-color);\n",
              "      border-right-color: var(--fill-color);\n",
              "    }\n",
              "    40% {\n",
              "      border-color: transparent;\n",
              "      border-right-color: var(--fill-color);\n",
              "      border-top-color: var(--fill-color);\n",
              "    }\n",
              "    60% {\n",
              "      border-color: transparent;\n",
              "      border-right-color: var(--fill-color);\n",
              "    }\n",
              "    80% {\n",
              "      border-color: transparent;\n",
              "      border-right-color: var(--fill-color);\n",
              "      border-bottom-color: var(--fill-color);\n",
              "    }\n",
              "    90% {\n",
              "      border-color: transparent;\n",
              "      border-bottom-color: var(--fill-color);\n",
              "    }\n",
              "  }\n",
              "</style>\n",
              "\n",
              "  <script>\n",
              "    async function quickchart(key) {\n",
              "      const quickchartButtonEl =\n",
              "        document.querySelector('#' + key + ' button');\n",
              "      quickchartButtonEl.disabled = true;  // To prevent multiple clicks.\n",
              "      quickchartButtonEl.classList.add('colab-df-spinner');\n",
              "      try {\n",
              "        const charts = await google.colab.kernel.invokeFunction(\n",
              "            'suggestCharts', [key], {});\n",
              "      } catch (error) {\n",
              "        console.error('Error during call to suggestCharts:', error);\n",
              "      }\n",
              "      quickchartButtonEl.classList.remove('colab-df-spinner');\n",
              "      quickchartButtonEl.classList.add('colab-df-quickchart-complete');\n",
              "    }\n",
              "    (() => {\n",
              "      let quickchartButtonEl =\n",
              "        document.querySelector('#df-64eca244-de99-490b-9215-71727b4c1a0f button');\n",
              "      quickchartButtonEl.style.display =\n",
              "        google.colab.kernel.accessAllowed ? 'block' : 'none';\n",
              "    })();\n",
              "  </script>\n",
              "</div>\n",
              "\n",
              "    </div>\n",
              "  </div>\n"
            ],
            "application/vnd.google.colaboratory.intrinsic+json": {
              "type": "dataframe",
              "summary": "{\n  \"name\": \"data1\",\n  \"rows\": 8,\n  \"fields\": [\n    {\n      \"column\": \"Age\",\n      \"properties\": {\n        \"dtype\": \"number\",\n        \"std\": 3521.4795785223882,\n        \"min\": 15.203997673787208,\n        \"max\": 10000.0,\n        \"num_unique_values\": 8,\n        \"samples\": [\n          44.0217,\n          44.0,\n          10000.0\n        ],\n        \"semantic_type\": \"\",\n        \"description\": \"\"\n      }\n    },\n    {\n      \"column\": \"Number_of_Dependents\",\n      \"properties\": {\n        \"dtype\": \"number\",\n        \"std\": 3534.66346528601,\n        \"min\": 0.0,\n        \"max\": 10000.0,\n        \"num_unique_values\": 8,\n        \"samples\": [\n          2.527,\n          3.0,\n          10000.0\n        ],\n        \"semantic_type\": \"\",\n        \"description\": \"\"\n      }\n    },\n    {\n      \"column\": \"Work_Experience\",\n      \"properties\": {\n        \"dtype\": \"number\",\n        \"std\": 3527.308769870575,\n        \"min\": 0.0,\n        \"max\": 10000.0,\n        \"num_unique_values\": 8,\n        \"samples\": [\n          24.8588,\n          25.0,\n          10000.0\n        ],\n        \"semantic_type\": \"\",\n        \"description\": \"\"\n      }\n    },\n    {\n      \"column\": \"Household_Size\",\n      \"properties\": {\n        \"dtype\": \"number\",\n        \"std\": 3534.2212966771876,\n        \"min\": 1.0,\n        \"max\": 10000.0,\n        \"num_unique_values\": 8,\n        \"samples\": [\n          3.9896,\n          4.0,\n          10000.0\n        ],\n        \"semantic_type\": \"\",\n        \"description\": \"\"\n      }\n    },\n    {\n      \"column\": \"Income\",\n      \"properties\": {\n        \"dtype\": \"number\",\n        \"std\": 3429057.779207561,\n        \"min\": 10000.0,\n        \"max\": 9992571.0,\n        \"num_unique_values\": 8,\n        \"samples\": [\n          816838.1667,\n          72943.0,\n          10000.0\n        ],\n        \"semantic_type\": \"\",\n        \"description\": \"\"\n      }\n    }\n  ]\n}"
            }
          },
          "metadata": {},
          "execution_count": 280
        }
      ]
    },
    {
      "cell_type": "code",
      "source": [
        "# Checking the dataset for number of features and data types\n",
        "data1.info() #Found no mssing data in any features"
      ],
      "metadata": {
        "colab": {
          "base_uri": "https://localhost:8080/"
        },
        "id": "PgQqUEAf1ZLL",
        "outputId": "ab4dd53e-ddcb-4143-f760-4fb1138649bf"
      },
      "execution_count": null,
      "outputs": [
        {
          "output_type": "stream",
          "name": "stdout",
          "text": [
            "<class 'pandas.core.frame.DataFrame'>\n",
            "RangeIndex: 10000 entries, 0 to 9999\n",
            "Data columns (total 14 columns):\n",
            " #   Column                          Non-Null Count  Dtype \n",
            "---  ------                          --------------  ----- \n",
            " 0   Age                             10000 non-null  int64 \n",
            " 1   Education_Level                 10000 non-null  object\n",
            " 2   Occupation                      10000 non-null  object\n",
            " 3   Number_of_Dependents            10000 non-null  int64 \n",
            " 4   Location                        10000 non-null  object\n",
            " 5   Work_Experience                 10000 non-null  int64 \n",
            " 6   Marital_Status                  10000 non-null  object\n",
            " 7   Employment_Status               10000 non-null  object\n",
            " 8   Household_Size                  10000 non-null  int64 \n",
            " 9   Homeownership_Status            10000 non-null  object\n",
            " 10  Type_of_Housing                 10000 non-null  object\n",
            " 11  Gender                          10000 non-null  object\n",
            " 12  Primary_Mode_of_Transportation  10000 non-null  object\n",
            " 13  Income                          10000 non-null  int64 \n",
            "dtypes: int64(5), object(9)\n",
            "memory usage: 1.1+ MB\n"
          ]
        }
      ]
    },
    {
      "cell_type": "markdown",
      "source": [
        "## Data Encoding"
      ],
      "metadata": {
        "id": "Zj-HeZ_K-PsJ"
      }
    },
    {
      "cell_type": "code",
      "source": [
        "# Checking features with object data type\n",
        "print(\"Education_Level:\", data1['Education_Level'].unique())\n",
        "print(\"Occupation:\", data1['Occupation'].unique())\n",
        "print(\"Location:\", data1['Location'].unique())\n",
        "print(\"Marital_Status:\", data1['Marital_Status'].unique())\n",
        "print(\"Employment_Status:\", data1['Employment_Status'].unique())\n",
        "print(\"Homeownership_Status:\", data1['Homeownership_Status'].unique())\n",
        "print(\"Type_of_Housing:\", data1['Type_of_Housing'].unique())\n",
        "print(\"Primary_Mode_of_Transportation:\", data1['Primary_Mode_of_Transportation'].unique())\n",
        "print(\"Gender:\", data1['Gender'].unique())"
      ],
      "metadata": {
        "colab": {
          "base_uri": "https://localhost:8080/"
        },
        "id": "uobA0Arx-ex5",
        "outputId": "1108ffb8-65a8-4385-85de-846186632fb9"
      },
      "execution_count": null,
      "outputs": [
        {
          "output_type": "stream",
          "name": "stdout",
          "text": [
            "Education_Level: [\"Master's\" 'High School' \"Bachelor's\" 'Doctorate']\n",
            "Occupation: ['Technology' 'Finance' 'Others' 'Education' 'Healthcare']\n",
            "Location: ['Urban' 'Rural' 'Suburban']\n",
            "Marital_Status: ['Married' 'Single' 'Divorced']\n",
            "Employment_Status: ['Full-time' 'Self-employed' 'Part-time']\n",
            "Homeownership_Status: ['Own' 'Rent']\n",
            "Type_of_Housing: ['Apartment' 'Single-family home' 'Townhouse']\n",
            "Primary_Mode_of_Transportation: ['Public transit' 'Biking' 'Car' 'Walking']\n",
            "Gender: ['Male' 'Female']\n"
          ]
        }
      ]
    },
    {
      "cell_type": "code",
      "source": [
        "# Binary Encoding_ converting categorical features into numerical binary values\n",
        "data1['Homeownership_Status']=data1['Homeownership_Status'].map({\"Own\":1,\"Rent\":0})\n",
        "data1['Gender']=data1['Gender'].map({\"Female\":1,\"Male\":0})"
      ],
      "metadata": {
        "id": "Ztt8Vn5T1y8q"
      },
      "execution_count": null,
      "outputs": []
    },
    {
      "cell_type": "code",
      "source": [
        "# Label encoding for ordinal categorical variables\n",
        "data1['Education_Level']=data1['Education_Level'].map({'Doctorate':3,\"Master's\":2,\"Bachelor's\":1,'High School':0})\n",
        "data1['Location']=data1['Location'].map({\"Urban\":2,'Suburban':1,\"Rural\":0})"
      ],
      "metadata": {
        "id": "Hc2bxcBum3yn"
      },
      "execution_count": null,
      "outputs": []
    },
    {
      "cell_type": "code",
      "source": [
        "# One-Hot Encoding_ converts categorical features into multiple binary columns, drop first column to reduce feature\n",
        "data1=get_dummies(data1,['Occupation','Marital_Status','Employment_Status','Type_of_Housing','Primary_Mode_of_Transportation'],dtype=int,drop_first=True)"
      ],
      "metadata": {
        "id": "wAz55QvTtSeg"
      },
      "execution_count": null,
      "outputs": []
    },
    {
      "cell_type": "code",
      "source": [
        "# checking the modified data\n",
        "data1.info()"
      ],
      "metadata": {
        "colab": {
          "base_uri": "https://localhost:8080/"
        },
        "id": "JW1ugWuxDsml",
        "outputId": "46a4ec29-e252-4bfa-eea4-832dfa418f4d"
      },
      "execution_count": null,
      "outputs": [
        {
          "output_type": "stream",
          "name": "stdout",
          "text": [
            "<class 'pandas.core.frame.DataFrame'>\n",
            "RangeIndex: 10000 entries, 0 to 9999\n",
            "Data columns (total 22 columns):\n",
            " #   Column                                         Non-Null Count  Dtype\n",
            "---  ------                                         --------------  -----\n",
            " 0   Age                                            10000 non-null  int64\n",
            " 1   Education_Level                                10000 non-null  int64\n",
            " 2   Number_of_Dependents                           10000 non-null  int64\n",
            " 3   Location                                       10000 non-null  int64\n",
            " 4   Work_Experience                                10000 non-null  int64\n",
            " 5   Household_Size                                 10000 non-null  int64\n",
            " 6   Homeownership_Status                           10000 non-null  int64\n",
            " 7   Gender                                         10000 non-null  int64\n",
            " 8   Income                                         10000 non-null  int64\n",
            " 9   Occupation_Finance                             10000 non-null  int64\n",
            " 10  Occupation_Healthcare                          10000 non-null  int64\n",
            " 11  Occupation_Others                              10000 non-null  int64\n",
            " 12  Occupation_Technology                          10000 non-null  int64\n",
            " 13  Marital_Status_Married                         10000 non-null  int64\n",
            " 14  Marital_Status_Single                          10000 non-null  int64\n",
            " 15  Employment_Status_Part-time                    10000 non-null  int64\n",
            " 16  Employment_Status_Self-employed                10000 non-null  int64\n",
            " 17  Type_of_Housing_Single-family home             10000 non-null  int64\n",
            " 18  Type_of_Housing_Townhouse                      10000 non-null  int64\n",
            " 19  Primary_Mode_of_Transportation_Car             10000 non-null  int64\n",
            " 20  Primary_Mode_of_Transportation_Public transit  10000 non-null  int64\n",
            " 21  Primary_Mode_of_Transportation_Walking         10000 non-null  int64\n",
            "dtypes: int64(22)\n",
            "memory usage: 1.7 MB\n"
          ]
        }
      ]
    },
    {
      "cell_type": "code",
      "source": [
        "#Heatmap\n",
        "correlation=data1.corr()\n",
        "f=figure_factory.create_annotated_heatmap(correlation.values,list(correlation.columns),list(correlation.columns),correlation.round(2).values,showscale=True)\n",
        "f.show()"
      ],
      "metadata": {
        "colab": {
          "base_uri": "https://localhost:8080/",
          "height": 542
        },
        "id": "HpceOfyzFOgn",
        "outputId": "5917d7d5-f372-4ab0-d67f-e7b2e2a72e5c"
      },
      "execution_count": null,
      "outputs": [
        {
          "output_type": "display_data",
          "data": {
            "text/html": [
              "<html>\n",
              "<head><meta charset=\"utf-8\" /></head>\n",
              "<body>\n",
              "    <div>            <script src=\"https://cdnjs.cloudflare.com/ajax/libs/mathjax/2.7.5/MathJax.js?config=TeX-AMS-MML_SVG\"></script><script type=\"text/javascript\">if (window.MathJax && window.MathJax.Hub && window.MathJax.Hub.Config) {window.MathJax.Hub.Config({SVG: {font: \"STIX-Web\"}});}</script>                <script type=\"text/javascript\">window.PlotlyConfig = {MathJaxConfig: 'local'};</script>\n",
              "        <script charset=\"utf-8\" src=\"https://cdn.plot.ly/plotly-2.35.2.min.js\"></script>                <div id=\"dd504c9f-70dd-455b-b4cc-0bf7294f03af\" class=\"plotly-graph-div\" style=\"height:525px; width:100%;\"></div>            <script type=\"text/javascript\">                                    window.PLOTLYENV=window.PLOTLYENV || {};                                    if (document.getElementById(\"dd504c9f-70dd-455b-b4cc-0bf7294f03af\")) {                    Plotly.newPlot(                        \"dd504c9f-70dd-455b-b4cc-0bf7294f03af\",                        [{\"colorscale\":[[0.0,\"#0d0887\"],[0.1111111111111111,\"#46039f\"],[0.2222222222222222,\"#7201a8\"],[0.3333333333333333,\"#9c179e\"],[0.4444444444444444,\"#bd3786\"],[0.5555555555555556,\"#d8576b\"],[0.6666666666666666,\"#ed7953\"],[0.7777777777777778,\"#fb9f3a\"],[0.8888888888888888,\"#fdca26\"],[1.0,\"#f0f921\"]],\"reversescale\":false,\"showscale\":true,\"x\":[\"Age\",\"Education_Level\",\"Number_of_Dependents\",\"Location\",\"Work_Experience\",\"Household_Size\",\"Homeownership_Status\",\"Gender\",\"Income\",\"Occupation_Finance\",\"Occupation_Healthcare\",\"Occupation_Others\",\"Occupation_Technology\",\"Marital_Status_Married\",\"Marital_Status_Single\",\"Employment_Status_Part-time\",\"Employment_Status_Self-employed\",\"Type_of_Housing_Single-family home\",\"Type_of_Housing_Townhouse\",\"Primary_Mode_of_Transportation_Car\",\"Primary_Mode_of_Transportation_Public transit\",\"Primary_Mode_of_Transportation_Walking\"],\"y\":[\"Age\",\"Education_Level\",\"Number_of_Dependents\",\"Location\",\"Work_Experience\",\"Household_Size\",\"Homeownership_Status\",\"Gender\",\"Income\",\"Occupation_Finance\",\"Occupation_Healthcare\",\"Occupation_Others\",\"Occupation_Technology\",\"Marital_Status_Married\",\"Marital_Status_Single\",\"Employment_Status_Part-time\",\"Employment_Status_Self-employed\",\"Type_of_Housing_Single-family home\",\"Type_of_Housing_Townhouse\",\"Primary_Mode_of_Transportation_Car\",\"Primary_Mode_of_Transportation_Public transit\",\"Primary_Mode_of_Transportation_Walking\"],\"z\":[[1.0,0.00019557086422946824,0.0011806504631694517,0.0007644439402343006,0.0003095943206061757,0.01056537473534555,0.010176955898152599,0.009595190949807514,0.008739454992626327,-0.008765536817922108,0.006296733977003008,-0.013388988237975985,-0.0054809013268168096,0.004402649448805974,-0.0075064277627112045,-0.00582505826096629,-0.00399391195925383,-0.005800613639447154,-0.003875754857987264,0.0031217890853204528,0.0165791516331819,-0.01562850039827912],[0.00019557086422946824,1.0,-0.001807135371011459,-0.0030239451474892948,-0.023622315037379757,-0.0022258872599109376,0.001198995332823945,0.022290172075075186,-0.02440226193756087,0.0032095594067288276,-0.0013479414618450753,-0.006742085525882622,0.0012581827746562476,-0.00572406379077787,0.002202001263947359,-0.0053988303835182695,-0.011640457688556302,0.00026308840808837963,0.0014494129659739026,0.013252776343020899,-0.01359442406590635,0.005003912880925799],[0.0011806504631694517,-0.001807135371011459,1.0,0.0031444194621686444,-0.0007083321097930049,-0.006419497334306044,0.015317466098333924,-0.005857288997312364,0.011412806262364772,-0.010009619966400984,-0.006909256251818334,0.017617235301903258,-0.01357824143736157,-0.003113576193295442,-0.00506006799195441,-0.005140089093917212,0.006960694995936334,-0.004157418321381948,-0.008475836039276133,-0.011808631716695163,-0.000923514639196103,0.020137253606337155],[0.0007644439402343006,-0.0030239451474892948,0.0031444194621686444,1.0,0.018611465062186822,0.00012421314549841456,0.00588635577015523,0.0095124560084233,-0.055916427074197424,-0.006198186767614477,0.0030796839634854244,0.009047063289561022,-0.00007653420700013727,0.0016734262275138981,0.006245523933924181,0.004542934934944777,-0.00941871901915292,-0.006169859368417287,0.010164701143987164,0.005566708613361726,0.0008221409066771944,-0.0018669826230460224],[0.0003095943206061757,-0.023622315037379757,-0.0007083321097930049,0.018611465062186822,1.0,0.006006617519239047,0.016434188348950024,-0.0007969657339433726,-0.027540830456251452,0.005378908480631357,0.016040138463414583,-0.0025891517345743714,-0.015392102294761083,0.013890081558322663,-0.014291275264322374,0.013917111247420304,0.007854126850889988,-0.004760054101874238,0.0008018335275766367,-0.00764131394731053,0.010754653746114798,-0.012770007947946993],[0.01056537473534555,-0.0022258872599109376,-0.006419497334306044,0.00012421314549841456,0.006006617519239047,1.0,0.013878792536964434,-0.002814148201117578,-0.011356004764935586,0.0013642392518977877,-0.015193469005312411,0.013825857640544977,-0.0012760550764188941,-0.0011529955754227379,-0.007489517647030384,-0.010256424298325503,0.008312289884617052,-0.007175497560080908,0.01335079189549948,0.020548371470406408,-0.0034365844131464232,-0.0018547273627031395],[0.010176955898152599,0.001198995332823945,0.015317466098333924,0.00588635577015523,0.016434188348950024,0.013878792536964434,1.0,0.004912920910723054,-0.06256104518534422,0.0007131193665884561,-0.025086918665427133,0.006065033171425244,0.00978005309545468,0.0016982668100077424,0.0020857171020337985,-0.004018699468380588,0.00945083542759761,-0.0017886252888333627,-0.00923951217597859,0.012509622911634868,-0.010190177534684321,0.003331940497703296],[0.009595190949807514,0.022290172075075186,-0.005857288997312364,0.0095124560084233,-0.0007969657339433726,-0.002814148201117578,0.004912920910723054,1.0,0.0022183102137003103,-0.012099464446101417,0.010804557896208981,-0.01826789268708036,0.015960583341250518,0.005272665879767103,0.0012182058271377788,0.011375773007803793,-0.012875416980960048,0.02093411474656605,-0.017233175014349646,-0.004053371900935651,-0.006408139101185961,0.012608691845842374],[0.008739454992626327,-0.02440226193756087,0.011412806262364772,-0.055916427074197424,-0.027540830456251452,-0.011356004764935586,-0.06256104518534422,0.0022183102137003103,1.0,-0.025783760269032747,-0.006379802056150265,0.0028217805792089307,0.0059783302001285565,0.012652374697766115,-0.00905725868203594,0.03192461252689197,-0.01198240058861923,-0.01052703482554833,-0.01822465958208215,-0.012068550727780649,0.0028735641014550587,0.002309827329076052],[-0.008765536817922108,0.0032095594067288276,-0.010009619966400984,-0.006198186767614477,0.005378908480631357,0.0013642392518977877,0.0007131193665884561,-0.012099464446101417,-0.025783760269032747,1.0,-0.28001665009279175,-0.17966246657898144,-0.2388341437113438,0.004875173096304103,0.00014257323778296414,-0.00299401788079625,0.004223094698161111,0.008844969045349097,0.006002680613686826,0.004032815646937404,0.00217191510033126,-0.0033147418298498264],[0.006296733977003008,-0.0013479414618450753,-0.006909256251818334,0.0030796839634854244,0.016040138463414583,-0.015193469005312411,-0.025086918665427133,0.010804557896208981,-0.006379802056150265,-0.28001665009279175,1.0,-0.2795832034618293,-0.3716636883949603,-0.004254142116806274,0.004615334907571445,0.024474407141345782,-0.02179413430267905,-0.005179598682686634,-0.009345516942169771,-0.009149252291215909,-0.0010034549356832065,-0.006229463536192348],[-0.013388988237975985,-0.006742085525882622,0.017617235301903258,0.009047063289561022,-0.0025891517345743714,0.013825857640544977,0.006065033171425244,-0.01826789268708036,0.0028217805792089307,-0.17966246657898144,-0.2795832034618293,1.0,-0.23846444478481182,-0.00400328788613525,0.0016042504664105011,-0.013186421725217083,-0.0008091925122978252,-0.015746977800153873,0.0051490117436635875,0.012673951853149705,-0.0020132505127872734,-0.013949029664812467],[-0.0054809013268168096,0.0012581827746562476,-0.01357824143736157,-0.00007653420700013727,-0.015392102294761083,-0.0012760550764188941,0.00978005309545468,0.015960583341250518,0.0059783302001285565,-0.2388341437113438,-0.3716636883949603,-0.23846444478481182,1.0,0.01673793068519019,-0.015696543907383283,-0.019342516839396973,0.023722874579123972,0.0018873113706094483,0.011868444449667115,-0.003951101649147298,0.00614152055859867,0.015257750760953507],[0.004402649448805974,-0.00572406379077787,-0.003113576193295442,0.0016734262275138981,0.013890081558322663,-0.0011529955754227379,0.0016982668100077424,0.005272665879767103,0.012652374697766115,0.004875173096304103,-0.004254142116806274,-0.00400328788613525,0.01673793068519019,1.0,-0.8216429068863081,0.0021720084788803807,0.0115839366314654,-0.008413899923311327,0.0033173599884392547,0.012411790553219157,-0.0071493399181576925,-0.002944232146838925],[-0.0075064277627112045,0.002202001263947359,-0.00506006799195441,0.006245523933924181,-0.014291275264322374,-0.007489517647030384,0.0020857171020337985,0.0012182058271377788,-0.00905725868203594,0.00014257323778296414,0.004615334907571445,0.0016042504664105011,-0.015696543907383283,-0.8216429068863081,1.0,0.002573104820760305,-0.0016463909798143201,-0.0022757676650168204,0.00665211798783975,-0.012337834276260262,0.013646377153685638,0.0036943330877116233],[-0.00582505826096629,-0.0053988303835182695,-0.005140089093917212,0.004542934934944777,0.013917111247420304,-0.010256424298325503,-0.004018699468380588,0.011375773007803793,0.03192461252689197,-0.00299401788079625,0.024474407141345782,-0.013186421725217083,-0.019342516839396973,0.0021720084788803807,0.002573104820760305,1.0,-0.3265193807936718,0.015981152610341137,0.01579606274589382,-0.005512174712788105,-0.006470117912790907,0.00018432030474194402],[-0.00399391195925383,-0.011640457688556302,0.006960694995936334,-0.00941871901915292,0.007854126850889988,0.008312289884617052,0.00945083542759761,-0.012875416980960048,-0.01198240058861923,0.004223094698161111,-0.02179413430267905,-0.0008091925122978252,0.023722874579123972,0.0115839366314654,-0.0016463909798143201,-0.3265193807936718,1.0,0.011300498566971254,-0.008821895939332918,-0.001221708582376462,0.005978727600118401,0.0038472689192396714],[-0.005800613639447154,0.00026308840808837963,-0.004157418321381948,-0.006169859368417287,-0.004760054101874238,-0.007175497560080908,-0.0017886252888333627,0.02093411474656605,-0.01052703482554833,0.008844969045349097,-0.005179598682686634,-0.015746977800153873,0.0018873113706094483,-0.008413899923311327,-0.0022757676650168204,0.015981152610341137,0.011300498566971254,1.0,-0.40570270310414164,-0.0057067717282401715,0.0016355191315825589,-0.009693873494381973],[-0.003875754857987264,0.0014494129659739026,-0.008475836039276133,0.010164701143987164,0.0008018335275766367,0.01335079189549948,-0.00923951217597859,-0.017233175014349646,-0.01822465958208215,0.006002680613686826,-0.009345516942169771,0.0051490117436635875,0.011868444449667115,0.0033173599884392547,0.00665211798783975,0.01579606274589382,-0.008821895939332918,-0.40570270310414164,1.0,0.010226872916000326,0.0052837272338943295,0.00029234292807325867],[0.0031217890853204528,0.013252776343020899,-0.011808631716695163,0.005566708613361726,-0.00764131394731053,0.020548371470406408,0.012509622911634868,-0.004053371900935651,-0.012068550727780649,0.004032815646937404,-0.009149252291215909,0.012673951853149705,-0.003951101649147298,0.012411790553219157,-0.012337834276260262,-0.005512174712788105,-0.001221708582376462,-0.0057067717282401715,0.010226872916000326,1.0,-0.5379732504340524,-0.22073866356730326],[0.0165791516331819,-0.01359442406590635,-0.000923514639196103,0.0008221409066771944,0.010754653746114798,-0.0034365844131464232,-0.010190177534684321,-0.006408139101185961,0.0028735641014550587,0.00217191510033126,-0.0010034549356832065,-0.0020132505127872734,0.00614152055859867,-0.0071493399181576925,0.013646377153685638,-0.006470117912790907,0.005978727600118401,0.0016355191315825589,0.0052837272338943295,-0.5379732504340524,1.0,-0.27894273117853136],[-0.01562850039827912,0.005003912880925799,0.020137253606337155,-0.0018669826230460224,-0.012770007947946993,-0.0018547273627031395,0.003331940497703296,0.012608691845842374,0.002309827329076052,-0.0033147418298498264,-0.006229463536192348,-0.013949029664812467,0.015257750760953507,-0.002944232146838925,0.0036943330877116233,0.00018432030474194402,0.0038472689192396714,-0.009693873494381973,0.00029234292807325867,-0.22073866356730326,-0.27894273117853136,1.0]],\"type\":\"heatmap\"}],                        {\"annotations\":[{\"font\":{\"color\":\"#000000\"},\"showarrow\":false,\"text\":\"1.0\",\"x\":\"Age\",\"xref\":\"x\",\"y\":\"Age\",\"yref\":\"y\"},{\"font\":{\"color\":\"#FFFFFF\"},\"showarrow\":false,\"text\":\"0.0\",\"x\":\"Education_Level\",\"xref\":\"x\",\"y\":\"Age\",\"yref\":\"y\"},{\"font\":{\"color\":\"#FFFFFF\"},\"showarrow\":false,\"text\":\"0.0\",\"x\":\"Number_of_Dependents\",\"xref\":\"x\",\"y\":\"Age\",\"yref\":\"y\"},{\"font\":{\"color\":\"#FFFFFF\"},\"showarrow\":false,\"text\":\"0.0\",\"x\":\"Location\",\"xref\":\"x\",\"y\":\"Age\",\"yref\":\"y\"},{\"font\":{\"color\":\"#FFFFFF\"},\"showarrow\":false,\"text\":\"0.0\",\"x\":\"Work_Experience\",\"xref\":\"x\",\"y\":\"Age\",\"yref\":\"y\"},{\"font\":{\"color\":\"#FFFFFF\"},\"showarrow\":false,\"text\":\"0.01\",\"x\":\"Household_Size\",\"xref\":\"x\",\"y\":\"Age\",\"yref\":\"y\"},{\"font\":{\"color\":\"#FFFFFF\"},\"showarrow\":false,\"text\":\"0.01\",\"x\":\"Homeownership_Status\",\"xref\":\"x\",\"y\":\"Age\",\"yref\":\"y\"},{\"font\":{\"color\":\"#FFFFFF\"},\"showarrow\":false,\"text\":\"0.01\",\"x\":\"Gender\",\"xref\":\"x\",\"y\":\"Age\",\"yref\":\"y\"},{\"font\":{\"color\":\"#FFFFFF\"},\"showarrow\":false,\"text\":\"0.01\",\"x\":\"Income\",\"xref\":\"x\",\"y\":\"Age\",\"yref\":\"y\"},{\"font\":{\"color\":\"#FFFFFF\"},\"showarrow\":false,\"text\":\"-0.01\",\"x\":\"Occupation_Finance\",\"xref\":\"x\",\"y\":\"Age\",\"yref\":\"y\"},{\"font\":{\"color\":\"#FFFFFF\"},\"showarrow\":false,\"text\":\"0.01\",\"x\":\"Occupation_Healthcare\",\"xref\":\"x\",\"y\":\"Age\",\"yref\":\"y\"},{\"font\":{\"color\":\"#FFFFFF\"},\"showarrow\":false,\"text\":\"-0.01\",\"x\":\"Occupation_Others\",\"xref\":\"x\",\"y\":\"Age\",\"yref\":\"y\"},{\"font\":{\"color\":\"#FFFFFF\"},\"showarrow\":false,\"text\":\"-0.01\",\"x\":\"Occupation_Technology\",\"xref\":\"x\",\"y\":\"Age\",\"yref\":\"y\"},{\"font\":{\"color\":\"#FFFFFF\"},\"showarrow\":false,\"text\":\"0.0\",\"x\":\"Marital_Status_Married\",\"xref\":\"x\",\"y\":\"Age\",\"yref\":\"y\"},{\"font\":{\"color\":\"#FFFFFF\"},\"showarrow\":false,\"text\":\"-0.01\",\"x\":\"Marital_Status_Single\",\"xref\":\"x\",\"y\":\"Age\",\"yref\":\"y\"},{\"font\":{\"color\":\"#FFFFFF\"},\"showarrow\":false,\"text\":\"-0.01\",\"x\":\"Employment_Status_Part-time\",\"xref\":\"x\",\"y\":\"Age\",\"yref\":\"y\"},{\"font\":{\"color\":\"#FFFFFF\"},\"showarrow\":false,\"text\":\"-0.0\",\"x\":\"Employment_Status_Self-employed\",\"xref\":\"x\",\"y\":\"Age\",\"yref\":\"y\"},{\"font\":{\"color\":\"#FFFFFF\"},\"showarrow\":false,\"text\":\"-0.01\",\"x\":\"Type_of_Housing_Single-family home\",\"xref\":\"x\",\"y\":\"Age\",\"yref\":\"y\"},{\"font\":{\"color\":\"#FFFFFF\"},\"showarrow\":false,\"text\":\"-0.0\",\"x\":\"Type_of_Housing_Townhouse\",\"xref\":\"x\",\"y\":\"Age\",\"yref\":\"y\"},{\"font\":{\"color\":\"#FFFFFF\"},\"showarrow\":false,\"text\":\"0.0\",\"x\":\"Primary_Mode_of_Transportation_Car\",\"xref\":\"x\",\"y\":\"Age\",\"yref\":\"y\"},{\"font\":{\"color\":\"#FFFFFF\"},\"showarrow\":false,\"text\":\"0.02\",\"x\":\"Primary_Mode_of_Transportation_Public transit\",\"xref\":\"x\",\"y\":\"Age\",\"yref\":\"y\"},{\"font\":{\"color\":\"#FFFFFF\"},\"showarrow\":false,\"text\":\"-0.02\",\"x\":\"Primary_Mode_of_Transportation_Walking\",\"xref\":\"x\",\"y\":\"Age\",\"yref\":\"y\"},{\"font\":{\"color\":\"#FFFFFF\"},\"showarrow\":false,\"text\":\"0.0\",\"x\":\"Age\",\"xref\":\"x\",\"y\":\"Education_Level\",\"yref\":\"y\"},{\"font\":{\"color\":\"#000000\"},\"showarrow\":false,\"text\":\"1.0\",\"x\":\"Education_Level\",\"xref\":\"x\",\"y\":\"Education_Level\",\"yref\":\"y\"},{\"font\":{\"color\":\"#FFFFFF\"},\"showarrow\":false,\"text\":\"-0.0\",\"x\":\"Number_of_Dependents\",\"xref\":\"x\",\"y\":\"Education_Level\",\"yref\":\"y\"},{\"font\":{\"color\":\"#FFFFFF\"},\"showarrow\":false,\"text\":\"-0.0\",\"x\":\"Location\",\"xref\":\"x\",\"y\":\"Education_Level\",\"yref\":\"y\"},{\"font\":{\"color\":\"#FFFFFF\"},\"showarrow\":false,\"text\":\"-0.02\",\"x\":\"Work_Experience\",\"xref\":\"x\",\"y\":\"Education_Level\",\"yref\":\"y\"},{\"font\":{\"color\":\"#FFFFFF\"},\"showarrow\":false,\"text\":\"-0.0\",\"x\":\"Household_Size\",\"xref\":\"x\",\"y\":\"Education_Level\",\"yref\":\"y\"},{\"font\":{\"color\":\"#FFFFFF\"},\"showarrow\":false,\"text\":\"0.0\",\"x\":\"Homeownership_Status\",\"xref\":\"x\",\"y\":\"Education_Level\",\"yref\":\"y\"},{\"font\":{\"color\":\"#FFFFFF\"},\"showarrow\":false,\"text\":\"0.02\",\"x\":\"Gender\",\"xref\":\"x\",\"y\":\"Education_Level\",\"yref\":\"y\"},{\"font\":{\"color\":\"#FFFFFF\"},\"showarrow\":false,\"text\":\"-0.02\",\"x\":\"Income\",\"xref\":\"x\",\"y\":\"Education_Level\",\"yref\":\"y\"},{\"font\":{\"color\":\"#FFFFFF\"},\"showarrow\":false,\"text\":\"0.0\",\"x\":\"Occupation_Finance\",\"xref\":\"x\",\"y\":\"Education_Level\",\"yref\":\"y\"},{\"font\":{\"color\":\"#FFFFFF\"},\"showarrow\":false,\"text\":\"-0.0\",\"x\":\"Occupation_Healthcare\",\"xref\":\"x\",\"y\":\"Education_Level\",\"yref\":\"y\"},{\"font\":{\"color\":\"#FFFFFF\"},\"showarrow\":false,\"text\":\"-0.01\",\"x\":\"Occupation_Others\",\"xref\":\"x\",\"y\":\"Education_Level\",\"yref\":\"y\"},{\"font\":{\"color\":\"#FFFFFF\"},\"showarrow\":false,\"text\":\"0.0\",\"x\":\"Occupation_Technology\",\"xref\":\"x\",\"y\":\"Education_Level\",\"yref\":\"y\"},{\"font\":{\"color\":\"#FFFFFF\"},\"showarrow\":false,\"text\":\"-0.01\",\"x\":\"Marital_Status_Married\",\"xref\":\"x\",\"y\":\"Education_Level\",\"yref\":\"y\"},{\"font\":{\"color\":\"#FFFFFF\"},\"showarrow\":false,\"text\":\"0.0\",\"x\":\"Marital_Status_Single\",\"xref\":\"x\",\"y\":\"Education_Level\",\"yref\":\"y\"},{\"font\":{\"color\":\"#FFFFFF\"},\"showarrow\":false,\"text\":\"-0.01\",\"x\":\"Employment_Status_Part-time\",\"xref\":\"x\",\"y\":\"Education_Level\",\"yref\":\"y\"},{\"font\":{\"color\":\"#FFFFFF\"},\"showarrow\":false,\"text\":\"-0.01\",\"x\":\"Employment_Status_Self-employed\",\"xref\":\"x\",\"y\":\"Education_Level\",\"yref\":\"y\"},{\"font\":{\"color\":\"#FFFFFF\"},\"showarrow\":false,\"text\":\"0.0\",\"x\":\"Type_of_Housing_Single-family home\",\"xref\":\"x\",\"y\":\"Education_Level\",\"yref\":\"y\"},{\"font\":{\"color\":\"#FFFFFF\"},\"showarrow\":false,\"text\":\"0.0\",\"x\":\"Type_of_Housing_Townhouse\",\"xref\":\"x\",\"y\":\"Education_Level\",\"yref\":\"y\"},{\"font\":{\"color\":\"#FFFFFF\"},\"showarrow\":false,\"text\":\"0.01\",\"x\":\"Primary_Mode_of_Transportation_Car\",\"xref\":\"x\",\"y\":\"Education_Level\",\"yref\":\"y\"},{\"font\":{\"color\":\"#FFFFFF\"},\"showarrow\":false,\"text\":\"-0.01\",\"x\":\"Primary_Mode_of_Transportation_Public transit\",\"xref\":\"x\",\"y\":\"Education_Level\",\"yref\":\"y\"},{\"font\":{\"color\":\"#FFFFFF\"},\"showarrow\":false,\"text\":\"0.01\",\"x\":\"Primary_Mode_of_Transportation_Walking\",\"xref\":\"x\",\"y\":\"Education_Level\",\"yref\":\"y\"},{\"font\":{\"color\":\"#FFFFFF\"},\"showarrow\":false,\"text\":\"0.0\",\"x\":\"Age\",\"xref\":\"x\",\"y\":\"Number_of_Dependents\",\"yref\":\"y\"},{\"font\":{\"color\":\"#FFFFFF\"},\"showarrow\":false,\"text\":\"-0.0\",\"x\":\"Education_Level\",\"xref\":\"x\",\"y\":\"Number_of_Dependents\",\"yref\":\"y\"},{\"font\":{\"color\":\"#000000\"},\"showarrow\":false,\"text\":\"1.0\",\"x\":\"Number_of_Dependents\",\"xref\":\"x\",\"y\":\"Number_of_Dependents\",\"yref\":\"y\"},{\"font\":{\"color\":\"#FFFFFF\"},\"showarrow\":false,\"text\":\"0.0\",\"x\":\"Location\",\"xref\":\"x\",\"y\":\"Number_of_Dependents\",\"yref\":\"y\"},{\"font\":{\"color\":\"#FFFFFF\"},\"showarrow\":false,\"text\":\"-0.0\",\"x\":\"Work_Experience\",\"xref\":\"x\",\"y\":\"Number_of_Dependents\",\"yref\":\"y\"},{\"font\":{\"color\":\"#FFFFFF\"},\"showarrow\":false,\"text\":\"-0.01\",\"x\":\"Household_Size\",\"xref\":\"x\",\"y\":\"Number_of_Dependents\",\"yref\":\"y\"},{\"font\":{\"color\":\"#FFFFFF\"},\"showarrow\":false,\"text\":\"0.02\",\"x\":\"Homeownership_Status\",\"xref\":\"x\",\"y\":\"Number_of_Dependents\",\"yref\":\"y\"},{\"font\":{\"color\":\"#FFFFFF\"},\"showarrow\":false,\"text\":\"-0.01\",\"x\":\"Gender\",\"xref\":\"x\",\"y\":\"Number_of_Dependents\",\"yref\":\"y\"},{\"font\":{\"color\":\"#FFFFFF\"},\"showarrow\":false,\"text\":\"0.01\",\"x\":\"Income\",\"xref\":\"x\",\"y\":\"Number_of_Dependents\",\"yref\":\"y\"},{\"font\":{\"color\":\"#FFFFFF\"},\"showarrow\":false,\"text\":\"-0.01\",\"x\":\"Occupation_Finance\",\"xref\":\"x\",\"y\":\"Number_of_Dependents\",\"yref\":\"y\"},{\"font\":{\"color\":\"#FFFFFF\"},\"showarrow\":false,\"text\":\"-0.01\",\"x\":\"Occupation_Healthcare\",\"xref\":\"x\",\"y\":\"Number_of_Dependents\",\"yref\":\"y\"},{\"font\":{\"color\":\"#FFFFFF\"},\"showarrow\":false,\"text\":\"0.02\",\"x\":\"Occupation_Others\",\"xref\":\"x\",\"y\":\"Number_of_Dependents\",\"yref\":\"y\"},{\"font\":{\"color\":\"#FFFFFF\"},\"showarrow\":false,\"text\":\"-0.01\",\"x\":\"Occupation_Technology\",\"xref\":\"x\",\"y\":\"Number_of_Dependents\",\"yref\":\"y\"},{\"font\":{\"color\":\"#FFFFFF\"},\"showarrow\":false,\"text\":\"-0.0\",\"x\":\"Marital_Status_Married\",\"xref\":\"x\",\"y\":\"Number_of_Dependents\",\"yref\":\"y\"},{\"font\":{\"color\":\"#FFFFFF\"},\"showarrow\":false,\"text\":\"-0.01\",\"x\":\"Marital_Status_Single\",\"xref\":\"x\",\"y\":\"Number_of_Dependents\",\"yref\":\"y\"},{\"font\":{\"color\":\"#FFFFFF\"},\"showarrow\":false,\"text\":\"-0.01\",\"x\":\"Employment_Status_Part-time\",\"xref\":\"x\",\"y\":\"Number_of_Dependents\",\"yref\":\"y\"},{\"font\":{\"color\":\"#FFFFFF\"},\"showarrow\":false,\"text\":\"0.01\",\"x\":\"Employment_Status_Self-employed\",\"xref\":\"x\",\"y\":\"Number_of_Dependents\",\"yref\":\"y\"},{\"font\":{\"color\":\"#FFFFFF\"},\"showarrow\":false,\"text\":\"-0.0\",\"x\":\"Type_of_Housing_Single-family home\",\"xref\":\"x\",\"y\":\"Number_of_Dependents\",\"yref\":\"y\"},{\"font\":{\"color\":\"#FFFFFF\"},\"showarrow\":false,\"text\":\"-0.01\",\"x\":\"Type_of_Housing_Townhouse\",\"xref\":\"x\",\"y\":\"Number_of_Dependents\",\"yref\":\"y\"},{\"font\":{\"color\":\"#FFFFFF\"},\"showarrow\":false,\"text\":\"-0.01\",\"x\":\"Primary_Mode_of_Transportation_Car\",\"xref\":\"x\",\"y\":\"Number_of_Dependents\",\"yref\":\"y\"},{\"font\":{\"color\":\"#FFFFFF\"},\"showarrow\":false,\"text\":\"-0.0\",\"x\":\"Primary_Mode_of_Transportation_Public transit\",\"xref\":\"x\",\"y\":\"Number_of_Dependents\",\"yref\":\"y\"},{\"font\":{\"color\":\"#FFFFFF\"},\"showarrow\":false,\"text\":\"0.02\",\"x\":\"Primary_Mode_of_Transportation_Walking\",\"xref\":\"x\",\"y\":\"Number_of_Dependents\",\"yref\":\"y\"},{\"font\":{\"color\":\"#FFFFFF\"},\"showarrow\":false,\"text\":\"0.0\",\"x\":\"Age\",\"xref\":\"x\",\"y\":\"Location\",\"yref\":\"y\"},{\"font\":{\"color\":\"#FFFFFF\"},\"showarrow\":false,\"text\":\"-0.0\",\"x\":\"Education_Level\",\"xref\":\"x\",\"y\":\"Location\",\"yref\":\"y\"},{\"font\":{\"color\":\"#FFFFFF\"},\"showarrow\":false,\"text\":\"0.0\",\"x\":\"Number_of_Dependents\",\"xref\":\"x\",\"y\":\"Location\",\"yref\":\"y\"},{\"font\":{\"color\":\"#000000\"},\"showarrow\":false,\"text\":\"1.0\",\"x\":\"Location\",\"xref\":\"x\",\"y\":\"Location\",\"yref\":\"y\"},{\"font\":{\"color\":\"#FFFFFF\"},\"showarrow\":false,\"text\":\"0.02\",\"x\":\"Work_Experience\",\"xref\":\"x\",\"y\":\"Location\",\"yref\":\"y\"},{\"font\":{\"color\":\"#FFFFFF\"},\"showarrow\":false,\"text\":\"0.0\",\"x\":\"Household_Size\",\"xref\":\"x\",\"y\":\"Location\",\"yref\":\"y\"},{\"font\":{\"color\":\"#FFFFFF\"},\"showarrow\":false,\"text\":\"0.01\",\"x\":\"Homeownership_Status\",\"xref\":\"x\",\"y\":\"Location\",\"yref\":\"y\"},{\"font\":{\"color\":\"#FFFFFF\"},\"showarrow\":false,\"text\":\"0.01\",\"x\":\"Gender\",\"xref\":\"x\",\"y\":\"Location\",\"yref\":\"y\"},{\"font\":{\"color\":\"#FFFFFF\"},\"showarrow\":false,\"text\":\"-0.06\",\"x\":\"Income\",\"xref\":\"x\",\"y\":\"Location\",\"yref\":\"y\"},{\"font\":{\"color\":\"#FFFFFF\"},\"showarrow\":false,\"text\":\"-0.01\",\"x\":\"Occupation_Finance\",\"xref\":\"x\",\"y\":\"Location\",\"yref\":\"y\"},{\"font\":{\"color\":\"#FFFFFF\"},\"showarrow\":false,\"text\":\"0.0\",\"x\":\"Occupation_Healthcare\",\"xref\":\"x\",\"y\":\"Location\",\"yref\":\"y\"},{\"font\":{\"color\":\"#FFFFFF\"},\"showarrow\":false,\"text\":\"0.01\",\"x\":\"Occupation_Others\",\"xref\":\"x\",\"y\":\"Location\",\"yref\":\"y\"},{\"font\":{\"color\":\"#FFFFFF\"},\"showarrow\":false,\"text\":\"-0.0\",\"x\":\"Occupation_Technology\",\"xref\":\"x\",\"y\":\"Location\",\"yref\":\"y\"},{\"font\":{\"color\":\"#FFFFFF\"},\"showarrow\":false,\"text\":\"0.0\",\"x\":\"Marital_Status_Married\",\"xref\":\"x\",\"y\":\"Location\",\"yref\":\"y\"},{\"font\":{\"color\":\"#FFFFFF\"},\"showarrow\":false,\"text\":\"0.01\",\"x\":\"Marital_Status_Single\",\"xref\":\"x\",\"y\":\"Location\",\"yref\":\"y\"},{\"font\":{\"color\":\"#FFFFFF\"},\"showarrow\":false,\"text\":\"0.0\",\"x\":\"Employment_Status_Part-time\",\"xref\":\"x\",\"y\":\"Location\",\"yref\":\"y\"},{\"font\":{\"color\":\"#FFFFFF\"},\"showarrow\":false,\"text\":\"-0.01\",\"x\":\"Employment_Status_Self-employed\",\"xref\":\"x\",\"y\":\"Location\",\"yref\":\"y\"},{\"font\":{\"color\":\"#FFFFFF\"},\"showarrow\":false,\"text\":\"-0.01\",\"x\":\"Type_of_Housing_Single-family home\",\"xref\":\"x\",\"y\":\"Location\",\"yref\":\"y\"},{\"font\":{\"color\":\"#FFFFFF\"},\"showarrow\":false,\"text\":\"0.01\",\"x\":\"Type_of_Housing_Townhouse\",\"xref\":\"x\",\"y\":\"Location\",\"yref\":\"y\"},{\"font\":{\"color\":\"#FFFFFF\"},\"showarrow\":false,\"text\":\"0.01\",\"x\":\"Primary_Mode_of_Transportation_Car\",\"xref\":\"x\",\"y\":\"Location\",\"yref\":\"y\"},{\"font\":{\"color\":\"#FFFFFF\"},\"showarrow\":false,\"text\":\"0.0\",\"x\":\"Primary_Mode_of_Transportation_Public transit\",\"xref\":\"x\",\"y\":\"Location\",\"yref\":\"y\"},{\"font\":{\"color\":\"#FFFFFF\"},\"showarrow\":false,\"text\":\"-0.0\",\"x\":\"Primary_Mode_of_Transportation_Walking\",\"xref\":\"x\",\"y\":\"Location\",\"yref\":\"y\"},{\"font\":{\"color\":\"#FFFFFF\"},\"showarrow\":false,\"text\":\"0.0\",\"x\":\"Age\",\"xref\":\"x\",\"y\":\"Work_Experience\",\"yref\":\"y\"},{\"font\":{\"color\":\"#FFFFFF\"},\"showarrow\":false,\"text\":\"-0.02\",\"x\":\"Education_Level\",\"xref\":\"x\",\"y\":\"Work_Experience\",\"yref\":\"y\"},{\"font\":{\"color\":\"#FFFFFF\"},\"showarrow\":false,\"text\":\"-0.0\",\"x\":\"Number_of_Dependents\",\"xref\":\"x\",\"y\":\"Work_Experience\",\"yref\":\"y\"},{\"font\":{\"color\":\"#FFFFFF\"},\"showarrow\":false,\"text\":\"0.02\",\"x\":\"Location\",\"xref\":\"x\",\"y\":\"Work_Experience\",\"yref\":\"y\"},{\"font\":{\"color\":\"#000000\"},\"showarrow\":false,\"text\":\"1.0\",\"x\":\"Work_Experience\",\"xref\":\"x\",\"y\":\"Work_Experience\",\"yref\":\"y\"},{\"font\":{\"color\":\"#FFFFFF\"},\"showarrow\":false,\"text\":\"0.01\",\"x\":\"Household_Size\",\"xref\":\"x\",\"y\":\"Work_Experience\",\"yref\":\"y\"},{\"font\":{\"color\":\"#FFFFFF\"},\"showarrow\":false,\"text\":\"0.02\",\"x\":\"Homeownership_Status\",\"xref\":\"x\",\"y\":\"Work_Experience\",\"yref\":\"y\"},{\"font\":{\"color\":\"#FFFFFF\"},\"showarrow\":false,\"text\":\"-0.0\",\"x\":\"Gender\",\"xref\":\"x\",\"y\":\"Work_Experience\",\"yref\":\"y\"},{\"font\":{\"color\":\"#FFFFFF\"},\"showarrow\":false,\"text\":\"-0.03\",\"x\":\"Income\",\"xref\":\"x\",\"y\":\"Work_Experience\",\"yref\":\"y\"},{\"font\":{\"color\":\"#FFFFFF\"},\"showarrow\":false,\"text\":\"0.01\",\"x\":\"Occupation_Finance\",\"xref\":\"x\",\"y\":\"Work_Experience\",\"yref\":\"y\"},{\"font\":{\"color\":\"#FFFFFF\"},\"showarrow\":false,\"text\":\"0.02\",\"x\":\"Occupation_Healthcare\",\"xref\":\"x\",\"y\":\"Work_Experience\",\"yref\":\"y\"},{\"font\":{\"color\":\"#FFFFFF\"},\"showarrow\":false,\"text\":\"-0.0\",\"x\":\"Occupation_Others\",\"xref\":\"x\",\"y\":\"Work_Experience\",\"yref\":\"y\"},{\"font\":{\"color\":\"#FFFFFF\"},\"showarrow\":false,\"text\":\"-0.02\",\"x\":\"Occupation_Technology\",\"xref\":\"x\",\"y\":\"Work_Experience\",\"yref\":\"y\"},{\"font\":{\"color\":\"#FFFFFF\"},\"showarrow\":false,\"text\":\"0.01\",\"x\":\"Marital_Status_Married\",\"xref\":\"x\",\"y\":\"Work_Experience\",\"yref\":\"y\"},{\"font\":{\"color\":\"#FFFFFF\"},\"showarrow\":false,\"text\":\"-0.01\",\"x\":\"Marital_Status_Single\",\"xref\":\"x\",\"y\":\"Work_Experience\",\"yref\":\"y\"},{\"font\":{\"color\":\"#FFFFFF\"},\"showarrow\":false,\"text\":\"0.01\",\"x\":\"Employment_Status_Part-time\",\"xref\":\"x\",\"y\":\"Work_Experience\",\"yref\":\"y\"},{\"font\":{\"color\":\"#FFFFFF\"},\"showarrow\":false,\"text\":\"0.01\",\"x\":\"Employment_Status_Self-employed\",\"xref\":\"x\",\"y\":\"Work_Experience\",\"yref\":\"y\"},{\"font\":{\"color\":\"#FFFFFF\"},\"showarrow\":false,\"text\":\"-0.0\",\"x\":\"Type_of_Housing_Single-family home\",\"xref\":\"x\",\"y\":\"Work_Experience\",\"yref\":\"y\"},{\"font\":{\"color\":\"#FFFFFF\"},\"showarrow\":false,\"text\":\"0.0\",\"x\":\"Type_of_Housing_Townhouse\",\"xref\":\"x\",\"y\":\"Work_Experience\",\"yref\":\"y\"},{\"font\":{\"color\":\"#FFFFFF\"},\"showarrow\":false,\"text\":\"-0.01\",\"x\":\"Primary_Mode_of_Transportation_Car\",\"xref\":\"x\",\"y\":\"Work_Experience\",\"yref\":\"y\"},{\"font\":{\"color\":\"#FFFFFF\"},\"showarrow\":false,\"text\":\"0.01\",\"x\":\"Primary_Mode_of_Transportation_Public transit\",\"xref\":\"x\",\"y\":\"Work_Experience\",\"yref\":\"y\"},{\"font\":{\"color\":\"#FFFFFF\"},\"showarrow\":false,\"text\":\"-0.01\",\"x\":\"Primary_Mode_of_Transportation_Walking\",\"xref\":\"x\",\"y\":\"Work_Experience\",\"yref\":\"y\"},{\"font\":{\"color\":\"#FFFFFF\"},\"showarrow\":false,\"text\":\"0.01\",\"x\":\"Age\",\"xref\":\"x\",\"y\":\"Household_Size\",\"yref\":\"y\"},{\"font\":{\"color\":\"#FFFFFF\"},\"showarrow\":false,\"text\":\"-0.0\",\"x\":\"Education_Level\",\"xref\":\"x\",\"y\":\"Household_Size\",\"yref\":\"y\"},{\"font\":{\"color\":\"#FFFFFF\"},\"showarrow\":false,\"text\":\"-0.01\",\"x\":\"Number_of_Dependents\",\"xref\":\"x\",\"y\":\"Household_Size\",\"yref\":\"y\"},{\"font\":{\"color\":\"#FFFFFF\"},\"showarrow\":false,\"text\":\"0.0\",\"x\":\"Location\",\"xref\":\"x\",\"y\":\"Household_Size\",\"yref\":\"y\"},{\"font\":{\"color\":\"#FFFFFF\"},\"showarrow\":false,\"text\":\"0.01\",\"x\":\"Work_Experience\",\"xref\":\"x\",\"y\":\"Household_Size\",\"yref\":\"y\"},{\"font\":{\"color\":\"#000000\"},\"showarrow\":false,\"text\":\"1.0\",\"x\":\"Household_Size\",\"xref\":\"x\",\"y\":\"Household_Size\",\"yref\":\"y\"},{\"font\":{\"color\":\"#FFFFFF\"},\"showarrow\":false,\"text\":\"0.01\",\"x\":\"Homeownership_Status\",\"xref\":\"x\",\"y\":\"Household_Size\",\"yref\":\"y\"},{\"font\":{\"color\":\"#FFFFFF\"},\"showarrow\":false,\"text\":\"-0.0\",\"x\":\"Gender\",\"xref\":\"x\",\"y\":\"Household_Size\",\"yref\":\"y\"},{\"font\":{\"color\":\"#FFFFFF\"},\"showarrow\":false,\"text\":\"-0.01\",\"x\":\"Income\",\"xref\":\"x\",\"y\":\"Household_Size\",\"yref\":\"y\"},{\"font\":{\"color\":\"#FFFFFF\"},\"showarrow\":false,\"text\":\"0.0\",\"x\":\"Occupation_Finance\",\"xref\":\"x\",\"y\":\"Household_Size\",\"yref\":\"y\"},{\"font\":{\"color\":\"#FFFFFF\"},\"showarrow\":false,\"text\":\"-0.02\",\"x\":\"Occupation_Healthcare\",\"xref\":\"x\",\"y\":\"Household_Size\",\"yref\":\"y\"},{\"font\":{\"color\":\"#FFFFFF\"},\"showarrow\":false,\"text\":\"0.01\",\"x\":\"Occupation_Others\",\"xref\":\"x\",\"y\":\"Household_Size\",\"yref\":\"y\"},{\"font\":{\"color\":\"#FFFFFF\"},\"showarrow\":false,\"text\":\"-0.0\",\"x\":\"Occupation_Technology\",\"xref\":\"x\",\"y\":\"Household_Size\",\"yref\":\"y\"},{\"font\":{\"color\":\"#FFFFFF\"},\"showarrow\":false,\"text\":\"-0.0\",\"x\":\"Marital_Status_Married\",\"xref\":\"x\",\"y\":\"Household_Size\",\"yref\":\"y\"},{\"font\":{\"color\":\"#FFFFFF\"},\"showarrow\":false,\"text\":\"-0.01\",\"x\":\"Marital_Status_Single\",\"xref\":\"x\",\"y\":\"Household_Size\",\"yref\":\"y\"},{\"font\":{\"color\":\"#FFFFFF\"},\"showarrow\":false,\"text\":\"-0.01\",\"x\":\"Employment_Status_Part-time\",\"xref\":\"x\",\"y\":\"Household_Size\",\"yref\":\"y\"},{\"font\":{\"color\":\"#FFFFFF\"},\"showarrow\":false,\"text\":\"0.01\",\"x\":\"Employment_Status_Self-employed\",\"xref\":\"x\",\"y\":\"Household_Size\",\"yref\":\"y\"},{\"font\":{\"color\":\"#FFFFFF\"},\"showarrow\":false,\"text\":\"-0.01\",\"x\":\"Type_of_Housing_Single-family home\",\"xref\":\"x\",\"y\":\"Household_Size\",\"yref\":\"y\"},{\"font\":{\"color\":\"#FFFFFF\"},\"showarrow\":false,\"text\":\"0.01\",\"x\":\"Type_of_Housing_Townhouse\",\"xref\":\"x\",\"y\":\"Household_Size\",\"yref\":\"y\"},{\"font\":{\"color\":\"#FFFFFF\"},\"showarrow\":false,\"text\":\"0.02\",\"x\":\"Primary_Mode_of_Transportation_Car\",\"xref\":\"x\",\"y\":\"Household_Size\",\"yref\":\"y\"},{\"font\":{\"color\":\"#FFFFFF\"},\"showarrow\":false,\"text\":\"-0.0\",\"x\":\"Primary_Mode_of_Transportation_Public transit\",\"xref\":\"x\",\"y\":\"Household_Size\",\"yref\":\"y\"},{\"font\":{\"color\":\"#FFFFFF\"},\"showarrow\":false,\"text\":\"-0.0\",\"x\":\"Primary_Mode_of_Transportation_Walking\",\"xref\":\"x\",\"y\":\"Household_Size\",\"yref\":\"y\"},{\"font\":{\"color\":\"#FFFFFF\"},\"showarrow\":false,\"text\":\"0.01\",\"x\":\"Age\",\"xref\":\"x\",\"y\":\"Homeownership_Status\",\"yref\":\"y\"},{\"font\":{\"color\":\"#FFFFFF\"},\"showarrow\":false,\"text\":\"0.0\",\"x\":\"Education_Level\",\"xref\":\"x\",\"y\":\"Homeownership_Status\",\"yref\":\"y\"},{\"font\":{\"color\":\"#FFFFFF\"},\"showarrow\":false,\"text\":\"0.02\",\"x\":\"Number_of_Dependents\",\"xref\":\"x\",\"y\":\"Homeownership_Status\",\"yref\":\"y\"},{\"font\":{\"color\":\"#FFFFFF\"},\"showarrow\":false,\"text\":\"0.01\",\"x\":\"Location\",\"xref\":\"x\",\"y\":\"Homeownership_Status\",\"yref\":\"y\"},{\"font\":{\"color\":\"#FFFFFF\"},\"showarrow\":false,\"text\":\"0.02\",\"x\":\"Work_Experience\",\"xref\":\"x\",\"y\":\"Homeownership_Status\",\"yref\":\"y\"},{\"font\":{\"color\":\"#FFFFFF\"},\"showarrow\":false,\"text\":\"0.01\",\"x\":\"Household_Size\",\"xref\":\"x\",\"y\":\"Homeownership_Status\",\"yref\":\"y\"},{\"font\":{\"color\":\"#000000\"},\"showarrow\":false,\"text\":\"1.0\",\"x\":\"Homeownership_Status\",\"xref\":\"x\",\"y\":\"Homeownership_Status\",\"yref\":\"y\"},{\"font\":{\"color\":\"#FFFFFF\"},\"showarrow\":false,\"text\":\"0.0\",\"x\":\"Gender\",\"xref\":\"x\",\"y\":\"Homeownership_Status\",\"yref\":\"y\"},{\"font\":{\"color\":\"#FFFFFF\"},\"showarrow\":false,\"text\":\"-0.06\",\"x\":\"Income\",\"xref\":\"x\",\"y\":\"Homeownership_Status\",\"yref\":\"y\"},{\"font\":{\"color\":\"#FFFFFF\"},\"showarrow\":false,\"text\":\"0.0\",\"x\":\"Occupation_Finance\",\"xref\":\"x\",\"y\":\"Homeownership_Status\",\"yref\":\"y\"},{\"font\":{\"color\":\"#FFFFFF\"},\"showarrow\":false,\"text\":\"-0.03\",\"x\":\"Occupation_Healthcare\",\"xref\":\"x\",\"y\":\"Homeownership_Status\",\"yref\":\"y\"},{\"font\":{\"color\":\"#FFFFFF\"},\"showarrow\":false,\"text\":\"0.01\",\"x\":\"Occupation_Others\",\"xref\":\"x\",\"y\":\"Homeownership_Status\",\"yref\":\"y\"},{\"font\":{\"color\":\"#FFFFFF\"},\"showarrow\":false,\"text\":\"0.01\",\"x\":\"Occupation_Technology\",\"xref\":\"x\",\"y\":\"Homeownership_Status\",\"yref\":\"y\"},{\"font\":{\"color\":\"#FFFFFF\"},\"showarrow\":false,\"text\":\"0.0\",\"x\":\"Marital_Status_Married\",\"xref\":\"x\",\"y\":\"Homeownership_Status\",\"yref\":\"y\"},{\"font\":{\"color\":\"#FFFFFF\"},\"showarrow\":false,\"text\":\"0.0\",\"x\":\"Marital_Status_Single\",\"xref\":\"x\",\"y\":\"Homeownership_Status\",\"yref\":\"y\"},{\"font\":{\"color\":\"#FFFFFF\"},\"showarrow\":false,\"text\":\"-0.0\",\"x\":\"Employment_Status_Part-time\",\"xref\":\"x\",\"y\":\"Homeownership_Status\",\"yref\":\"y\"},{\"font\":{\"color\":\"#FFFFFF\"},\"showarrow\":false,\"text\":\"0.01\",\"x\":\"Employment_Status_Self-employed\",\"xref\":\"x\",\"y\":\"Homeownership_Status\",\"yref\":\"y\"},{\"font\":{\"color\":\"#FFFFFF\"},\"showarrow\":false,\"text\":\"-0.0\",\"x\":\"Type_of_Housing_Single-family home\",\"xref\":\"x\",\"y\":\"Homeownership_Status\",\"yref\":\"y\"},{\"font\":{\"color\":\"#FFFFFF\"},\"showarrow\":false,\"text\":\"-0.01\",\"x\":\"Type_of_Housing_Townhouse\",\"xref\":\"x\",\"y\":\"Homeownership_Status\",\"yref\":\"y\"},{\"font\":{\"color\":\"#FFFFFF\"},\"showarrow\":false,\"text\":\"0.01\",\"x\":\"Primary_Mode_of_Transportation_Car\",\"xref\":\"x\",\"y\":\"Homeownership_Status\",\"yref\":\"y\"},{\"font\":{\"color\":\"#FFFFFF\"},\"showarrow\":false,\"text\":\"-0.01\",\"x\":\"Primary_Mode_of_Transportation_Public transit\",\"xref\":\"x\",\"y\":\"Homeownership_Status\",\"yref\":\"y\"},{\"font\":{\"color\":\"#FFFFFF\"},\"showarrow\":false,\"text\":\"0.0\",\"x\":\"Primary_Mode_of_Transportation_Walking\",\"xref\":\"x\",\"y\":\"Homeownership_Status\",\"yref\":\"y\"},{\"font\":{\"color\":\"#FFFFFF\"},\"showarrow\":false,\"text\":\"0.01\",\"x\":\"Age\",\"xref\":\"x\",\"y\":\"Gender\",\"yref\":\"y\"},{\"font\":{\"color\":\"#FFFFFF\"},\"showarrow\":false,\"text\":\"0.02\",\"x\":\"Education_Level\",\"xref\":\"x\",\"y\":\"Gender\",\"yref\":\"y\"},{\"font\":{\"color\":\"#FFFFFF\"},\"showarrow\":false,\"text\":\"-0.01\",\"x\":\"Number_of_Dependents\",\"xref\":\"x\",\"y\":\"Gender\",\"yref\":\"y\"},{\"font\":{\"color\":\"#FFFFFF\"},\"showarrow\":false,\"text\":\"0.01\",\"x\":\"Location\",\"xref\":\"x\",\"y\":\"Gender\",\"yref\":\"y\"},{\"font\":{\"color\":\"#FFFFFF\"},\"showarrow\":false,\"text\":\"-0.0\",\"x\":\"Work_Experience\",\"xref\":\"x\",\"y\":\"Gender\",\"yref\":\"y\"},{\"font\":{\"color\":\"#FFFFFF\"},\"showarrow\":false,\"text\":\"-0.0\",\"x\":\"Household_Size\",\"xref\":\"x\",\"y\":\"Gender\",\"yref\":\"y\"},{\"font\":{\"color\":\"#FFFFFF\"},\"showarrow\":false,\"text\":\"0.0\",\"x\":\"Homeownership_Status\",\"xref\":\"x\",\"y\":\"Gender\",\"yref\":\"y\"},{\"font\":{\"color\":\"#000000\"},\"showarrow\":false,\"text\":\"1.0\",\"x\":\"Gender\",\"xref\":\"x\",\"y\":\"Gender\",\"yref\":\"y\"},{\"font\":{\"color\":\"#FFFFFF\"},\"showarrow\":false,\"text\":\"0.0\",\"x\":\"Income\",\"xref\":\"x\",\"y\":\"Gender\",\"yref\":\"y\"},{\"font\":{\"color\":\"#FFFFFF\"},\"showarrow\":false,\"text\":\"-0.01\",\"x\":\"Occupation_Finance\",\"xref\":\"x\",\"y\":\"Gender\",\"yref\":\"y\"},{\"font\":{\"color\":\"#FFFFFF\"},\"showarrow\":false,\"text\":\"0.01\",\"x\":\"Occupation_Healthcare\",\"xref\":\"x\",\"y\":\"Gender\",\"yref\":\"y\"},{\"font\":{\"color\":\"#FFFFFF\"},\"showarrow\":false,\"text\":\"-0.02\",\"x\":\"Occupation_Others\",\"xref\":\"x\",\"y\":\"Gender\",\"yref\":\"y\"},{\"font\":{\"color\":\"#FFFFFF\"},\"showarrow\":false,\"text\":\"0.02\",\"x\":\"Occupation_Technology\",\"xref\":\"x\",\"y\":\"Gender\",\"yref\":\"y\"},{\"font\":{\"color\":\"#FFFFFF\"},\"showarrow\":false,\"text\":\"0.01\",\"x\":\"Marital_Status_Married\",\"xref\":\"x\",\"y\":\"Gender\",\"yref\":\"y\"},{\"font\":{\"color\":\"#FFFFFF\"},\"showarrow\":false,\"text\":\"0.0\",\"x\":\"Marital_Status_Single\",\"xref\":\"x\",\"y\":\"Gender\",\"yref\":\"y\"},{\"font\":{\"color\":\"#FFFFFF\"},\"showarrow\":false,\"text\":\"0.01\",\"x\":\"Employment_Status_Part-time\",\"xref\":\"x\",\"y\":\"Gender\",\"yref\":\"y\"},{\"font\":{\"color\":\"#FFFFFF\"},\"showarrow\":false,\"text\":\"-0.01\",\"x\":\"Employment_Status_Self-employed\",\"xref\":\"x\",\"y\":\"Gender\",\"yref\":\"y\"},{\"font\":{\"color\":\"#FFFFFF\"},\"showarrow\":false,\"text\":\"0.02\",\"x\":\"Type_of_Housing_Single-family home\",\"xref\":\"x\",\"y\":\"Gender\",\"yref\":\"y\"},{\"font\":{\"color\":\"#FFFFFF\"},\"showarrow\":false,\"text\":\"-0.02\",\"x\":\"Type_of_Housing_Townhouse\",\"xref\":\"x\",\"y\":\"Gender\",\"yref\":\"y\"},{\"font\":{\"color\":\"#FFFFFF\"},\"showarrow\":false,\"text\":\"-0.0\",\"x\":\"Primary_Mode_of_Transportation_Car\",\"xref\":\"x\",\"y\":\"Gender\",\"yref\":\"y\"},{\"font\":{\"color\":\"#FFFFFF\"},\"showarrow\":false,\"text\":\"-0.01\",\"x\":\"Primary_Mode_of_Transportation_Public transit\",\"xref\":\"x\",\"y\":\"Gender\",\"yref\":\"y\"},{\"font\":{\"color\":\"#FFFFFF\"},\"showarrow\":false,\"text\":\"0.01\",\"x\":\"Primary_Mode_of_Transportation_Walking\",\"xref\":\"x\",\"y\":\"Gender\",\"yref\":\"y\"},{\"font\":{\"color\":\"#FFFFFF\"},\"showarrow\":false,\"text\":\"0.01\",\"x\":\"Age\",\"xref\":\"x\",\"y\":\"Income\",\"yref\":\"y\"},{\"font\":{\"color\":\"#FFFFFF\"},\"showarrow\":false,\"text\":\"-0.02\",\"x\":\"Education_Level\",\"xref\":\"x\",\"y\":\"Income\",\"yref\":\"y\"},{\"font\":{\"color\":\"#FFFFFF\"},\"showarrow\":false,\"text\":\"0.01\",\"x\":\"Number_of_Dependents\",\"xref\":\"x\",\"y\":\"Income\",\"yref\":\"y\"},{\"font\":{\"color\":\"#FFFFFF\"},\"showarrow\":false,\"text\":\"-0.06\",\"x\":\"Location\",\"xref\":\"x\",\"y\":\"Income\",\"yref\":\"y\"},{\"font\":{\"color\":\"#FFFFFF\"},\"showarrow\":false,\"text\":\"-0.03\",\"x\":\"Work_Experience\",\"xref\":\"x\",\"y\":\"Income\",\"yref\":\"y\"},{\"font\":{\"color\":\"#FFFFFF\"},\"showarrow\":false,\"text\":\"-0.01\",\"x\":\"Household_Size\",\"xref\":\"x\",\"y\":\"Income\",\"yref\":\"y\"},{\"font\":{\"color\":\"#FFFFFF\"},\"showarrow\":false,\"text\":\"-0.06\",\"x\":\"Homeownership_Status\",\"xref\":\"x\",\"y\":\"Income\",\"yref\":\"y\"},{\"font\":{\"color\":\"#FFFFFF\"},\"showarrow\":false,\"text\":\"0.0\",\"x\":\"Gender\",\"xref\":\"x\",\"y\":\"Income\",\"yref\":\"y\"},{\"font\":{\"color\":\"#000000\"},\"showarrow\":false,\"text\":\"1.0\",\"x\":\"Income\",\"xref\":\"x\",\"y\":\"Income\",\"yref\":\"y\"},{\"font\":{\"color\":\"#FFFFFF\"},\"showarrow\":false,\"text\":\"-0.03\",\"x\":\"Occupation_Finance\",\"xref\":\"x\",\"y\":\"Income\",\"yref\":\"y\"},{\"font\":{\"color\":\"#FFFFFF\"},\"showarrow\":false,\"text\":\"-0.01\",\"x\":\"Occupation_Healthcare\",\"xref\":\"x\",\"y\":\"Income\",\"yref\":\"y\"},{\"font\":{\"color\":\"#FFFFFF\"},\"showarrow\":false,\"text\":\"0.0\",\"x\":\"Occupation_Others\",\"xref\":\"x\",\"y\":\"Income\",\"yref\":\"y\"},{\"font\":{\"color\":\"#FFFFFF\"},\"showarrow\":false,\"text\":\"0.01\",\"x\":\"Occupation_Technology\",\"xref\":\"x\",\"y\":\"Income\",\"yref\":\"y\"},{\"font\":{\"color\":\"#FFFFFF\"},\"showarrow\":false,\"text\":\"0.01\",\"x\":\"Marital_Status_Married\",\"xref\":\"x\",\"y\":\"Income\",\"yref\":\"y\"},{\"font\":{\"color\":\"#FFFFFF\"},\"showarrow\":false,\"text\":\"-0.01\",\"x\":\"Marital_Status_Single\",\"xref\":\"x\",\"y\":\"Income\",\"yref\":\"y\"},{\"font\":{\"color\":\"#FFFFFF\"},\"showarrow\":false,\"text\":\"0.03\",\"x\":\"Employment_Status_Part-time\",\"xref\":\"x\",\"y\":\"Income\",\"yref\":\"y\"},{\"font\":{\"color\":\"#FFFFFF\"},\"showarrow\":false,\"text\":\"-0.01\",\"x\":\"Employment_Status_Self-employed\",\"xref\":\"x\",\"y\":\"Income\",\"yref\":\"y\"},{\"font\":{\"color\":\"#FFFFFF\"},\"showarrow\":false,\"text\":\"-0.01\",\"x\":\"Type_of_Housing_Single-family home\",\"xref\":\"x\",\"y\":\"Income\",\"yref\":\"y\"},{\"font\":{\"color\":\"#FFFFFF\"},\"showarrow\":false,\"text\":\"-0.02\",\"x\":\"Type_of_Housing_Townhouse\",\"xref\":\"x\",\"y\":\"Income\",\"yref\":\"y\"},{\"font\":{\"color\":\"#FFFFFF\"},\"showarrow\":false,\"text\":\"-0.01\",\"x\":\"Primary_Mode_of_Transportation_Car\",\"xref\":\"x\",\"y\":\"Income\",\"yref\":\"y\"},{\"font\":{\"color\":\"#FFFFFF\"},\"showarrow\":false,\"text\":\"0.0\",\"x\":\"Primary_Mode_of_Transportation_Public transit\",\"xref\":\"x\",\"y\":\"Income\",\"yref\":\"y\"},{\"font\":{\"color\":\"#FFFFFF\"},\"showarrow\":false,\"text\":\"0.0\",\"x\":\"Primary_Mode_of_Transportation_Walking\",\"xref\":\"x\",\"y\":\"Income\",\"yref\":\"y\"},{\"font\":{\"color\":\"#FFFFFF\"},\"showarrow\":false,\"text\":\"-0.01\",\"x\":\"Age\",\"xref\":\"x\",\"y\":\"Occupation_Finance\",\"yref\":\"y\"},{\"font\":{\"color\":\"#FFFFFF\"},\"showarrow\":false,\"text\":\"0.0\",\"x\":\"Education_Level\",\"xref\":\"x\",\"y\":\"Occupation_Finance\",\"yref\":\"y\"},{\"font\":{\"color\":\"#FFFFFF\"},\"showarrow\":false,\"text\":\"-0.01\",\"x\":\"Number_of_Dependents\",\"xref\":\"x\",\"y\":\"Occupation_Finance\",\"yref\":\"y\"},{\"font\":{\"color\":\"#FFFFFF\"},\"showarrow\":false,\"text\":\"-0.01\",\"x\":\"Location\",\"xref\":\"x\",\"y\":\"Occupation_Finance\",\"yref\":\"y\"},{\"font\":{\"color\":\"#FFFFFF\"},\"showarrow\":false,\"text\":\"0.01\",\"x\":\"Work_Experience\",\"xref\":\"x\",\"y\":\"Occupation_Finance\",\"yref\":\"y\"},{\"font\":{\"color\":\"#FFFFFF\"},\"showarrow\":false,\"text\":\"0.0\",\"x\":\"Household_Size\",\"xref\":\"x\",\"y\":\"Occupation_Finance\",\"yref\":\"y\"},{\"font\":{\"color\":\"#FFFFFF\"},\"showarrow\":false,\"text\":\"0.0\",\"x\":\"Homeownership_Status\",\"xref\":\"x\",\"y\":\"Occupation_Finance\",\"yref\":\"y\"},{\"font\":{\"color\":\"#FFFFFF\"},\"showarrow\":false,\"text\":\"-0.01\",\"x\":\"Gender\",\"xref\":\"x\",\"y\":\"Occupation_Finance\",\"yref\":\"y\"},{\"font\":{\"color\":\"#FFFFFF\"},\"showarrow\":false,\"text\":\"-0.03\",\"x\":\"Income\",\"xref\":\"x\",\"y\":\"Occupation_Finance\",\"yref\":\"y\"},{\"font\":{\"color\":\"#000000\"},\"showarrow\":false,\"text\":\"1.0\",\"x\":\"Occupation_Finance\",\"xref\":\"x\",\"y\":\"Occupation_Finance\",\"yref\":\"y\"},{\"font\":{\"color\":\"#FFFFFF\"},\"showarrow\":false,\"text\":\"-0.28\",\"x\":\"Occupation_Healthcare\",\"xref\":\"x\",\"y\":\"Occupation_Finance\",\"yref\":\"y\"},{\"font\":{\"color\":\"#FFFFFF\"},\"showarrow\":false,\"text\":\"-0.18\",\"x\":\"Occupation_Others\",\"xref\":\"x\",\"y\":\"Occupation_Finance\",\"yref\":\"y\"},{\"font\":{\"color\":\"#FFFFFF\"},\"showarrow\":false,\"text\":\"-0.24\",\"x\":\"Occupation_Technology\",\"xref\":\"x\",\"y\":\"Occupation_Finance\",\"yref\":\"y\"},{\"font\":{\"color\":\"#FFFFFF\"},\"showarrow\":false,\"text\":\"0.0\",\"x\":\"Marital_Status_Married\",\"xref\":\"x\",\"y\":\"Occupation_Finance\",\"yref\":\"y\"},{\"font\":{\"color\":\"#FFFFFF\"},\"showarrow\":false,\"text\":\"0.0\",\"x\":\"Marital_Status_Single\",\"xref\":\"x\",\"y\":\"Occupation_Finance\",\"yref\":\"y\"},{\"font\":{\"color\":\"#FFFFFF\"},\"showarrow\":false,\"text\":\"-0.0\",\"x\":\"Employment_Status_Part-time\",\"xref\":\"x\",\"y\":\"Occupation_Finance\",\"yref\":\"y\"},{\"font\":{\"color\":\"#FFFFFF\"},\"showarrow\":false,\"text\":\"0.0\",\"x\":\"Employment_Status_Self-employed\",\"xref\":\"x\",\"y\":\"Occupation_Finance\",\"yref\":\"y\"},{\"font\":{\"color\":\"#FFFFFF\"},\"showarrow\":false,\"text\":\"0.01\",\"x\":\"Type_of_Housing_Single-family home\",\"xref\":\"x\",\"y\":\"Occupation_Finance\",\"yref\":\"y\"},{\"font\":{\"color\":\"#FFFFFF\"},\"showarrow\":false,\"text\":\"0.01\",\"x\":\"Type_of_Housing_Townhouse\",\"xref\":\"x\",\"y\":\"Occupation_Finance\",\"yref\":\"y\"},{\"font\":{\"color\":\"#FFFFFF\"},\"showarrow\":false,\"text\":\"0.0\",\"x\":\"Primary_Mode_of_Transportation_Car\",\"xref\":\"x\",\"y\":\"Occupation_Finance\",\"yref\":\"y\"},{\"font\":{\"color\":\"#FFFFFF\"},\"showarrow\":false,\"text\":\"0.0\",\"x\":\"Primary_Mode_of_Transportation_Public transit\",\"xref\":\"x\",\"y\":\"Occupation_Finance\",\"yref\":\"y\"},{\"font\":{\"color\":\"#FFFFFF\"},\"showarrow\":false,\"text\":\"-0.0\",\"x\":\"Primary_Mode_of_Transportation_Walking\",\"xref\":\"x\",\"y\":\"Occupation_Finance\",\"yref\":\"y\"},{\"font\":{\"color\":\"#FFFFFF\"},\"showarrow\":false,\"text\":\"0.01\",\"x\":\"Age\",\"xref\":\"x\",\"y\":\"Occupation_Healthcare\",\"yref\":\"y\"},{\"font\":{\"color\":\"#FFFFFF\"},\"showarrow\":false,\"text\":\"-0.0\",\"x\":\"Education_Level\",\"xref\":\"x\",\"y\":\"Occupation_Healthcare\",\"yref\":\"y\"},{\"font\":{\"color\":\"#FFFFFF\"},\"showarrow\":false,\"text\":\"-0.01\",\"x\":\"Number_of_Dependents\",\"xref\":\"x\",\"y\":\"Occupation_Healthcare\",\"yref\":\"y\"},{\"font\":{\"color\":\"#FFFFFF\"},\"showarrow\":false,\"text\":\"0.0\",\"x\":\"Location\",\"xref\":\"x\",\"y\":\"Occupation_Healthcare\",\"yref\":\"y\"},{\"font\":{\"color\":\"#FFFFFF\"},\"showarrow\":false,\"text\":\"0.02\",\"x\":\"Work_Experience\",\"xref\":\"x\",\"y\":\"Occupation_Healthcare\",\"yref\":\"y\"},{\"font\":{\"color\":\"#FFFFFF\"},\"showarrow\":false,\"text\":\"-0.02\",\"x\":\"Household_Size\",\"xref\":\"x\",\"y\":\"Occupation_Healthcare\",\"yref\":\"y\"},{\"font\":{\"color\":\"#FFFFFF\"},\"showarrow\":false,\"text\":\"-0.03\",\"x\":\"Homeownership_Status\",\"xref\":\"x\",\"y\":\"Occupation_Healthcare\",\"yref\":\"y\"},{\"font\":{\"color\":\"#FFFFFF\"},\"showarrow\":false,\"text\":\"0.01\",\"x\":\"Gender\",\"xref\":\"x\",\"y\":\"Occupation_Healthcare\",\"yref\":\"y\"},{\"font\":{\"color\":\"#FFFFFF\"},\"showarrow\":false,\"text\":\"-0.01\",\"x\":\"Income\",\"xref\":\"x\",\"y\":\"Occupation_Healthcare\",\"yref\":\"y\"},{\"font\":{\"color\":\"#FFFFFF\"},\"showarrow\":false,\"text\":\"-0.28\",\"x\":\"Occupation_Finance\",\"xref\":\"x\",\"y\":\"Occupation_Healthcare\",\"yref\":\"y\"},{\"font\":{\"color\":\"#000000\"},\"showarrow\":false,\"text\":\"1.0\",\"x\":\"Occupation_Healthcare\",\"xref\":\"x\",\"y\":\"Occupation_Healthcare\",\"yref\":\"y\"},{\"font\":{\"color\":\"#FFFFFF\"},\"showarrow\":false,\"text\":\"-0.28\",\"x\":\"Occupation_Others\",\"xref\":\"x\",\"y\":\"Occupation_Healthcare\",\"yref\":\"y\"},{\"font\":{\"color\":\"#FFFFFF\"},\"showarrow\":false,\"text\":\"-0.37\",\"x\":\"Occupation_Technology\",\"xref\":\"x\",\"y\":\"Occupation_Healthcare\",\"yref\":\"y\"},{\"font\":{\"color\":\"#FFFFFF\"},\"showarrow\":false,\"text\":\"-0.0\",\"x\":\"Marital_Status_Married\",\"xref\":\"x\",\"y\":\"Occupation_Healthcare\",\"yref\":\"y\"},{\"font\":{\"color\":\"#FFFFFF\"},\"showarrow\":false,\"text\":\"0.0\",\"x\":\"Marital_Status_Single\",\"xref\":\"x\",\"y\":\"Occupation_Healthcare\",\"yref\":\"y\"},{\"font\":{\"color\":\"#FFFFFF\"},\"showarrow\":false,\"text\":\"0.02\",\"x\":\"Employment_Status_Part-time\",\"xref\":\"x\",\"y\":\"Occupation_Healthcare\",\"yref\":\"y\"},{\"font\":{\"color\":\"#FFFFFF\"},\"showarrow\":false,\"text\":\"-0.02\",\"x\":\"Employment_Status_Self-employed\",\"xref\":\"x\",\"y\":\"Occupation_Healthcare\",\"yref\":\"y\"},{\"font\":{\"color\":\"#FFFFFF\"},\"showarrow\":false,\"text\":\"-0.01\",\"x\":\"Type_of_Housing_Single-family home\",\"xref\":\"x\",\"y\":\"Occupation_Healthcare\",\"yref\":\"y\"},{\"font\":{\"color\":\"#FFFFFF\"},\"showarrow\":false,\"text\":\"-0.01\",\"x\":\"Type_of_Housing_Townhouse\",\"xref\":\"x\",\"y\":\"Occupation_Healthcare\",\"yref\":\"y\"},{\"font\":{\"color\":\"#FFFFFF\"},\"showarrow\":false,\"text\":\"-0.01\",\"x\":\"Primary_Mode_of_Transportation_Car\",\"xref\":\"x\",\"y\":\"Occupation_Healthcare\",\"yref\":\"y\"},{\"font\":{\"color\":\"#FFFFFF\"},\"showarrow\":false,\"text\":\"-0.0\",\"x\":\"Primary_Mode_of_Transportation_Public transit\",\"xref\":\"x\",\"y\":\"Occupation_Healthcare\",\"yref\":\"y\"},{\"font\":{\"color\":\"#FFFFFF\"},\"showarrow\":false,\"text\":\"-0.01\",\"x\":\"Primary_Mode_of_Transportation_Walking\",\"xref\":\"x\",\"y\":\"Occupation_Healthcare\",\"yref\":\"y\"},{\"font\":{\"color\":\"#FFFFFF\"},\"showarrow\":false,\"text\":\"-0.01\",\"x\":\"Age\",\"xref\":\"x\",\"y\":\"Occupation_Others\",\"yref\":\"y\"},{\"font\":{\"color\":\"#FFFFFF\"},\"showarrow\":false,\"text\":\"-0.01\",\"x\":\"Education_Level\",\"xref\":\"x\",\"y\":\"Occupation_Others\",\"yref\":\"y\"},{\"font\":{\"color\":\"#FFFFFF\"},\"showarrow\":false,\"text\":\"0.02\",\"x\":\"Number_of_Dependents\",\"xref\":\"x\",\"y\":\"Occupation_Others\",\"yref\":\"y\"},{\"font\":{\"color\":\"#FFFFFF\"},\"showarrow\":false,\"text\":\"0.01\",\"x\":\"Location\",\"xref\":\"x\",\"y\":\"Occupation_Others\",\"yref\":\"y\"},{\"font\":{\"color\":\"#FFFFFF\"},\"showarrow\":false,\"text\":\"-0.0\",\"x\":\"Work_Experience\",\"xref\":\"x\",\"y\":\"Occupation_Others\",\"yref\":\"y\"},{\"font\":{\"color\":\"#FFFFFF\"},\"showarrow\":false,\"text\":\"0.01\",\"x\":\"Household_Size\",\"xref\":\"x\",\"y\":\"Occupation_Others\",\"yref\":\"y\"},{\"font\":{\"color\":\"#FFFFFF\"},\"showarrow\":false,\"text\":\"0.01\",\"x\":\"Homeownership_Status\",\"xref\":\"x\",\"y\":\"Occupation_Others\",\"yref\":\"y\"},{\"font\":{\"color\":\"#FFFFFF\"},\"showarrow\":false,\"text\":\"-0.02\",\"x\":\"Gender\",\"xref\":\"x\",\"y\":\"Occupation_Others\",\"yref\":\"y\"},{\"font\":{\"color\":\"#FFFFFF\"},\"showarrow\":false,\"text\":\"0.0\",\"x\":\"Income\",\"xref\":\"x\",\"y\":\"Occupation_Others\",\"yref\":\"y\"},{\"font\":{\"color\":\"#FFFFFF\"},\"showarrow\":false,\"text\":\"-0.18\",\"x\":\"Occupation_Finance\",\"xref\":\"x\",\"y\":\"Occupation_Others\",\"yref\":\"y\"},{\"font\":{\"color\":\"#FFFFFF\"},\"showarrow\":false,\"text\":\"-0.28\",\"x\":\"Occupation_Healthcare\",\"xref\":\"x\",\"y\":\"Occupation_Others\",\"yref\":\"y\"},{\"font\":{\"color\":\"#000000\"},\"showarrow\":false,\"text\":\"1.0\",\"x\":\"Occupation_Others\",\"xref\":\"x\",\"y\":\"Occupation_Others\",\"yref\":\"y\"},{\"font\":{\"color\":\"#FFFFFF\"},\"showarrow\":false,\"text\":\"-0.24\",\"x\":\"Occupation_Technology\",\"xref\":\"x\",\"y\":\"Occupation_Others\",\"yref\":\"y\"},{\"font\":{\"color\":\"#FFFFFF\"},\"showarrow\":false,\"text\":\"-0.0\",\"x\":\"Marital_Status_Married\",\"xref\":\"x\",\"y\":\"Occupation_Others\",\"yref\":\"y\"},{\"font\":{\"color\":\"#FFFFFF\"},\"showarrow\":false,\"text\":\"0.0\",\"x\":\"Marital_Status_Single\",\"xref\":\"x\",\"y\":\"Occupation_Others\",\"yref\":\"y\"},{\"font\":{\"color\":\"#FFFFFF\"},\"showarrow\":false,\"text\":\"-0.01\",\"x\":\"Employment_Status_Part-time\",\"xref\":\"x\",\"y\":\"Occupation_Others\",\"yref\":\"y\"},{\"font\":{\"color\":\"#FFFFFF\"},\"showarrow\":false,\"text\":\"-0.0\",\"x\":\"Employment_Status_Self-employed\",\"xref\":\"x\",\"y\":\"Occupation_Others\",\"yref\":\"y\"},{\"font\":{\"color\":\"#FFFFFF\"},\"showarrow\":false,\"text\":\"-0.02\",\"x\":\"Type_of_Housing_Single-family home\",\"xref\":\"x\",\"y\":\"Occupation_Others\",\"yref\":\"y\"},{\"font\":{\"color\":\"#FFFFFF\"},\"showarrow\":false,\"text\":\"0.01\",\"x\":\"Type_of_Housing_Townhouse\",\"xref\":\"x\",\"y\":\"Occupation_Others\",\"yref\":\"y\"},{\"font\":{\"color\":\"#FFFFFF\"},\"showarrow\":false,\"text\":\"0.01\",\"x\":\"Primary_Mode_of_Transportation_Car\",\"xref\":\"x\",\"y\":\"Occupation_Others\",\"yref\":\"y\"},{\"font\":{\"color\":\"#FFFFFF\"},\"showarrow\":false,\"text\":\"-0.0\",\"x\":\"Primary_Mode_of_Transportation_Public transit\",\"xref\":\"x\",\"y\":\"Occupation_Others\",\"yref\":\"y\"},{\"font\":{\"color\":\"#FFFFFF\"},\"showarrow\":false,\"text\":\"-0.01\",\"x\":\"Primary_Mode_of_Transportation_Walking\",\"xref\":\"x\",\"y\":\"Occupation_Others\",\"yref\":\"y\"},{\"font\":{\"color\":\"#FFFFFF\"},\"showarrow\":false,\"text\":\"-0.01\",\"x\":\"Age\",\"xref\":\"x\",\"y\":\"Occupation_Technology\",\"yref\":\"y\"},{\"font\":{\"color\":\"#FFFFFF\"},\"showarrow\":false,\"text\":\"0.0\",\"x\":\"Education_Level\",\"xref\":\"x\",\"y\":\"Occupation_Technology\",\"yref\":\"y\"},{\"font\":{\"color\":\"#FFFFFF\"},\"showarrow\":false,\"text\":\"-0.01\",\"x\":\"Number_of_Dependents\",\"xref\":\"x\",\"y\":\"Occupation_Technology\",\"yref\":\"y\"},{\"font\":{\"color\":\"#FFFFFF\"},\"showarrow\":false,\"text\":\"-0.0\",\"x\":\"Location\",\"xref\":\"x\",\"y\":\"Occupation_Technology\",\"yref\":\"y\"},{\"font\":{\"color\":\"#FFFFFF\"},\"showarrow\":false,\"text\":\"-0.02\",\"x\":\"Work_Experience\",\"xref\":\"x\",\"y\":\"Occupation_Technology\",\"yref\":\"y\"},{\"font\":{\"color\":\"#FFFFFF\"},\"showarrow\":false,\"text\":\"-0.0\",\"x\":\"Household_Size\",\"xref\":\"x\",\"y\":\"Occupation_Technology\",\"yref\":\"y\"},{\"font\":{\"color\":\"#FFFFFF\"},\"showarrow\":false,\"text\":\"0.01\",\"x\":\"Homeownership_Status\",\"xref\":\"x\",\"y\":\"Occupation_Technology\",\"yref\":\"y\"},{\"font\":{\"color\":\"#FFFFFF\"},\"showarrow\":false,\"text\":\"0.02\",\"x\":\"Gender\",\"xref\":\"x\",\"y\":\"Occupation_Technology\",\"yref\":\"y\"},{\"font\":{\"color\":\"#FFFFFF\"},\"showarrow\":false,\"text\":\"0.01\",\"x\":\"Income\",\"xref\":\"x\",\"y\":\"Occupation_Technology\",\"yref\":\"y\"},{\"font\":{\"color\":\"#FFFFFF\"},\"showarrow\":false,\"text\":\"-0.24\",\"x\":\"Occupation_Finance\",\"xref\":\"x\",\"y\":\"Occupation_Technology\",\"yref\":\"y\"},{\"font\":{\"color\":\"#FFFFFF\"},\"showarrow\":false,\"text\":\"-0.37\",\"x\":\"Occupation_Healthcare\",\"xref\":\"x\",\"y\":\"Occupation_Technology\",\"yref\":\"y\"},{\"font\":{\"color\":\"#FFFFFF\"},\"showarrow\":false,\"text\":\"-0.24\",\"x\":\"Occupation_Others\",\"xref\":\"x\",\"y\":\"Occupation_Technology\",\"yref\":\"y\"},{\"font\":{\"color\":\"#000000\"},\"showarrow\":false,\"text\":\"1.0\",\"x\":\"Occupation_Technology\",\"xref\":\"x\",\"y\":\"Occupation_Technology\",\"yref\":\"y\"},{\"font\":{\"color\":\"#FFFFFF\"},\"showarrow\":false,\"text\":\"0.02\",\"x\":\"Marital_Status_Married\",\"xref\":\"x\",\"y\":\"Occupation_Technology\",\"yref\":\"y\"},{\"font\":{\"color\":\"#FFFFFF\"},\"showarrow\":false,\"text\":\"-0.02\",\"x\":\"Marital_Status_Single\",\"xref\":\"x\",\"y\":\"Occupation_Technology\",\"yref\":\"y\"},{\"font\":{\"color\":\"#FFFFFF\"},\"showarrow\":false,\"text\":\"-0.02\",\"x\":\"Employment_Status_Part-time\",\"xref\":\"x\",\"y\":\"Occupation_Technology\",\"yref\":\"y\"},{\"font\":{\"color\":\"#FFFFFF\"},\"showarrow\":false,\"text\":\"0.02\",\"x\":\"Employment_Status_Self-employed\",\"xref\":\"x\",\"y\":\"Occupation_Technology\",\"yref\":\"y\"},{\"font\":{\"color\":\"#FFFFFF\"},\"showarrow\":false,\"text\":\"0.0\",\"x\":\"Type_of_Housing_Single-family home\",\"xref\":\"x\",\"y\":\"Occupation_Technology\",\"yref\":\"y\"},{\"font\":{\"color\":\"#FFFFFF\"},\"showarrow\":false,\"text\":\"0.01\",\"x\":\"Type_of_Housing_Townhouse\",\"xref\":\"x\",\"y\":\"Occupation_Technology\",\"yref\":\"y\"},{\"font\":{\"color\":\"#FFFFFF\"},\"showarrow\":false,\"text\":\"-0.0\",\"x\":\"Primary_Mode_of_Transportation_Car\",\"xref\":\"x\",\"y\":\"Occupation_Technology\",\"yref\":\"y\"},{\"font\":{\"color\":\"#FFFFFF\"},\"showarrow\":false,\"text\":\"0.01\",\"x\":\"Primary_Mode_of_Transportation_Public transit\",\"xref\":\"x\",\"y\":\"Occupation_Technology\",\"yref\":\"y\"},{\"font\":{\"color\":\"#FFFFFF\"},\"showarrow\":false,\"text\":\"0.02\",\"x\":\"Primary_Mode_of_Transportation_Walking\",\"xref\":\"x\",\"y\":\"Occupation_Technology\",\"yref\":\"y\"},{\"font\":{\"color\":\"#FFFFFF\"},\"showarrow\":false,\"text\":\"0.0\",\"x\":\"Age\",\"xref\":\"x\",\"y\":\"Marital_Status_Married\",\"yref\":\"y\"},{\"font\":{\"color\":\"#FFFFFF\"},\"showarrow\":false,\"text\":\"-0.01\",\"x\":\"Education_Level\",\"xref\":\"x\",\"y\":\"Marital_Status_Married\",\"yref\":\"y\"},{\"font\":{\"color\":\"#FFFFFF\"},\"showarrow\":false,\"text\":\"-0.0\",\"x\":\"Number_of_Dependents\",\"xref\":\"x\",\"y\":\"Marital_Status_Married\",\"yref\":\"y\"},{\"font\":{\"color\":\"#FFFFFF\"},\"showarrow\":false,\"text\":\"0.0\",\"x\":\"Location\",\"xref\":\"x\",\"y\":\"Marital_Status_Married\",\"yref\":\"y\"},{\"font\":{\"color\":\"#FFFFFF\"},\"showarrow\":false,\"text\":\"0.01\",\"x\":\"Work_Experience\",\"xref\":\"x\",\"y\":\"Marital_Status_Married\",\"yref\":\"y\"},{\"font\":{\"color\":\"#FFFFFF\"},\"showarrow\":false,\"text\":\"-0.0\",\"x\":\"Household_Size\",\"xref\":\"x\",\"y\":\"Marital_Status_Married\",\"yref\":\"y\"},{\"font\":{\"color\":\"#FFFFFF\"},\"showarrow\":false,\"text\":\"0.0\",\"x\":\"Homeownership_Status\",\"xref\":\"x\",\"y\":\"Marital_Status_Married\",\"yref\":\"y\"},{\"font\":{\"color\":\"#FFFFFF\"},\"showarrow\":false,\"text\":\"0.01\",\"x\":\"Gender\",\"xref\":\"x\",\"y\":\"Marital_Status_Married\",\"yref\":\"y\"},{\"font\":{\"color\":\"#FFFFFF\"},\"showarrow\":false,\"text\":\"0.01\",\"x\":\"Income\",\"xref\":\"x\",\"y\":\"Marital_Status_Married\",\"yref\":\"y\"},{\"font\":{\"color\":\"#FFFFFF\"},\"showarrow\":false,\"text\":\"0.0\",\"x\":\"Occupation_Finance\",\"xref\":\"x\",\"y\":\"Marital_Status_Married\",\"yref\":\"y\"},{\"font\":{\"color\":\"#FFFFFF\"},\"showarrow\":false,\"text\":\"-0.0\",\"x\":\"Occupation_Healthcare\",\"xref\":\"x\",\"y\":\"Marital_Status_Married\",\"yref\":\"y\"},{\"font\":{\"color\":\"#FFFFFF\"},\"showarrow\":false,\"text\":\"-0.0\",\"x\":\"Occupation_Others\",\"xref\":\"x\",\"y\":\"Marital_Status_Married\",\"yref\":\"y\"},{\"font\":{\"color\":\"#FFFFFF\"},\"showarrow\":false,\"text\":\"0.02\",\"x\":\"Occupation_Technology\",\"xref\":\"x\",\"y\":\"Marital_Status_Married\",\"yref\":\"y\"},{\"font\":{\"color\":\"#000000\"},\"showarrow\":false,\"text\":\"1.0\",\"x\":\"Marital_Status_Married\",\"xref\":\"x\",\"y\":\"Marital_Status_Married\",\"yref\":\"y\"},{\"font\":{\"color\":\"#FFFFFF\"},\"showarrow\":false,\"text\":\"-0.82\",\"x\":\"Marital_Status_Single\",\"xref\":\"x\",\"y\":\"Marital_Status_Married\",\"yref\":\"y\"},{\"font\":{\"color\":\"#FFFFFF\"},\"showarrow\":false,\"text\":\"0.0\",\"x\":\"Employment_Status_Part-time\",\"xref\":\"x\",\"y\":\"Marital_Status_Married\",\"yref\":\"y\"},{\"font\":{\"color\":\"#FFFFFF\"},\"showarrow\":false,\"text\":\"0.01\",\"x\":\"Employment_Status_Self-employed\",\"xref\":\"x\",\"y\":\"Marital_Status_Married\",\"yref\":\"y\"},{\"font\":{\"color\":\"#FFFFFF\"},\"showarrow\":false,\"text\":\"-0.01\",\"x\":\"Type_of_Housing_Single-family home\",\"xref\":\"x\",\"y\":\"Marital_Status_Married\",\"yref\":\"y\"},{\"font\":{\"color\":\"#FFFFFF\"},\"showarrow\":false,\"text\":\"0.0\",\"x\":\"Type_of_Housing_Townhouse\",\"xref\":\"x\",\"y\":\"Marital_Status_Married\",\"yref\":\"y\"},{\"font\":{\"color\":\"#FFFFFF\"},\"showarrow\":false,\"text\":\"0.01\",\"x\":\"Primary_Mode_of_Transportation_Car\",\"xref\":\"x\",\"y\":\"Marital_Status_Married\",\"yref\":\"y\"},{\"font\":{\"color\":\"#FFFFFF\"},\"showarrow\":false,\"text\":\"-0.01\",\"x\":\"Primary_Mode_of_Transportation_Public transit\",\"xref\":\"x\",\"y\":\"Marital_Status_Married\",\"yref\":\"y\"},{\"font\":{\"color\":\"#FFFFFF\"},\"showarrow\":false,\"text\":\"-0.0\",\"x\":\"Primary_Mode_of_Transportation_Walking\",\"xref\":\"x\",\"y\":\"Marital_Status_Married\",\"yref\":\"y\"},{\"font\":{\"color\":\"#FFFFFF\"},\"showarrow\":false,\"text\":\"-0.01\",\"x\":\"Age\",\"xref\":\"x\",\"y\":\"Marital_Status_Single\",\"yref\":\"y\"},{\"font\":{\"color\":\"#FFFFFF\"},\"showarrow\":false,\"text\":\"0.0\",\"x\":\"Education_Level\",\"xref\":\"x\",\"y\":\"Marital_Status_Single\",\"yref\":\"y\"},{\"font\":{\"color\":\"#FFFFFF\"},\"showarrow\":false,\"text\":\"-0.01\",\"x\":\"Number_of_Dependents\",\"xref\":\"x\",\"y\":\"Marital_Status_Single\",\"yref\":\"y\"},{\"font\":{\"color\":\"#FFFFFF\"},\"showarrow\":false,\"text\":\"0.01\",\"x\":\"Location\",\"xref\":\"x\",\"y\":\"Marital_Status_Single\",\"yref\":\"y\"},{\"font\":{\"color\":\"#FFFFFF\"},\"showarrow\":false,\"text\":\"-0.01\",\"x\":\"Work_Experience\",\"xref\":\"x\",\"y\":\"Marital_Status_Single\",\"yref\":\"y\"},{\"font\":{\"color\":\"#FFFFFF\"},\"showarrow\":false,\"text\":\"-0.01\",\"x\":\"Household_Size\",\"xref\":\"x\",\"y\":\"Marital_Status_Single\",\"yref\":\"y\"},{\"font\":{\"color\":\"#FFFFFF\"},\"showarrow\":false,\"text\":\"0.0\",\"x\":\"Homeownership_Status\",\"xref\":\"x\",\"y\":\"Marital_Status_Single\",\"yref\":\"y\"},{\"font\":{\"color\":\"#FFFFFF\"},\"showarrow\":false,\"text\":\"0.0\",\"x\":\"Gender\",\"xref\":\"x\",\"y\":\"Marital_Status_Single\",\"yref\":\"y\"},{\"font\":{\"color\":\"#FFFFFF\"},\"showarrow\":false,\"text\":\"-0.01\",\"x\":\"Income\",\"xref\":\"x\",\"y\":\"Marital_Status_Single\",\"yref\":\"y\"},{\"font\":{\"color\":\"#FFFFFF\"},\"showarrow\":false,\"text\":\"0.0\",\"x\":\"Occupation_Finance\",\"xref\":\"x\",\"y\":\"Marital_Status_Single\",\"yref\":\"y\"},{\"font\":{\"color\":\"#FFFFFF\"},\"showarrow\":false,\"text\":\"0.0\",\"x\":\"Occupation_Healthcare\",\"xref\":\"x\",\"y\":\"Marital_Status_Single\",\"yref\":\"y\"},{\"font\":{\"color\":\"#FFFFFF\"},\"showarrow\":false,\"text\":\"0.0\",\"x\":\"Occupation_Others\",\"xref\":\"x\",\"y\":\"Marital_Status_Single\",\"yref\":\"y\"},{\"font\":{\"color\":\"#FFFFFF\"},\"showarrow\":false,\"text\":\"-0.02\",\"x\":\"Occupation_Technology\",\"xref\":\"x\",\"y\":\"Marital_Status_Single\",\"yref\":\"y\"},{\"font\":{\"color\":\"#FFFFFF\"},\"showarrow\":false,\"text\":\"-0.82\",\"x\":\"Marital_Status_Married\",\"xref\":\"x\",\"y\":\"Marital_Status_Single\",\"yref\":\"y\"},{\"font\":{\"color\":\"#000000\"},\"showarrow\":false,\"text\":\"1.0\",\"x\":\"Marital_Status_Single\",\"xref\":\"x\",\"y\":\"Marital_Status_Single\",\"yref\":\"y\"},{\"font\":{\"color\":\"#FFFFFF\"},\"showarrow\":false,\"text\":\"0.0\",\"x\":\"Employment_Status_Part-time\",\"xref\":\"x\",\"y\":\"Marital_Status_Single\",\"yref\":\"y\"},{\"font\":{\"color\":\"#FFFFFF\"},\"showarrow\":false,\"text\":\"-0.0\",\"x\":\"Employment_Status_Self-employed\",\"xref\":\"x\",\"y\":\"Marital_Status_Single\",\"yref\":\"y\"},{\"font\":{\"color\":\"#FFFFFF\"},\"showarrow\":false,\"text\":\"-0.0\",\"x\":\"Type_of_Housing_Single-family home\",\"xref\":\"x\",\"y\":\"Marital_Status_Single\",\"yref\":\"y\"},{\"font\":{\"color\":\"#FFFFFF\"},\"showarrow\":false,\"text\":\"0.01\",\"x\":\"Type_of_Housing_Townhouse\",\"xref\":\"x\",\"y\":\"Marital_Status_Single\",\"yref\":\"y\"},{\"font\":{\"color\":\"#FFFFFF\"},\"showarrow\":false,\"text\":\"-0.01\",\"x\":\"Primary_Mode_of_Transportation_Car\",\"xref\":\"x\",\"y\":\"Marital_Status_Single\",\"yref\":\"y\"},{\"font\":{\"color\":\"#FFFFFF\"},\"showarrow\":false,\"text\":\"0.01\",\"x\":\"Primary_Mode_of_Transportation_Public transit\",\"xref\":\"x\",\"y\":\"Marital_Status_Single\",\"yref\":\"y\"},{\"font\":{\"color\":\"#FFFFFF\"},\"showarrow\":false,\"text\":\"0.0\",\"x\":\"Primary_Mode_of_Transportation_Walking\",\"xref\":\"x\",\"y\":\"Marital_Status_Single\",\"yref\":\"y\"},{\"font\":{\"color\":\"#FFFFFF\"},\"showarrow\":false,\"text\":\"-0.01\",\"x\":\"Age\",\"xref\":\"x\",\"y\":\"Employment_Status_Part-time\",\"yref\":\"y\"},{\"font\":{\"color\":\"#FFFFFF\"},\"showarrow\":false,\"text\":\"-0.01\",\"x\":\"Education_Level\",\"xref\":\"x\",\"y\":\"Employment_Status_Part-time\",\"yref\":\"y\"},{\"font\":{\"color\":\"#FFFFFF\"},\"showarrow\":false,\"text\":\"-0.01\",\"x\":\"Number_of_Dependents\",\"xref\":\"x\",\"y\":\"Employment_Status_Part-time\",\"yref\":\"y\"},{\"font\":{\"color\":\"#FFFFFF\"},\"showarrow\":false,\"text\":\"0.0\",\"x\":\"Location\",\"xref\":\"x\",\"y\":\"Employment_Status_Part-time\",\"yref\":\"y\"},{\"font\":{\"color\":\"#FFFFFF\"},\"showarrow\":false,\"text\":\"0.01\",\"x\":\"Work_Experience\",\"xref\":\"x\",\"y\":\"Employment_Status_Part-time\",\"yref\":\"y\"},{\"font\":{\"color\":\"#FFFFFF\"},\"showarrow\":false,\"text\":\"-0.01\",\"x\":\"Household_Size\",\"xref\":\"x\",\"y\":\"Employment_Status_Part-time\",\"yref\":\"y\"},{\"font\":{\"color\":\"#FFFFFF\"},\"showarrow\":false,\"text\":\"-0.0\",\"x\":\"Homeownership_Status\",\"xref\":\"x\",\"y\":\"Employment_Status_Part-time\",\"yref\":\"y\"},{\"font\":{\"color\":\"#FFFFFF\"},\"showarrow\":false,\"text\":\"0.01\",\"x\":\"Gender\",\"xref\":\"x\",\"y\":\"Employment_Status_Part-time\",\"yref\":\"y\"},{\"font\":{\"color\":\"#FFFFFF\"},\"showarrow\":false,\"text\":\"0.03\",\"x\":\"Income\",\"xref\":\"x\",\"y\":\"Employment_Status_Part-time\",\"yref\":\"y\"},{\"font\":{\"color\":\"#FFFFFF\"},\"showarrow\":false,\"text\":\"-0.0\",\"x\":\"Occupation_Finance\",\"xref\":\"x\",\"y\":\"Employment_Status_Part-time\",\"yref\":\"y\"},{\"font\":{\"color\":\"#FFFFFF\"},\"showarrow\":false,\"text\":\"0.02\",\"x\":\"Occupation_Healthcare\",\"xref\":\"x\",\"y\":\"Employment_Status_Part-time\",\"yref\":\"y\"},{\"font\":{\"color\":\"#FFFFFF\"},\"showarrow\":false,\"text\":\"-0.01\",\"x\":\"Occupation_Others\",\"xref\":\"x\",\"y\":\"Employment_Status_Part-time\",\"yref\":\"y\"},{\"font\":{\"color\":\"#FFFFFF\"},\"showarrow\":false,\"text\":\"-0.02\",\"x\":\"Occupation_Technology\",\"xref\":\"x\",\"y\":\"Employment_Status_Part-time\",\"yref\":\"y\"},{\"font\":{\"color\":\"#FFFFFF\"},\"showarrow\":false,\"text\":\"0.0\",\"x\":\"Marital_Status_Married\",\"xref\":\"x\",\"y\":\"Employment_Status_Part-time\",\"yref\":\"y\"},{\"font\":{\"color\":\"#FFFFFF\"},\"showarrow\":false,\"text\":\"0.0\",\"x\":\"Marital_Status_Single\",\"xref\":\"x\",\"y\":\"Employment_Status_Part-time\",\"yref\":\"y\"},{\"font\":{\"color\":\"#000000\"},\"showarrow\":false,\"text\":\"1.0\",\"x\":\"Employment_Status_Part-time\",\"xref\":\"x\",\"y\":\"Employment_Status_Part-time\",\"yref\":\"y\"},{\"font\":{\"color\":\"#FFFFFF\"},\"showarrow\":false,\"text\":\"-0.33\",\"x\":\"Employment_Status_Self-employed\",\"xref\":\"x\",\"y\":\"Employment_Status_Part-time\",\"yref\":\"y\"},{\"font\":{\"color\":\"#FFFFFF\"},\"showarrow\":false,\"text\":\"0.02\",\"x\":\"Type_of_Housing_Single-family home\",\"xref\":\"x\",\"y\":\"Employment_Status_Part-time\",\"yref\":\"y\"},{\"font\":{\"color\":\"#FFFFFF\"},\"showarrow\":false,\"text\":\"0.02\",\"x\":\"Type_of_Housing_Townhouse\",\"xref\":\"x\",\"y\":\"Employment_Status_Part-time\",\"yref\":\"y\"},{\"font\":{\"color\":\"#FFFFFF\"},\"showarrow\":false,\"text\":\"-0.01\",\"x\":\"Primary_Mode_of_Transportation_Car\",\"xref\":\"x\",\"y\":\"Employment_Status_Part-time\",\"yref\":\"y\"},{\"font\":{\"color\":\"#FFFFFF\"},\"showarrow\":false,\"text\":\"-0.01\",\"x\":\"Primary_Mode_of_Transportation_Public transit\",\"xref\":\"x\",\"y\":\"Employment_Status_Part-time\",\"yref\":\"y\"},{\"font\":{\"color\":\"#FFFFFF\"},\"showarrow\":false,\"text\":\"0.0\",\"x\":\"Primary_Mode_of_Transportation_Walking\",\"xref\":\"x\",\"y\":\"Employment_Status_Part-time\",\"yref\":\"y\"},{\"font\":{\"color\":\"#FFFFFF\"},\"showarrow\":false,\"text\":\"-0.0\",\"x\":\"Age\",\"xref\":\"x\",\"y\":\"Employment_Status_Self-employed\",\"yref\":\"y\"},{\"font\":{\"color\":\"#FFFFFF\"},\"showarrow\":false,\"text\":\"-0.01\",\"x\":\"Education_Level\",\"xref\":\"x\",\"y\":\"Employment_Status_Self-employed\",\"yref\":\"y\"},{\"font\":{\"color\":\"#FFFFFF\"},\"showarrow\":false,\"text\":\"0.01\",\"x\":\"Number_of_Dependents\",\"xref\":\"x\",\"y\":\"Employment_Status_Self-employed\",\"yref\":\"y\"},{\"font\":{\"color\":\"#FFFFFF\"},\"showarrow\":false,\"text\":\"-0.01\",\"x\":\"Location\",\"xref\":\"x\",\"y\":\"Employment_Status_Self-employed\",\"yref\":\"y\"},{\"font\":{\"color\":\"#FFFFFF\"},\"showarrow\":false,\"text\":\"0.01\",\"x\":\"Work_Experience\",\"xref\":\"x\",\"y\":\"Employment_Status_Self-employed\",\"yref\":\"y\"},{\"font\":{\"color\":\"#FFFFFF\"},\"showarrow\":false,\"text\":\"0.01\",\"x\":\"Household_Size\",\"xref\":\"x\",\"y\":\"Employment_Status_Self-employed\",\"yref\":\"y\"},{\"font\":{\"color\":\"#FFFFFF\"},\"showarrow\":false,\"text\":\"0.01\",\"x\":\"Homeownership_Status\",\"xref\":\"x\",\"y\":\"Employment_Status_Self-employed\",\"yref\":\"y\"},{\"font\":{\"color\":\"#FFFFFF\"},\"showarrow\":false,\"text\":\"-0.01\",\"x\":\"Gender\",\"xref\":\"x\",\"y\":\"Employment_Status_Self-employed\",\"yref\":\"y\"},{\"font\":{\"color\":\"#FFFFFF\"},\"showarrow\":false,\"text\":\"-0.01\",\"x\":\"Income\",\"xref\":\"x\",\"y\":\"Employment_Status_Self-employed\",\"yref\":\"y\"},{\"font\":{\"color\":\"#FFFFFF\"},\"showarrow\":false,\"text\":\"0.0\",\"x\":\"Occupation_Finance\",\"xref\":\"x\",\"y\":\"Employment_Status_Self-employed\",\"yref\":\"y\"},{\"font\":{\"color\":\"#FFFFFF\"},\"showarrow\":false,\"text\":\"-0.02\",\"x\":\"Occupation_Healthcare\",\"xref\":\"x\",\"y\":\"Employment_Status_Self-employed\",\"yref\":\"y\"},{\"font\":{\"color\":\"#FFFFFF\"},\"showarrow\":false,\"text\":\"-0.0\",\"x\":\"Occupation_Others\",\"xref\":\"x\",\"y\":\"Employment_Status_Self-employed\",\"yref\":\"y\"},{\"font\":{\"color\":\"#FFFFFF\"},\"showarrow\":false,\"text\":\"0.02\",\"x\":\"Occupation_Technology\",\"xref\":\"x\",\"y\":\"Employment_Status_Self-employed\",\"yref\":\"y\"},{\"font\":{\"color\":\"#FFFFFF\"},\"showarrow\":false,\"text\":\"0.01\",\"x\":\"Marital_Status_Married\",\"xref\":\"x\",\"y\":\"Employment_Status_Self-employed\",\"yref\":\"y\"},{\"font\":{\"color\":\"#FFFFFF\"},\"showarrow\":false,\"text\":\"-0.0\",\"x\":\"Marital_Status_Single\",\"xref\":\"x\",\"y\":\"Employment_Status_Self-employed\",\"yref\":\"y\"},{\"font\":{\"color\":\"#FFFFFF\"},\"showarrow\":false,\"text\":\"-0.33\",\"x\":\"Employment_Status_Part-time\",\"xref\":\"x\",\"y\":\"Employment_Status_Self-employed\",\"yref\":\"y\"},{\"font\":{\"color\":\"#000000\"},\"showarrow\":false,\"text\":\"1.0\",\"x\":\"Employment_Status_Self-employed\",\"xref\":\"x\",\"y\":\"Employment_Status_Self-employed\",\"yref\":\"y\"},{\"font\":{\"color\":\"#FFFFFF\"},\"showarrow\":false,\"text\":\"0.01\",\"x\":\"Type_of_Housing_Single-family home\",\"xref\":\"x\",\"y\":\"Employment_Status_Self-employed\",\"yref\":\"y\"},{\"font\":{\"color\":\"#FFFFFF\"},\"showarrow\":false,\"text\":\"-0.01\",\"x\":\"Type_of_Housing_Townhouse\",\"xref\":\"x\",\"y\":\"Employment_Status_Self-employed\",\"yref\":\"y\"},{\"font\":{\"color\":\"#FFFFFF\"},\"showarrow\":false,\"text\":\"-0.0\",\"x\":\"Primary_Mode_of_Transportation_Car\",\"xref\":\"x\",\"y\":\"Employment_Status_Self-employed\",\"yref\":\"y\"},{\"font\":{\"color\":\"#FFFFFF\"},\"showarrow\":false,\"text\":\"0.01\",\"x\":\"Primary_Mode_of_Transportation_Public transit\",\"xref\":\"x\",\"y\":\"Employment_Status_Self-employed\",\"yref\":\"y\"},{\"font\":{\"color\":\"#FFFFFF\"},\"showarrow\":false,\"text\":\"0.0\",\"x\":\"Primary_Mode_of_Transportation_Walking\",\"xref\":\"x\",\"y\":\"Employment_Status_Self-employed\",\"yref\":\"y\"},{\"font\":{\"color\":\"#FFFFFF\"},\"showarrow\":false,\"text\":\"-0.01\",\"x\":\"Age\",\"xref\":\"x\",\"y\":\"Type_of_Housing_Single-family home\",\"yref\":\"y\"},{\"font\":{\"color\":\"#FFFFFF\"},\"showarrow\":false,\"text\":\"0.0\",\"x\":\"Education_Level\",\"xref\":\"x\",\"y\":\"Type_of_Housing_Single-family home\",\"yref\":\"y\"},{\"font\":{\"color\":\"#FFFFFF\"},\"showarrow\":false,\"text\":\"-0.0\",\"x\":\"Number_of_Dependents\",\"xref\":\"x\",\"y\":\"Type_of_Housing_Single-family home\",\"yref\":\"y\"},{\"font\":{\"color\":\"#FFFFFF\"},\"showarrow\":false,\"text\":\"-0.01\",\"x\":\"Location\",\"xref\":\"x\",\"y\":\"Type_of_Housing_Single-family home\",\"yref\":\"y\"},{\"font\":{\"color\":\"#FFFFFF\"},\"showarrow\":false,\"text\":\"-0.0\",\"x\":\"Work_Experience\",\"xref\":\"x\",\"y\":\"Type_of_Housing_Single-family home\",\"yref\":\"y\"},{\"font\":{\"color\":\"#FFFFFF\"},\"showarrow\":false,\"text\":\"-0.01\",\"x\":\"Household_Size\",\"xref\":\"x\",\"y\":\"Type_of_Housing_Single-family home\",\"yref\":\"y\"},{\"font\":{\"color\":\"#FFFFFF\"},\"showarrow\":false,\"text\":\"-0.0\",\"x\":\"Homeownership_Status\",\"xref\":\"x\",\"y\":\"Type_of_Housing_Single-family home\",\"yref\":\"y\"},{\"font\":{\"color\":\"#FFFFFF\"},\"showarrow\":false,\"text\":\"0.02\",\"x\":\"Gender\",\"xref\":\"x\",\"y\":\"Type_of_Housing_Single-family home\",\"yref\":\"y\"},{\"font\":{\"color\":\"#FFFFFF\"},\"showarrow\":false,\"text\":\"-0.01\",\"x\":\"Income\",\"xref\":\"x\",\"y\":\"Type_of_Housing_Single-family home\",\"yref\":\"y\"},{\"font\":{\"color\":\"#FFFFFF\"},\"showarrow\":false,\"text\":\"0.01\",\"x\":\"Occupation_Finance\",\"xref\":\"x\",\"y\":\"Type_of_Housing_Single-family home\",\"yref\":\"y\"},{\"font\":{\"color\":\"#FFFFFF\"},\"showarrow\":false,\"text\":\"-0.01\",\"x\":\"Occupation_Healthcare\",\"xref\":\"x\",\"y\":\"Type_of_Housing_Single-family home\",\"yref\":\"y\"},{\"font\":{\"color\":\"#FFFFFF\"},\"showarrow\":false,\"text\":\"-0.02\",\"x\":\"Occupation_Others\",\"xref\":\"x\",\"y\":\"Type_of_Housing_Single-family home\",\"yref\":\"y\"},{\"font\":{\"color\":\"#FFFFFF\"},\"showarrow\":false,\"text\":\"0.0\",\"x\":\"Occupation_Technology\",\"xref\":\"x\",\"y\":\"Type_of_Housing_Single-family home\",\"yref\":\"y\"},{\"font\":{\"color\":\"#FFFFFF\"},\"showarrow\":false,\"text\":\"-0.01\",\"x\":\"Marital_Status_Married\",\"xref\":\"x\",\"y\":\"Type_of_Housing_Single-family home\",\"yref\":\"y\"},{\"font\":{\"color\":\"#FFFFFF\"},\"showarrow\":false,\"text\":\"-0.0\",\"x\":\"Marital_Status_Single\",\"xref\":\"x\",\"y\":\"Type_of_Housing_Single-family home\",\"yref\":\"y\"},{\"font\":{\"color\":\"#FFFFFF\"},\"showarrow\":false,\"text\":\"0.02\",\"x\":\"Employment_Status_Part-time\",\"xref\":\"x\",\"y\":\"Type_of_Housing_Single-family home\",\"yref\":\"y\"},{\"font\":{\"color\":\"#FFFFFF\"},\"showarrow\":false,\"text\":\"0.01\",\"x\":\"Employment_Status_Self-employed\",\"xref\":\"x\",\"y\":\"Type_of_Housing_Single-family home\",\"yref\":\"y\"},{\"font\":{\"color\":\"#000000\"},\"showarrow\":false,\"text\":\"1.0\",\"x\":\"Type_of_Housing_Single-family home\",\"xref\":\"x\",\"y\":\"Type_of_Housing_Single-family home\",\"yref\":\"y\"},{\"font\":{\"color\":\"#FFFFFF\"},\"showarrow\":false,\"text\":\"-0.41\",\"x\":\"Type_of_Housing_Townhouse\",\"xref\":\"x\",\"y\":\"Type_of_Housing_Single-family home\",\"yref\":\"y\"},{\"font\":{\"color\":\"#FFFFFF\"},\"showarrow\":false,\"text\":\"-0.01\",\"x\":\"Primary_Mode_of_Transportation_Car\",\"xref\":\"x\",\"y\":\"Type_of_Housing_Single-family home\",\"yref\":\"y\"},{\"font\":{\"color\":\"#FFFFFF\"},\"showarrow\":false,\"text\":\"0.0\",\"x\":\"Primary_Mode_of_Transportation_Public transit\",\"xref\":\"x\",\"y\":\"Type_of_Housing_Single-family home\",\"yref\":\"y\"},{\"font\":{\"color\":\"#FFFFFF\"},\"showarrow\":false,\"text\":\"-0.01\",\"x\":\"Primary_Mode_of_Transportation_Walking\",\"xref\":\"x\",\"y\":\"Type_of_Housing_Single-family home\",\"yref\":\"y\"},{\"font\":{\"color\":\"#FFFFFF\"},\"showarrow\":false,\"text\":\"-0.0\",\"x\":\"Age\",\"xref\":\"x\",\"y\":\"Type_of_Housing_Townhouse\",\"yref\":\"y\"},{\"font\":{\"color\":\"#FFFFFF\"},\"showarrow\":false,\"text\":\"0.0\",\"x\":\"Education_Level\",\"xref\":\"x\",\"y\":\"Type_of_Housing_Townhouse\",\"yref\":\"y\"},{\"font\":{\"color\":\"#FFFFFF\"},\"showarrow\":false,\"text\":\"-0.01\",\"x\":\"Number_of_Dependents\",\"xref\":\"x\",\"y\":\"Type_of_Housing_Townhouse\",\"yref\":\"y\"},{\"font\":{\"color\":\"#FFFFFF\"},\"showarrow\":false,\"text\":\"0.01\",\"x\":\"Location\",\"xref\":\"x\",\"y\":\"Type_of_Housing_Townhouse\",\"yref\":\"y\"},{\"font\":{\"color\":\"#FFFFFF\"},\"showarrow\":false,\"text\":\"0.0\",\"x\":\"Work_Experience\",\"xref\":\"x\",\"y\":\"Type_of_Housing_Townhouse\",\"yref\":\"y\"},{\"font\":{\"color\":\"#FFFFFF\"},\"showarrow\":false,\"text\":\"0.01\",\"x\":\"Household_Size\",\"xref\":\"x\",\"y\":\"Type_of_Housing_Townhouse\",\"yref\":\"y\"},{\"font\":{\"color\":\"#FFFFFF\"},\"showarrow\":false,\"text\":\"-0.01\",\"x\":\"Homeownership_Status\",\"xref\":\"x\",\"y\":\"Type_of_Housing_Townhouse\",\"yref\":\"y\"},{\"font\":{\"color\":\"#FFFFFF\"},\"showarrow\":false,\"text\":\"-0.02\",\"x\":\"Gender\",\"xref\":\"x\",\"y\":\"Type_of_Housing_Townhouse\",\"yref\":\"y\"},{\"font\":{\"color\":\"#FFFFFF\"},\"showarrow\":false,\"text\":\"-0.02\",\"x\":\"Income\",\"xref\":\"x\",\"y\":\"Type_of_Housing_Townhouse\",\"yref\":\"y\"},{\"font\":{\"color\":\"#FFFFFF\"},\"showarrow\":false,\"text\":\"0.01\",\"x\":\"Occupation_Finance\",\"xref\":\"x\",\"y\":\"Type_of_Housing_Townhouse\",\"yref\":\"y\"},{\"font\":{\"color\":\"#FFFFFF\"},\"showarrow\":false,\"text\":\"-0.01\",\"x\":\"Occupation_Healthcare\",\"xref\":\"x\",\"y\":\"Type_of_Housing_Townhouse\",\"yref\":\"y\"},{\"font\":{\"color\":\"#FFFFFF\"},\"showarrow\":false,\"text\":\"0.01\",\"x\":\"Occupation_Others\",\"xref\":\"x\",\"y\":\"Type_of_Housing_Townhouse\",\"yref\":\"y\"},{\"font\":{\"color\":\"#FFFFFF\"},\"showarrow\":false,\"text\":\"0.01\",\"x\":\"Occupation_Technology\",\"xref\":\"x\",\"y\":\"Type_of_Housing_Townhouse\",\"yref\":\"y\"},{\"font\":{\"color\":\"#FFFFFF\"},\"showarrow\":false,\"text\":\"0.0\",\"x\":\"Marital_Status_Married\",\"xref\":\"x\",\"y\":\"Type_of_Housing_Townhouse\",\"yref\":\"y\"},{\"font\":{\"color\":\"#FFFFFF\"},\"showarrow\":false,\"text\":\"0.01\",\"x\":\"Marital_Status_Single\",\"xref\":\"x\",\"y\":\"Type_of_Housing_Townhouse\",\"yref\":\"y\"},{\"font\":{\"color\":\"#FFFFFF\"},\"showarrow\":false,\"text\":\"0.02\",\"x\":\"Employment_Status_Part-time\",\"xref\":\"x\",\"y\":\"Type_of_Housing_Townhouse\",\"yref\":\"y\"},{\"font\":{\"color\":\"#FFFFFF\"},\"showarrow\":false,\"text\":\"-0.01\",\"x\":\"Employment_Status_Self-employed\",\"xref\":\"x\",\"y\":\"Type_of_Housing_Townhouse\",\"yref\":\"y\"},{\"font\":{\"color\":\"#FFFFFF\"},\"showarrow\":false,\"text\":\"-0.41\",\"x\":\"Type_of_Housing_Single-family home\",\"xref\":\"x\",\"y\":\"Type_of_Housing_Townhouse\",\"yref\":\"y\"},{\"font\":{\"color\":\"#000000\"},\"showarrow\":false,\"text\":\"1.0\",\"x\":\"Type_of_Housing_Townhouse\",\"xref\":\"x\",\"y\":\"Type_of_Housing_Townhouse\",\"yref\":\"y\"},{\"font\":{\"color\":\"#FFFFFF\"},\"showarrow\":false,\"text\":\"0.01\",\"x\":\"Primary_Mode_of_Transportation_Car\",\"xref\":\"x\",\"y\":\"Type_of_Housing_Townhouse\",\"yref\":\"y\"},{\"font\":{\"color\":\"#FFFFFF\"},\"showarrow\":false,\"text\":\"0.01\",\"x\":\"Primary_Mode_of_Transportation_Public transit\",\"xref\":\"x\",\"y\":\"Type_of_Housing_Townhouse\",\"yref\":\"y\"},{\"font\":{\"color\":\"#FFFFFF\"},\"showarrow\":false,\"text\":\"0.0\",\"x\":\"Primary_Mode_of_Transportation_Walking\",\"xref\":\"x\",\"y\":\"Type_of_Housing_Townhouse\",\"yref\":\"y\"},{\"font\":{\"color\":\"#FFFFFF\"},\"showarrow\":false,\"text\":\"0.0\",\"x\":\"Age\",\"xref\":\"x\",\"y\":\"Primary_Mode_of_Transportation_Car\",\"yref\":\"y\"},{\"font\":{\"color\":\"#FFFFFF\"},\"showarrow\":false,\"text\":\"0.01\",\"x\":\"Education_Level\",\"xref\":\"x\",\"y\":\"Primary_Mode_of_Transportation_Car\",\"yref\":\"y\"},{\"font\":{\"color\":\"#FFFFFF\"},\"showarrow\":false,\"text\":\"-0.01\",\"x\":\"Number_of_Dependents\",\"xref\":\"x\",\"y\":\"Primary_Mode_of_Transportation_Car\",\"yref\":\"y\"},{\"font\":{\"color\":\"#FFFFFF\"},\"showarrow\":false,\"text\":\"0.01\",\"x\":\"Location\",\"xref\":\"x\",\"y\":\"Primary_Mode_of_Transportation_Car\",\"yref\":\"y\"},{\"font\":{\"color\":\"#FFFFFF\"},\"showarrow\":false,\"text\":\"-0.01\",\"x\":\"Work_Experience\",\"xref\":\"x\",\"y\":\"Primary_Mode_of_Transportation_Car\",\"yref\":\"y\"},{\"font\":{\"color\":\"#FFFFFF\"},\"showarrow\":false,\"text\":\"0.02\",\"x\":\"Household_Size\",\"xref\":\"x\",\"y\":\"Primary_Mode_of_Transportation_Car\",\"yref\":\"y\"},{\"font\":{\"color\":\"#FFFFFF\"},\"showarrow\":false,\"text\":\"0.01\",\"x\":\"Homeownership_Status\",\"xref\":\"x\",\"y\":\"Primary_Mode_of_Transportation_Car\",\"yref\":\"y\"},{\"font\":{\"color\":\"#FFFFFF\"},\"showarrow\":false,\"text\":\"-0.0\",\"x\":\"Gender\",\"xref\":\"x\",\"y\":\"Primary_Mode_of_Transportation_Car\",\"yref\":\"y\"},{\"font\":{\"color\":\"#FFFFFF\"},\"showarrow\":false,\"text\":\"-0.01\",\"x\":\"Income\",\"xref\":\"x\",\"y\":\"Primary_Mode_of_Transportation_Car\",\"yref\":\"y\"},{\"font\":{\"color\":\"#FFFFFF\"},\"showarrow\":false,\"text\":\"0.0\",\"x\":\"Occupation_Finance\",\"xref\":\"x\",\"y\":\"Primary_Mode_of_Transportation_Car\",\"yref\":\"y\"},{\"font\":{\"color\":\"#FFFFFF\"},\"showarrow\":false,\"text\":\"-0.01\",\"x\":\"Occupation_Healthcare\",\"xref\":\"x\",\"y\":\"Primary_Mode_of_Transportation_Car\",\"yref\":\"y\"},{\"font\":{\"color\":\"#FFFFFF\"},\"showarrow\":false,\"text\":\"0.01\",\"x\":\"Occupation_Others\",\"xref\":\"x\",\"y\":\"Primary_Mode_of_Transportation_Car\",\"yref\":\"y\"},{\"font\":{\"color\":\"#FFFFFF\"},\"showarrow\":false,\"text\":\"-0.0\",\"x\":\"Occupation_Technology\",\"xref\":\"x\",\"y\":\"Primary_Mode_of_Transportation_Car\",\"yref\":\"y\"},{\"font\":{\"color\":\"#FFFFFF\"},\"showarrow\":false,\"text\":\"0.01\",\"x\":\"Marital_Status_Married\",\"xref\":\"x\",\"y\":\"Primary_Mode_of_Transportation_Car\",\"yref\":\"y\"},{\"font\":{\"color\":\"#FFFFFF\"},\"showarrow\":false,\"text\":\"-0.01\",\"x\":\"Marital_Status_Single\",\"xref\":\"x\",\"y\":\"Primary_Mode_of_Transportation_Car\",\"yref\":\"y\"},{\"font\":{\"color\":\"#FFFFFF\"},\"showarrow\":false,\"text\":\"-0.01\",\"x\":\"Employment_Status_Part-time\",\"xref\":\"x\",\"y\":\"Primary_Mode_of_Transportation_Car\",\"yref\":\"y\"},{\"font\":{\"color\":\"#FFFFFF\"},\"showarrow\":false,\"text\":\"-0.0\",\"x\":\"Employment_Status_Self-employed\",\"xref\":\"x\",\"y\":\"Primary_Mode_of_Transportation_Car\",\"yref\":\"y\"},{\"font\":{\"color\":\"#FFFFFF\"},\"showarrow\":false,\"text\":\"-0.01\",\"x\":\"Type_of_Housing_Single-family home\",\"xref\":\"x\",\"y\":\"Primary_Mode_of_Transportation_Car\",\"yref\":\"y\"},{\"font\":{\"color\":\"#FFFFFF\"},\"showarrow\":false,\"text\":\"0.01\",\"x\":\"Type_of_Housing_Townhouse\",\"xref\":\"x\",\"y\":\"Primary_Mode_of_Transportation_Car\",\"yref\":\"y\"},{\"font\":{\"color\":\"#000000\"},\"showarrow\":false,\"text\":\"1.0\",\"x\":\"Primary_Mode_of_Transportation_Car\",\"xref\":\"x\",\"y\":\"Primary_Mode_of_Transportation_Car\",\"yref\":\"y\"},{\"font\":{\"color\":\"#FFFFFF\"},\"showarrow\":false,\"text\":\"-0.54\",\"x\":\"Primary_Mode_of_Transportation_Public transit\",\"xref\":\"x\",\"y\":\"Primary_Mode_of_Transportation_Car\",\"yref\":\"y\"},{\"font\":{\"color\":\"#FFFFFF\"},\"showarrow\":false,\"text\":\"-0.22\",\"x\":\"Primary_Mode_of_Transportation_Walking\",\"xref\":\"x\",\"y\":\"Primary_Mode_of_Transportation_Car\",\"yref\":\"y\"},{\"font\":{\"color\":\"#FFFFFF\"},\"showarrow\":false,\"text\":\"0.02\",\"x\":\"Age\",\"xref\":\"x\",\"y\":\"Primary_Mode_of_Transportation_Public transit\",\"yref\":\"y\"},{\"font\":{\"color\":\"#FFFFFF\"},\"showarrow\":false,\"text\":\"-0.01\",\"x\":\"Education_Level\",\"xref\":\"x\",\"y\":\"Primary_Mode_of_Transportation_Public transit\",\"yref\":\"y\"},{\"font\":{\"color\":\"#FFFFFF\"},\"showarrow\":false,\"text\":\"-0.0\",\"x\":\"Number_of_Dependents\",\"xref\":\"x\",\"y\":\"Primary_Mode_of_Transportation_Public transit\",\"yref\":\"y\"},{\"font\":{\"color\":\"#FFFFFF\"},\"showarrow\":false,\"text\":\"0.0\",\"x\":\"Location\",\"xref\":\"x\",\"y\":\"Primary_Mode_of_Transportation_Public transit\",\"yref\":\"y\"},{\"font\":{\"color\":\"#FFFFFF\"},\"showarrow\":false,\"text\":\"0.01\",\"x\":\"Work_Experience\",\"xref\":\"x\",\"y\":\"Primary_Mode_of_Transportation_Public transit\",\"yref\":\"y\"},{\"font\":{\"color\":\"#FFFFFF\"},\"showarrow\":false,\"text\":\"-0.0\",\"x\":\"Household_Size\",\"xref\":\"x\",\"y\":\"Primary_Mode_of_Transportation_Public transit\",\"yref\":\"y\"},{\"font\":{\"color\":\"#FFFFFF\"},\"showarrow\":false,\"text\":\"-0.01\",\"x\":\"Homeownership_Status\",\"xref\":\"x\",\"y\":\"Primary_Mode_of_Transportation_Public transit\",\"yref\":\"y\"},{\"font\":{\"color\":\"#FFFFFF\"},\"showarrow\":false,\"text\":\"-0.01\",\"x\":\"Gender\",\"xref\":\"x\",\"y\":\"Primary_Mode_of_Transportation_Public transit\",\"yref\":\"y\"},{\"font\":{\"color\":\"#FFFFFF\"},\"showarrow\":false,\"text\":\"0.0\",\"x\":\"Income\",\"xref\":\"x\",\"y\":\"Primary_Mode_of_Transportation_Public transit\",\"yref\":\"y\"},{\"font\":{\"color\":\"#FFFFFF\"},\"showarrow\":false,\"text\":\"0.0\",\"x\":\"Occupation_Finance\",\"xref\":\"x\",\"y\":\"Primary_Mode_of_Transportation_Public transit\",\"yref\":\"y\"},{\"font\":{\"color\":\"#FFFFFF\"},\"showarrow\":false,\"text\":\"-0.0\",\"x\":\"Occupation_Healthcare\",\"xref\":\"x\",\"y\":\"Primary_Mode_of_Transportation_Public transit\",\"yref\":\"y\"},{\"font\":{\"color\":\"#FFFFFF\"},\"showarrow\":false,\"text\":\"-0.0\",\"x\":\"Occupation_Others\",\"xref\":\"x\",\"y\":\"Primary_Mode_of_Transportation_Public transit\",\"yref\":\"y\"},{\"font\":{\"color\":\"#FFFFFF\"},\"showarrow\":false,\"text\":\"0.01\",\"x\":\"Occupation_Technology\",\"xref\":\"x\",\"y\":\"Primary_Mode_of_Transportation_Public transit\",\"yref\":\"y\"},{\"font\":{\"color\":\"#FFFFFF\"},\"showarrow\":false,\"text\":\"-0.01\",\"x\":\"Marital_Status_Married\",\"xref\":\"x\",\"y\":\"Primary_Mode_of_Transportation_Public transit\",\"yref\":\"y\"},{\"font\":{\"color\":\"#FFFFFF\"},\"showarrow\":false,\"text\":\"0.01\",\"x\":\"Marital_Status_Single\",\"xref\":\"x\",\"y\":\"Primary_Mode_of_Transportation_Public transit\",\"yref\":\"y\"},{\"font\":{\"color\":\"#FFFFFF\"},\"showarrow\":false,\"text\":\"-0.01\",\"x\":\"Employment_Status_Part-time\",\"xref\":\"x\",\"y\":\"Primary_Mode_of_Transportation_Public transit\",\"yref\":\"y\"},{\"font\":{\"color\":\"#FFFFFF\"},\"showarrow\":false,\"text\":\"0.01\",\"x\":\"Employment_Status_Self-employed\",\"xref\":\"x\",\"y\":\"Primary_Mode_of_Transportation_Public transit\",\"yref\":\"y\"},{\"font\":{\"color\":\"#FFFFFF\"},\"showarrow\":false,\"text\":\"0.0\",\"x\":\"Type_of_Housing_Single-family home\",\"xref\":\"x\",\"y\":\"Primary_Mode_of_Transportation_Public transit\",\"yref\":\"y\"},{\"font\":{\"color\":\"#FFFFFF\"},\"showarrow\":false,\"text\":\"0.01\",\"x\":\"Type_of_Housing_Townhouse\",\"xref\":\"x\",\"y\":\"Primary_Mode_of_Transportation_Public transit\",\"yref\":\"y\"},{\"font\":{\"color\":\"#FFFFFF\"},\"showarrow\":false,\"text\":\"-0.54\",\"x\":\"Primary_Mode_of_Transportation_Car\",\"xref\":\"x\",\"y\":\"Primary_Mode_of_Transportation_Public transit\",\"yref\":\"y\"},{\"font\":{\"color\":\"#000000\"},\"showarrow\":false,\"text\":\"1.0\",\"x\":\"Primary_Mode_of_Transportation_Public transit\",\"xref\":\"x\",\"y\":\"Primary_Mode_of_Transportation_Public transit\",\"yref\":\"y\"},{\"font\":{\"color\":\"#FFFFFF\"},\"showarrow\":false,\"text\":\"-0.28\",\"x\":\"Primary_Mode_of_Transportation_Walking\",\"xref\":\"x\",\"y\":\"Primary_Mode_of_Transportation_Public transit\",\"yref\":\"y\"},{\"font\":{\"color\":\"#FFFFFF\"},\"showarrow\":false,\"text\":\"-0.02\",\"x\":\"Age\",\"xref\":\"x\",\"y\":\"Primary_Mode_of_Transportation_Walking\",\"yref\":\"y\"},{\"font\":{\"color\":\"#FFFFFF\"},\"showarrow\":false,\"text\":\"0.01\",\"x\":\"Education_Level\",\"xref\":\"x\",\"y\":\"Primary_Mode_of_Transportation_Walking\",\"yref\":\"y\"},{\"font\":{\"color\":\"#FFFFFF\"},\"showarrow\":false,\"text\":\"0.02\",\"x\":\"Number_of_Dependents\",\"xref\":\"x\",\"y\":\"Primary_Mode_of_Transportation_Walking\",\"yref\":\"y\"},{\"font\":{\"color\":\"#FFFFFF\"},\"showarrow\":false,\"text\":\"-0.0\",\"x\":\"Location\",\"xref\":\"x\",\"y\":\"Primary_Mode_of_Transportation_Walking\",\"yref\":\"y\"},{\"font\":{\"color\":\"#FFFFFF\"},\"showarrow\":false,\"text\":\"-0.01\",\"x\":\"Work_Experience\",\"xref\":\"x\",\"y\":\"Primary_Mode_of_Transportation_Walking\",\"yref\":\"y\"},{\"font\":{\"color\":\"#FFFFFF\"},\"showarrow\":false,\"text\":\"-0.0\",\"x\":\"Household_Size\",\"xref\":\"x\",\"y\":\"Primary_Mode_of_Transportation_Walking\",\"yref\":\"y\"},{\"font\":{\"color\":\"#FFFFFF\"},\"showarrow\":false,\"text\":\"0.0\",\"x\":\"Homeownership_Status\",\"xref\":\"x\",\"y\":\"Primary_Mode_of_Transportation_Walking\",\"yref\":\"y\"},{\"font\":{\"color\":\"#FFFFFF\"},\"showarrow\":false,\"text\":\"0.01\",\"x\":\"Gender\",\"xref\":\"x\",\"y\":\"Primary_Mode_of_Transportation_Walking\",\"yref\":\"y\"},{\"font\":{\"color\":\"#FFFFFF\"},\"showarrow\":false,\"text\":\"0.0\",\"x\":\"Income\",\"xref\":\"x\",\"y\":\"Primary_Mode_of_Transportation_Walking\",\"yref\":\"y\"},{\"font\":{\"color\":\"#FFFFFF\"},\"showarrow\":false,\"text\":\"-0.0\",\"x\":\"Occupation_Finance\",\"xref\":\"x\",\"y\":\"Primary_Mode_of_Transportation_Walking\",\"yref\":\"y\"},{\"font\":{\"color\":\"#FFFFFF\"},\"showarrow\":false,\"text\":\"-0.01\",\"x\":\"Occupation_Healthcare\",\"xref\":\"x\",\"y\":\"Primary_Mode_of_Transportation_Walking\",\"yref\":\"y\"},{\"font\":{\"color\":\"#FFFFFF\"},\"showarrow\":false,\"text\":\"-0.01\",\"x\":\"Occupation_Others\",\"xref\":\"x\",\"y\":\"Primary_Mode_of_Transportation_Walking\",\"yref\":\"y\"},{\"font\":{\"color\":\"#FFFFFF\"},\"showarrow\":false,\"text\":\"0.02\",\"x\":\"Occupation_Technology\",\"xref\":\"x\",\"y\":\"Primary_Mode_of_Transportation_Walking\",\"yref\":\"y\"},{\"font\":{\"color\":\"#FFFFFF\"},\"showarrow\":false,\"text\":\"-0.0\",\"x\":\"Marital_Status_Married\",\"xref\":\"x\",\"y\":\"Primary_Mode_of_Transportation_Walking\",\"yref\":\"y\"},{\"font\":{\"color\":\"#FFFFFF\"},\"showarrow\":false,\"text\":\"0.0\",\"x\":\"Marital_Status_Single\",\"xref\":\"x\",\"y\":\"Primary_Mode_of_Transportation_Walking\",\"yref\":\"y\"},{\"font\":{\"color\":\"#FFFFFF\"},\"showarrow\":false,\"text\":\"0.0\",\"x\":\"Employment_Status_Part-time\",\"xref\":\"x\",\"y\":\"Primary_Mode_of_Transportation_Walking\",\"yref\":\"y\"},{\"font\":{\"color\":\"#FFFFFF\"},\"showarrow\":false,\"text\":\"0.0\",\"x\":\"Employment_Status_Self-employed\",\"xref\":\"x\",\"y\":\"Primary_Mode_of_Transportation_Walking\",\"yref\":\"y\"},{\"font\":{\"color\":\"#FFFFFF\"},\"showarrow\":false,\"text\":\"-0.01\",\"x\":\"Type_of_Housing_Single-family home\",\"xref\":\"x\",\"y\":\"Primary_Mode_of_Transportation_Walking\",\"yref\":\"y\"},{\"font\":{\"color\":\"#FFFFFF\"},\"showarrow\":false,\"text\":\"0.0\",\"x\":\"Type_of_Housing_Townhouse\",\"xref\":\"x\",\"y\":\"Primary_Mode_of_Transportation_Walking\",\"yref\":\"y\"},{\"font\":{\"color\":\"#FFFFFF\"},\"showarrow\":false,\"text\":\"-0.22\",\"x\":\"Primary_Mode_of_Transportation_Car\",\"xref\":\"x\",\"y\":\"Primary_Mode_of_Transportation_Walking\",\"yref\":\"y\"},{\"font\":{\"color\":\"#FFFFFF\"},\"showarrow\":false,\"text\":\"-0.28\",\"x\":\"Primary_Mode_of_Transportation_Public transit\",\"xref\":\"x\",\"y\":\"Primary_Mode_of_Transportation_Walking\",\"yref\":\"y\"},{\"font\":{\"color\":\"#000000\"},\"showarrow\":false,\"text\":\"1.0\",\"x\":\"Primary_Mode_of_Transportation_Walking\",\"xref\":\"x\",\"y\":\"Primary_Mode_of_Transportation_Walking\",\"yref\":\"y\"}],\"xaxis\":{\"dtick\":1,\"gridcolor\":\"rgb(0, 0, 0)\",\"side\":\"top\",\"ticks\":\"\"},\"yaxis\":{\"dtick\":1,\"ticks\":\"\",\"ticksuffix\":\"  \"},\"template\":{\"data\":{\"histogram2dcontour\":[{\"type\":\"histogram2dcontour\",\"colorbar\":{\"outlinewidth\":0,\"ticks\":\"\"},\"colorscale\":[[0.0,\"#0d0887\"],[0.1111111111111111,\"#46039f\"],[0.2222222222222222,\"#7201a8\"],[0.3333333333333333,\"#9c179e\"],[0.4444444444444444,\"#bd3786\"],[0.5555555555555556,\"#d8576b\"],[0.6666666666666666,\"#ed7953\"],[0.7777777777777778,\"#fb9f3a\"],[0.8888888888888888,\"#fdca26\"],[1.0,\"#f0f921\"]]}],\"choropleth\":[{\"type\":\"choropleth\",\"colorbar\":{\"outlinewidth\":0,\"ticks\":\"\"}}],\"histogram2d\":[{\"type\":\"histogram2d\",\"colorbar\":{\"outlinewidth\":0,\"ticks\":\"\"},\"colorscale\":[[0.0,\"#0d0887\"],[0.1111111111111111,\"#46039f\"],[0.2222222222222222,\"#7201a8\"],[0.3333333333333333,\"#9c179e\"],[0.4444444444444444,\"#bd3786\"],[0.5555555555555556,\"#d8576b\"],[0.6666666666666666,\"#ed7953\"],[0.7777777777777778,\"#fb9f3a\"],[0.8888888888888888,\"#fdca26\"],[1.0,\"#f0f921\"]]}],\"heatmap\":[{\"type\":\"heatmap\",\"colorbar\":{\"outlinewidth\":0,\"ticks\":\"\"},\"colorscale\":[[0.0,\"#0d0887\"],[0.1111111111111111,\"#46039f\"],[0.2222222222222222,\"#7201a8\"],[0.3333333333333333,\"#9c179e\"],[0.4444444444444444,\"#bd3786\"],[0.5555555555555556,\"#d8576b\"],[0.6666666666666666,\"#ed7953\"],[0.7777777777777778,\"#fb9f3a\"],[0.8888888888888888,\"#fdca26\"],[1.0,\"#f0f921\"]]}],\"heatmapgl\":[{\"type\":\"heatmapgl\",\"colorbar\":{\"outlinewidth\":0,\"ticks\":\"\"},\"colorscale\":[[0.0,\"#0d0887\"],[0.1111111111111111,\"#46039f\"],[0.2222222222222222,\"#7201a8\"],[0.3333333333333333,\"#9c179e\"],[0.4444444444444444,\"#bd3786\"],[0.5555555555555556,\"#d8576b\"],[0.6666666666666666,\"#ed7953\"],[0.7777777777777778,\"#fb9f3a\"],[0.8888888888888888,\"#fdca26\"],[1.0,\"#f0f921\"]]}],\"contourcarpet\":[{\"type\":\"contourcarpet\",\"colorbar\":{\"outlinewidth\":0,\"ticks\":\"\"}}],\"contour\":[{\"type\":\"contour\",\"colorbar\":{\"outlinewidth\":0,\"ticks\":\"\"},\"colorscale\":[[0.0,\"#0d0887\"],[0.1111111111111111,\"#46039f\"],[0.2222222222222222,\"#7201a8\"],[0.3333333333333333,\"#9c179e\"],[0.4444444444444444,\"#bd3786\"],[0.5555555555555556,\"#d8576b\"],[0.6666666666666666,\"#ed7953\"],[0.7777777777777778,\"#fb9f3a\"],[0.8888888888888888,\"#fdca26\"],[1.0,\"#f0f921\"]]}],\"surface\":[{\"type\":\"surface\",\"colorbar\":{\"outlinewidth\":0,\"ticks\":\"\"},\"colorscale\":[[0.0,\"#0d0887\"],[0.1111111111111111,\"#46039f\"],[0.2222222222222222,\"#7201a8\"],[0.3333333333333333,\"#9c179e\"],[0.4444444444444444,\"#bd3786\"],[0.5555555555555556,\"#d8576b\"],[0.6666666666666666,\"#ed7953\"],[0.7777777777777778,\"#fb9f3a\"],[0.8888888888888888,\"#fdca26\"],[1.0,\"#f0f921\"]]}],\"mesh3d\":[{\"type\":\"mesh3d\",\"colorbar\":{\"outlinewidth\":0,\"ticks\":\"\"}}],\"scatter\":[{\"fillpattern\":{\"fillmode\":\"overlay\",\"size\":10,\"solidity\":0.2},\"type\":\"scatter\"}],\"parcoords\":[{\"type\":\"parcoords\",\"line\":{\"colorbar\":{\"outlinewidth\":0,\"ticks\":\"\"}}}],\"scatterpolargl\":[{\"type\":\"scatterpolargl\",\"marker\":{\"colorbar\":{\"outlinewidth\":0,\"ticks\":\"\"}}}],\"bar\":[{\"error_x\":{\"color\":\"#2a3f5f\"},\"error_y\":{\"color\":\"#2a3f5f\"},\"marker\":{\"line\":{\"color\":\"#E5ECF6\",\"width\":0.5},\"pattern\":{\"fillmode\":\"overlay\",\"size\":10,\"solidity\":0.2}},\"type\":\"bar\"}],\"scattergeo\":[{\"type\":\"scattergeo\",\"marker\":{\"colorbar\":{\"outlinewidth\":0,\"ticks\":\"\"}}}],\"scatterpolar\":[{\"type\":\"scatterpolar\",\"marker\":{\"colorbar\":{\"outlinewidth\":0,\"ticks\":\"\"}}}],\"histogram\":[{\"marker\":{\"pattern\":{\"fillmode\":\"overlay\",\"size\":10,\"solidity\":0.2}},\"type\":\"histogram\"}],\"scattergl\":[{\"type\":\"scattergl\",\"marker\":{\"colorbar\":{\"outlinewidth\":0,\"ticks\":\"\"}}}],\"scatter3d\":[{\"type\":\"scatter3d\",\"line\":{\"colorbar\":{\"outlinewidth\":0,\"ticks\":\"\"}},\"marker\":{\"colorbar\":{\"outlinewidth\":0,\"ticks\":\"\"}}}],\"scattermapbox\":[{\"type\":\"scattermapbox\",\"marker\":{\"colorbar\":{\"outlinewidth\":0,\"ticks\":\"\"}}}],\"scatterternary\":[{\"type\":\"scatterternary\",\"marker\":{\"colorbar\":{\"outlinewidth\":0,\"ticks\":\"\"}}}],\"scattercarpet\":[{\"type\":\"scattercarpet\",\"marker\":{\"colorbar\":{\"outlinewidth\":0,\"ticks\":\"\"}}}],\"carpet\":[{\"aaxis\":{\"endlinecolor\":\"#2a3f5f\",\"gridcolor\":\"white\",\"linecolor\":\"white\",\"minorgridcolor\":\"white\",\"startlinecolor\":\"#2a3f5f\"},\"baxis\":{\"endlinecolor\":\"#2a3f5f\",\"gridcolor\":\"white\",\"linecolor\":\"white\",\"minorgridcolor\":\"white\",\"startlinecolor\":\"#2a3f5f\"},\"type\":\"carpet\"}],\"table\":[{\"cells\":{\"fill\":{\"color\":\"#EBF0F8\"},\"line\":{\"color\":\"white\"}},\"header\":{\"fill\":{\"color\":\"#C8D4E3\"},\"line\":{\"color\":\"white\"}},\"type\":\"table\"}],\"barpolar\":[{\"marker\":{\"line\":{\"color\":\"#E5ECF6\",\"width\":0.5},\"pattern\":{\"fillmode\":\"overlay\",\"size\":10,\"solidity\":0.2}},\"type\":\"barpolar\"}],\"pie\":[{\"automargin\":true,\"type\":\"pie\"}]},\"layout\":{\"autotypenumbers\":\"strict\",\"colorway\":[\"#636efa\",\"#EF553B\",\"#00cc96\",\"#ab63fa\",\"#FFA15A\",\"#19d3f3\",\"#FF6692\",\"#B6E880\",\"#FF97FF\",\"#FECB52\"],\"font\":{\"color\":\"#2a3f5f\"},\"hovermode\":\"closest\",\"hoverlabel\":{\"align\":\"left\"},\"paper_bgcolor\":\"white\",\"plot_bgcolor\":\"#E5ECF6\",\"polar\":{\"bgcolor\":\"#E5ECF6\",\"angularaxis\":{\"gridcolor\":\"white\",\"linecolor\":\"white\",\"ticks\":\"\"},\"radialaxis\":{\"gridcolor\":\"white\",\"linecolor\":\"white\",\"ticks\":\"\"}},\"ternary\":{\"bgcolor\":\"#E5ECF6\",\"aaxis\":{\"gridcolor\":\"white\",\"linecolor\":\"white\",\"ticks\":\"\"},\"baxis\":{\"gridcolor\":\"white\",\"linecolor\":\"white\",\"ticks\":\"\"},\"caxis\":{\"gridcolor\":\"white\",\"linecolor\":\"white\",\"ticks\":\"\"}},\"coloraxis\":{\"colorbar\":{\"outlinewidth\":0,\"ticks\":\"\"}},\"colorscale\":{\"sequential\":[[0.0,\"#0d0887\"],[0.1111111111111111,\"#46039f\"],[0.2222222222222222,\"#7201a8\"],[0.3333333333333333,\"#9c179e\"],[0.4444444444444444,\"#bd3786\"],[0.5555555555555556,\"#d8576b\"],[0.6666666666666666,\"#ed7953\"],[0.7777777777777778,\"#fb9f3a\"],[0.8888888888888888,\"#fdca26\"],[1.0,\"#f0f921\"]],\"sequentialminus\":[[0.0,\"#0d0887\"],[0.1111111111111111,\"#46039f\"],[0.2222222222222222,\"#7201a8\"],[0.3333333333333333,\"#9c179e\"],[0.4444444444444444,\"#bd3786\"],[0.5555555555555556,\"#d8576b\"],[0.6666666666666666,\"#ed7953\"],[0.7777777777777778,\"#fb9f3a\"],[0.8888888888888888,\"#fdca26\"],[1.0,\"#f0f921\"]],\"diverging\":[[0,\"#8e0152\"],[0.1,\"#c51b7d\"],[0.2,\"#de77ae\"],[0.3,\"#f1b6da\"],[0.4,\"#fde0ef\"],[0.5,\"#f7f7f7\"],[0.6,\"#e6f5d0\"],[0.7,\"#b8e186\"],[0.8,\"#7fbc41\"],[0.9,\"#4d9221\"],[1,\"#276419\"]]},\"xaxis\":{\"gridcolor\":\"white\",\"linecolor\":\"white\",\"ticks\":\"\",\"title\":{\"standoff\":15},\"zerolinecolor\":\"white\",\"automargin\":true,\"zerolinewidth\":2},\"yaxis\":{\"gridcolor\":\"white\",\"linecolor\":\"white\",\"ticks\":\"\",\"title\":{\"standoff\":15},\"zerolinecolor\":\"white\",\"automargin\":true,\"zerolinewidth\":2},\"scene\":{\"xaxis\":{\"backgroundcolor\":\"#E5ECF6\",\"gridcolor\":\"white\",\"linecolor\":\"white\",\"showbackground\":true,\"ticks\":\"\",\"zerolinecolor\":\"white\",\"gridwidth\":2},\"yaxis\":{\"backgroundcolor\":\"#E5ECF6\",\"gridcolor\":\"white\",\"linecolor\":\"white\",\"showbackground\":true,\"ticks\":\"\",\"zerolinecolor\":\"white\",\"gridwidth\":2},\"zaxis\":{\"backgroundcolor\":\"#E5ECF6\",\"gridcolor\":\"white\",\"linecolor\":\"white\",\"showbackground\":true,\"ticks\":\"\",\"zerolinecolor\":\"white\",\"gridwidth\":2}},\"shapedefaults\":{\"line\":{\"color\":\"#2a3f5f\"}},\"annotationdefaults\":{\"arrowcolor\":\"#2a3f5f\",\"arrowhead\":0,\"arrowwidth\":1},\"geo\":{\"bgcolor\":\"white\",\"landcolor\":\"#E5ECF6\",\"subunitcolor\":\"white\",\"showland\":true,\"showlakes\":true,\"lakecolor\":\"white\"},\"title\":{\"x\":0.05},\"mapbox\":{\"style\":\"light\"}}}},                        {\"responsive\": true}                    ).then(function(){\n",
              "                            \n",
              "var gd = document.getElementById('dd504c9f-70dd-455b-b4cc-0bf7294f03af');\n",
              "var x = new MutationObserver(function (mutations, observer) {{\n",
              "        var display = window.getComputedStyle(gd).display;\n",
              "        if (!display || display === 'none') {{\n",
              "            console.log([gd, 'removed!']);\n",
              "            Plotly.purge(gd);\n",
              "            observer.disconnect();\n",
              "        }}\n",
              "}});\n",
              "\n",
              "// Listen for the removal of the full notebook cells\n",
              "var notebookContainer = gd.closest('#notebook-container');\n",
              "if (notebookContainer) {{\n",
              "    x.observe(notebookContainer, {childList: true});\n",
              "}}\n",
              "\n",
              "// Listen for the clearing of the current output cell\n",
              "var outputEl = gd.closest('.output');\n",
              "if (outputEl) {{\n",
              "    x.observe(outputEl, {childList: true});\n",
              "}}\n",
              "\n",
              "                        })                };                            </script>        </div>\n",
              "</body>\n",
              "</html>"
            ]
          },
          "metadata": {}
        }
      ]
    },
    {
      "cell_type": "markdown",
      "source": [
        "**As there are no features that are highly correlated with others, we are not dropping any features using this heatmap observation**"
      ],
      "metadata": {
        "id": "vumwkrM0JAiA"
      }
    },
    {
      "cell_type": "markdown",
      "source": [
        "##Data Scaling"
      ],
      "metadata": {
        "id": "WUkzG0HhhLNV"
      }
    },
    {
      "cell_type": "code",
      "source": [
        "# Dividing dataset into label and feature sets\n",
        "X = data1.drop(['Income'], axis = 1) # Features\n",
        "Y = data1['Income'] # Labels\n",
        "print(X.shape)\n",
        "print(Y.shape)"
      ],
      "metadata": {
        "colab": {
          "base_uri": "https://localhost:8080/"
        },
        "id": "lHOWZ273JV8o",
        "outputId": "1a667d16-be9f-43e6-8d32-d7e349c8805b"
      },
      "execution_count": null,
      "outputs": [
        {
          "output_type": "stream",
          "name": "stdout",
          "text": [
            "(10000, 21)\n",
            "(10000,)\n"
          ]
        }
      ]
    },
    {
      "cell_type": "code",
      "source": [
        "# data Scaling\n",
        "x_scaled = StandardScaler().fit_transform(X)\n",
        "x_scaled_n= DataFrame(x_scaled,columns=X.columns) #adding column names in dataframe"
      ],
      "metadata": {
        "id": "tzksDoy6gFQ2"
      },
      "execution_count": null,
      "outputs": []
    },
    {
      "cell_type": "markdown",
      "source": [
        "##Feature Reduction using P values"
      ],
      "metadata": {
        "id": "zMIS5xkCix24"
      }
    },
    {
      "cell_type": "code",
      "source": [
        "import statsmodels.api as sm\n",
        "p_model=sm.add_constant(x_scaled_n)\n",
        "p_model2=sm.OLS(Y,p_model).fit()\n",
        "print(p_model2.summary())"
      ],
      "metadata": {
        "colab": {
          "base_uri": "https://localhost:8080/"
        },
        "id": "1MY5kiexmNaV",
        "outputId": "099f07a6-cb2f-4986-8c5e-1c4a3d7b4501"
      },
      "execution_count": null,
      "outputs": [
        {
          "output_type": "stream",
          "name": "stdout",
          "text": [
            "                            OLS Regression Results                            \n",
            "==============================================================================\n",
            "Dep. Variable:                 Income   R-squared:                       0.012\n",
            "Model:                            OLS   Adj. R-squared:                  0.010\n",
            "Method:                 Least Squares   F-statistic:                     5.717\n",
            "Date:                Thu, 24 Apr 2025   Prob (F-statistic):           9.00e-16\n",
            "Time:                        14:45:03   Log-Likelihood:            -1.5828e+05\n",
            "No. Observations:               10000   AIC:                         3.166e+05\n",
            "Df Residuals:                    9978   BIC:                         3.168e+05\n",
            "Df Model:                          21                                         \n",
            "Covariance Type:            nonrobust                                         \n",
            "=================================================================================================================\n",
            "                                                    coef    std err          t      P>|t|      [0.025      0.975]\n",
            "-----------------------------------------------------------------------------------------------------------------\n",
            "const                                          8.168e+05   1.81e+04     45.076      0.000    7.81e+05    8.52e+05\n",
            "Age                                            1.639e+04   1.81e+04      0.903      0.366   -1.92e+04    5.19e+04\n",
            "Education_Level                                -4.51e+04   1.81e+04     -2.487      0.013   -8.07e+04   -9549.699\n",
            "Number_of_Dependents                           2.123e+04   1.81e+04      1.170      0.242   -1.43e+04    5.68e+04\n",
            "Location                                      -1.006e+05   1.81e+04     -5.546      0.000   -1.36e+05    -6.5e+04\n",
            "Work_Experience                               -4.803e+04   1.81e+04     -2.647      0.008   -8.36e+04   -1.25e+04\n",
            "Household_Size                                -1.773e+04   1.81e+04     -0.977      0.328   -5.33e+04    1.78e+04\n",
            "Homeownership_Status                          -1.138e+05   1.81e+04     -6.272      0.000   -1.49e+05   -7.82e+04\n",
            "Gender                                         5146.6781   1.81e+04      0.284      0.777   -3.04e+04    4.07e+04\n",
            "Occupation_Finance                            -7.616e+04   2.37e+04     -3.219      0.001   -1.23e+05   -2.98e+04\n",
            "Occupation_Healthcare                         -5.893e+04   2.62e+04     -2.245      0.025    -1.1e+05   -7473.619\n",
            "Occupation_Others                             -3.115e+04   2.37e+04     -1.317      0.188   -7.75e+04    1.52e+04\n",
            "Occupation_Technology                         -3.439e+04   2.54e+04     -1.352      0.177   -8.43e+04    1.55e+04\n",
            "Marital_Status_Married                         3.325e+04   3.18e+04      1.045      0.296   -2.91e+04    9.56e+04\n",
            "Marital_Status_Single                          1.092e+04   3.18e+04      0.343      0.732   -5.15e+04    7.33e+04\n",
            "Employment_Status_Part-time                    5.883e+04   1.92e+04      3.065      0.002    2.12e+04    9.65e+04\n",
            "Employment_Status_Self-employed               -2955.9582   1.92e+04     -0.154      0.878   -4.06e+04    3.47e+04\n",
            "Type_of_Housing_Single-family home            -4.124e+04   1.98e+04     -2.078      0.038   -8.01e+04   -2331.229\n",
            "Type_of_Housing_Townhouse                     -4.961e+04   1.98e+04     -2.500      0.012   -8.85e+04   -1.07e+04\n",
            "Primary_Mode_of_Transportation_Car            -2.587e+04   2.42e+04     -1.069      0.285   -7.33e+04    2.16e+04\n",
            "Primary_Mode_of_Transportation_Public transit -1.068e+04   2.46e+04     -0.435      0.664   -5.89e+04    3.75e+04\n",
            "Primary_Mode_of_Transportation_Walking        -5805.1652   2.12e+04     -0.273      0.785   -4.74e+04    3.58e+04\n",
            "==============================================================================\n",
            "Omnibus:                     6063.730   Durbin-Watson:                   2.013\n",
            "Prob(Omnibus):                  0.000   Jarque-Bera (JB):            45628.375\n",
            "Skew:                           2.965   Prob(JB):                         0.00\n",
            "Kurtosis:                      11.622   Cond. No.                         3.20\n",
            "==============================================================================\n",
            "\n",
            "Notes:\n",
            "[1] Standard Errors assume that the covariance matrix of the errors is correctly specified.\n"
          ]
        }
      ]
    },
    {
      "cell_type": "code",
      "source": [
        "print(\"Best fit R-squared:\", p_model2.rsquared)\n",
        "print(\"Best fit Adjusted R-squared:\", p_model2.rsquared_adj)"
      ],
      "metadata": {
        "colab": {
          "base_uri": "https://localhost:8080/"
        },
        "id": "vhS7iTj2lbO9",
        "outputId": "f6c5b078-730c-471a-e9f6-ed4b2c53944f"
      },
      "execution_count": null,
      "outputs": [
        {
          "output_type": "stream",
          "name": "stdout",
          "text": [
            "Best fit R-squared: 0.011889027799449448\n",
            "Best fit Adjusted R-squared: 0.00980941961983317\n"
          ]
        }
      ]
    },
    {
      "cell_type": "markdown",
      "source": [
        "**The linear model explains only 1.2% of the variance in Income. So, the relationship could be nonlinear or the predictors could just be weak.**"
      ],
      "metadata": {
        "id": "ggU-ApwgFY-0"
      }
    },
    {
      "cell_type": "code",
      "source": [
        "import statsmodels.stats.diagnostic as smd\n",
        "import matplotlib.pyplot as plt\n",
        "import seaborn as sns\n",
        "from statsmodels.graphics.regressionplots import plot_ccpr_grid\n",
        "sns.residplot(x=p_model2.fittedvalues, y=p_model2.resid, lowess=True)\n",
        "plt.title(\"Residuals vs Fitted\")\n",
        "plt.xlabel(\"Fitted Values\")\n",
        "plt.ylabel(\"Residuals\")\n",
        "plt.show()"
      ],
      "metadata": {
        "colab": {
          "base_uri": "https://localhost:8080/",
          "height": 472
        },
        "id": "usk3g4bhERhF",
        "outputId": "9bdd20b9-48e2-4215-ef2c-b1cc2783c564"
      },
      "execution_count": null,
      "outputs": [
        {
          "output_type": "display_data",
          "data": {
            "text/plain": [
              "<Figure size 640x480 with 1 Axes>"
            ],
            "image/png": "[encoded data removed]"
          },
          "metadata": {}
        }
      ]
    },
    {
      "cell_type": "code",
      "source": [
        "p_values= p_model2.pvalues\n",
        "significant_features=p_values[p_values<=0.05]\n",
        "print(significant_features)"
      ],
      "metadata": {
        "colab": {
          "base_uri": "https://localhost:8080/"
        },
        "id": "hwo8auQXkNFX",
        "outputId": "09bf359e-648e-4995-d3fb-e8c26d542ddb"
      },
      "execution_count": null,
      "outputs": [
        {
          "output_type": "stream",
          "name": "stdout",
          "text": [
            "const                                 0.000000e+00\n",
            "Education_Level                       1.290769e-02\n",
            "Location                              2.991154e-08\n",
            "Work_Experience                       8.136469e-03\n",
            "Homeownership_Status                  3.711510e-10\n",
            "Occupation_Finance                    1.289802e-03\n",
            "Occupation_Healthcare                 2.479451e-02\n",
            "Employment_Status_Part-time           2.185803e-03\n",
            "Type_of_Housing_Single-family home    3.776621e-02\n",
            "Type_of_Housing_Townhouse             1.243928e-02\n",
            "dtype: float64\n"
          ]
        }
      ]
    },
    {
      "cell_type": "code",
      "source": [
        "x_adjusted = p_model[significant_features.index]\n",
        "x_adjusted.info()"
      ],
      "metadata": {
        "colab": {
          "base_uri": "https://localhost:8080/"
        },
        "id": "XtFtbU-So5Ah",
        "outputId": "ee79bc7b-623c-4b1a-977a-2d92df379e2f"
      },
      "execution_count": null,
      "outputs": [
        {
          "output_type": "stream",
          "name": "stdout",
          "text": [
            "<class 'pandas.core.frame.DataFrame'>\n",
            "RangeIndex: 10000 entries, 0 to 9999\n",
            "Data columns (total 10 columns):\n",
            " #   Column                              Non-Null Count  Dtype  \n",
            "---  ------                              --------------  -----  \n",
            " 0   const                               10000 non-null  float64\n",
            " 1   Education_Level                     10000 non-null  float64\n",
            " 2   Location                            10000 non-null  float64\n",
            " 3   Work_Experience                     10000 non-null  float64\n",
            " 4   Homeownership_Status                10000 non-null  float64\n",
            " 5   Occupation_Finance                  10000 non-null  float64\n",
            " 6   Occupation_Healthcare               10000 non-null  float64\n",
            " 7   Employment_Status_Part-time         10000 non-null  float64\n",
            " 8   Type_of_Housing_Single-family home  10000 non-null  float64\n",
            " 9   Type_of_Housing_Townhouse           10000 non-null  float64\n",
            "dtypes: float64(10)\n",
            "memory usage: 781.4 KB\n"
          ]
        }
      ]
    },
    {
      "cell_type": "markdown",
      "source": [
        "# Linear Regression (LR)"
      ],
      "metadata": {
        "id": "FdEzwRhMQz4H"
      }
    },
    {
      "cell_type": "code",
      "source": [
        "# Linear Regression (LR)\n",
        "LinearRegression1 = linear_model.SGDRegressor(random_state = 1, penalty = None) # building\n",
        "Hparameter1 = {'eta0': [.0001, .001, .01, .1, 1], 'max_iter':[10000, 20000, 30000, 40000]}\n",
        "grid_search1 = GridSearchCV(estimator=LinearRegression1, param_grid=Hparameter1, scoring='r2', cv=5)\n",
        "grid_search1.fit(x_adjusted,Y)\n",
        "\n",
        "best_parameters = grid_search1.best_params_\n",
        "print(\"Best parameters: \", best_parameters)\n",
        "best_result_LR = grid_search1.best_score_\n",
        "print(\"Best result: \", best_result_LR)\n",
        "best_model_LR = grid_search1.best_estimator_\n",
        "print(\"Intercept β0: \", best_model_LR.intercept_)\n",
        "print(DataFrame(zip(x_adjusted.columns, best_model_LR.coef_), columns=['Features','Coefficients']).sort_values(by=['Coefficients'],ascending=False))"
      ],
      "metadata": {
        "colab": {
          "base_uri": "https://localhost:8080/"
        },
        "id": "vzU4XQ9JQ2Uh",
        "outputId": "bf4ebc98-3058-438f-cad0-edeaf263dbce"
      },
      "execution_count": null,
      "outputs": [
        {
          "output_type": "stream",
          "name": "stdout",
          "text": [
            "Best parameters:  {'eta0': 0.001, 'max_iter': 10000}\n",
            "Best result:  0.008097903098723557\n",
            "Intercept β0:  [408206.13322903]\n",
            "                             Features   Coefficients\n",
            "0                               const  408206.133229\n",
            "7         Employment_Status_Part-time   60371.583460\n",
            "6               Occupation_Healthcare  -30903.215905\n",
            "8  Type_of_Housing_Single-family home  -38938.129261\n",
            "3                     Work_Experience  -45437.286479\n",
            "1                     Education_Level  -45567.115717\n",
            "9           Type_of_Housing_Townhouse  -51712.675082\n",
            "5                  Occupation_Finance  -56413.477160\n",
            "2                            Location -100830.495072\n",
            "4                Homeownership_Status -112541.899610\n"
          ]
        }
      ]
    },
    {
      "cell_type": "code",
      "source": [
        "# #  Regularization\n",
        "LinearRegression2 = linear_model.SGDRegressor(random_state = 1, penalty = 'elasticnet') # model building\n",
        "Hparameter2 = {'eta0': [.0001, .001, .01, .1, 1], 'max_iter':[10000, 20000, 30000, 40000],'alpha': [.001, .01, .1, 1,10, 100], 'l1_ratio': [0,0.25,0.5,0.75,1]}\n",
        "\n",
        "grid_search2 = GridSearchCV(estimator=LinearRegression2, param_grid=Hparameter2, scoring='r2', cv=5)\n",
        "grid_search2.fit(x_adjusted, Y)\n",
        "\n",
        "best_parameters_LR2 = grid_search2.best_params_\n",
        "print(\"Best parameters: \", best_parameters_LR2)\n",
        "best_result_LR2 = grid_search2.best_score_\n",
        "print(\"Best result: \", best_result_LR2)\n",
        "best_model_LR2 = grid_search2.best_estimator_\n",
        "print(\"Intercept β0: \", best_model_LR2.intercept_)\n",
        "print(DataFrame(zip(x_adjusted.columns, best_model_LR2.coef_), columns=['Features','Coefficients']).sort_values(by=['Coefficients'],ascending=False))"
      ],
      "metadata": {
        "colab": {
          "base_uri": "https://localhost:8080/"
        },
        "id": "iPxC1g38XHJD",
        "outputId": "8d6945db-1fc6-4df4-9682-7067b956babc"
      },
      "execution_count": null,
      "outputs": [
        {
          "output_type": "stream",
          "name": "stdout",
          "text": [
            "Best parameters:  {'alpha': 0.1, 'eta0': 0.0001, 'l1_ratio': 0.25, 'max_iter': 10000}\n",
            "Best result:  0.008181689259491077\n",
            "Intercept β0:  [461793.82656645]\n",
            "                             Features   Coefficients\n",
            "0                               const  342004.319065\n",
            "7         Employment_Status_Part-time   55596.979544\n",
            "6               Occupation_Healthcare  -26324.670733\n",
            "8  Type_of_Housing_Single-family home  -34646.064227\n",
            "1                     Education_Level  -41732.416017\n",
            "9           Type_of_Housing_Townhouse  -43548.602505\n",
            "3                     Work_Experience  -44336.585936\n",
            "5                  Occupation_Finance  -49310.933373\n",
            "2                            Location  -93241.840337\n",
            "4                Homeownership_Status -104886.435692\n"
          ]
        }
      ]
    },
    {
      "cell_type": "code",
      "source": [
        "#Modified mean square error\n",
        "r, c=x_adjusted.shape\n",
        "print(\"r, c:\", x_adjusted.shape)\n",
        "modified_r2_LR2 = 1-(1-best_result_LR2)*(4/5*r-1)/(4/5*r-c-1)# 4/5*r is number of rows in training set, c is number of columns\n",
        "print(\"modified_r2_LR2: \", modified_r2_LR2)"
      ],
      "metadata": {
        "colab": {
          "base_uri": "https://localhost:8080/"
        },
        "id": "CqUUsRSIg1xH",
        "outputId": "04e896d4-9d8a-45ed-95b8-8559e28eaf7b"
      },
      "execution_count": null,
      "outputs": [
        {
          "output_type": "stream",
          "name": "stdout",
          "text": [
            "r, c: (10000, 10)\n",
            "modified_r2_LR2:  0.006940209336170899\n"
          ]
        }
      ]
    },
    {
      "cell_type": "markdown",
      "source": [
        "# Random Forest Regression"
      ],
      "metadata": {
        "id": "1ZJqLFg2iNag"
      }
    },
    {
      "cell_type": "code",
      "source": [
        "from sklearn.ensemble import RandomForestRegressor\n",
        "from pandas import Series\n",
        "RF_Regressor1 = RandomForestRegressor(criterion='squared_error', max_features='sqrt', random_state=1)\n",
        "no_Trees = {'n_estimators': [200,300,1000,2000]}\n",
        "grid_search3 = GridSearchCV(estimator=RF_Regressor1, param_grid=no_Trees, scoring='r2', cv=5)\n",
        "grid_search3.fit(x_adjusted, Y)\n",
        "\n",
        "best_parameters_RFR = grid_search3.best_params_\n",
        "print(\"Best parameters RFR: \", best_parameters_RFR)\n",
        "best_result_RFR = grid_search3.best_score_\n",
        "print(\"best_score RFR: \", best_result_RFR)\n",
        "modified_r2_RFR = 1-(1-best_result_RFR)*(4/5*r-1)/(4/5*r-c-1)\n",
        "print(\"modified_r2 RFR: \", modified_r2_RFR)\n",
        "Important_feature = Series(grid_search3.best_estimator_.feature_importances_, index=list(x_adjusted)).sort_values(ascending=False) # Getting feature importances list for the best model\n",
        "print(Important_feature)"
      ],
      "metadata": {
        "colab": {
          "base_uri": "https://localhost:8080/"
        },
        "id": "7XjvmGIjilv2",
        "outputId": "e7ab82b5-93f0-41e8-a8e9-06573d56a751"
      },
      "execution_count": null,
      "outputs": [
        {
          "output_type": "stream",
          "name": "stdout",
          "text": [
            "Best parameters:  {'n_estimators': 2000}\n",
            "best_score:  -0.1325143336459611\n",
            "modified_r2:  -0.1339319257521645\n",
            "Work_Experience                       0.654615\n",
            "Education_Level                       0.109437\n",
            "Location                              0.052254\n",
            "Employment_Status_Part-time           0.034225\n",
            "Occupation_Healthcare                 0.032844\n",
            "Type_of_Housing_Single-family home    0.032658\n",
            "Type_of_Housing_Townhouse             0.029882\n",
            "Homeownership_Status                  0.028467\n",
            "Occupation_Finance                    0.025620\n",
            "const                                 0.000000\n",
            "dtype: float64\n"
          ]
        }
      ]
    },
    {
      "cell_type": "markdown",
      "source": [
        "#Support Vector Regression"
      ],
      "metadata": {
        "id": "HLq526c2lKW3"
      }
    },
    {
      "cell_type": "code",
      "source": [
        "from sklearn.svm import SVR\n",
        "SVRegressor = SVR()\n",
        "cv=10\n",
        "Hparameters4 = {'kernel': ['linear', 'poly', 'rbf', 'sigmoid'], 'C': [100,1000,10000], 'epsilon': [100,1000,10000]}\n",
        "grid_search4 = GridSearchCV(estimator=SVRegressor, param_grid=Hparameters4, scoring='r2')\n",
        "grid_search4.fit(x_adjusted, Y)\n",
        "\n",
        "best_parameters_SVR = grid_search4.best_params_\n",
        "print(\"Best parameters SVR: \", best_parameters_SVR)\n",
        "best_result_SVR = grid_search4.best_score_\n",
        "print(\"Best result SVR: \", best_result_SVR)\n",
        "r,c=x_adjusted.shape\n",
        "modified_r2_SVR = 1-(1-best_result_SVR)*((cv-1)/cv*r-1)/((cv-1)/cv*r-c-1)\n",
        "# 9/10*r is number of rows in training set, c is number of columns\n",
        "print(\"modified_r2 SVR: \", modified_r2_SVR)"
      ],
      "metadata": {
        "colab": {
          "base_uri": "https://localhost:8080/"
        },
        "id": "XEw9nC_dlPmi",
        "outputId": "eb10861a-f2d8-43a3-9c9d-a9a7e7306308"
      },
      "execution_count": null,
      "outputs": [
        {
          "output_type": "stream",
          "name": "stdout",
          "text": [
            "Best parameters SVR:  {'C': 10000, 'epsilon': 10000, 'kernel': 'rbf'}\n",
            "Best result SVR:  -0.1519236519690057\n",
            "modified_r2 SVR:  -0.15320513339293385\n"
          ]
        }
      ]
    }
  ],
  "metadata": {
    "colab": {
      "provenance": [],
      "include_colab_link": true
    },
    "kernelspec": {
      "display_name": "Python 3",
      "name": "python3"
    }
  },
  "nbformat": 4,
  "nbformat_minor": 0
}