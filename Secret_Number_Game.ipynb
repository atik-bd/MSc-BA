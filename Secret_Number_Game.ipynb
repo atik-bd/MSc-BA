{
  "nbformat": 4,
  "nbformat_minor": 0,
  "metadata": {
    "colab": {
      "provenance": [],
      "authorship_tag": "ABX9TyMCxaXjJlHRP9gUaxO0ubwT",
      "include_colab_link": true
    },
    "kernelspec": {
      "name": "python3",
      "display_name": "Python 3"
    },
    "language_info": {
      "name": "python"
    }
  },
  "cells": [
    {
      "cell_type": "markdown",
      "metadata": {
        "id": "view-in-github",
        "colab_type": "text"
      },
      "source": [
        "<a href=\"https://colab.research.google.com/github/atik-bd/MSc-BA/blob/main/Secret_Number_Game.ipynb\" target=\"_parent\"><img src=\"https://colab.research.google.com/assets/colab-badge.svg\" alt=\"Open In Colab\"/></a>"
      ]
    },
    {
      "cell_type": "code",
      "execution_count": null,
      "metadata": {
        "colab": {
          "base_uri": "https://localhost:8080/"
        },
        "id": "3sHzFRxtWWdi",
        "outputId": "58de8582-24ab-46c8-f245-ea2af86831b2"
      },
      "outputs": [
        {
          "output_type": "stream",
          "name": "stdout",
          "text": [
            "Guess a number between 1 and 20: 12\n",
            "Incorrect guess\n",
            "Guess a number between 1 and 20: 12\n",
            "Incorrect guess\n",
            "Guess a number between 1 and 20: 12\n",
            "Incorrect guess\n",
            "Guess a number between 1 and 20: 12\n",
            "Incorrect guess\n",
            "Guess a number between 1 and 20: 12\n",
            "Game over\n"
          ]
        }
      ],
      "source": [
        "Secret_Number= 13\n",
        "num_guess= 1\n",
        "user_guess= int(input(\"Guess a number between 1 and 20: \"))\n",
        "while user_guess != Secret_Number and num_guess < 5:\n",
        "  print(\"Incorrect guess\")\n",
        "  user_guess= int(input(\"Guess a number between 1 and 20: \"))\n",
        "  num_guess= num_guess+1\n",
        "if user_guess==Secret_Number:\n",
        "  print('Correct guess')\n",
        "else:\n",
        "  print('Game over')"
      ]
    }
  ]
}