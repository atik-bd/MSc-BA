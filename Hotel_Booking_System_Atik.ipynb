{
  "nbformat": 4,
  "nbformat_minor": 0,
  "metadata": {
    "colab": {
      "provenance": [],
      "authorship_tag": "ABX9TyPM6WOSlkkwrb60qPq3HETW",
      "include_colab_link": true
    },
    "kernelspec": {
      "name": "python3",
      "display_name": "Python 3"
    },
    "language_info": {
      "name": "python"
    }
  },
  "cells": [
    {
      "cell_type": "markdown",
      "metadata": {
        "id": "view-in-github",
        "colab_type": "text"
      },
      "source": [
        "<a href=\"https://colab.research.google.com/github/atik-bd/MSc-BA/blob/main/Hotel_Booking_System_Atik.ipynb\" target=\"_parent\"><img src=\"https://colab.research.google.com/assets/colab-badge.svg\" alt=\"Open In Colab\"/></a>"
      ]
    },
    {
      "cell_type": "code",
      "execution_count": null,
      "metadata": {
        "id": "Vb3wA4N88Zrm"
      },
      "outputs": [],
      "source": [
        "rooms={\n",
        "    1: {\"type\": \"Single\", \"price\": 100, \"booked\": False},\n",
        "    2: {\"type\": \"Double\", \"price\": 175, \"booked\": False},\n",
        "    3: {\"type\": \"Family\", \"price\": 350, \"booked\": False},\n",
        "    4: {\"type\": \"Ensuit\", \"price\": 500, \"booked\": False},\n",
        "    5: {\"type\": \"President\", \"price\": 1000, \"booked\": False},\n",
        "}\n",
        "\n",
        "def list_rooms():\n",
        "  print(\"Rooms Status:\")\n",
        "  for room_number, info in rooms.items():\n",
        "    status = \"Booked\" if info[\"booked\"] else \"Available\"\n",
        "    print(f\"Room {room_number}: {info['type']} - (${info['price']}) - {status}\")\n",
        "\n",
        "def book_room():\n",
        "  room_number = int(input(\"Enter the room number you want to book: \"))\n",
        "  if room_number in rooms:\n",
        "    if not rooms[room_number][\"booked\"]:\n",
        "      rooms[room_number][\"booked\"] = True\n",
        "      print(f\"Room {room_number} has been booked successfully.\")\n",
        "    else:\n",
        "      print(f\"Sorry, the room {room_number} is already booked.\")\n",
        "  else:\n",
        "    print(\"Invalid room number. Please try again.\")\n",
        "\n",
        "def check_out():\n",
        "  room_number = int(input(\"Enter the room number you want to check out: \"))\n",
        "  if room_number in rooms:\n",
        "    if rooms[room_number][\"booked\"]:\n",
        "      rooms[room_number][\"booked\"] = False\n",
        "      print(f\"Room {room_number} has been checked out successfully.\")\n",
        "    else:\n",
        "      print(f\"Sorry, the room {room_number} is already available.\")\n",
        "  else:\n",
        "    print(\"Invalid room number. Please try again.\")\n",
        "\n",
        "def main():\n",
        "  while True:\n",
        "    print(\"\\nHotel Management System\")\n",
        "    print(\"1. List Rooms\")\n",
        "    print(\"2. Book Room\")\n",
        "    print(\"3. Check Out\")\n",
        "    print(\"4. Exit\")\n",
        "    choice = input(\"Enter your choice (1-4): \")\n",
        "    if choice == \"1\":\n",
        "      list_rooms()\n",
        "    elif choice == \"2\":\n",
        "      book_room()\n",
        "    elif choice == \"3\":\n",
        "      check_out()\n",
        "    elif choice == \"4\":\n",
        "      print(\"Exiting the program. Goodbye!\")\n",
        "      break\n",
        "    else:\n",
        "      print(\"Invalid choice. Please try again.\")\n",
        "\n",
        "if __name__ == \"__main__\":\n",
        "  main()"
      ]
    }
  ]
}