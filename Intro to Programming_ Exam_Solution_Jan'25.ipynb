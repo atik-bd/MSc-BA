{
  "cells": [
    {
      "cell_type": "markdown",
      "metadata": {
        "id": "view-in-github",
        "colab_type": "text"
      },
      "source": [
        "<a href=\"https://colab.research.google.com/github/atik-bd/MSc-BA/blob/main/Intro%20to%20Programming_%20Exam_Solution_Jan'25.ipynb\" target=\"_parent\"><img src=\"https://colab.research.google.com/assets/colab-badge.svg\" alt=\"Open In Colab\"/></a>"
      ]
    },
    {
      "cell_type": "markdown",
      "metadata": {
        "id": "yXIrybOmOEQl"
      },
      "source": [
        "# Q1"
      ]
    },
    {
      "cell_type": "code",
      "execution_count": 66,
      "metadata": {
        "colab": {
          "base_uri": "https://localhost:8080/"
        },
        "id": "vGKipjeCNDq-",
        "outputId": "c1d7b537-9b36-48af-9eab-21e842abcc73"
      },
      "outputs": [
        {
          "output_type": "stream",
          "name": "stdout",
          "text": [
            "Input is numerical\n"
          ]
        }
      ],
      "source": [
        "'''a. Below is some code where the input is assumed to be a single numerical input,\n",
        " which is the number 3. What would the output of this code be when executed?'''\n",
        "def check_input_type(data):\n",
        "  try:\n",
        "    if isinstance(data, str):\n",
        "      if len(data) == 1:\n",
        "        print(\"Input is a character\")\n",
        "      else:\n",
        "        print(\"Input is a string\")\n",
        "    elif isinstance(data, (int, float)):\n",
        "       print(\"Input is numerical\")\n",
        "    else:\n",
        "       raise TypeError(\"Input must be a string, numerical, or character\")\n",
        "  except TypeError as e:\n",
        "    print(f\"Error: {e}\")\n",
        "# Fixed input\n",
        "input_data = 3\n",
        "# Call the function\n",
        "check_input_type(input_data)"
      ]
    },
    {
      "cell_type": "markdown",
      "metadata": {
        "id": "Gw0lNhT0Oir9"
      },
      "source": [
        "**b. Define for and while loops and give a use case where you would pick one over the other?**\n",
        "\n",
        "**For Loop:**\n",
        "A for loop is used when we know in advance how many times we want to execute a block of code. It loops over a sequence (like a list, a range of numbers, etc.).\n",
        "\n",
        "**While Loop:**\n",
        "A while loop keeps running as long as a certain condition is True. We use it when we don't know in advance how many times the loop should run — it depends on a dynamic condition.\n",
        "\n",
        "**When to pick one over the other?**\n",
        "\n",
        "We use a for loop when we know exactly how many times we want to loop (e.g., iterating through a list of items, processing a fixed number of files).\n",
        "\n",
        "We use a while loop when the number of iterations depends on something happening during the loop (e.g., waiting for a user to input a valid password, or retrying until a network connection is made)."
      ]
    },
    {
      "cell_type": "code",
      "execution_count": 67,
      "metadata": {
        "colab": {
          "base_uri": "https://localhost:8080/"
        },
        "id": "pqrXkp93O0Vw",
        "outputId": "9967f117-e98c-45da-f0b6-6669256f7d27"
      },
      "outputs": [
        {
          "output_type": "stream",
          "name": "stdout",
          "text": [
            "0\n",
            "1\n",
            "2\n",
            "3\n",
            "4\n"
          ]
        }
      ],
      "source": [
        "for i in range(5):\n",
        "    print(i)"
      ]
    },
    {
      "cell_type": "code",
      "execution_count": 68,
      "metadata": {
        "colab": {
          "base_uri": "https://localhost:8080/"
        },
        "id": "AU49ociHO-B9",
        "outputId": "c90ba51a-67ad-438d-85d8-68325498aed2"
      },
      "outputs": [
        {
          "output_type": "stream",
          "name": "stdout",
          "text": [
            "0\n",
            "1\n",
            "2\n",
            "3\n",
            "4\n"
          ]
        }
      ],
      "source": [
        "count = 0\n",
        "while count < 5:\n",
        "    print(count)\n",
        "    count += 1"
      ]
    },
    {
      "cell_type": "markdown",
      "metadata": {
        "id": "58v7FjyyRJNa"
      },
      "source": [
        "**C. Below is code that should produce a count equal to how many iterations have taken place. There is a mistake. What fix is needed to correct this?**\n",
        "\n",
        "Count starts at 0, and you increase it by 1 before printing —\n",
        "so at Iteration 0, count is already 1, which is off.\n",
        "You should print count before incrementing."
      ]
    },
    {
      "cell_type": "code",
      "execution_count": 69,
      "metadata": {
        "colab": {
          "base_uri": "https://localhost:8080/"
        },
        "id": "GqHrkaS6RL3a",
        "outputId": "2aca18e1-b0dd-451d-a3c5-ecf307db028a"
      },
      "outputs": [
        {
          "output_type": "stream",
          "name": "stdout",
          "text": [
            "Iteration: 0, Count: 1\n",
            "Iteration: 1, Count: 2\n",
            "Iteration: 2, Count: 3\n",
            "Iteration: 3, Count: 4\n",
            "Iteration: 4, Count: 5\n",
            "Iteration: 5, Count: 6\n"
          ]
        }
      ],
      "source": [
        "def count_iterations():\n",
        "  count = 0\n",
        "  target_count = 5\n",
        "  for i in range(target_count+1):\n",
        "   count += 1\n",
        "   print(f\"Iteration: {i}, Count: {count}\")\n",
        "count_iterations()"
      ]
    },
    {
      "cell_type": "code",
      "execution_count": 70,
      "metadata": {
        "colab": {
          "base_uri": "https://localhost:8080/"
        },
        "id": "c6MXaRs5UNZb",
        "outputId": "849acbd2-cb9e-4a39-a746-51516c2798bd"
      },
      "outputs": [
        {
          "output_type": "stream",
          "name": "stdout",
          "text": [
            "Iteration: 0, Count: 0\n",
            "Iteration: 1, Count: 1\n",
            "Iteration: 2, Count: 2\n",
            "Iteration: 3, Count: 3\n",
            "Iteration: 4, Count: 4\n",
            "Iteration: 5, Count: 5\n"
          ]
        }
      ],
      "source": [
        "# Solution\n",
        "def count_iterations():\n",
        "    count = 0\n",
        "    target_count = 5\n",
        "    for i in range(target_count + 1):\n",
        "        print(f\"Iteration: {i}, Count: {count}\")\n",
        "        count += 1\n",
        "count_iterations()"
      ]
    },
    {
      "cell_type": "markdown",
      "metadata": {
        "id": "-BVYrJLVZJKK"
      },
      "source": [
        "**D) What outputs are produced by the following code?**\n",
        "The error message \"SyntaxError: cannot assign to expression\" indicates that you are trying to assign a value to an expression, which is not allowed in Python. In the line product_result = x * z = 31.0, you are attempting to assign the value 31.0 to the expression x * z, which is invalid.\n",
        "\n",
        "The expression x * z is evaluated first, resulting in a value, and you can assign this value to a variable (like product_result), but you can't assign another value (31.0) to the expression itself.\n",
        "\n",
        "Essentially, you're trying to do two assignments in one line, which Python's syntax doesn't support. You need to separate these assignments into two distinct steps."
      ]
    },
    {
      "cell_type": "code",
      "execution_count": 71,
      "metadata": {
        "colab": {
          "base_uri": "https://localhost:8080/"
        },
        "id": "pNLWBqFwZLFx",
        "outputId": "479f918e-0050-43f1-99dd-d5dcf6aeb5f5"
      },
      "outputs": [
        {
          "output_type": "stream",
          "name": "stdout",
          "text": [
            "value of x : 21.0\n",
            "The product of x and z is: 31.0\n"
          ]
        }
      ],
      "source": [
        "# Assign values to variables\n",
        "x = 10\n",
        "y = 5.5\n",
        "z = 2\n",
        "# Perform calculations\n",
        "x = x + y\n",
        "product_result = x * z #= 31.0\n",
        "division_result = y / z\n",
        "x = x + y\n",
        "# Print two of the results\n",
        "print(\"value of x :\", x)\n",
        "print(\"The product of x and z is:\", product_result)"
      ]
    },
    {
      "cell_type": "markdown",
      "metadata": {
        "id": "Bamoc0qxdobO"
      },
      "source": [
        "**E) What happens when you try to run the following code and why?**\n",
        "   \n",
        "   result /= (i - i)\n",
        "   this line is redundant as it tries to divide by o, and it will return a ZeroDivisionError. We need to remove it"
      ]
    },
    {
      "cell_type": "code",
      "execution_count": 72,
      "metadata": {
        "colab": {
          "base_uri": "https://localhost:8080/"
        },
        "id": "fQDfcPe-dqZu",
        "outputId": "f54dd777-49c0-4227-84b8-18fe84c46191"
      },
      "outputs": [
        {
          "output_type": "stream",
          "name": "stdout",
          "text": [
            "The factorial of 6 is 720\n"
          ]
        }
      ],
      "source": [
        "def factorial(n):\n",
        "  if n < 0:\n",
        "   raise ValueError(\"Factorial is not defined for negative numbers.\")\n",
        "  else:\n",
        "   result = 1\n",
        "  for i in range(1, n + 1):\n",
        "   result *= i\n",
        "   #result /= (i - i)\n",
        "  return result\n",
        "# Calculate the factorial of 6\n",
        "number = 6\n",
        "result = factorial(number)\n",
        "print(f\"The factorial of {number} is {result}\")"
      ]
    },
    {
      "cell_type": "markdown",
      "metadata": {
        "id": "aN7MPUq0UNl5"
      },
      "source": [
        "\n",
        "**F) Identify what’s wrong in the following code and give corrected code.**\n",
        "The error message \"TypeError: unsupported operand type(s) for /: 'int' and 'str'\" indicates that the code is trying to perform division between an integer (minutes) and a string (\"60\"). This is not allowed in Python, as division is only defined for numerical types.\n",
        "\n",
        "The error is likely happening in the following line:\n",
        "\n",
        "result = minutes / \"60\""
      ]
    },
    {
      "cell_type": "code",
      "execution_count": 74,
      "metadata": {
        "colab": {
          "base_uri": "https://localhost:8080/"
        },
        "id": "lYOPWEM5V9B-",
        "outputId": "87c06e66-df3c-4a86-9900-a0b79238de57"
      },
      "outputs": [
        {
          "output_type": "stream",
          "name": "stdout",
          "text": [
            "Enter the number of seconds (between 1 and 1000): 999\n",
            "16 minutes and 39 seconds\n"
          ]
        }
      ],
      "source": [
        "def convert_to_minutes_seconds(seconds):\n",
        "  if not 1 <= seconds <= 1000:\n",
        "    raise ValueError(\"Seconds must be between 1 and 1000.\")\n",
        "  minutes = seconds // 60 # Calculate the number of minutes\n",
        "  remaining_seconds = seconds % 60 # Calculate the remaining seconds\n",
        "  #result = minutes / 60\n",
        "  return f\"{minutes} minutes and {remaining_seconds} seconds\"\n",
        "# Get input from the user\n",
        "seconds = int(input(\"Enter the number of seconds (between 1 and 1000): \"))\n",
        "time_str = convert_to_minutes_seconds(seconds)\n",
        "print(time_str)"
      ]
    },
    {
      "cell_type": "markdown",
      "metadata": {
        "id": "B7mm8Bd3WJHG"
      },
      "source": [
        "**G) For the following while statement how many times will an output message be printed any why?**\n",
        "\n",
        "Each time, the value is halved (rounded down).\n",
        "It keeps halving until it becomes 1 or less.\n",
        "The loop stops before printing when the value reaches 1."
      ]
    },
    {
      "cell_type": "code",
      "execution_count": 75,
      "metadata": {
        "colab": {
          "base_uri": "https://localhost:8080/"
        },
        "id": "CScTO5vJWNss",
        "outputId": "2c0ea90f-3422-4234-be86-68d46a47c1c8"
      },
      "outputs": [
        {
          "output_type": "stream",
          "name": "stdout",
          "text": [
            "Processing Record 100\n",
            "Processing Record 50\n",
            "Processing Record 25\n",
            "Processing Record 12\n",
            "Processing Record 6\n",
            "Processing Record 3\n"
          ]
        }
      ],
      "source": [
        "rowsToBeProcessed = 100\n",
        "while rowsToBeProcessed > 1:\n",
        " print(\"Processing Record\", rowsToBeProcessed)\n",
        " rowsToBeProcessed = rowsToBeProcessed // 2"
      ]
    },
    {
      "cell_type": "markdown",
      "metadata": {
        "id": "DumOqEHNXqwF"
      },
      "source": [
        "**H) What common interrupts can be used in python to escape a loop?**"
      ]
    },
    {
      "cell_type": "code",
      "execution_count": 76,
      "metadata": {
        "colab": {
          "base_uri": "https://localhost:8080/"
        },
        "id": "KSpM8rucZuXs",
        "outputId": "f24a1000-62e6-4005-c91b-16b60511dab7"
      },
      "outputs": [
        {
          "name": "stdout",
          "output_type": "stream",
          "text": [
            "Type 'exit' to stop: exit\n"
          ]
        }
      ],
      "source": [
        "\"\"\" 1. break\n",
        "Instantly stops the loop, even if the loop condition is still True.\n",
        "Typically used when a certain condition inside the loop is met.\"\"\"\n",
        "\n",
        "while True:\n",
        "    user_input = input(\"Type 'exit' to stop: \")\n",
        "    if user_input == 'exit':\n",
        "      break\n"
      ]
    },
    {
      "cell_type": "code",
      "execution_count": 77,
      "metadata": {
        "colab": {
          "base_uri": "https://localhost:8080/"
        },
        "id": "4tJ-plokXrf-",
        "outputId": "383fa254-1da1-47ea-ef5c-42124cd50aa8"
      },
      "outputs": [
        {
          "name": "stdout",
          "output_type": "stream",
          "text": [
            "Type 'exit' to stop: exit\n"
          ]
        }
      ],
      "source": [
        "\"\"\"2. return\n",
        "Exits the entire function immediately, not just the loop.\n",
        "return is used inside functions when we want to stop looping and return a value (or nothing).\"\"\"\n",
        "\n",
        "def xx():\n",
        "  while True:\n",
        "    user_input = input(\"Type 'exit' to stop: \")\n",
        "    if user_input == 'exit':\n",
        "      return\n",
        "xx()"
      ]
    },
    {
      "cell_type": "code",
      "execution_count": 78,
      "metadata": {
        "colab": {
          "base_uri": "https://localhost:8080/",
          "height": 245
        },
        "id": "TckwhWRYaYBD",
        "outputId": "206d6f90-6518-46bf-9f80-4f5074a0a7b7"
      },
      "outputs": [
        {
          "output_type": "stream",
          "name": "stdout",
          "text": [
            "0\n",
            "1\n",
            "2\n"
          ]
        },
        {
          "output_type": "error",
          "ename": "Exception",
          "evalue": "Something went wrong at 3!",
          "traceback": [
            "\u001b[0;31m---------------------------------------------------------------------------\u001b[0m",
            "\u001b[0;31mException\u001b[0m                                 Traceback (most recent call last)",
            "\u001b[0;32m<ipython-input-78-ea7f1f93b1a5>\u001b[0m in \u001b[0;36m<cell line: 0>\u001b[0;34m()\u001b[0m\n\u001b[1;32m      4\u001b[0m \u001b[0;32mfor\u001b[0m \u001b[0mi\u001b[0m \u001b[0;32min\u001b[0m \u001b[0mrange\u001b[0m\u001b[0;34m(\u001b[0m\u001b[0;36m5\u001b[0m\u001b[0;34m)\u001b[0m\u001b[0;34m:\u001b[0m\u001b[0;34m\u001b[0m\u001b[0;34m\u001b[0m\u001b[0m\n\u001b[1;32m      5\u001b[0m     \u001b[0;32mif\u001b[0m \u001b[0mi\u001b[0m \u001b[0;34m==\u001b[0m \u001b[0;36m3\u001b[0m\u001b[0;34m:\u001b[0m\u001b[0;34m\u001b[0m\u001b[0;34m\u001b[0m\u001b[0m\n\u001b[0;32m----> 6\u001b[0;31m         \u001b[0;32mraise\u001b[0m \u001b[0mException\u001b[0m\u001b[0;34m(\u001b[0m\u001b[0;34m\"Something went wrong at 3!\"\u001b[0m\u001b[0;34m)\u001b[0m\u001b[0;34m\u001b[0m\u001b[0;34m\u001b[0m\u001b[0m\n\u001b[0m\u001b[1;32m      7\u001b[0m     \u001b[0mprint\u001b[0m\u001b[0;34m(\u001b[0m\u001b[0mi\u001b[0m\u001b[0;34m)\u001b[0m\u001b[0;34m\u001b[0m\u001b[0;34m\u001b[0m\u001b[0m\n",
            "\u001b[0;31mException\u001b[0m: Something went wrong at 3!"
          ]
        }
      ],
      "source": [
        "\"\"\"3. raise (Exception)\n",
        "Throws an exception to stop the loop (and program) when something unexpected happens.\n",
        "Often used for serious errors where the loop should not continue.\"\"\"\n",
        "for i in range(5):\n",
        "    if i == 3:\n",
        "        raise Exception(\"Something went wrong at 3!\")\n",
        "    print(i)"
      ]
    },
    {
      "cell_type": "markdown",
      "metadata": {
        "id": "fZfeXEQudUV6"
      },
      "source": [
        "**I) What are the outputs of the following code?**"
      ]
    },
    {
      "cell_type": "code",
      "execution_count": 79,
      "metadata": {
        "colab": {
          "base_uri": "https://localhost:8080/"
        },
        "id": "CoSbKFN4dZN4",
        "outputId": "17013606-902d-4bf4-df22-6c8510ebd068"
      },
      "outputs": [
        {
          "output_type": "stream",
          "name": "stdout",
          "text": [
            "(15 > 10) or (5 > 10) = True\n",
            "5! = 120\n",
            "10 != 7 = True\n",
            "not (3 > 8) = True\n",
            "(3! > 10) or (2! < 3) = True\n",
            "not (5 != 5) = True\n"
          ]
        }
      ],
      "source": [
        "import math\n",
        "result1 = (15 > 10) or (5 > 10)\n",
        "print(f\"(15 > 10) or (5 > 10) = {result1}\")\n",
        "number = 5\n",
        "result2 = math.factorial(number)\n",
        "print(f\"5! = {result2}\")\n",
        "num1 = 10\n",
        "num2 = 7\n",
        "result3 = num1 != num2\n",
        "print(f\"10 != 7 = {result3}\")\n",
        "num1 = 3\n",
        "num2 = 8\n",
        "result4 = not (num1 > num2)\n",
        "print(f\"not (3 > 8) = {result4}\")\n",
        "result5 = (math.factorial(3) > 10) or (math.factorial(2) < 3)\n",
        "print(f\"(3! > 10) or (2! < 3) = {result5}\")\n",
        "num1 = 5\n",
        "num2 = 5\n",
        "result6 = not (num1 != num2)\n",
        "print(f\"not (5 != 5) = {result6}\")"
      ]
    },
    {
      "cell_type": "markdown",
      "metadata": {
        "id": "UIQb66skhDPX"
      },
      "source": [
        "**J) The following code runs successfully. What design flaw(s) would be exposed with different inputs?**\n",
        "\n",
        "The design flaw appears when the input list is empty! and This will cause a ZeroDivisionError. The function does not check if the list is empty before trying to divide by the length.\n",
        "\n",
        "If you pass an empty list, the program will crash."
      ]
    },
    {
      "cell_type": "code",
      "execution_count": 80,
      "metadata": {
        "colab": {
          "base_uri": "https://localhost:8080/"
        },
        "id": "2nvcIDslhEbG",
        "outputId": "bb0f00f4-bb07-45f1-e6d7-13514d5e8896"
      },
      "outputs": [
        {
          "output_type": "stream",
          "name": "stdout",
          "text": [
            "The average is: 3.0\n"
          ]
        }
      ],
      "source": [
        "def calculate_average(numbers):\n",
        " total = sum(numbers)\n",
        " return total / len(numbers)\n",
        "my_numbers = [1, 2, 3, 4, 5]\n",
        "average = calculate_average(my_numbers)\n",
        "print(f\"The average is: {average}\")"
      ]
    },
    {
      "cell_type": "code",
      "execution_count": 81,
      "metadata": {
        "colab": {
          "base_uri": "https://localhost:8080/"
        },
        "id": "9ClgHyini7Z2",
        "outputId": "b7e89752-3855-4a2f-f235-6a809239edee"
      },
      "outputs": [
        {
          "output_type": "stream",
          "name": "stdout",
          "text": [
            "The average is: 3.0\n"
          ]
        }
      ],
      "source": [
        "# Solution\n",
        "def calculate_average(numbers):\n",
        " if not numbers:\n",
        "  raise ZeroDivisionError(\"The list of numbers is empty!\")\n",
        " total = sum(numbers)\n",
        " return total / len(numbers)\n",
        "my_numbers = [1, 2, 3, 4, 5]\n",
        "average = calculate_average(my_numbers)\n",
        "print(f\"The average is: {average}\")"
      ]
    },
    {
      "cell_type": "markdown",
      "metadata": {
        "id": "uDFYmOKljXks"
      },
      "source": [
        "# Q2"
      ]
    },
    {
      "cell_type": "code",
      "execution_count": 82,
      "metadata": {
        "id": "rA0uKVs_jgLz",
        "colab": {
          "base_uri": "https://localhost:8080/"
        },
        "outputId": "79dc975f-c266-416e-8df8-a19ccf986574"
      },
      "outputs": [
        {
          "output_type": "stream",
          "name": "stdout",
          "text": [
            "   Car Brand       Name Price ($) Units Sold\n",
            "0     Toyota      Camry    25,000  1,200,000\n",
            "1      Honda      Civic    20,000  1,000,000\n",
            "2       Ford      F-150    30,000    800,000\n",
            "3  Chevrolet  Silverado    35,000    750,000\n",
            "4      Tesla    Model 3    45,000    600,000\n"
          ]
        }
      ],
      "source": [
        "# Write code to make the table below with pandas and data frames.\n",
        "from pandas import DataFrame\n",
        "table= {\n",
        "    'Car Brand':['Toyota', 'Honda', 'Ford','Chevrolet', 'Tesla'],\n",
        "    'Name': ['Camry','Civic','F-150', 'Silverado', 'Model 3'],\n",
        "    'Price ($)': ['25,000','20,000', '30,000', '35,000', '45,000'],\n",
        "    'Units Sold': ['1,200,000', '1,000,000', '800,000', '750,000', '600,000']\n",
        "}\n",
        "df=DataFrame(table)\n",
        "print(df)"
      ]
    },
    {
      "cell_type": "code",
      "execution_count": 83,
      "metadata": {
        "colab": {
          "base_uri": "https://localhost:8080/",
          "height": 206
        },
        "id": "o3s9Ltp7yooc",
        "outputId": "79ea1813-887a-4886-f535-b07bbacccff4"
      },
      "outputs": [
        {
          "output_type": "execute_result",
          "data": {
            "text/plain": [
              "   Car Brand       Name Price ($) Units Sold\n",
              "0     Toyota      Camry    25,000  1,200,000\n",
              "1      Honda      Civic    20,000  1,000,000\n",
              "2       Ford      F-150    30,000    800,000\n",
              "3  Chevrolet  Silverado    35,000    750,000\n",
              "4      Tesla    Model 3    45,000    700,000"
            ],
            "text/html": [
              "\n",
              "  <div id=\"df-6bd7618d-695f-4e87-9109-16ef82c3e342\" class=\"colab-df-container\">\n",
              "    <div>\n",
              "<style scoped>\n",
              "    .dataframe tbody tr th:only-of-type {\n",
              "        vertical-align: middle;\n",
              "    }\n",
              "\n",
              "    .dataframe tbody tr th {\n",
              "        vertical-align: top;\n",
              "    }\n",
              "\n",
              "    .dataframe thead th {\n",
              "        text-align: right;\n",
              "    }\n",
              "</style>\n",
              "<table border=\"1\" class=\"dataframe\">\n",
              "  <thead>\n",
              "    <tr style=\"text-align: right;\">\n",
              "      <th></th>\n",
              "      <th>Car Brand</th>\n",
              "      <th>Name</th>\n",
              "      <th>Price ($)</th>\n",
              "      <th>Units Sold</th>\n",
              "    </tr>\n",
              "  </thead>\n",
              "  <tbody>\n",
              "    <tr>\n",
              "      <th>0</th>\n",
              "      <td>Toyota</td>\n",
              "      <td>Camry</td>\n",
              "      <td>25,000</td>\n",
              "      <td>1,200,000</td>\n",
              "    </tr>\n",
              "    <tr>\n",
              "      <th>1</th>\n",
              "      <td>Honda</td>\n",
              "      <td>Civic</td>\n",
              "      <td>20,000</td>\n",
              "      <td>1,000,000</td>\n",
              "    </tr>\n",
              "    <tr>\n",
              "      <th>2</th>\n",
              "      <td>Ford</td>\n",
              "      <td>F-150</td>\n",
              "      <td>30,000</td>\n",
              "      <td>800,000</td>\n",
              "    </tr>\n",
              "    <tr>\n",
              "      <th>3</th>\n",
              "      <td>Chevrolet</td>\n",
              "      <td>Silverado</td>\n",
              "      <td>35,000</td>\n",
              "      <td>750,000</td>\n",
              "    </tr>\n",
              "    <tr>\n",
              "      <th>4</th>\n",
              "      <td>Tesla</td>\n",
              "      <td>Model 3</td>\n",
              "      <td>45,000</td>\n",
              "      <td>700,000</td>\n",
              "    </tr>\n",
              "  </tbody>\n",
              "</table>\n",
              "</div>\n",
              "    <div class=\"colab-df-buttons\">\n",
              "\n",
              "  <div class=\"colab-df-container\">\n",
              "    <button class=\"colab-df-convert\" onclick=\"convertToInteractive('df-6bd7618d-695f-4e87-9109-16ef82c3e342')\"\n",
              "            title=\"Convert this dataframe to an interactive table.\"\n",
              "            style=\"display:none;\">\n",
              "\n",
              "  <svg xmlns=\"http://www.w3.org/2000/svg\" height=\"24px\" viewBox=\"0 -960 960 960\">\n",
              "    <path d=\"M120-120v-720h720v720H120Zm60-500h600v-160H180v160Zm220 220h160v-160H400v160Zm0 220h160v-160H400v160ZM180-400h160v-160H180v160Zm440 0h160v-160H620v160ZM180-180h160v-160H180v160Zm440 0h160v-160H620v160Z\"/>\n",
              "  </svg>\n",
              "    </button>\n",
              "\n",
              "  <style>\n",
              "    .colab-df-container {\n",
              "      display:flex;\n",
              "      gap: 12px;\n",
              "    }\n",
              "\n",
              "    .colab-df-convert {\n",
              "      background-color: #E8F0FE;\n",
              "      border: none;\n",
              "      border-radius: 50%;\n",
              "      cursor: pointer;\n",
              "      display: none;\n",
              "      fill: #1967D2;\n",
              "      height: 32px;\n",
              "      padding: 0 0 0 0;\n",
              "      width: 32px;\n",
              "    }\n",
              "\n",
              "    .colab-df-convert:hover {\n",
              "      background-color: #E2EBFA;\n",
              "      box-shadow: 0px 1px 2px rgba(60, 64, 67, 0.3), 0px 1px 3px 1px rgba(60, 64, 67, 0.15);\n",
              "      fill: #174EA6;\n",
              "    }\n",
              "\n",
              "    .colab-df-buttons div {\n",
              "      margin-bottom: 4px;\n",
              "    }\n",
              "\n",
              "    [theme=dark] .colab-df-convert {\n",
              "      background-color: #3B4455;\n",
              "      fill: #D2E3FC;\n",
              "    }\n",
              "\n",
              "    [theme=dark] .colab-df-convert:hover {\n",
              "      background-color: #434B5C;\n",
              "      box-shadow: 0px 1px 3px 1px rgba(0, 0, 0, 0.15);\n",
              "      filter: drop-shadow(0px 1px 2px rgba(0, 0, 0, 0.3));\n",
              "      fill: #FFFFFF;\n",
              "    }\n",
              "  </style>\n",
              "\n",
              "    <script>\n",
              "      const buttonEl =\n",
              "        document.querySelector('#df-6bd7618d-695f-4e87-9109-16ef82c3e342 button.colab-df-convert');\n",
              "      buttonEl.style.display =\n",
              "        google.colab.kernel.accessAllowed ? 'block' : 'none';\n",
              "\n",
              "      async function convertToInteractive(key) {\n",
              "        const element = document.querySelector('#df-6bd7618d-695f-4e87-9109-16ef82c3e342');\n",
              "        const dataTable =\n",
              "          await google.colab.kernel.invokeFunction('convertToInteractive',\n",
              "                                                    [key], {});\n",
              "        if (!dataTable) return;\n",
              "\n",
              "        const docLinkHtml = 'Like what you see? Visit the ' +\n",
              "          '<a target=\"_blank\" href=https://colab.research.google.com/notebooks/data_table.ipynb>data table notebook</a>'\n",
              "          + ' to learn more about interactive tables.';\n",
              "        element.innerHTML = '';\n",
              "        dataTable['output_type'] = 'display_data';\n",
              "        await google.colab.output.renderOutput(dataTable, element);\n",
              "        const docLink = document.createElement('div');\n",
              "        docLink.innerHTML = docLinkHtml;\n",
              "        element.appendChild(docLink);\n",
              "      }\n",
              "    </script>\n",
              "  </div>\n",
              "\n",
              "\n",
              "    <div id=\"df-153462ff-f662-4a84-884f-bfbefb2a29d8\">\n",
              "      <button class=\"colab-df-quickchart\" onclick=\"quickchart('df-153462ff-f662-4a84-884f-bfbefb2a29d8')\"\n",
              "                title=\"Suggest charts\"\n",
              "                style=\"display:none;\">\n",
              "\n",
              "<svg xmlns=\"http://www.w3.org/2000/svg\" height=\"24px\"viewBox=\"0 0 24 24\"\n",
              "     width=\"24px\">\n",
              "    <g>\n",
              "        <path d=\"M19 3H5c-1.1 0-2 .9-2 2v14c0 1.1.9 2 2 2h14c1.1 0 2-.9 2-2V5c0-1.1-.9-2-2-2zM9 17H7v-7h2v7zm4 0h-2V7h2v10zm4 0h-2v-4h2v4z\"/>\n",
              "    </g>\n",
              "</svg>\n",
              "      </button>\n",
              "\n",
              "<style>\n",
              "  .colab-df-quickchart {\n",
              "      --bg-color: #E8F0FE;\n",
              "      --fill-color: #1967D2;\n",
              "      --hover-bg-color: #E2EBFA;\n",
              "      --hover-fill-color: #174EA6;\n",
              "      --disabled-fill-color: #AAA;\n",
              "      --disabled-bg-color: #DDD;\n",
              "  }\n",
              "\n",
              "  [theme=dark] .colab-df-quickchart {\n",
              "      --bg-color: #3B4455;\n",
              "      --fill-color: #D2E3FC;\n",
              "      --hover-bg-color: #434B5C;\n",
              "      --hover-fill-color: #FFFFFF;\n",
              "      --disabled-bg-color: #3B4455;\n",
              "      --disabled-fill-color: #666;\n",
              "  }\n",
              "\n",
              "  .colab-df-quickchart {\n",
              "    background-color: var(--bg-color);\n",
              "    border: none;\n",
              "    border-radius: 50%;\n",
              "    cursor: pointer;\n",
              "    display: none;\n",
              "    fill: var(--fill-color);\n",
              "    height: 32px;\n",
              "    padding: 0;\n",
              "    width: 32px;\n",
              "  }\n",
              "\n",
              "  .colab-df-quickchart:hover {\n",
              "    background-color: var(--hover-bg-color);\n",
              "    box-shadow: 0 1px 2px rgba(60, 64, 67, 0.3), 0 1px 3px 1px rgba(60, 64, 67, 0.15);\n",
              "    fill: var(--button-hover-fill-color);\n",
              "  }\n",
              "\n",
              "  .colab-df-quickchart-complete:disabled,\n",
              "  .colab-df-quickchart-complete:disabled:hover {\n",
              "    background-color: var(--disabled-bg-color);\n",
              "    fill: var(--disabled-fill-color);\n",
              "    box-shadow: none;\n",
              "  }\n",
              "\n",
              "  .colab-df-spinner {\n",
              "    border: 2px solid var(--fill-color);\n",
              "    border-color: transparent;\n",
              "    border-bottom-color: var(--fill-color);\n",
              "    animation:\n",
              "      spin 1s steps(1) infinite;\n",
              "  }\n",
              "\n",
              "  @keyframes spin {\n",
              "    0% {\n",
              "      border-color: transparent;\n",
              "      border-bottom-color: var(--fill-color);\n",
              "      border-left-color: var(--fill-color);\n",
              "    }\n",
              "    20% {\n",
              "      border-color: transparent;\n",
              "      border-left-color: var(--fill-color);\n",
              "      border-top-color: var(--fill-color);\n",
              "    }\n",
              "    30% {\n",
              "      border-color: transparent;\n",
              "      border-left-color: var(--fill-color);\n",
              "      border-top-color: var(--fill-color);\n",
              "      border-right-color: var(--fill-color);\n",
              "    }\n",
              "    40% {\n",
              "      border-color: transparent;\n",
              "      border-right-color: var(--fill-color);\n",
              "      border-top-color: var(--fill-color);\n",
              "    }\n",
              "    60% {\n",
              "      border-color: transparent;\n",
              "      border-right-color: var(--fill-color);\n",
              "    }\n",
              "    80% {\n",
              "      border-color: transparent;\n",
              "      border-right-color: var(--fill-color);\n",
              "      border-bottom-color: var(--fill-color);\n",
              "    }\n",
              "    90% {\n",
              "      border-color: transparent;\n",
              "      border-bottom-color: var(--fill-color);\n",
              "    }\n",
              "  }\n",
              "</style>\n",
              "\n",
              "      <script>\n",
              "        async function quickchart(key) {\n",
              "          const quickchartButtonEl =\n",
              "            document.querySelector('#' + key + ' button');\n",
              "          quickchartButtonEl.disabled = true;  // To prevent multiple clicks.\n",
              "          quickchartButtonEl.classList.add('colab-df-spinner');\n",
              "          try {\n",
              "            const charts = await google.colab.kernel.invokeFunction(\n",
              "                'suggestCharts', [key], {});\n",
              "          } catch (error) {\n",
              "            console.error('Error during call to suggestCharts:', error);\n",
              "          }\n",
              "          quickchartButtonEl.classList.remove('colab-df-spinner');\n",
              "          quickchartButtonEl.classList.add('colab-df-quickchart-complete');\n",
              "        }\n",
              "        (() => {\n",
              "          let quickchartButtonEl =\n",
              "            document.querySelector('#df-153462ff-f662-4a84-884f-bfbefb2a29d8 button');\n",
              "          quickchartButtonEl.style.display =\n",
              "            google.colab.kernel.accessAllowed ? 'block' : 'none';\n",
              "        })();\n",
              "      </script>\n",
              "    </div>\n",
              "\n",
              "    </div>\n",
              "  </div>\n"
            ],
            "application/vnd.google.colaboratory.intrinsic+json": {
              "type": "dataframe",
              "summary": "{\n  \"name\": \"DataFrame(df)\",\n  \"rows\": 5,\n  \"fields\": [\n    {\n      \"column\": \"Car Brand\",\n      \"properties\": {\n        \"dtype\": \"string\",\n        \"num_unique_values\": 5,\n        \"samples\": [\n          \"Honda\",\n          \"Tesla\",\n          \"Ford\"\n        ],\n        \"semantic_type\": \"\",\n        \"description\": \"\"\n      }\n    },\n    {\n      \"column\": \"Name\",\n      \"properties\": {\n        \"dtype\": \"string\",\n        \"num_unique_values\": 5,\n        \"samples\": [\n          \"Civic\",\n          \"Model 3\",\n          \"F-150\"\n        ],\n        \"semantic_type\": \"\",\n        \"description\": \"\"\n      }\n    },\n    {\n      \"column\": \"Price ($)\",\n      \"properties\": {\n        \"dtype\": \"string\",\n        \"num_unique_values\": 5,\n        \"samples\": [\n          \"20,000\",\n          \"45,000\",\n          \"30,000\"\n        ],\n        \"semantic_type\": \"\",\n        \"description\": \"\"\n      }\n    },\n    {\n      \"column\": \"Units Sold\",\n      \"properties\": {\n        \"dtype\": \"string\",\n        \"num_unique_values\": 5,\n        \"samples\": [\n          \"1,000,000\",\n          \"700,000\",\n          \"800,000\"\n        ],\n        \"semantic_type\": \"\",\n        \"description\": \"\"\n      }\n    }\n  ]\n}"
            }
          },
          "metadata": {},
          "execution_count": 83
        }
      ],
      "source": [
        "'''Once you have that table write code to select the tesla row and edit\n",
        "the units sold to 700,000.'''\n",
        "#df=df.drop('Tesla', axis=0) delete a column\n",
        "#df=df.drop('Name', axis=1) delete a column\n",
        "#df.loc[]=value\n",
        "df.loc[df['Car Brand'] == 'Tesla','Units Sold']='700,000'\n",
        "DataFrame(df)"
      ]
    },
    {
      "cell_type": "code",
      "source": [
        "#Another column should be added to calculate the profit which should be units sold multiplied by price.\n",
        "df['Profit']=df['Price ($)'].str.replace(',','').astype(int)*df['Units Sold'].str.replace(',','').astype(int)\n",
        "#df=df.drop('profit', axis=1) delete a column\n",
        "print(df)"
      ],
      "metadata": {
        "colab": {
          "base_uri": "https://localhost:8080/"
        },
        "id": "XOPzLMJhco-r",
        "outputId": "e879c788-4ddd-433b-8c85-7e90bf861873"
      },
      "execution_count": 84,
      "outputs": [
        {
          "output_type": "stream",
          "name": "stdout",
          "text": [
            "   Car Brand       Name Price ($) Units Sold       Profit\n",
            "0     Toyota      Camry    25,000  1,200,000  30000000000\n",
            "1      Honda      Civic    20,000  1,000,000  20000000000\n",
            "2       Ford      F-150    30,000    800,000  24000000000\n",
            "3  Chevrolet  Silverado    35,000    750,000  26250000000\n",
            "4      Tesla    Model 3    45,000    700,000  31500000000\n"
          ]
        }
      ]
    },
    {
      "cell_type": "markdown",
      "source": [
        "# Q3"
      ],
      "metadata": {
        "id": "7I9zu7_pdhUo"
      }
    },
    {
      "cell_type": "code",
      "source": [
        "#Write code to make the table below using data frames and pandas\n",
        "from pandas import DataFrame\n",
        "table3={\n",
        "    'City':['London','Paris','New York', 'Tokyo','Sydney'],\n",
        "    'Precipitation (mm)': [2.5, 0,5,10,0],\n",
        "    'Wind Speed (km/h)': [15,10,20,5,25]\n",
        "}\n",
        "df3=DataFrame(table3)\n",
        "print(df3)"
      ],
      "metadata": {
        "colab": {
          "base_uri": "https://localhost:8080/"
        },
        "id": "f1yMkT_8difJ",
        "outputId": "4eadf890-4102-45ec-82e6-2d1673a40fac"
      },
      "execution_count": 85,
      "outputs": [
        {
          "output_type": "stream",
          "name": "stdout",
          "text": [
            "       City  Precipitation (mm)  Wind Speed (km/h)\n",
            "0    London                 2.5                 15\n",
            "1     Paris                 0.0                 10\n",
            "2  New York                 5.0                 20\n",
            "3     Tokyo                10.0                  5\n",
            "4    Sydney                 0.0                 25\n"
          ]
        }
      ]
    },
    {
      "cell_type": "code",
      "source": [
        "#Make the code prompt the user for a city and start by printing that row and continuing to print each subsequent row.\n",
        "city_name=input('Please enter a city name: ')\n",
        "start_index=df3[df3['City']==city_name].index[0]\n",
        "# print(df3.loc[:start_index]) before\n",
        "print(df3.loc[start_index:])"
      ],
      "metadata": {
        "colab": {
          "base_uri": "https://localhost:8080/"
        },
        "id": "UyKGiaKueoJ7",
        "outputId": "3041a34c-96d1-478f-a350-fdfeef23ef06"
      },
      "execution_count": 86,
      "outputs": [
        {
          "output_type": "stream",
          "name": "stdout",
          "text": [
            "Please enter a city name: Paris\n",
            "       City  Precipitation (mm)  Wind Speed (km/h)\n",
            "1     Paris                 0.0                 10\n",
            "2  New York                 5.0                 20\n",
            "3     Tokyo                10.0                  5\n",
            "4    Sydney                 0.0                 25\n"
          ]
        }
      ]
    },
    {
      "cell_type": "code",
      "source": [
        "from pandas import DataFrame\n",
        "'''\n",
        "table3 = {\n",
        "    'City': ['London', 'Paris', 'New York', 'Tokyo', 'Sydney'],\n",
        "    'Precipitation (mm)': [2.5, 0, 5, 10, 0],\n",
        "    'Wind Speed (km/h)': [15, 10, 20, 5, 25]\n",
        "}\n",
        "df3 = DataFrame(table3)\n",
        "print(\"Original DataFrame:\")\n",
        "print(df3)\n",
        "\n",
        "city_name = input('Please enter a city name: ')\n",
        "start_index = df3[df3['City'] == city_name].index[0]'''\n",
        "\n",
        "# Collect rows to be printed in a list\n",
        "rows_to_print = []\n",
        "\n",
        "# Add initial selection to the list\n",
        "rows_to_print.extend(df3.loc[start_index:].to_dict('records'))\n",
        "\n",
        "# Add remaining rows, looping if necessary\n",
        "total_rows_printed = len(df3) - start_index\n",
        "remaining_rows = 15 - total_rows_printed\n",
        "\n",
        "current_index = 0\n",
        "while total_rows_printed < 15:\n",
        "    rows_to_print.append(df3.loc[current_index].to_dict())\n",
        "    total_rows_printed += 1\n",
        "    current_index = (current_index + 1) % len(df3)\n",
        "\n",
        "# Create a new DataFrame from the collected rows\n",
        "final_df = DataFrame(rows_to_print)\n",
        "\n",
        "# Display the final DataFrame\n",
        "print(\"\\nFinal DataFrame (15 rows):\")\n",
        "print(final_df)"
      ],
      "metadata": {
        "colab": {
          "base_uri": "https://localhost:8080/"
        },
        "id": "8yAfyNbyxt5V",
        "outputId": "3177929d-22b7-44c8-d070-53d4692aeec7"
      },
      "execution_count": 87,
      "outputs": [
        {
          "output_type": "stream",
          "name": "stdout",
          "text": [
            "\n",
            "Final DataFrame (15 rows):\n",
            "        City  Precipitation (mm)  Wind Speed (km/h)\n",
            "0      Paris                 0.0                 10\n",
            "1   New York                 5.0                 20\n",
            "2      Tokyo                10.0                  5\n",
            "3     Sydney                 0.0                 25\n",
            "4     London                 2.5                 15\n",
            "5      Paris                 0.0                 10\n",
            "6   New York                 5.0                 20\n",
            "7      Tokyo                10.0                  5\n",
            "8     Sydney                 0.0                 25\n",
            "9     London                 2.5                 15\n",
            "10     Paris                 0.0                 10\n",
            "11  New York                 5.0                 20\n",
            "12     Tokyo                10.0                  5\n",
            "13    Sydney                 0.0                 25\n",
            "14    London                 2.5                 15\n"
          ]
        }
      ]
    }
  ],
  "metadata": {
    "colab": {
      "provenance": [],
      "authorship_tag": "ABX9TyNXFekYLkXOlCsG1pnP62aF",
      "include_colab_link": true
    },
    "kernelspec": {
      "display_name": "Python 3",
      "name": "python3"
    },
    "language_info": {
      "name": "python"
    }
  },
  "nbformat": 4,
  "nbformat_minor": 0
}