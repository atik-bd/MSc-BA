{
  "nbformat": 4,
  "nbformat_minor": 0,
  "metadata": {
    "colab": {
      "provenance": [],
      "authorship_tag": "ABX9TyPivIm/3uQSlSQRyUDXrOVF",
      "include_colab_link": true
    },
    "kernelspec": {
      "name": "python3",
      "display_name": "Python 3"
    },
    "language_info": {
      "name": "python"
    }
  },
  "cells": [
    {
      "cell_type": "markdown",
      "metadata": {
        "id": "view-in-github",
        "colab_type": "text"
      },
      "source": [
        "<a href=\"https://colab.research.google.com/github/atik-bd/MSc-BA/blob/main/Control_Flow_Statements.ipynb\" target=\"_parent\"><img src=\"https://colab.research.google.com/assets/colab-badge.svg\" alt=\"Open In Colab\"/></a>"
      ]
    },
    {
      "cell_type": "markdown",
      "source": [
        "\n",
        "\n",
        "##Control Flow Statements and Functions\n",
        "#Atik Mahbub, ID:20062447\n",
        "#Instruction: Debug and compile the following on a collab file.\n",
        "\n"
      ],
      "metadata": {
        "id": "lcvAfozKT8v5"
      }
    },
    {
      "cell_type": "code",
      "execution_count": null,
      "metadata": {
        "id": "ge-3GBwATwP1",
        "colab": {
          "base_uri": "https://localhost:8080/"
        },
        "outputId": "05771cff-56af-4bfa-b93a-59cb4501d258"
      },
      "outputs": [
        {
          "output_type": "stream",
          "name": "stdout",
          "text": [
            "Enter a number: -1\n",
            "Negative\n"
          ]
        }
      ],
      "source": [
        "#1. Write a program to check if a given number is positive, negative, or zero.\n",
        "num = int(input(\"Enter a number: \"))\n",
        "if num > 0:\n",
        " print(\"Positive\")\n",
        "elif num < 0:\n",
        " print(\"Negative\")\n",
        "else:\n",
        " print(\"Zero\")"
      ]
    },
    {
      "cell_type": "code",
      "source": [
        "#2. Write a program to find the maximum of two numbers.\n",
        "def maximum(a, b):\n",
        " return a if a > b else b\n",
        "num1 = int(input(\"Enter first number: \"))\n",
        "num2 = int(input(\"Enter second number: \"))\n",
        "print(\"Maximum:\", maximum(num1, num2))"
      ],
      "metadata": {
        "id": "WjA1cn-BX8jw",
        "colab": {
          "base_uri": "https://localhost:8080/"
        },
        "outputId": "c824b924-9b65-497d-9a4f-ba52e4cd3234"
      },
      "execution_count": null,
      "outputs": [
        {
          "output_type": "stream",
          "name": "stdout",
          "text": [
            "Enter first number: 6\n",
            "Enter second number: 1\n",
            "Maximum: 6\n"
          ]
        }
      ]
    },
    {
      "cell_type": "code",
      "source": [
        "#3. Write a program to check if a given year is a leap year.\n",
        "def is_leap_year(year):\n",
        " return (year % 4 == 0 and year % 100 != 0) or (year % 400 == 0)\n",
        "year = int(input(\"Enter a year: \"))\n",
        "if is_leap_year(year):\n",
        " print(\"Leap year\")\n",
        "else:\n",
        " print(\"Not a leap year\")"
      ],
      "metadata": {
        "id": "mG_YulDxadB9",
        "colab": {
          "base_uri": "https://localhost:8080/"
        },
        "outputId": "db9655fa-c393-4972-8d41-638be7f3c0d5"
      },
      "execution_count": null,
      "outputs": [
        {
          "output_type": "stream",
          "name": "stdout",
          "text": [
            "Enter a year: 2000\n",
            "Leap year\n"
          ]
        }
      ]
    },
    {
      "cell_type": "code",
      "source": [
        "#4. Write a program to print the Fibonacci sequence up to a given number of terms.\n",
        "def fibonacci(n):\n",
        " a, b = 0, 1\n",
        " fib = [a, b]\n",
        " for i_ in range(n-2):\n",
        "  a, b = b, a + b\n",
        "  fib.append(b)\n",
        " return fib\n",
        "terms = int(input(\"Enter the number of terms: \"))\n",
        "print(\"Fibonacci sequence:\", fibonacci(terms))"
      ],
      "metadata": {
        "colab": {
          "base_uri": "https://localhost:8080/"
        },
        "id": "qE2c47bJNomR",
        "outputId": "bf5be082-886a-49a8-c5e6-f0908d074430"
      },
      "execution_count": null,
      "outputs": [
        {
          "output_type": "stream",
          "name": "stdout",
          "text": [
            "Enter the number of terms: 5\n",
            "Fibonacci sequence: [0, 1, 1, 2, 3]\n"
          ]
        }
      ]
    },
    {
      "cell_type": "code",
      "source": [
        "#5. Write a program to find the factorial of a given number.\n",
        "def factorial(n):\n",
        "  if n == 0:\n",
        "   return 1\n",
        "  else:\n",
        "   return n * factorial(n - 1)\n",
        "num = int(input(\"Enter a number: \"))\n",
        "print(\"Factorial:\", factorial(num))"
      ],
      "metadata": {
        "colab": {
          "base_uri": "https://localhost:8080/"
        },
        "id": "FGzD_uHd4Of3",
        "outputId": "69854f05-d514-49c8-8254-b6f861929e74"
      },
      "execution_count": null,
      "outputs": [
        {
          "output_type": "stream",
          "name": "stdout",
          "text": [
            "Enter a number: 5\n",
            "Factorial: 120\n"
          ]
        }
      ]
    },
    {
      "cell_type": "code",
      "source": [
        "#6. Write a program to calculate the sum of all numbers from 1 to 100.\n",
        "total = sum(range(1, 101))\n",
        "print(\"Sum of numbers from 1 to 100:\",total)"
      ],
      "metadata": {
        "colab": {
          "base_uri": "https://localhost:8080/"
        },
        "id": "-GlsDG-z5YSp",
        "outputId": "1482e5b9-c296-40ea-cc2c-0ab77e13c91b"
      },
      "execution_count": null,
      "outputs": [
        {
          "output_type": "stream",
          "name": "stdout",
          "text": [
            "Sum of numbers from 1 to 100: 5050\n"
          ]
        }
      ]
    },
    {
      "cell_type": "code",
      "source": [
        "#7. Write a program to print the multiplication table of a given number.\n",
        "num = int(input(\"Enter a number: \"))\n",
        "for i in range(1, 11):\n",
        " print(num, \"x\", i, \"=\", num * i)"
      ],
      "metadata": {
        "colab": {
          "base_uri": "https://localhost:8080/"
        },
        "id": "bZ90phYQ6BMe",
        "outputId": "a58e9088-78d7-43aa-c611-6167723f9ace"
      },
      "execution_count": null,
      "outputs": [
        {
          "output_type": "stream",
          "name": "stdout",
          "text": [
            "Enter a number: 5\n",
            "5 x 1 = 5\n",
            "5 x 2 = 10\n",
            "5 x 3 = 15\n",
            "5 x 4 = 20\n",
            "5 x 5 = 25\n",
            "5 x 6 = 30\n",
            "5 x 7 = 35\n",
            "5 x 8 = 40\n",
            "5 x 9 = 45\n",
            "5 x 10 = 50\n"
          ]
        }
      ]
    },
    {
      "cell_type": "code",
      "source": [
        "#8. Write a program to find the prime numbers between 1 and 100.\n",
        "primes = []\n",
        "for num in range(2, 101):\n",
        " for i in range(2, num):\n",
        "  if (num % i) == 0:\n",
        "   break\n",
        " else:\n",
        "  primes.append(num)\n",
        "print(\"Prime numbers between 1 and 100:\",primes)"
      ],
      "metadata": {
        "colab": {
          "base_uri": "https://localhost:8080/"
        },
        "id": "BQzIVjrO6oTd",
        "outputId": "b9d4406d-bead-4be9-fd6f-52511ac770c6"
      },
      "execution_count": null,
      "outputs": [
        {
          "output_type": "stream",
          "name": "stdout",
          "text": [
            "Prime numbers between 1 and 100: [2, 3, 5, 7, 11, 13, 17, 19, 23, 29, 31, 37, 41, 43, 47, 53, 59, 61, 67, 71, 73, 79, 83, 89, 97]\n"
          ]
        }
      ]
    },
    {
      "cell_type": "code",
      "source": [
        "#9. Write a program to calculate the average of a list of numbers.\n",
        "def average(nums):\n",
        " return sum(nums) / len(nums)\n",
        "numbers = [int(x) for x in input(\"Enter numbers separated by space: \").split()]\n",
        "print(\"Average:\", average(numbers))"
      ],
      "metadata": {
        "colab": {
          "base_uri": "https://localhost:8080/"
        },
        "id": "oKrJeiIG8vnP",
        "outputId": "ea11b97a-583b-4bbb-cd6b-d14c302237b3"
      },
      "execution_count": null,
      "outputs": [
        {
          "output_type": "stream",
          "name": "stdout",
          "text": [
            "Enter numbers separated by space: 2 3 4 5\n",
            "Average: 3.5\n"
          ]
        }
      ]
    },
    {
      "cell_type": "code",
      "source": [
        "# 10.Write a program to count the number of vowels in each string.\n",
        "def count_vowels(string):\n",
        " vowels = \"aeiouAEIOU\"\n",
        " count = 0\n",
        " for char in string:\n",
        "   if char in vowels:\n",
        "    count += 1\n",
        " return count\n",
        "text = input(\"Enter a string: \")\n",
        "print(\"Number of vowels:\", count_vowels(text))"
      ],
      "metadata": {
        "colab": {
          "base_uri": "https://localhost:8080/"
        },
        "id": "qm5jGj_x9i4A",
        "outputId": "61617b4a-0bf8-464c-ba32-6c997e1f3ab2"
      },
      "execution_count": null,
      "outputs": [
        {
          "output_type": "stream",
          "name": "stdout",
          "text": [
            "Enter a string: aeiouy\n",
            "Number of vowels: 5\n"
          ]
        }
      ]
    },
    {
      "cell_type": "code",
      "source": [
        "#11. Write a function to calculate the area of a circle given its radius.\n",
        "import math\n",
        "def area_of_circle(radius):\n",
        " return math.pi * r ** 2\n",
        "r = float(input(\"Enter the radius of the circle: \"))\n",
        "print(\"Area of the circle:\", area_of_circle(r))"
      ],
      "metadata": {
        "colab": {
          "base_uri": "https://localhost:8080/"
        },
        "id": "FsrXI4_X_lOO",
        "outputId": "03c98f31-2e1e-4e18-c125-b78c608349d6"
      },
      "execution_count": null,
      "outputs": [
        {
          "output_type": "stream",
          "name": "stdout",
          "text": [
            "Enter the radius of the circle: 25\n",
            "Area of the circle: 1963.4954084936207\n"
          ]
        }
      ]
    },
    {
      "cell_type": "code",
      "source": [
        "#12. Write a function to check if a given number is even or odd.\n",
        "def is_even(number):\n",
        " if number % 2 == 0:\n",
        "  print('Even')\n",
        " else:\n",
        "  print('Odd')\n",
        "number = int(input(\"Enter a number: \"))\n",
        "is_even(number)"
      ],
      "metadata": {
        "colab": {
          "base_uri": "https://localhost:8080/"
        },
        "id": "PKbbVQHsCIca",
        "outputId": "58b01dd4-7db4-4a71-bf1c-2c45f1b90e80"
      },
      "execution_count": null,
      "outputs": [
        {
          "output_type": "stream",
          "name": "stdout",
          "text": [
            "Enter a number: 5\n",
            "Odd\n"
          ]
        }
      ]
    },
    {
      "cell_type": "code",
      "source": [
        "#13. Write a function to reverse a given string.\n",
        "def reverse_string(string):\n",
        " return string[::-1]\n",
        "text = input(\"Enter a string: \")\n",
        "print(\"Reversed string:\", reverse_string(text))"
      ],
      "metadata": {
        "colab": {
          "base_uri": "https://localhost:8080/"
        },
        "id": "uhHSLQkRC_so",
        "outputId": "573783fa-34a9-4564-b204-35021a1b42f3"
      },
      "execution_count": null,
      "outputs": [
        {
          "output_type": "stream",
          "name": "stdout",
          "text": [
            "Enter a string: check\n",
            "Reversed string: kcehc\n"
          ]
        }
      ]
    },
    {
      "cell_type": "code",
      "source": [
        "#14. Write a function to check if a given string is a palindrome.\n",
        "def is_palindrome(string):\n",
        " if string == string[::-1]:\n",
        "  print('Palindrome')\n",
        " else:\n",
        "  print('Not a palindrome')\n",
        "text = input(\"Enter a string: \")\n",
        "is_palindrome(text)"
      ],
      "metadata": {
        "colab": {
          "base_uri": "https://localhost:8080/"
        },
        "id": "ErsIo9uQDbQN",
        "outputId": "90577fe7-686e-495a-b593-fb04eae36153"
      },
      "execution_count": null,
      "outputs": [
        {
          "output_type": "stream",
          "name": "stdout",
          "text": [
            "Enter a string: lol\n",
            "Palindrome\n"
          ]
        }
      ]
    },
    {
      "cell_type": "code",
      "source": [
        "#15. Write a function to calculate the square root of a given number.\n",
        "def square_root(number):\n",
        " return number ** 0.5\n",
        "num = float(input(\"Enter a number: \"))\n",
        "print(\"Square root:\", square_root(num))"
      ],
      "metadata": {
        "colab": {
          "base_uri": "https://localhost:8080/"
        },
        "id": "vakF7usAFeGb",
        "outputId": "b75a9322-4cfe-4324-f69d-5164f6472ce7"
      },
      "execution_count": null,
      "outputs": [
        {
          "output_type": "stream",
          "name": "stdout",
          "text": [
            "Enter a number: 25\n",
            "Square root: 5.0\n"
          ]
        }
      ]
    },
    {
      "cell_type": "code",
      "source": [
        "#16. Write a function to find the greatest common divisor (GCD) of two numbers.\n",
        "def gcd(a, b):\n",
        " while b:\n",
        "  a, b = b, a % b\n",
        "  return a\n",
        "num1 = int(input(\"Enter first number: \"))\n",
        "num2 = int(input(\"Enter second number: \"))\n",
        "print(\"GCD:\", gcd(num1, num2))"
      ],
      "metadata": {
        "colab": {
          "base_uri": "https://localhost:8080/"
        },
        "id": "EiLCF08NGeXU",
        "outputId": "91a5762e-f30d-48a9-feb3-dbfbf6ff8bfa"
      },
      "execution_count": null,
      "outputs": [
        {
          "output_type": "stream",
          "name": "stdout",
          "text": [
            "Enter first number: 25\n",
            "Enter second number: 15\n",
            "GCD: 15\n"
          ]
        }
      ]
    },
    {
      "cell_type": "code",
      "source": [
        "#17. Write a function to check if a given number is a perfect square.\n",
        "import math\n",
        "def is_perfect_square(number):\n",
        "  return math.isqrt(number) ** 2 == number\n",
        "num = int(input(\"Enter a number: \"))\n",
        "if is_perfect_square(num):\n",
        "  print(num, \"is a perfect square\")\n",
        "else:\n",
        "  print(\"Not a perfect square\")"
      ],
      "metadata": {
        "colab": {
          "base_uri": "https://localhost:8080/"
        },
        "id": "_tpBUi5DHAY8",
        "outputId": "f14a0593-8ba5-4515-c0ec-a6ed2ba6d493"
      },
      "execution_count": null,
      "outputs": [
        {
          "output_type": "stream",
          "name": "stdout",
          "text": [
            "Enter a number: 100\n",
            "100 is a perfect square\n"
          ]
        }
      ]
    },
    {
      "cell_type": "code",
      "source": [
        "#18. Write a function to generate a list of prime numbers up to a given limit.\n",
        "def generate_primes(limit):\n",
        "  primes = []\n",
        "  for num in range(2, limit + 1):\n",
        "   for i in range(2, num):\n",
        "    if (num % i) == 0:\n",
        "     break\n",
        "   else:\n",
        "     primes.append(num)\n",
        "  return primes\n",
        "limit = int(input(\"Enter a limit: \"))\n",
        "print(\"Prime numbers up to\", limit, \":\", generate_primes(limit))"
      ],
      "metadata": {
        "colab": {
          "base_uri": "https://localhost:8080/"
        },
        "id": "LdLRkZjtJBaO",
        "outputId": "95e8f280-0667-48c6-bf0c-7fc978b83693"
      },
      "execution_count": null,
      "outputs": [
        {
          "output_type": "stream",
          "name": "stdout",
          "text": [
            "Enter a limit: 13\n",
            "Prime numbers up to 13 : [2, 3, 5, 7, 11, 13]\n"
          ]
        }
      ]
    },
    {
      "cell_type": "code",
      "source": [
        "#19.Write a function to check if a given string is an anagram of another string.\n",
        "def is_anagram(str1, str2):\n",
        "   return sorted(str1) == sorted(str2)\n",
        "text = input(\"Enter first string: \")\n",
        "text2 = input(\"Enter second string: \")\n",
        "if is_anagram(text, text2):\n",
        " print(\"Anagram\")\n",
        "else:\n",
        " print(\"Not an anagram\")"
      ],
      "metadata": {
        "colab": {
          "base_uri": "https://localhost:8080/"
        },
        "id": "7XVRSy8nIMWm",
        "outputId": "64f0bde5-924d-4f8c-8d2d-7a2219a0231b"
      },
      "execution_count": null,
      "outputs": [
        {
          "output_type": "stream",
          "name": "stdout",
          "text": [
            "Enter first string: act\n",
            "Enter second string: cat\n",
            "Anagram\n"
          ]
        }
      ]
    },
    {
      "cell_type": "code",
      "source": [
        "#20.Write a function to calculate the factorial of a given number using recursion.\n",
        "def factorial(n):\n",
        "  if n == 0:\n",
        "   return 1\n",
        "  else:\n",
        "   return n * factorial(n - 1)\n",
        "num = int(input(\"Enter a number: \"))\n",
        "print(\"Factorial:\", factorial(num))"
      ],
      "metadata": {
        "colab": {
          "base_uri": "https://localhost:8080/"
        },
        "id": "QO604J5nSOc-",
        "outputId": "14bc9e53-c0dc-4fd6-f14d-71044af6d5fb"
      },
      "execution_count": null,
      "outputs": [
        {
          "output_type": "stream",
          "name": "stdout",
          "text": [
            "Enter a number: 7\n",
            "Factorial: 5040\n"
          ]
        }
      ]
    }
  ]
}