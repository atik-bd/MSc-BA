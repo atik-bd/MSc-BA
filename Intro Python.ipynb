{
  "nbformat": 4,
  "nbformat_minor": 0,
  "metadata": {
    "colab": {
      "provenance": [],
      "authorship_tag": "ABX9TyMbuG+0hzARTb/iezT+O30H",
      "include_colab_link": true
    },
    "kernelspec": {
      "name": "python3",
      "display_name": "Python 3"
    },
    "language_info": {
      "name": "python"
    }
  },
  "cells": [
    {
      "cell_type": "markdown",
      "metadata": {
        "id": "view-in-github",
        "colab_type": "text"
      },
      "source": [
        "<a href=\"https://colab.research.google.com/github/atik-bd/MSc-BA/blob/main/Intro%20Python.ipynb\" target=\"_parent\"><img src=\"https://colab.research.google.com/assets/colab-badge.svg\" alt=\"Open In Colab\"/></a>"
      ]
    },
    {
      "cell_type": "markdown",
      "source": [
        "# INTRODUCTORY PROGRAMMING, DATABASES AND STATISTICS\n",
        "Name: Atik Mahbub\n",
        "ID: 20062447"
      ],
      "metadata": {
        "id": "P8zNIV_xzRL9"
      }
    },
    {
      "cell_type": "markdown",
      "source": [
        "## Week 2: Python Basic Exercises"
      ],
      "metadata": {
        "id": "AOJS3WhjzFrY"
      }
    },
    {
      "cell_type": "code",
      "execution_count": null,
      "metadata": {
        "colab": {
          "base_uri": "https://localhost:8080/"
        },
        "id": "jgCncWBLys37",
        "outputId": "6a9f3873-c5dc-4dd8-d615-14972005f27d"
      },
      "outputs": [
        {
          "output_type": "stream",
          "name": "stdout",
          "text": [
            "Hello, World!\n"
          ]
        }
      ],
      "source": [
        "#Write a program that prints \"Hello, World!\" to the console.\n",
        "print (\"Hello, World!\")"
      ]
    },
    {
      "cell_type": "code",
      "source": [
        "#Calculate the area of a rectangle given its length and width.\n",
        "length = float(input(\"Enter the length of the rectangle: \"))\n",
        "width = float(input(\"Enter the width of the rectangle: \"))\n",
        "area = length * width\n",
        "print(\"The area of the rectangle is:\", area)"
      ],
      "metadata": {
        "colab": {
          "base_uri": "https://localhost:8080/"
        },
        "id": "vjPdbnfa-B7a",
        "outputId": "4df6a52d-e751-42b8-a4f4-2e0b9edb7a32"
      },
      "execution_count": null,
      "outputs": [
        {
          "output_type": "stream",
          "name": "stdout",
          "text": [
            "Enter the length of the rectangle: 2\n",
            "Enter the width of the rectangle: 2\n",
            "The area of the rectangle is: 4.0\n"
          ]
        }
      ]
    },
    {
      "cell_type": "code",
      "source": [
        "#Convert temperature from Celsius to Fahrenheit and vice versa.\n",
        "celsius = float(input(\"Enter the temperature in Celsius: \"))\n",
        "fahrenheit = (celsius * 9/5) + 32\n",
        "print(\"The temperature in Fahrenheit is:\", fahrenheit)\n",
        "\n",
        "fahrenheit = float(input(\"Enter the temperature in Fahrenheit: \"))\n",
        "celsius = (fahrenheit - 32) * 5/9\n",
        "print(\"The temperature in Celsius is:\", celsius)"
      ],
      "metadata": {
        "colab": {
          "base_uri": "https://localhost:8080/"
        },
        "id": "QkQW8plRCObc",
        "outputId": "85b8dd61-d60d-46c5-a079-e15321a0a401"
      },
      "execution_count": null,
      "outputs": [
        {
          "output_type": "stream",
          "name": "stdout",
          "text": [
            "Enter the temperature in Celsius: 25\n",
            "The temperature in Fahrenheit is: 77.0\n",
            "Enter the temperature in Fahrenheit: 77\n",
            "The temperature in Celsius is: 25.0\n"
          ]
        }
      ]
    },
    {
      "cell_type": "code",
      "source": [
        "#Create a list of numbers and print the sum of all the elements.\n",
        "numbers = [1,3,5,7,9]\n",
        "total = sum(numbers)\n",
        "print(\"The sum of the numbers is:\", total)"
      ],
      "metadata": {
        "colab": {
          "base_uri": "https://localhost:8080/"
        },
        "id": "HvzLpNTmCYiF",
        "outputId": "31e7838b-67e4-4d04-ab17-e91057d831ba"
      },
      "execution_count": null,
      "outputs": [
        {
          "output_type": "stream",
          "name": "stdout",
          "text": [
            "The sum of the numbers is: 25\n"
          ]
        }
      ]
    },
    {
      "cell_type": "code",
      "source": [
        "#Write a program to check if a given number is even or odd.\n",
        "number = int(input(\"Enter a number: \"))\n",
        "if number % 2 == 0:\n",
        "    print(number, \"is even.\")\n",
        "else:\n",
        "    print(number, \"is odd.\")\n"
      ],
      "metadata": {
        "colab": {
          "base_uri": "https://localhost:8080/"
        },
        "id": "sSv6MhKXCuz2",
        "outputId": "849ebb60-a734-4c91-d945-e6dd9a93d74d"
      },
      "execution_count": null,
      "outputs": [
        {
          "output_type": "stream",
          "name": "stdout",
          "text": [
            "Enter a number: 6\n",
            "6 is even.\n"
          ]
        }
      ]
    },
    {
      "cell_type": "code",
      "source": [
        "#Generate a random number between 1 and 100 and ask the user to guess it.\n",
        "x=13\n",
        "Number= int(input(\"Enter a number between 1 and 100: \"))\n",
        "if Number==x:\n",
        "    print(\"Correct\")\n",
        "elif Number > 100 or Number < 1:\n",
        "    print(\"Out of Range\")\n",
        "elif Number != x:\n",
        "    print(\"Incorrect\")"
      ],
      "metadata": {
        "colab": {
          "base_uri": "https://localhost:8080/"
        },
        "id": "KK9BgT-PDYS3",
        "outputId": "788ede38-5f44-45e2-c320-986ef3565557"
      },
      "execution_count": null,
      "outputs": [
        {
          "output_type": "stream",
          "name": "stdout",
          "text": [
            "Enter a number between 1 and 100: 12\n",
            "Incorrect\n"
          ]
        }
      ]
    },
    {
      "cell_type": "code",
      "source": [
        "#Write a function to check if a given string is a palindrome\n",
        "def is_palindrome(x):\n",
        "  return x == x[::-1]  # Return True if palindrome, False otherwise\n",
        "\n",
        "y = input(\"Enter a string: \")\n",
        "if is_palindrome(y):\n",
        "  print(y, \"is a palindrome\")\n",
        "else:\n",
        "  print(y, \"is not a palindrome\")"
      ],
      "metadata": {
        "colab": {
          "base_uri": "https://localhost:8080/"
        },
        "id": "ycwLRYrMPaRs",
        "outputId": "b413e2f8-6c8a-42ab-9564-43d8be2a9f94"
      },
      "execution_count": null,
      "outputs": [
        {
          "output_type": "stream",
          "name": "stdout",
          "text": [
            "Enter a string: racecar\n",
            "racecar is a palindrome\n"
          ]
        }
      ]
    },
    {
      "cell_type": "code",
      "source": [
        "#Calculate the factorial of a given number\n",
        "num = int(input(\"Enter a number: \"))\n",
        "factorial = 1\n",
        "for i in range(1, num + 1):\n",
        "    factorial = factorial*i\n",
        "print(f\"The factorial of {num} is {factorial}\")"
      ],
      "metadata": {
        "colab": {
          "base_uri": "https://localhost:8080/"
        },
        "id": "RykICVs-ezTp",
        "outputId": "34a3ef49-7969-4725-813e-76593c72f8a4"
      },
      "execution_count": null,
      "outputs": [
        {
          "output_type": "stream",
          "name": "stdout",
          "text": [
            "Enter a number: 4\n",
            "The factorial of 4 is 24\n"
          ]
        }
      ]
    },
    {
      "cell_type": "code",
      "source": [
        "#Write a program to find the largest element in a list\n",
        "numbers = eval(input(\"Enter a list of values: \"))\n",
        "largest = max(numbers)\n",
        "print(\"The largest number is:\", largest)"
      ],
      "metadata": {
        "colab": {
          "base_uri": "https://localhost:8080/"
        },
        "id": "3DiaW3hHgl6g",
        "outputId": "dd12c329-1731-4076-95b3-c6afcb265033"
      },
      "execution_count": null,
      "outputs": [
        {
          "output_type": "stream",
          "name": "stdout",
          "text": [
            "Enter a list of values: 2,3,4,7,3,\n",
            "The largest number is: 7\n"
          ]
        }
      ]
    },
    {
      "cell_type": "code",
      "source": [
        "#Create a simple calculator that can perform addition, subtraction, multiplication, and division\n",
        "def add(x, y):\n",
        "    return x + y\n",
        "\n",
        "# Function to perform subtraction\n",
        "def subtract(x, y):\n",
        "    return x - y\n",
        "\n",
        "# Function to perform multiplication\n",
        "def multiply(x, y):\n",
        "    return x * y\n",
        "\n",
        "# Function to perform division\n",
        "def divide(x, y):\n",
        "    if y == 0:\n",
        "        return \"Division by zero!\"\n",
        "    else:\n",
        "        return x / y\n",
        "\n",
        "while True:\n",
        "    print(\"Select operation:\\n1. Add\\n2. Subtract\\n3. Multiply\\n4. Divide\\n5. Exit\")\n",
        "\n",
        "    choice = input(\"Enter choice(1/2/3/4/5): \")\n",
        "\n",
        "    if choice in ('1', '2', '3', '4'):\n",
        "        try:\n",
        "            num1 = float(input(\"Enter first number: \"))\n",
        "            num2 = float(input(\"Enter second number: \"))\n",
        "        except ValueError:\n",
        "            print(\"Invalid input. Please enter numbers only.\")\n",
        "            continue\n",
        "\n",
        "        if choice == '1':\n",
        "            print(add(num1, num2))\n",
        "\n",
        "        elif choice == '2':\n",
        "            print(subtract(num1, num2))\n",
        "\n",
        "        elif choice == '3':\n",
        "            print(multiply(num1, num2))\n",
        "\n",
        "        elif choice == '4':\n",
        "            print(divide(num1, num2))\n",
        "\n",
        "    elif choice == '5':\n",
        "        break\n",
        "    else:\n",
        "        print(\"Invalid Input\")"
      ],
      "metadata": {
        "colab": {
          "base_uri": "https://localhost:8080/"
        },
        "id": "t2Yde0sbhsXk",
        "outputId": "b683bc3d-e4ee-4a68-d321-777973753fed"
      },
      "execution_count": null,
      "outputs": [
        {
          "name": "stdout",
          "output_type": "stream",
          "text": [
            "Select operation:\n",
            "1. Add\n",
            "2. Subtract\n",
            "3. Multiply\n",
            "4. Divide\n",
            "5. Exit\n",
            "Enter choice(1/2/3/4/5): 1\n",
            "Enter first number: 2\n",
            "Enter second number: 3\n",
            "5.0\n",
            "Select operation:\n",
            "1. Add\n",
            "2. Subtract\n",
            "3. Multiply\n",
            "4. Divide\n",
            "5. Exit\n",
            "Enter choice(1/2/3/4/5): 4\n",
            "Enter first number: 45\n",
            "Enter second number: 6\n",
            "7.5\n",
            "Select operation:\n",
            "1. Add\n",
            "2. Subtract\n",
            "3. Multiply\n",
            "4. Divide\n",
            "5. Exit\n",
            "Enter choice(1/2/3/4/5): 5\n"
          ]
        }
      ]
    },
    {
      "cell_type": "code",
      "source": [
        "#Write a function to find the square root of a number using Newton's method\n",
        "def sqrt_newton(x, tolerance=1e-10, max_iterations=1000):\n",
        "    if x < 0:\n",
        "        raise ValueError(\"Cannot compute the square root of a negative number.\")\n",
        "    if x == 0:\n",
        "        return 0\n",
        "\n",
        "    y_n = x / 2.0\n",
        "    for _ in range(max_iterations):\n",
        "        y_next = y_n - (y_n**2 - x) / (2 * y_n)\n",
        "        if abs(y_next - y_n) < tolerance:\n",
        "            return y_next\n",
        "        y_n = y_next\n",
        "\n",
        "    return y_n\n",
        "number = int(input(\"Enter a number: \"))\n",
        "result = sqrt_newton(number)\n",
        "print(f\"The square root of {number} is approximately {result:.2f}.\")"
      ],
      "metadata": {
        "colab": {
          "base_uri": "https://localhost:8080/"
        },
        "id": "7XgOB5XDlx_5",
        "outputId": "f7b4988d-339d-4262-d031-4af9e427dc42"
      },
      "execution_count": null,
      "outputs": [
        {
          "output_type": "stream",
          "name": "stdout",
          "text": [
            "Enter a number: 246\n",
            "The square root of 246 is approximately 15.68.\n"
          ]
        }
      ]
    },
    {
      "cell_type": "code",
      "source": [
        "#Reverse a given list without using the reverse() method\n",
        "def reverse_list(lst):\n",
        "  left = 0\n",
        "  right = len(lst) - 1\n",
        "\n",
        "  while left < right:\n",
        "    lst[left], lst[right] = lst[right], lst[left]\n",
        "    left += 1\n",
        "    right -= 1\n",
        "my_list = [1, 2, 3, 4, 5]\n",
        "reverse_list(my_list)\n",
        "print(my_list)"
      ],
      "metadata": {
        "colab": {
          "base_uri": "https://localhost:8080/"
        },
        "id": "sp2i8rb4-xsN",
        "outputId": "18b5b77c-cc0f-4f4c-c83c-e2e9bdd8ef1a"
      },
      "execution_count": null,
      "outputs": [
        {
          "output_type": "stream",
          "name": "stdout",
          "text": [
            "[5, 4, 3, 2, 1]\n"
          ]
        }
      ]
    },
    {
      "cell_type": "code",
      "source": [
        "#Write a program to find all the prime numbers between 1 and 100\n",
        "def is_prime(num):\n",
        "  if num <= 1:\n",
        "    return False\n",
        "  for i in range(2, int(num**0.5) + 1):\n",
        "    if num % i == 0:\n",
        "      return False\n",
        "  return True\n",
        "print(\"Prime numbers between 1 and 100:\")\n",
        "for num in range(2, 101):\n",
        "  if is_prime(num):\n",
        "    print(num, end=\" \")"
      ],
      "metadata": {
        "colab": {
          "base_uri": "https://localhost:8080/"
        },
        "id": "tvkY4GLzAeHs",
        "outputId": "cdd89811-ec24-46ce-ba30-176cd08cfb84"
      },
      "execution_count": null,
      "outputs": [
        {
          "output_type": "stream",
          "name": "stdout",
          "text": [
            "Prime numbers between 1 and 100:\n",
            "2 3 5 7 11 13 17 19 23 29 31 37 41 43 47 53 59 61 67 71 73 79 83 89 97 "
          ]
        }
      ]
    },
    {
      "cell_type": "code",
      "source": [
        "#Calculate the Fibonacci sequence up to a given number\n",
        "def fibonacci_sequence(limit):\n",
        "  a, b = 0, 1\n",
        "  sequence = []\n",
        "\n",
        "  while a <= limit:\n",
        "    sequence.append(a)\n",
        "    a, b = b, a + b\n",
        "  return sequence\n",
        "\n",
        "limit = int(input(\"Enter the limit for the Fibonacci sequence: \"))\n",
        "\n",
        "fib_sequence = fibonacci_sequence(limit)\n",
        "print(\"Fibonacci sequence up to\", limit, \":\", fib_sequence)"
      ],
      "metadata": {
        "colab": {
          "base_uri": "https://localhost:8080/"
        },
        "id": "2WPoI-KmBZQb",
        "outputId": "c4edafb7-f0a9-4a92-a3a1-03c76627abb4"
      },
      "execution_count": null,
      "outputs": [
        {
          "output_type": "stream",
          "name": "stdout",
          "text": [
            "Enter the limit for the Fibonacci sequence: 1000\n",
            "Fibonacci sequence up to 1000 : [0, 1, 1, 2, 3, 5, 8, 13, 21, 34, 55, 89, 144, 233, 377, 610, 987]\n"
          ]
        }
      ]
    },
    {
      "cell_type": "code",
      "source": [
        "#Write a function to count the number of vowels in a given string\n",
        "def count_vowels(text):\n",
        "  vowels = \"aeiouAEIOU\"\n",
        "  vowel_count = 0\n",
        "\n",
        "  for char in text:\n",
        "    if char in vowels:\n",
        "      vowel_count += 1\n",
        "  return vowel_count\n",
        "string = input(\"Enter a string: \")\n",
        "num_vowels = count_vowels(string)\n",
        "print(\"Number of vowels:\", num_vowels)"
      ],
      "metadata": {
        "colab": {
          "base_uri": "https://localhost:8080/"
        },
        "id": "0IcqiP8HChNE",
        "outputId": "cc5e6a48-a8b0-4e91-8388-d4962d575f49"
      },
      "execution_count": null,
      "outputs": [
        {
          "output_type": "stream",
          "name": "stdout",
          "text": [
            "Enter a string: Little Red Riding Hood\n",
            "Number of vowels: 7\n"
          ]
        }
      ]
    },
    {
      "cell_type": "code",
      "source": [
        "#Check if a given year is a leap year\n",
        "def is_leap_year(year):\n",
        "  if year % 4 == 0:\n",
        "      return True\n",
        "  else:\n",
        "    return False\n",
        "\n",
        "year = int(input(\"Enter a year: \"))\n",
        "\n",
        "if is_leap_year(year):\n",
        "  print(year, \"is a leap year.\")\n",
        "else:\n",
        "  print(year, \"is not a leap year.\")"
      ],
      "metadata": {
        "colab": {
          "base_uri": "https://localhost:8080/"
        },
        "id": "927trPlUErlY",
        "outputId": "8c903c88-1f35-485c-b399-a28e414525ad"
      },
      "execution_count": null,
      "outputs": [
        {
          "output_type": "stream",
          "name": "stdout",
          "text": [
            "Enter a year: 1998\n",
            "1998 is not a leap year.\n"
          ]
        }
      ]
    },
    {
      "cell_type": "code",
      "source": [
        "#Remove duplicates from a list without using sets\n",
        "def remove_duplicates(lst):\n",
        "  unique_list = []\n",
        "  for item in lst:\n",
        "    if item not in unique_list:\n",
        "      unique_list.append(item)\n",
        "  return unique_list\n",
        "my_list = eval(input('Input a list '))\n",
        "unique_list = remove_duplicates(my_list)\n",
        "print(\"Original list:\", my_list)\n",
        "print(\"List with duplicates removed:\", unique_list)"
      ],
      "metadata": {
        "colab": {
          "base_uri": "https://localhost:8080/"
        },
        "id": "ZXfoIQv-FDrJ",
        "outputId": "ca0c276a-19df-4694-b6aa-bf3872de69dc"
      },
      "execution_count": null,
      "outputs": [
        {
          "output_type": "stream",
          "name": "stdout",
          "text": [
            "Input a list 1,2,2\n",
            "Original list: (1, 2, 2)\n",
            "List with duplicates removed: [1, 2]\n"
          ]
        }
      ]
    },
    {
      "cell_type": "code",
      "source": [
        "#Write a program to sort a list of numbers using bubble sort\n",
        "def bubble_sort(lst):\n",
        "  n = len(lst)\n",
        "  for i in range(n):\n",
        "    swapped = False\n",
        "    for j in range(0, n - i - 1):\n",
        "      if lst[j] > lst[j + 1]:\n",
        "        lst[j], lst[j + 1] = lst[j + 1], lst[j]\n",
        "        swapped = True\n",
        "    if not swapped:\n",
        "      break\n",
        "numbers = [64, 34, 25, 12, 22, 11, 90]\n",
        "bubble_sort(numbers)\n",
        "print(\"Sorted array:\", numbers)"
      ],
      "metadata": {
        "colab": {
          "base_uri": "https://localhost:8080/"
        },
        "id": "qkWxmURDH--1",
        "outputId": "b52bbae4-f896-43cc-8998-a0a82fa7de3b"
      },
      "execution_count": null,
      "outputs": [
        {
          "output_type": "stream",
          "name": "stdout",
          "text": [
            "Sorted array: [11, 12, 22, 25, 34, 64, 90]\n"
          ]
        }
      ]
    },
    {
      "cell_type": "code",
      "source": [
        "#Create a dictionary of names and ages, and print the name of the oldest person\n",
        "def find_oldest_person(people):\n",
        "  if not people:\n",
        "    return \"The dictionary is empty.\"\n",
        "  oldest_person = None\n",
        "  max_age = 0\n",
        "  for name, age in people.items():\n",
        "    if age > max_age:\n",
        "      max_age = age\n",
        "      oldest_person = name\n",
        "\n",
        "  return oldest_person\n",
        "people_data = {\"Rahim\": 25, \"Karim\": 40, \"Jabbar\": 22, \"Salam\": 35}\n",
        "\n",
        "oldest_name = find_oldest_person(people_data)\n",
        "print(\"The oldest person is:\", oldest_name)"
      ],
      "metadata": {
        "colab": {
          "base_uri": "https://localhost:8080/"
        },
        "id": "_EEGPgPTIfSv",
        "outputId": "5b0c067d-4760-4a81-d6b4-f0c2ad085c18"
      },
      "execution_count": null,
      "outputs": [
        {
          "output_type": "stream",
          "name": "stdout",
          "text": [
            "The oldest person is: Karim\n"
          ]
        }
      ]
    },
    {
      "cell_type": "code",
      "source": [
        "#Write a program to find the least common multiple (LCM) of two numbers\n",
        "def gcd(a, b):\n",
        "  while b:\n",
        "    a, b = b, a % b\n",
        "  return a\n",
        "\n",
        "def lcm(a, b):\n",
        "  return (a * b) // gcd(a, b)\n",
        "\n",
        "num1 = int(input(\"Enter the first number: \"))\n",
        "num2 = int(input(\"Enter the second number: \"))\n",
        "\n",
        "result = lcm(num1, num2)\n",
        "print(\"The LCM of\", num1, \"and\", num2, \"is:\", result)"
      ],
      "metadata": {
        "colab": {
          "base_uri": "https://localhost:8080/"
        },
        "id": "nSn8uoSOJXhD",
        "outputId": "6d95551a-7993-4f18-a39d-283b808dc766"
      },
      "execution_count": null,
      "outputs": [
        {
          "output_type": "stream",
          "name": "stdout",
          "text": [
            "Enter the first number: 5\n",
            "Enter the second number: 12\n",
            "The LCM of 5 and 12 is: 60\n"
          ]
        }
      ]
    }
  ]
}