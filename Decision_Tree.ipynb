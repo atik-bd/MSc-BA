{
  "nbformat": 4,
  "nbformat_minor": 0,
  "metadata": {
    "colab": {
      "provenance": [],
      "mount_file_id": "15ZomqCEbquLxo9HuHZrC4stHHmI-M7Mk",
      "authorship_tag": "ABX9TyMvOIeetSECcM+4n/wfTZc3",
      "include_colab_link": true
    },
    "kernelspec": {
      "name": "python3",
      "display_name": "Python 3"
    },
    "language_info": {
      "name": "python"
    }
  },
  "cells": [
    {
      "cell_type": "markdown",
      "metadata": {
        "id": "view-in-github",
        "colab_type": "text"
      },
      "source": [
        "<a href=\"https://colab.research.google.com/github/atik-bd/MSc-BA/blob/main/Decision_Tree.ipynb\" target=\"_parent\"><img src=\"https://colab.research.google.com/assets/colab-badge.svg\" alt=\"Open In Colab\"/></a>"
      ]
    },
    {
      "cell_type": "code",
      "source": [
        "# Data Preparation\n",
        "from pandas import read_csv, get_dummies,Series,DataFrame\n",
        "from sklearn.preprocessing import StandardScaler\n",
        "from sklearn.model_selection import train_test_split\n",
        "from imblearn.over_sampling import SMOTE\n",
        "data=read_csv('/content/drive/MyDrive/DataSets/Emloyees.csv')# reading\n",
        "data['PastEmployee'] = data['PastEmployee'].map({'Yes':1, 'No':0}) # encoding output\n",
        "data['OverTime'] = data['OverTime'].map({'Yes':1, 'No':0}) # encoding\n",
        "data['Gender'] = data['Gender'].map({'Female':1, 'Male':0}) # encoding\n",
        "data2 = get_dummies(data, columns =  ['BusinessTravel', 'Department', 'EducationField', 'JobRole', 'MaritalStatus']) # encoding\n",
        "data2.info()\n",
        "X = data2.drop('PastEmployee', axis = 1) # Features\n",
        "Y = data2['PastEmployee'] # Labels\n",
        "X_scaled = StandardScaler().fit_transform(X) # scaling\n",
        "X_train, X_test, Y_train, Y_test = train_test_split( X_scaled, Y, test_size = 0.2, random_state = 100)# splitting\n",
        "X_train,Y_train =SMOTE (random_state = 100).fit_resample(X_train,Y_train)# balancing"
      ],
      "metadata": {
        "id": "IhnMFLOVtNw_",
        "colab": {
          "base_uri": "https://localhost:8080/"
        },
        "collapsed": true,
        "outputId": "3b6231ed-865d-46d4-a860-3386a05a3db0"
      },
      "execution_count": null,
      "outputs": [
        {
          "output_type": "stream",
          "name": "stdout",
          "text": [
            "<class 'pandas.core.frame.DataFrame'>\n",
            "RangeIndex: 1470 entries, 0 to 1469\n",
            "Data columns (total 32 columns):\n",
            " #   Column                             Non-Null Count  Dtype\n",
            "---  ------                             --------------  -----\n",
            " 0   Age                                1470 non-null   int64\n",
            " 1   PastEmployee                       1470 non-null   int64\n",
            " 2   DistanceFromHome                   1470 non-null   int64\n",
            " 3   EnvironmentSatisfaction            1470 non-null   int64\n",
            " 4   Gender                             1470 non-null   int64\n",
            " 5   MonthlyIncome                      1470 non-null   int64\n",
            " 6   NumCompaniesWorked                 1470 non-null   int64\n",
            " 7   OverTime                           1470 non-null   int64\n",
            " 8   BusinessTravel_Non-Travel          1470 non-null   bool \n",
            " 9   BusinessTravel_Travel_Frequently   1470 non-null   bool \n",
            " 10  BusinessTravel_Travel_Rarely       1470 non-null   bool \n",
            " 11  Department_Human Resources         1470 non-null   bool \n",
            " 12  Department_Research & Development  1470 non-null   bool \n",
            " 13  Department_Sales                   1470 non-null   bool \n",
            " 14  EducationField_Human Resources     1470 non-null   bool \n",
            " 15  EducationField_Life Sciences       1470 non-null   bool \n",
            " 16  EducationField_Marketing           1470 non-null   bool \n",
            " 17  EducationField_Medical             1470 non-null   bool \n",
            " 18  EducationField_Other               1470 non-null   bool \n",
            " 19  EducationField_Technical Degree    1470 non-null   bool \n",
            " 20  JobRole_Healthcare Representative  1470 non-null   bool \n",
            " 21  JobRole_Human Resources            1470 non-null   bool \n",
            " 22  JobRole_Laboratory Technician      1470 non-null   bool \n",
            " 23  JobRole_Manager                    1470 non-null   bool \n",
            " 24  JobRole_Manufacturing Director     1470 non-null   bool \n",
            " 25  JobRole_Research Director          1470 non-null   bool \n",
            " 26  JobRole_Research Scientist         1470 non-null   bool \n",
            " 27  JobRole_Sales Executive            1470 non-null   bool \n",
            " 28  JobRole_Sales Representative       1470 non-null   bool \n",
            " 29  MaritalStatus_Divorced             1470 non-null   bool \n",
            " 30  MaritalStatus_Married              1470 non-null   bool \n",
            " 31  MaritalStatus_Single               1470 non-null   bool \n",
            "dtypes: bool(24), int64(8)\n",
            "memory usage: 126.5 KB\n"
          ]
        }
      ]
    },
    {
      "cell_type": "code",
      "source": [
        "# Decision Tree Classifier (method#1)\n",
        "from sklearn import tree\n",
        "# from sklearn.tree import DecisionTreeClassifier as dt\n",
        "# import sklearn as  sk\n",
        "# import sklearn\n",
        "#DT_classifier =sk.tree.DecisionTreeClassifier()# classifier building\n",
        "DT_classifier1 =tree.DecisionTreeClassifier(criterion = 'entropy', max_depth = 5)# classifier building\n",
        "DT_classifier1.fit(X_train, Y_train) # training\n",
        "Y_pred1 = DT_classifier1.predict(X_test) # testing\n",
        "# # imp_features =Series(DT_classifier.feature_importances_, index=list(X)).sort_values(ascending=False) # what are the important features?\n",
        "# # print(imp_features)"
      ],
      "metadata": {
        "id": "TcFCCQ0h6hvu"
      },
      "execution_count": null,
      "outputs": []
    },
    {
      "cell_type": "code",
      "source": [
        "# Evaluation\n",
        "# Acuracy and confusion matrix\n",
        "from sklearn import metrics\n",
        "Accuracy=metrics.accuracy_score(Y_test, Y_pred1) # calculating accuaracy\n",
        "print(\"Accuracy: \", Accuracy) # Is this a good metric??\n",
        "con_matrix = metrics.confusion_matrix(Y_test, Y_pred1)\n",
        "print (con_matrix)\n",
        "recall = metrics.recall_score(Y_test, Y_pred1)\n",
        "print (\"recall :\",recall)\n",
        "percision=metrics.precision_score(Y_test, Y_pred1)\n",
        "print(\"percesion :\",percision)\n",
        "f1=metrics.f1_score(Y_test,Y_pred1)\n",
        "print('f1:',f1)"
      ],
      "metadata": {
        "colab": {
          "base_uri": "https://localhost:8080/"
        },
        "id": "UH-m_vTD6l_i",
        "outputId": "a0eaf724-5c76-404d-d670-bf139546c069"
      },
      "execution_count": null,
      "outputs": [
        {
          "output_type": "stream",
          "name": "stdout",
          "text": [
            "Accuracy:  0.8503401360544217\n",
            "[[225  21]\n",
            " [ 23  25]]\n",
            "recall : 0.5208333333333334\n",
            "percesion : 0.5434782608695652\n",
            "f1: 0.5319148936170213\n"
          ]
        }
      ]
    },
    {
      "cell_type": "code",
      "source": [
        "#using GridSearch (method#2)\n",
        "from sklearn.model_selection import GridSearchCV\n",
        "DT_classifier2 = tree.DecisionTreeClassifier(criterion = 'entropy') # building classfier\n",
        "depth = {'max_depth': [2,3,4,5,10,15,20,25,30,35]}\n",
        "grid_search1 = GridSearchCV(estimator=DT_classifier2, param_grid=depth, scoring='precision', cv=5)# building\n",
        "grid_search1.fit(X_scaled, Y )# training, testing , evaluation, ranking.\n",
        "best_depth = grid_search1.best_params_\n",
        "print(best_depth)\n",
        "best_result = grid_search1.best_score_\n",
        "print(best_result)"
      ],
      "metadata": {
        "colab": {
          "base_uri": "https://localhost:8080/"
        },
        "id": "L-l-Qm2J6o3I",
        "outputId": "95239554-1ad1-465d-af1f-37c9aac870ae"
      },
      "execution_count": null,
      "outputs": [
        {
          "output_type": "stream",
          "name": "stdout",
          "text": [
            "{'max_depth': 3}\n",
            "0.5916666666666666\n"
          ]
        }
      ]
    },
    {
      "cell_type": "code",
      "source": [
        "# Decision Tree Classifier (method#1) with th best depth\n",
        "from sklearn import tree\n",
        "DT_classifier3 = tree.DecisionTreeClassifier(criterion = 'entropy', max_depth = 25)# classifier building\n",
        "DT_classifier3.fit(X_train, Y_train) # training\n",
        "Y_pred2 = DT_classifier3.predict(X_test) # testing\n",
        "imp_features = Series(DT_classifier3.feature_importances_, index=list(X)).sort_values(ascending=False) # what are the important features?\n",
        "print(imp_features)"
      ],
      "metadata": {
        "colab": {
          "base_uri": "https://localhost:8080/"
        },
        "id": "5GIti3Lo6r2o",
        "outputId": "7f4c1154-ead9-4e1d-f618-396d1c587491",
        "collapsed": true
      },
      "execution_count": null,
      "outputs": [
        {
          "output_type": "stream",
          "name": "stdout",
          "text": [
            "OverTime                             0.238191\n",
            "MonthlyIncome                        0.148355\n",
            "MaritalStatus_Single                 0.110810\n",
            "EnvironmentSatisfaction              0.096847\n",
            "Age                                  0.092591\n",
            "NumCompaniesWorked                   0.055425\n",
            "DistanceFromHome                     0.049838\n",
            "JobRole_Sales Executive              0.025043\n",
            "Department_Research & Development    0.022439\n",
            "BusinessTravel_Travel_Frequently     0.021873\n",
            "JobRole_Research Scientist           0.019683\n",
            "EducationField_Life Sciences         0.019663\n",
            "EducationField_Technical Degree      0.012569\n",
            "BusinessTravel_Travel_Rarely         0.011185\n",
            "Gender                               0.011139\n",
            "EducationField_Marketing             0.011068\n",
            "EducationField_Medical               0.009547\n",
            "MaritalStatus_Married                0.009528\n",
            "JobRole_Laboratory Technician        0.007782\n",
            "BusinessTravel_Non-Travel            0.007323\n",
            "JobRole_Sales Representative         0.005549\n",
            "EducationField_Other                 0.004773\n",
            "MaritalStatus_Divorced               0.002861\n",
            "JobRole_Manufacturing Director       0.002203\n",
            "JobRole_Research Director            0.002071\n",
            "JobRole_Human Resources              0.001644\n",
            "EducationField_Human Resources       0.000000\n",
            "Department_Sales                     0.000000\n",
            "JobRole_Healthcare Representative    0.000000\n",
            "Department_Human Resources           0.000000\n",
            "JobRole_Manager                      0.000000\n",
            "dtype: float64\n"
          ]
        }
      ]
    },
    {
      "cell_type": "code",
      "source": [
        "#using Grid Search (method#2) with best feature\n",
        "X2 = data2[['OverTime','MonthlyIncome','MaritalStatus_Single','EnvironmentSatisfaction','Age']] # Features#\n",
        "#Y = data2['PastEmployee'] # Labels\n",
        "X_scaled = StandardScaler().fit_transform(X2) # scaling\n",
        "# X_train, X_test, Y_train, Y_test = train_test_split( X_scaled, Y, test_size = 0.3, random_state = 100)# splitting\n",
        "# X_train,Y_train =SMOTE (random_state = 100).fit_resample(X_train,Y_train)# balancing\n",
        "\n",
        "DT_classifier4 = tree.DecisionTreeClassifier(criterion = 'entropy') # building classfier\n",
        "depth = {'max_depth': [2,3,4,5,10,15,20,25,30,35]}\n",
        "grid_search2 = GridSearchCV(estimator=DT_classifier4, param_grid=depth, scoring='recall', cv=5)\n",
        "grid_search2.fit(X_scaled, Y) # Training, testing , evaluation, ranking.\n",
        "best_depth = grid_search2.best_params_\n",
        "print(best_depth)\n",
        "best_result = grid_search2.best_score_\n",
        "print(best_result)"
      ],
      "metadata": {
        "colab": {
          "base_uri": "https://localhost:8080/"
        },
        "id": "hvXndBwY6u68",
        "outputId": "346370b1-4d5a-4f26-9bfc-8aab39fe969d"
      },
      "execution_count": null,
      "outputs": [
        {
          "output_type": "stream",
          "name": "stdout",
          "text": [
            "{'max_depth': 25}\n",
            "0.33758865248226955\n"
          ]
        }
      ]
    },
    {
      "cell_type": "code",
      "source": [
        "# Decision Tree Classifier (method#1) with the best depth and best features\n",
        "X2 = data2[['OverTime','MonthlyIncome','MaritalStatus_Single','EnvironmentSatisfaction','Age']] # Features\n",
        "#Y = data2['PastEmployee'] # Labels\n",
        "X_scaled = StandardScaler().fit_transform(X2) # scaling\n",
        "X_train, X_test, Y_train, Y_test = train_test_split( X_scaled, Y, test_size = 0.3, random_state = 100)# splitting\n",
        "X_train,Y_train =SMOTE (random_state = 100).fit_resample(X_train,Y_train)# balancing\n",
        "DT_classifier5 = tree.DecisionTreeClassifier(criterion = 'entropy', max_depth = 3)# classifier building\n",
        "DT_classifier5.fit(X_train, Y_train) # training\n",
        "Y_pred3 = DT_classifier5.predict(X_test) # testing\n",
        "# imp_features = Series(DT_classifier5.feature_importances_, index=list(X)).sort_values(ascending=False) # what are the important features?\n",
        "# print(imp_features)\n",
        "# Acuracy and confusion matrix\n",
        "from sklearn import metrics\n",
        "Accuracy=metrics.accuracy_score(Y_test, Y_pred3) # calculating accuaracy\n",
        "print(\"Accuracy: \", Accuracy) # Is this a good metric??\n",
        "con_matrix = metrics.confusion_matrix(Y_test, Y_pred3)\n",
        "print (con_matrix)\n",
        "recall = metrics.recall_score(Y_test, Y_pred3)\n",
        "print (recall)\n",
        "percision=metrics.precision_score(Y_test, Y_pred3)\n",
        "print(percision)"
      ],
      "metadata": {
        "colab": {
          "base_uri": "https://localhost:8080/"
        },
        "id": "w0dw0oqp6y47",
        "outputId": "d6709d26-62e9-4dbb-cb69-7ffd7b72d7b7"
      },
      "execution_count": null,
      "outputs": [
        {
          "output_type": "stream",
          "name": "stdout",
          "text": [
            "Accuracy:  0.7324263038548753\n",
            "[[283  91]\n",
            " [ 27  40]]\n",
            "0.5970149253731343\n",
            "0.3053435114503817\n"
          ]
        }
      ]
    }
  ]
}