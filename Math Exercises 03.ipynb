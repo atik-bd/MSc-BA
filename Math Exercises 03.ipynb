{
  "nbformat": 4,
  "nbformat_minor": 0,
  "metadata": {
    "colab": {
      "provenance": [],
      "include_colab_link": true
    },
    "kernelspec": {
      "name": "python3",
      "display_name": "Python 3"
    },
    "language_info": {
      "name": "python"
    }
  },
  "cells": [
    {
      "cell_type": "markdown",
      "metadata": {
        "id": "view-in-github",
        "colab_type": "text"
      },
      "source": [
        "<a href=\"https://colab.research.google.com/github/atik-bd/MSc-BA/blob/main/Math%20Exercises%2003.ipynb\" target=\"_parent\"><img src=\"https://colab.research.google.com/assets/colab-badge.svg\" alt=\"Open In Colab\"/></a>"
      ]
    },
    {
      "cell_type": "markdown",
      "source": [
        "* **Module Code:** B9DA108\n",
        "* **Module Title:** Programming for Data Analysis"
      ],
      "metadata": {
        "id": "F1VocalpyjDy"
      }
    },
    {
      "cell_type": "markdown",
      "source": [
        "**(Algebra: solve quadratic equations)**\n",
        "\n",
        "The two roots of a quadratic equation, for example, can be obtained using the following formula:\n",
        "\n",
        "Write a program that prompts the user to enter values for a, b, and c and displays the result based on the discriminant. If the discriminant is positive, display two roots. If the discriminant is 0, display one root. Otherwise, display The equation has no real roots."
      ],
      "metadata": {
        "id": "sWcJ8TrYy_bm"
      }
    },
    {
      "cell_type": "code",
      "execution_count": null,
      "metadata": {
        "id": "XL9IzDcrybZS",
        "colab": {
          "base_uri": "https://localhost:8080/"
        },
        "outputId": "16a94ada-ed7b-415b-f446-7d1944748395"
      },
      "outputs": [
        {
          "output_type": "stream",
          "name": "stdout",
          "text": [
            "Enter a, b, c: 2,3,-3\n",
            "The roots are 0.6861 -2.1861\n"
          ]
        }
      ],
      "source": [
        "import math as mt\n",
        "\n",
        "a, b, c = eval(input(\"Enter a, b, c: \"))\n",
        "#discrimant=mt.sqrt(b**2-4*a*c)\n",
        "discriminant = mt.pow(b, 2) - 4 * a * c\n",
        "\n",
        "if discriminant > 0:\n",
        "    r1 = (-b + mt.sqrt(b ** 2 - 4 * a * c)) / (2 * a)\n",
        "    r2 = (-b - mt.sqrt(b ** 2 - 4 * a * c)) / (2 * a)\n",
        "    print(\"The roots are\", format(r1, \"0.4f\"), format(r2, \"0.4f\"))\n",
        "elif discriminant == 0:\n",
        "    r1 = (-b + mt.sqrt(b ** 2 - 4 * a * c)) / (2 * a)\n",
        "    print(\"The root is\", format(r1, \"0.6f\"))\n",
        "else:\n",
        "\n",
        "    print(\"The equation has no real roots\")"
      ]
    },
    {
      "cell_type": "markdown",
      "source": [
        "**(Algebra: solve 2*2 linear equations)**\n",
        "\n",
        "Write a program that prompts the user to enter a, b, c, d, e, and f and display the result. If ad – bc is 0, report that The equation has no solution.\n",
        "\n"
      ],
      "metadata": {
        "id": "7xY6MQgqzZOO"
      }
    },
    {
      "cell_type": "code",
      "source": [
        "a, b, c, d, e, f = eval(input(\"Enter a, b, c, d, e, f: \"))\n",
        "\n",
        "if a * d - b * c == 0:\n",
        "    print(\"The equation has no solution\")\n",
        "else:\n",
        "    x = (e * d - b * f) / (a * d - b * c)\n",
        "    y = (a * f - e * c) / (a * d - b * c)\n",
        "    print(\"x is\", format(x, \"0.2f\"), \"y is\", format(y, \"0.2f\"))"
      ],
      "metadata": {
        "id": "hsP0f6hBzXVN",
        "colab": {
          "base_uri": "https://localhost:8080/"
        },
        "outputId": "93a6b6b2-3e24-43ca-de3c-602afdee1118"
      },
      "execution_count": null,
      "outputs": [
        {
          "output_type": "stream",
          "name": "stdout",
          "text": [
            "Enter a, b, c, d, e, f: 1,3,2,4,5,6\n",
            "x is -1.00 y is 2.00\n"
          ]
        }
      ]
    },
    {
      "cell_type": "markdown",
      "source": [
        "**(Find future dates)**\n",
        "\n",
        "Write a program that prompts the user to enter an integer for today’s day of the week (Sunday is 0, Monday is 1, ..., and Saturday is 6). Also prompt the user to enter the number of days after today for a future day and display the future day of the week."
      ],
      "metadata": {
        "id": "RfmZPpt3z28A"
      }
    },
    {
      "cell_type": "code",
      "source": [
        "d = eval(input(\"Enter today's day: \"))\n",
        "n = eval(input(\"Enter the number of days elapsed since today: \"))\n",
        "res = (n + d) % 7\n",
        "x = \"\"\n",
        "\n",
        "if res == 0:\n",
        "    x = \"Sunday\"\n",
        "elif res == 1:\n",
        "    x = \"Monday\"\n",
        "elif res == 2:\n",
        "    x = \"Tuesday\"\n",
        "elif res == 3:\n",
        "    x = \"Wednesday\"\n",
        "elif res == 4:\n",
        "    x = \"Thursday\"\n",
        "elif res == 5:\n",
        "    x = \"Friday\"\n",
        "elif res == 6:\n",
        "    x = \"Saturday\"\n",
        "\n",
        "if d == 0:\n",
        "    d = \"Sunday\"\n",
        "elif d == 1:\n",
        "    d = \"Monday\"\n",
        "elif d == 2:\n",
        "    d = \"Tuesday\"\n",
        "elif d == 3:\n",
        "    d = \"Wednesday\"\n",
        "elif d == 4:\n",
        "    d = \"Thursday\"\n",
        "elif d == 5:\n",
        "    d = \"Friday\"\n",
        "elif d == 6:\n",
        "    d = \"Saturday\"\n",
        "\n",
        "print(\"Today is\", d, \"and the future day is\", x)"
      ],
      "metadata": {
        "id": "T21P2PICzy7z",
        "colab": {
          "base_uri": "https://localhost:8080/"
        },
        "outputId": "2b03243b-1518-4a26-c831-5eb046bdf995"
      },
      "execution_count": null,
      "outputs": [
        {
          "output_type": "stream",
          "name": "stdout",
          "text": [
            "Enter today's day: 7\n",
            "Enter the number of days elapsed since today: 56\n",
            "Today is 7 and the future day is Sunday\n"
          ]
        }
      ]
    },
    {
      "cell_type": "code",
      "source": [],
      "metadata": {
        "id": "qG_15zIQXUxt"
      },
      "execution_count": null,
      "outputs": []
    },
    {
      "cell_type": "code",
      "source": [],
      "metadata": {
        "id": "SEx2jdm7XUnu"
      },
      "execution_count": null,
      "outputs": []
    },
    {
      "cell_type": "code",
      "source": [],
      "metadata": {
        "id": "5gl6WoiQL984"
      },
      "execution_count": null,
      "outputs": []
    },
    {
      "cell_type": "markdown",
      "source": [
        "**(Health application: BMI )**\n",
        "\n",
        "To let users enter their weight in pounds and their height in feet and inches. For example, if a person is 5 feet and 10 inches, you will enter 5 for feet and 10 for inches."
      ],
      "metadata": {
        "id": "IfT6zM-60LbM"
      }
    },
    {
      "cell_type": "code",
      "source": [
        "KILOGRAMS_PER_POUND = 0.45359237\n",
        "METERS_PER_INCH = 0.0254\n",
        "\n",
        "weight = eval(input(\"Enter weight in pounds: \"))\n",
        "feet = eval(input(\"Enter feet: \"))\n",
        "inches = eval(input(\"Enter inches: \"))\n",
        "\n",
        "weightInKilograms = weight * KILOGRAMS_PER_POUND\n",
        "totalHeightInches = feet * 12 + inches\n",
        "heightInMeters = totalHeightInches * METERS_PER_INCH\n",
        "\n",
        "bmi = weightInKilograms / (heightInMeters * heightInMeters)\n",
        "\n",
        "print(\"BMI is\", bmi)\n",
        "if bmi < 18.5:\n",
        "    print(\"Underweight\")\n",
        "elif bmi < 25:\n",
        "    print(\"Normal\")\n",
        "elif bmi < 30:\n",
        "    print(\"Overweight\")\n",
        "else:\n",
        "    print(\"Obese\")"
      ],
      "metadata": {
        "id": "7JN4YoEuz_-D",
        "colab": {
          "base_uri": "https://localhost:8080/"
        },
        "outputId": "84cfb857-27f8-4f6d-e3bd-8260521b2159"
      },
      "execution_count": null,
      "outputs": [
        {
          "output_type": "stream",
          "name": "stdout",
          "text": [
            "Enter weight in pounds: 120\n",
            "Enter feet: 5.9\n",
            "Enter inches: 12\n",
            "BMI is 12.306055794286202\n",
            "Underweight\n"
          ]
        }
      ]
    },
    {
      "cell_type": "markdown",
      "source": [
        "**(Sort three integers)**\n",
        "\n",
        "Write a program that prompts the user to enter three integers and displays them in increasing order."
      ],
      "metadata": {
        "id": "hylVbqFv1Dqm"
      }
    },
    {
      "cell_type": "code",
      "source": [
        "import math\n",
        "\n",
        "a, b, c = eval(input(\"Enter a, b, c: \"))\n",
        "A, B, C = False, False, False\n",
        "s = \"\"\n",
        "\n",
        "if a <= b and a <= c:\n",
        "    s += str(a) + \", \"\n",
        "    if b < c:\n",
        "        s += str(b) + \", \"\n",
        "        C = True\n",
        "    else:\n",
        "        s += str(c) + \", \"\n",
        "        B = True\n",
        "elif b <= a and b <= c:\n",
        "    s += str(b) + \", \"\n",
        "    if a < c:\n",
        "        s += str(a) + \", \"\n",
        "        C = True\n",
        "    else:\n",
        "        s += str(c) + \", \"\n",
        "        A = True\n",
        "elif c <= a and c <= b:\n",
        "    s += str(c) + \", \"\n",
        "    if b < a:\n",
        "        s += str(b) + \", \"\n",
        "        A = True\n",
        "    else:\n",
        "        s += str(a) + \", \"\n",
        "        B = True\n",
        "\n",
        "if A:\n",
        "    s += str(a)\n",
        "if B:\n",
        "    s += str(b)\n",
        "if C:\n",
        "    s += str(c)\n",
        "\n",
        "print(s)"
      ],
      "metadata": {
        "id": "MZ-klFgZ1Ar3"
      },
      "execution_count": null,
      "outputs": []
    },
    {
      "cell_type": "markdown",
      "source": [
        "**(Financial: compare costs)**\n",
        "\n",
        "Suppose you shop for rice and find it in two differentsized packages. You would like to write a program to compare the costs of the packages. The program prompts the user to enter the weight and price of each package and then displays the one with the better price."
      ],
      "metadata": {
        "id": "z3SJMLWP1Mql"
      }
    },
    {
      "cell_type": "code",
      "source": [
        "w1, p1 = eval(input(\"Enter weight and price for package 1: \"))\n",
        "w2, p2 = eval(input(\"Enter weight and price for package 2: \"))\n",
        "\n",
        "pricePerKilo1 = p1 / w1\n",
        "pricePerKilo2 = p2 / w2\n",
        "\n",
        "if pricePerKilo1 > pricePerKilo2:\n",
        "    print(\"Package 1 has the better price.\")\n",
        "elif pricePerKilo2 > pricePerKilo1:\n",
        "    print(\"Package 2 has the better price.\")\n",
        "else:\n",
        "    print(\"Both have a good price\")"
      ],
      "metadata": {
        "id": "5-qDGkLt1KzB"
      },
      "execution_count": null,
      "outputs": []
    },
    {
      "cell_type": "markdown",
      "source": [
        "**(Game: multiplication quiz)**\n",
        "\n",
        "Randomly generates a subtraction question. Revise the program to randomly generate a multiplication question with two integers less than 100."
      ],
      "metadata": {
        "id": "tPXq6Klf1cYA"
      }
    },
    {
      "cell_type": "code",
      "source": [
        "import random\n",
        "\n",
        "n1, n2 = random.randint(0, 99), random.randint(0, 99)\n",
        "s = \"What is \" + str(n1) + \" * \" + str(n2) + \" ? \"\n",
        "res = eval(input(s))\n",
        "\n",
        "if res == (n1 * n2):\n",
        "    print(\"You are correct!\")\n",
        "else:\n",
        "    print(\"You are wrong\")\n",
        "    print(str(n1), \"*\", str(n2), \"=\", str(n1 * n2))"
      ],
      "metadata": {
        "id": "wfo7IcL11ajK"
      },
      "execution_count": null,
      "outputs": []
    },
    {
      "cell_type": "markdown",
      "source": [
        "**(Find the number of days in a month)**\n",
        "\n",
        "Write a program that prompts the user to enter the month and year and displays the number of days in the month. For example, if the user entered month 2 and year 2000, the program should display that February 2000 has 29 days. If the user entered month 3 and year 2005, the program should display that March 2005 has 31 days."
      ],
      "metadata": {
        "id": "NRONJk-C1t3A"
      }
    },
    {
      "cell_type": "code",
      "source": [
        "month, year = eval(input(\"Enter month and year: \"))\n",
        "days = 0\n",
        "isLeapYear = (year % 4 == 0 and year % 100 != 0) or (year % 400 == 0)\n",
        "\n",
        "if month == 1:\n",
        "    month = \"January\"\n",
        "    days = 31\n",
        "elif month == 2:\n",
        "    month = \"February\"\n",
        "    if isLeapYear:\n",
        "        days = 29\n",
        "    else:\n",
        "        days = 28\n",
        "elif month == 3:\n",
        "    month = \"March\"\n",
        "    days = 31\n",
        "elif month == 4:\n",
        "    month = \"April\"\n",
        "    days = 30\n",
        "elif month == 5:\n",
        "    month = \"May\"\n",
        "    days = 31\n",
        "elif month == 6:\n",
        "    month = \"June\"\n",
        "    days = 30\n",
        "elif month == 7:\n",
        "    month = \"July\"\n",
        "    days = 31\n",
        "elif month == 8:\n",
        "    month = \"Augustus\"\n",
        "    days = 30\n",
        "elif month == 9:\n",
        "    month = \"September\"\n",
        "    days = 31\n",
        "elif month == 10:\n",
        "    month = \"October\"\n",
        "    days = 30\n",
        "elif month == 11:\n",
        "    month = \"November\"\n",
        "    days = 31\n",
        "elif month == 12:\n",
        "    month = \"December\"\n",
        "    days = 30\n",
        "\n",
        "print(month, year, \"has\", days, \"days\")"
      ],
      "metadata": {
        "id": "iyX6AJkH1rjz"
      },
      "execution_count": null,
      "outputs": []
    },
    {
      "cell_type": "code",
      "source": [
        "import sys\n",
        "\n",
        "# Prompt the user to enter filing status\n",
        "status = eval(input(\n",
        "    \"(0-single filer, 1-married jointly,\\n\" +\n",
        "    \"2-married separately, 3-head of household)\\n\" +\n",
        "    \"Enter the filing status: \"))\n",
        "\n",
        "# Prompt the user to enter taxable income\n",
        "income = eval(input(\"Enter the taxable income: \"))\n",
        "\n",
        "# Compute tax\n",
        "tax = 0\n",
        "\n",
        "if status == 0:  # Compute tax for single filers\n",
        "    if income <= 8350:\n",
        "        tax = income * 0.10\n",
        "    elif income <= 33950:\n",
        "        tax = 8350 * 0.10 + (income - 8350) * 0.15\n",
        "    elif income <= 82250:\n",
        "        tax = 8350 * 0.10 + (33950 - 8350) * 0.15 + \\\n",
        "            (income - 33950) * 0.25\n",
        "    elif income <= 171550:\n",
        "        tax = 8350 * 0.10 + (33950 - 8350) * 0.15 + \\\n",
        "            (82250 - 33950) * 0.25 + (income - 82250) * 0.28\n",
        "    elif income <= 372950:\n",
        "        tax = 8350 * 0.10 + (33950 - 8350) * 0.15 + \\\n",
        "            (82250 - 33950) * 0.25 + (171550 - 82250) * 0.28 + \\\n",
        "            (income - 171550) * 0.33\n",
        "    else:\n",
        "        tax = 8350 * 0.10 + (33950 - 8350) * 0.15 + \\\n",
        "              (82250 - 33950) * 0.25 + (171550 - 82250) * 0.28 + \\\n",
        "              (372950 - 171550) * 0.33 + (income - 372950) * 0.35\n",
        "elif status == 1: # Compute tax for married file jointly\n",
        "    if income <= 16700:\n",
        "        tax = income * 0.10\n",
        "    elif income <= 67900:\n",
        "        tax = 16700 * 0.10 + (income - 16700) * 0.15\n",
        "    elif income <= 137050:\n",
        "        tax = 16700 * 0.10 + (67900 - 16700) * 0.15 + \\\n",
        "            (income - 67900) * 0.25\n",
        "    elif income <= 208850:\n",
        "        tax = 16700 * 0.10 + (67900 - 16700) * 0.15 + \\\n",
        "            (137050 - 6700) * 0.25 + (income - 137050) * 0.28\n",
        "    elif income <= 372950:\n",
        "        tax = 16700 * 0.10 + (67900 - 16700) * 0.15 + \\\n",
        "            (137050 - 67900) * 0.25 + (208850 - 137050) * 0.28 + \\\n",
        "            (income - 208850) * 0.33\n",
        "    else:\n",
        "        tax = 16700 * 0.10 + (67900 - 16700) * 0.15 + \\\n",
        "              (137050 - 67900) * 0.25 + (208850 - 137050) * 0.28 + \\\n",
        "              (372950 - 208850) * 0.33 + (income - 372950) * 0.35\n",
        "elif status == 2: # Compute tax for married separately\n",
        "    if income <= 8350:\n",
        "        tax = income * 0.10\n",
        "    elif income <= 33950:\n",
        "        tax = 8350 * 0.10 + (income - 8350) * 0.15\n",
        "    elif income <= 68525:\n",
        "        tax = 8350 * 0.10 + (33950 - 8350) * 0.15 + \\\n",
        "            (income - 33950) * 0.25\n",
        "    elif income <= 104425:\n",
        "        tax = 8350 * 0.10 + (33950 - 8350) * 0.15 + \\\n",
        "            (68525 - 33950) * 0.25 + (income - 68525) * 0.28\n",
        "    elif income <= 186475:\n",
        "        tax = 8350 * 0.10 + (33950 - 8350) * 0.15 + \\\n",
        "            (68525 - 33950) * 0.25 + (104425 - 68525) * 0.28 + \\\n",
        "            (income - 104425) * 0.33\n",
        "    else:\n",
        "        tax = 8350 * 0.10 + (33950 - 8350) * 0.15 + \\\n",
        "              (68525 - 33950) * 0.25 + (104425 - 68525) * 0.28 + \\\n",
        "              (186475 - 104425) * 0.33 + (income - 186475) * 0.35\n",
        "\n",
        "elif status == 3: # Compute tax for head of household\n",
        "    if income <= 11950:\n",
        "        tax = income * 0.10\n",
        "    elif income <= 45500:\n",
        "        tax = 11950 * 0.10 + (income - 11950) * 0.15\n",
        "    elif income <= 117450:\n",
        "        tax = 11950 * 0.10 + (45500 - 11950) * 0.15 + \\\n",
        "            (income - 45500) * 0.25\n",
        "    elif income <= 190200:\n",
        "        tax = 11950 * 0.10 + (45500 - 11950) * 0.15 + \\\n",
        "            (117450 - 45500) * 0.25 + (income - 117450) * 0.28\n",
        "    elif income <= 372950:\n",
        "        tax = 11950 * 0.10 + (45500 - 11950) * 0.15 + \\\n",
        "            (117450 - 45500) * 0.25 + (104425 - 117450) * 0.28 + \\\n",
        "            (income - 192200) * 0.33\n",
        "    else:\n",
        "        tax = 11950 * 0.10 + (45500 - 11950) * 0.15 + \\\n",
        "              (117450 - 45500) * 0.25 + (192200 - 117450) * 0.28 + \\\n",
        "              (186475 - 192200) * 0.33 + (income - 372950) * 0.35\n",
        "else:\n",
        "    print(\"Error: invalid status\")\n",
        "    sys.exit()\n",
        "\n",
        "# Display the result\n",
        "print(\"Tax is\", format(tax, \".2f\"))"
      ],
      "metadata": {
        "id": "3qTwzVng148I"
      },
      "execution_count": null,
      "outputs": []
    },
    {
      "cell_type": "markdown",
      "source": [
        "**(Game: heads or tails)**\n",
        "\n",
        "Write a program that lets the user guess whether a flipped coin displays the head or the tail. The program randomly generates an integer 0 or 1, which represents head or tail. The program prompts the user to enter a guess and reports whether the guess is correct or incorrect.\n"
      ],
      "metadata": {
        "id": "BZgdwQgA2Mf8"
      }
    },
    {
      "cell_type": "code",
      "source": [
        "import random\n",
        "\n",
        "g = random.randint(0, 1)\n",
        "guess = int(input(\"Guess Head(0) or Tail(1): \"))\n",
        "\n",
        "if g == guess:\n",
        "    print(\"You are right. The guess is \", end=\"Head\" if g == 0 else \"Tail\")\n",
        "else:\n",
        "    print(\"Wrong. The guess is \", end=\"Head\" if g == 0 else \"Tail\")"
      ],
      "metadata": {
        "id": "qB899j3S2JyO"
      },
      "execution_count": null,
      "outputs": []
    },
    {
      "cell_type": "markdown",
      "source": [
        "**(Game: lottery)**\n",
        "\n",
        "The program prompts the user to enter a three-digit number and determines whether the user wins according to the following rules:\n",
        "\n",
        "* If the user input matches the lottery number in the exact order, the award is $10,000.\n",
        "\n",
        "* If all the digits in the user input match all the digits in the lottery number, the award is $3,000.\n",
        "\n",
        "* If one digit in the user input matches a digit in the lottery number, the award is $1,000."
      ],
      "metadata": {
        "id": "zEVLPFlB2YHY"
      }
    },
    {
      "cell_type": "code",
      "source": [
        "import random\n",
        "\n",
        "num = random.randint(100, 999)\n",
        "guess = int(input(\"Enter 3 digit number: \"))\n",
        "\n",
        "NUM = num\n",
        "GUESS = guess\n",
        "\n",
        "g1 = GUESS // 100\n",
        "GUESS %= 100\n",
        "g2 = GUESS // 10\n",
        "GUESS %= 10\n",
        "g3 = GUESS\n",
        "\n",
        "n1 = NUM // 100\n",
        "NUM %= 100\n",
        "n2 = NUM // 10\n",
        "NUM %= 10\n",
        "n3 = NUM\n",
        "\n",
        "if num == guess:\n",
        "    print(\"Exact match. You won $10,000\")\n",
        "elif (g1 == n1 and g3 == n2 and g2 == n3 or\n",
        "      g2 == n1 and g1 == n2 and g3 == n3 or\n",
        "      g2 == n1 and g3 == n2 and g1 == n3 or\n",
        "      g3 == n1 and g1 == n2 and g2 == n3 or\n",
        "      g3 == n1 and g2 == n2 and g1 == n3):\n",
        "    print(\"Match all digits: you win $3,000\")\n",
        "elif (g1 == n1 or g1 == n2 or g1 == n3\n",
        "      or g2 == n1 or g2 == n2 or g2 == n3\n",
        "      or g3 == n1 or g3 == n2 or g3 == n2):\n",
        "    print(\"Match one digit: you win $1,000\")\n",
        "else:\n",
        "    print(\"Sorry, no match\")"
      ],
      "metadata": {
        "id": "bVGvTaOx2VYz"
      },
      "execution_count": null,
      "outputs": []
    },
    {
      "cell_type": "markdown",
      "source": [
        "**(Game: scissor, rock, paper)**\n",
        "\n",
        "Write a program that plays the popular scissor-rockpaper game. (A scissor can cut a paper, a rock can knock a scissor, and a paper can wrap a rock.) The program randomly generates a number 0, 1, or 2 representing scissor, rock, and paper. The program prompts the user to enter a number 0, 1, or 2 and displays a message indicating whether the user or the computer wins, loses, or draws."
      ],
      "metadata": {
        "id": "KkCg8Lld2yj4"
      }
    },
    {
      "cell_type": "code",
      "source": [
        "import random\n",
        "\n",
        "c = random.randint(0, 2)\n",
        "guess = int(input(\"scissor (0), rock (1), paper (2): \"))\n",
        "comp = \"\"\n",
        "player = \"\"\n",
        "isWon = False\n",
        "\n",
        "if c == 0:\n",
        "    comp = \"scissor\"\n",
        "elif c == 1:\n",
        "    comp = \"rock\"\n",
        "else:\n",
        "    comp = \"paper\"\n",
        "\n",
        "if guess == 0:\n",
        "    player = \"scissor\"\n",
        "elif guess == 1:\n",
        "    player = \"rock\"\n",
        "else:\n",
        "    player = \"paper\"\n",
        "\n",
        "if guess == c:\n",
        "    print(\"The computer is\", comp, \". You are\", player, \". It's a draw\")\n",
        "elif guess == 0 and c == 2:\n",
        "    print(\"The computer is\", comp, \". You are\", player, \". You won\")\n",
        "elif c == 0 and guess == 2:\n",
        "    print(\"The computer is\", comp, \". You are\", player, \". You lose\")\n",
        "elif guess > c and (guess != 0 and c != 2):\n",
        "    print(\"The computer is\", comp, \". You are\", player, \". You won\")\n",
        "elif guess < c and (c != 0 and guess != 2):\n",
        "    print(\"The computer is\", comp, \". You are\", player, \". You lose\")"
      ],
      "metadata": {
        "id": "quK-jvcZ2wNo"
      },
      "execution_count": null,
      "outputs": []
    },
    {
      "cell_type": "markdown",
      "source": [
        "**(Financials: currency exchange)**\n",
        "\n",
        "Write a program that prompts the user to enter the currency exchange rate between U.S. dollars and Chinese Renminbi (RMB).\n",
        "\n",
        "Prompt the user to enter 0 to convert from U.S. dollars to Chinese RMB and 1 for vice versa. Prompt the user to enter the amount in U.S. dollars or Chinese RMB to convert it to Chinese RMB or U.S. dollars, respectively.\n"
      ],
      "metadata": {
        "id": "Ke5NggvP3AlT"
      }
    },
    {
      "cell_type": "code",
      "source": [
        "exchngRate = eval(input(\"Enter the exchange rate from dollars to RMB: \"))\n",
        "convertion = int(input(\"Enter 0 to convert dollars to RMB and 1 vice versa: \"))\n",
        "dollars = 0\n",
        "rmb = 0\n",
        "if convertion == 0:\n",
        "    dollars = eval(input(\"Enter the dollar amount: \"))\n",
        "    rmb = dollars * exchngRate\n",
        "    print(\"$\" + format(dollars, \"0.1f\"), \"is\", format(rmb, \"0.1f\"), \"Yuan\")\n",
        "elif convertion == 1:\n",
        "    rmb = eval(input(\"Enter the RMB amount: \"))\n",
        "    dollars = rmb / exchngRate\n",
        "    print(format(rmb, \"0.1f\"), \"Yuan is $\" + format(dollars, \"0.1f\"))\n",
        "else:\n",
        "    print(\"Incorrect input\")"
      ],
      "metadata": {
        "id": "jjIJVrEp28gi"
      },
      "execution_count": null,
      "outputs": []
    },
    {
      "cell_type": "markdown",
      "source": [
        "**(Compute the perimeter of a triangle)**\n",
        "\n",
        "Write a program that reads three edges for a triangle and computes the perimeter if the input is valid. Otherwise, display that the input is invalid. The input is valid if the sum of every pair of two edges is greater than the remaining edge.\n"
      ],
      "metadata": {
        "id": "gIffo5NU3MtB"
      }
    },
    {
      "cell_type": "code",
      "source": [
        "e1, e2, e3 = eval(input(\"Enter three edges: \"))\n",
        "\n",
        "if e1 + e2 > e3 and e1 + e3 > e2 and e2 + e3 > e1:\n",
        "    res = e1 + e2 + e3\n",
        "    print(\"The perimeter is\", str(res))\n",
        "else:\n",
        "    print(\"The input is invalid\")"
      ],
      "metadata": {
        "id": "kqDkI6RX3K6m"
      },
      "execution_count": null,
      "outputs": []
    },
    {
      "cell_type": "markdown",
      "source": [
        "**(Science: wind-chill temperature)**\n",
        "\n",
        " Write a program that prompts the user to enter a temperature and a wind speed. The program displays the wind-chill temperature if the input is valid; otherwise, it displays a message indicating whether the temperature and/or wind speed is invalid.\n"
      ],
      "metadata": {
        "id": "vL2ztNZ53YGa"
      }
    },
    {
      "cell_type": "code",
      "source": [
        "temp, windSpeed = eval(input(\"Enter temperature in Fahrenheit and wind speed: \"))\n",
        "\n",
        "if (temp < -58 or temp > 41) or (windSpeed < 2):\n",
        "    print(\"The temperature and/or wind speed is invalid.\")\n",
        "else:\n",
        "    windChill = 35.74 + 0.6215 * temp - 35.75 * windSpeed ** 0.16 + 0.4275 * temp * windSpeed ** 0.16\n",
        "    print(\"The wind chill temprature is\", format(windChill, \"0.2f\"))"
      ],
      "metadata": {
        "id": "l4dsWSML3V0n"
      },
      "execution_count": null,
      "outputs": []
    },
    {
      "cell_type": "markdown",
      "source": [
        "(Geometry: point in a circle?)\n",
        "\n",
        "Write a program that prompts the user to enter a point (x, y) and checks whether the point is within the circle centered at (0, 0) with radius 10."
      ],
      "metadata": {
        "id": "ow_g2hB8Ehdz"
      }
    },
    {
      "cell_type": "code",
      "source": [
        "import math\n",
        "RADIUS = 10\n",
        "X = Y = 0\n",
        "x, y = eval(input(\"Enter a point with two coordinates: \"))\n",
        "\n",
        "distance = math.sqrt((x - X) ** 2 + (y - Y) ** 2)\n",
        "\n",
        "if RADIUS >= distance >= -RADIUS:\n",
        "    print(\"Point (\", format(x, \"0.1f\"), \",\", format(y, \"0.1f\"), \")\", \"is in the circle\")\n",
        "else:\n",
        "    print(\"Point (\", format(x, \"0.1f\"), \",\", format(y, \"0.1f\"), \")\", \"is not in the circle\")"
      ],
      "metadata": {
        "id": "UMl0gpIqEeMI"
      },
      "execution_count": null,
      "outputs": []
    },
    {
      "cell_type": "markdown",
      "source": [
        "(Geometry: point in a rectangle?)\n",
        "\n",
        "Write a program that prompts the user to enter a point (x, y) and checks whether the point is within the rectangle centered at (0, 0) with width 10 and height 5."
      ],
      "metadata": {
        "id": "XmZ6isTXFJ9r"
      }
    },
    {
      "cell_type": "code",
      "source": [
        "import math\n",
        "\n",
        "HEIGHT = 5\n",
        "WIDTH = 10\n",
        "X = Y = 0\n",
        "x, y = eval(input(\"Enter a point with two coordinates: \"))\n",
        "\n",
        "distance = math.sqrt((x - X) ** 2 + (y - Y) ** 2)\n",
        "\n",
        "if WIDTH >= distance >= -WIDTH and HEIGHT >= distance >= -HEIGHT:\n",
        "    print(\"Point (\", format(x, \"0.1f\"), \",\", format(y, \"0.1f\"), \")\", \"is in the rectangle\")\n",
        "else:\n",
        "    print(\"Point (\", format(x, \"0.1f\"), \",\", format(y, \"0.1f\"), \")\", \"is not in the rectangle\")"
      ],
      "metadata": {
        "id": "buJXpiCMFHVu"
      },
      "execution_count": null,
      "outputs": []
    },
    {
      "cell_type": "markdown",
      "source": [
        "(Game: pick a card )\n",
        "\n",
        "Write a program that simulates picking a card from a deck of 52 cards. Your program should display the rank (Ace, 2, 3, 4, 5, 6, 7, 8, 9, 10 Jack, Queen, King) and suit (Clubs, Diamonds, Hearts, Spades) of the card.\n"
      ],
      "metadata": {
        "id": "l5oQaXW7FbPB"
      }
    },
    {
      "cell_type": "code",
      "source": [
        "import random\n",
        "\n",
        "shape = random.randint(1, 4)\n",
        "\n",
        "if shape == 1:\n",
        "    shape = \"Clubs\"\n",
        "elif shape == 2:\n",
        "    shape = \"Diamonds\"\n",
        "elif shape == 3:\n",
        "    shape = \"Hearts\"\n",
        "elif shape == 4:\n",
        "    shape = \"Spades\"\n",
        "\n",
        "rank = random.randint(1, 13)\n",
        "\n",
        "if rank == 1:\n",
        "    rank = \"Ace\"\n",
        "elif rank == 11:\n",
        "    rank = \"Jack\"\n",
        "elif rank == 12:\n",
        "    rank = \"Queen\"\n",
        "elif rank == 13:\n",
        "    rank = \"King\"\n",
        "\n",
        "print(\"The card you picked is the\", rank, \"of\", shape)"
      ],
      "metadata": {
        "id": "JQ4A5Eb9FZCQ"
      },
      "execution_count": null,
      "outputs": []
    },
    {
      "cell_type": "markdown",
      "source": [
        "**(Geometry: intersecting point)**\n",
        "\n",
        "Two points on line 1 are given as (x1, y1) and (x2, y2) and on line 2 as (x3, y3) and (x4, y4). The intersecting point of the two lines can be found by solving the following linear equation:\n",
        "\n",
        "* (y1 - y2)x - (x1 - x2)y = (y1 - y2)x1 - (x1 - x2)y1\n",
        "* (y3 - y4)x - (x3 - x4)y = (y3 - y4)x3 - (x3 - x4)y3\n",
        "\n",
        "This linear equation can be solved using Cramer’s rule. If the equation has no solutions, the two lines are parallel (Figure 4.9c). Write a program that prompts the user to enter four points and displays the intersecting point."
      ],
      "metadata": {
        "id": "opdAlCgvGN1B"
      }
    },
    {
      "cell_type": "code",
      "source": [
        "x1, y1, x2, y2, x3, y3, x4, y4 = eval(input(\"Enter x1, y1, x2, y2, x3, y3, x4, y4: \"))\n",
        "\n",
        "cramer = (y1 - y2) * (x4 - x3) - (x2 - x1) * (y3 - y4)\n",
        "\n",
        "if cramer == 0:\n",
        "    print(\"The two lines are parallel\")\n",
        "else:\n",
        "    a = y1 - y2\n",
        "    b = x2 - x1\n",
        "    c = y3 - y4\n",
        "    d = x4 - x3\n",
        "    e = (y1 - y2) * x1 + (x2 - x1) * y1\n",
        "    f = (y3 - y4) * x3 + (x4 - x3) * y3\n",
        "    x = (e * d - b * f) / cramer\n",
        "    y = (a * f - e * c) / cramer\n",
        "    print(\"The intersecting point is at (\", format(x, \"0.5f\"), \",\", format(y, \"0.5f\"), \")\")"
      ],
      "metadata": {
        "id": "CrwUfNFPGB4Z"
      },
      "execution_count": null,
      "outputs": []
    },
    {
      "cell_type": "markdown",
      "source": [
        "**(Palindrome number)**\n",
        "\n",
        "Write a program that prompts the user to enter a three-digit integer and determines whether it is a palindrome number.\n",
        "\n",
        "A number is a palindromeif it reads the same from right to left and from left to right."
      ],
      "metadata": {
        "id": "RQSlkh59Gedu"
      }
    },
    {
      "cell_type": "code",
      "source": [
        "num = int(input(\"Enter a three-digit integer: \"))\n",
        "N = num\n",
        "n1 = num // 100\n",
        "num %= 100\n",
        "n2 = num // 10\n",
        "num %= 10\n",
        "n3 = num\n",
        "\n",
        "if n1 == n3:\n",
        "    print(str(N),\"is a palindrome\")\n",
        "else:\n",
        "    print(str(N), \"is not a palindrome\")"
      ],
      "metadata": {
        "id": "D_7uhKQQGcLD"
      },
      "execution_count": null,
      "outputs": []
    },
    {
      "cell_type": "markdown",
      "source": [
        "**(Geometry: points in triangle?)**\n",
        "\n",
        "Suppose a right triangle is placed in a plane as shown below. The right-angle point is at (0, 0), and the other two points are at (200, 0), and (0, 100). Write a program that prompts the user to enter a point with x- and y-coordinates and determines whether the point is inside the triangle."
      ],
      "metadata": {
        "id": "JcjTJ236Gov9"
      }
    },
    {
      "cell_type": "code",
      "source": [
        "import math\n",
        "\n",
        "X1 = Y1 = 0\n",
        "X2 = 0\n",
        "Y2 = 100\n",
        "X3 = 200\n",
        "Y3 = 0\n",
        "x, y = eval(input(\"Enter a point's x- and y-coordinates: \"))\n",
        "\n",
        "# below hypotenuse and to the right of y axis and above x axis\n",
        "if x + 2 * y < X3 and 0 <= x <= X3 and 0 <= y <= Y2:\n",
        "    print(\"The point is in the triangle \")\n",
        "else:\n",
        "    print(\"The point is not in the triangle \")"
      ],
      "metadata": {
        "id": "vBR5MvGRGmop"
      },
      "execution_count": null,
      "outputs": []
    },
    {
      "cell_type": "markdown",
      "source": [
        "**(Geometry: two rectangles)**\n",
        "\n",
        "Write a program that prompts the user to enter the center x-, y-coordinates, width, and height of two rectangles and determines whether the second rectangle is inside the first or overlaps with the first.\n",
        "\n"
      ],
      "metadata": {
        "id": "dQOfegmmGzpU"
      }
    },
    {
      "cell_type": "code",
      "source": [
        "x1, y1, w1, h1 = eval(input(\"Enter r1's center x-, y-coordinates, width, and height: \"))\n",
        "x2, y2, w2, h2 = eval(input(\"Enter r2's center x-, y-coordinates, width, and height: \"))\n",
        "\n",
        "xDistance = x1 - x2 if x1 - x2 >= 0 else x2 - x1\n",
        "yDistance = y1 - y2 if y1 - y2 >= 0 else y2 - y1\n",
        "\n",
        "if xDistance <= (w1 - w2) / 2 and yDistance <= (h1 - h2) / 2:\n",
        "    print(\"r2 is inside r1\")\n",
        "elif xDistance <= (w1 + w2) / 2 and yDistance <= (h1 + h2) / 2:\n",
        "    print(\"r2 overlaps r1\")\n",
        "else:\n",
        "    print(\"r2 does not overlap r1\")"
      ],
      "metadata": {
        "id": "3lHnxCgcGx5S"
      },
      "execution_count": null,
      "outputs": []
    }
  ]
}