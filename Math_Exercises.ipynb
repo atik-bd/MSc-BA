{
  "nbformat": 4,
  "nbformat_minor": 0,
  "metadata": {
    "colab": {
      "provenance": [],
      "include_colab_link": true
    },
    "kernelspec": {
      "name": "python3",
      "display_name": "Python 3"
    },
    "language_info": {
      "name": "python"
    }
  },
  "cells": [
    {
      "cell_type": "markdown",
      "metadata": {
        "id": "view-in-github",
        "colab_type": "text"
      },
      "source": [
        "<a href=\"https://colab.research.google.com/github/atik-bd/MSc-BA/blob/main/Math_Exercises.ipynb\" target=\"_parent\"><img src=\"https://colab.research.google.com/assets/colab-badge.svg\" alt=\"Open In Colab\"/></a>"
      ]
    },
    {
      "cell_type": "markdown",
      "source": [
        "**Q1: (Geometry: area of a pentagon)**\n",
        "\n",
        "Write a program that prompts the user to enter the length from the center of a pentagon to a vertex and computes the area of the pentagon."
      ],
      "metadata": {
        "id": "BikG54G9nilH"
      }
    },
    {
      "cell_type": "code",
      "execution_count": null,
      "metadata": {
        "id": "YPUe5Ewbmn7Y"
      },
      "outputs": [],
      "source": [
        "import math\n",
        "\n",
        "r = eval(input(\"Enter the length from the center to a vertex: \"))\n",
        "s = 2 * r * math.sin(math.pi / 5)\n",
        "area = 3 * math.sqrt(3) / 2 * s ** 2\n",
        "print(\"The area of the pentagon is\", area)"
      ]
    },
    {
      "cell_type": "markdown",
      "source": [
        "**Q2: (Geometry: great circle distance)**\n",
        "\n",
        "The great circle distance is the distance between two points on the surface of a sphere. Let (x1, y1) and (x2, y2) be the geographical latitude and longitude of two points.\n",
        "Write a program that prompts the user to enter the latitude and longitude of two points on the earth in degrees and displays its great circle distance. The average earth radius is 6,371.01 km. Note that you need to convert the degrees into radians using the math.radians function since the Python trigonometric functions use radians. The latitude and longitude degrees in the formula are for north and west. Use negative to indicate south and east degrees."
      ],
      "metadata": {
        "id": "3XTNZvE3nvLd"
      }
    },
    {
      "cell_type": "code",
      "source": [
        "import math\n",
        "\n",
        "EARTH_RADIUS = 6371.01\n",
        "x1, y1 = eval(input(\"Enter point 1 (latitude and longitude) in degrees:\\n\"))\n",
        "x2, y2 = eval(input(\"Enter point 2 (latitude and longitude) in degrees:\\n\"))\n",
        "\n",
        "x1 = math.radians(x1)\n",
        "y1 = math.radians(y1)\n",
        "x2 = math.radians(x2)\n",
        "y2 = math.radians(y2)\n",
        "\n",
        "d = EARTH_RADIUS * math.acos(math.sin(x1) * math.sin(x2) + math.cos(x1) * math.cos(x2)\n",
        "                             * math.cos(y1 - y2))\n",
        "print(\"The distance between the two points is\", d, \"km\")"
      ],
      "metadata": {
        "id": "nSXKw6ydnsx0"
      },
      "execution_count": null,
      "outputs": []
    },
    {
      "cell_type": "markdown",
      "source": [
        "**Q3: (Geography: estimate areas)**\n",
        "\n",
        "Find the GPS locations for Atlanta, Georgia;Orlando, Florida; Savannah, Georgia; and Charlotte, North Carolina from www.gps-data-team.com/map/ and compute the estimated area enclosed by these four cities."
      ],
      "metadata": {
        "id": "xqXeac4Tqgkx"
      }
    },
    {
      "cell_type": "code",
      "source": [
        "import math\n",
        "\n",
        "x1 = 51.5138505182\n",
        "y1 = -0.15690922737098845\n",
        "\n",
        "x2 = 28.5383355\n",
        "y2 = -81.37923649999999\n",
        "\n",
        "x3 = 32.0835407\n",
        "y3 = -81.09983419999998\n",
        "\n",
        "x4 = 35.2270869\n",
        "y4 = -80.84312669999997\n",
        "\n",
        "side1 = math.sqrt(math.pow(x1 - x2, 2) + math.pow(y1 - y2, 2))\n",
        "side2 = math.sqrt(math.pow(x2 - x3, 2) + math.pow(y2 - y3, 2))\n",
        "side3 = math.sqrt(math.pow(x1 - x3, 2) + math.pow(y1 - y3, 2))\n",
        "s = (side1 + side2 + side3) / 2\n",
        "area = math.sqrt(s * (s - side1) * (s - side2) * (s - side3))\n",
        "\n",
        "side1 = math.sqrt(math.pow(x1 - x3, 2) + math.pow(y1 - y3, 2))\n",
        "side2 = math.sqrt(math.pow(x4 - x3, 2) + math.pow(y4 - y3, 2))\n",
        "side3 = math.sqrt(math.pow(x1 - x4, 2) + math.pow(y1 - y4, 2))\n",
        "s = (side1 + side2 + side3) / 2\n",
        "area = math.sqrt(s * (s - side1) * (s - side2) * (s - side3)) + area\n",
        "\n",
        "print(\"The area enclosed by 4 cities is\", area, \"km^2\")"
      ],
      "metadata": {
        "id": "S0kiH7jqqetz"
      },
      "execution_count": null,
      "outputs": []
    },
    {
      "cell_type": "markdown",
      "source": [
        "**Q4: (Geometry: area of a pentagon)**\n",
        "\n",
        "Write a program that prompts the user to enter the side of a pentagon and displays the area."
      ],
      "metadata": {
        "id": "iyiUvEb_riP8"
      }
    },
    {
      "cell_type": "code",
      "source": [
        "import math\n",
        "\n",
        "s = eval(input(\"Enter the side: \"))\n",
        "area = (5 * s**2) / (4 * math.tan(math.pi / 5))\n",
        "print(\"The area of the pentagon is\", area)"
      ],
      "metadata": {
        "id": "UTUk4HlMrRsN"
      },
      "execution_count": null,
      "outputs": []
    },
    {
      "cell_type": "markdown",
      "source": [
        "**Q5: (Geometry: area of a regular polygon)**\n",
        "\n",
        "A regular polygon is an n-sided polygon in which all sides are of the same length and all angles have the same degree (i.e., the polygon is both equilateral and equiangular)."
      ],
      "metadata": {
        "id": "KR3MxwxFr5Ez"
      }
    },
    {
      "cell_type": "code",
      "source": [
        "import math\n",
        "\n",
        "n = int(input(\"Enter the number of sides: \"))\n",
        "s = eval(input(\"Enter the side: \"))\n",
        "area = (n * s ** 2) / (4 * math.tan(math.pi / n))\n",
        "print(\"The area of the polygon is\", area)"
      ],
      "metadata": {
        "id": "EXVC2jAXr21y"
      },
      "execution_count": null,
      "outputs": []
    },
    {
      "cell_type": "markdown",
      "source": [
        "**Q6: (Random character)**\n",
        "\n",
        "Write a program that displays a random uppercase letter using the time.time() function."
      ],
      "metadata": {
        "id": "695BJdUqsMsJ"
      }
    },
    {
      "cell_type": "code",
      "source": [
        "import random\n",
        "import time\n",
        "\n",
        "t = int(time.time())\n",
        "c = chr(ord('A') + t % (ord('Z') - ord('A') + 1))\n",
        "print(c)"
      ],
      "metadata": {
        "id": "FwQ7u89UsLMK"
      },
      "execution_count": null,
      "outputs": []
    },
    {
      "cell_type": "markdown",
      "source": [
        "**Q7: (Financial application: payroll)**\n",
        "\n",
        "Write a program that reads the following information and prints a payroll statement:\n",
        "* Employee’s name (e.g., Smith)\n",
        "* Number of hours worked in a week (e.g., 10)\n",
        "* Hourly pay rate (e.g., 9.75)\n",
        "* Federal tax withholding rate (e.g., 20%)\n",
        "* State tax withholding rate (e.g., 9%)"
      ],
      "metadata": {
        "id": "iaLKHSWustLu"
      }
    },
    {
      "cell_type": "code",
      "source": [
        "name = input(\"Enter employee's name: \")\n",
        "workH = eval(input(\"Enter number of hours worked in a week: \"))\n",
        "payR = eval(input(\"Enter hourly pay rate: \"))\n",
        "ftwr = eval(input(\"Enter federal tax withholding rate: \"))\n",
        "stwr = eval(input(\"Enter state tax withholding rate: \"))\n",
        "grossP = workH * payR\n",
        "fw = .2 * grossP\n",
        "sw = stwr * grossP\n",
        "total = fw + sw\n",
        "net = grossP - total\n",
        "\n",
        "print(\"Employee Name:\", format(name, \"2s\"))\n",
        "print(\"Hours Worked:\", format(workH, \".1f\"))\n",
        "print(\"Pay Rate:\", format(payR, \".2f\"))\n",
        "print(\"Gross Pay:\", format(grossP, \".1f\"))\n",
        "print(\"Deductions:\")\n",
        "print(\"\\tFederal Withholding \" + \"(\" + format(ftwr, \"2.1%\") + \"): $\" + format(fw, \".2f\"))\n",
        "print(\"\\tState Withholding \" + \"(\" + format(stwr, \".1%\") + \"): $\" + format(sw, \".2f\"))\n",
        "print(\"\\tTotal Deduction: \" + \"$\" + format(total, \".2f\"))\n",
        "print(\"Net Pay: $\" + format(net, \".2f\"))"
      ],
      "metadata": {
        "id": "5lbvCrkJsqf1"
      },
      "execution_count": null,
      "outputs": []
    },
    {
      "cell_type": "markdown",
      "source": [
        "**Q8: (Game: add three numbers)**\n",
        "\n",
        "Generate three single-digit integers and prompt the user to enter the sum of these three integers."
      ],
      "metadata": {
        "id": "3Tnfh8xSUkUY"
      }
    },
    {
      "cell_type": "code",
      "source": [
        "\n",
        "import random\n",
        "\n",
        "n1, n2, n3 = random.randint(0, 9), random.randint(0, 9), random.randint(0, 9)\n",
        "\n",
        "print(\"What is\", str(n1), \"+\", str(n2), \"+\", str(n3), \"?\")\n",
        "res = eval(input())\n",
        "print(str(n1), \"+\", str(n2), \"+\", str(n3), \"=\", res, \"is\", (res == (n1 + n2 + n3)))"
      ],
      "metadata": {
        "id": "aBx89UMST_F6"
      },
      "execution_count": null,
      "outputs": []
    },
    {
      "cell_type": "markdown",
      "source": [
        "**Q9: (Game: learn addition)**\n",
        "\n",
        "Write a program that generates two integers under 100 and prompts the user to enter the sum of these two integers. The program then reports true if the answer is correct, false otherwise."
      ],
      "metadata": {
        "id": "4-eUduDdUyZr"
      }
    },
    {
      "cell_type": "code",
      "source": [
        "import random\n",
        "\n",
        "n1, n2 = random.randint(0, 99), random.randint(0, 99)\n",
        "s = \"What is \" + str(n1) + \" + \" + str(n2) + \" ?\"\n",
        "res = eval(input(s))\n",
        "\n",
        "print((res == (n1 + n2)))"
      ],
      "metadata": {
        "id": "c1Sfsj7sUvdW"
      },
      "execution_count": null,
      "outputs": []
    },
    {
      "cell_type": "markdown",
      "source": [
        "**Q10: (Check a number)**\n",
        "\n",
        "Write a program that prompts the user to enter an integer and checks whether the number is divisible by both 5 and 6, divisible by 5 or 6, or just one of them (but not both)."
      ],
      "metadata": {
        "id": "EVZ2D9XTVEmA"
      }
    },
    {
      "cell_type": "code",
      "source": [
        "n = int(input(\"Enter an integer: \"))\n",
        "\n",
        "print(\"Is\", n, \" divisible by 5 and 6?\", n % 5 == 0 and n % 6 == 0)\n",
        "print(\"Is\", n, \"divisible by 5 or 6?\", n % 5 == 0 or n % 6 == 0)\n",
        "print(\"Is\", n, \"divisible by 5 or 6, but not both?\", (n % 5 == 0 and n % 6 != 0) or (n % 5 != 0 and n % 6 == 0))"
      ],
      "metadata": {
        "id": "0BoCHCQKVCr1"
      },
      "execution_count": null,
      "outputs": []
    },
    {
      "cell_type": "markdown",
      "source": [
        "**Q11: (Random character)**\n",
        "\n",
        "Write a program that displays a random uppercase letter."
      ],
      "metadata": {
        "id": "iWpANGMtVUF3"
      }
    },
    {
      "cell_type": "code",
      "source": [
        "import random\n",
        "\n",
        "n = random.randint(ord('A'), ord('Z'))\n",
        "print(chr(n))"
      ],
      "metadata": {
        "id": "gyb1b5SfVP6U"
      },
      "execution_count": null,
      "outputs": []
    }
  ]
}