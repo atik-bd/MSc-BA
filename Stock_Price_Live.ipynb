{
  "nbformat": 4,
  "nbformat_minor": 0,
  "metadata": {
    "colab": {
      "provenance": [],
      "authorship_tag": "ABX9TyPBUmALSTAu54jEHPEbVR7E",
      "include_colab_link": true
    },
    "kernelspec": {
      "name": "python3",
      "display_name": "Python 3"
    },
    "language_info": {
      "name": "python"
    }
  },
  "cells": [
    {
      "cell_type": "markdown",
      "metadata": {
        "id": "view-in-github",
        "colab_type": "text"
      },
      "source": [
        "<a href=\"https://colab.research.google.com/github/atik-bd/MSc-BA/blob/main/Stock_Price_Live.ipynb\" target=\"_parent\"><img src=\"https://colab.research.google.com/assets/colab-badge.svg\" alt=\"Open In Colab\"/></a>"
      ]
    },
    {
      "cell_type": "code",
      "execution_count": 4,
      "metadata": {
        "colab": {
          "base_uri": "https://localhost:8080/"
        },
        "id": "8b3iITMyI9dB",
        "outputId": "b0846c08-1976-4f00-bf18-e75dd427b6d5"
      },
      "outputs": [
        {
          "output_type": "stream",
          "name": "stdout",
          "text": [
            "Enter the stock ticker symbol: tsla\n",
            "Current price of TSLA: $284.95\n",
            "Decision: Buy\n"
          ]
        },
        {
          "output_type": "stream",
          "name": "stderr",
          "text": [
            "<ipython-input-4-0ac17af1277e>:17: FutureWarning: Series.__getitem__ treating keys as positions is deprecated. In a future version, integer keys will always be treated as labels (consistent with DataFrame behavior). To access a value by position, use `ser.iloc[pos]`\n",
            "  current_price = ticker_data.history(period='1d')['Close'][0]\n"
          ]
        }
      ],
      "source": [
        "\"\"\"This function utilizes the 'yfinance' library to retrieve financial data from internet (Yahoo Finance, 2025)\n",
        "and provides a buy recommendation based on a predefined price threshold.\"\"\"\n",
        "\n",
        "import yfinance as yf  # Import a python library called yfinance\n",
        "\"\"\"Fetches the current closing price of a given stock ticker and provides a\n",
        "buy recommendation based on a predefined price threshold.\n",
        "Parameters:\n",
        "  ticker_symbol = The stock ticker symbol (e.g., 'TSLA' for Tesla, Inc.).\n",
        "  ticker_data = yf.Ticker(ticker_symbol): Retrieves financial data for the specified stock ticker.\n",
        "  current_price = ticker_data.history(period='1d')['Close'][0]: Extracts the current closing price of the stock.\n",
        "Returns:\n",
        "  tuple: A tuple containing the current closing price and a buy recommendation.\n",
        "  str: A recommendation to 'Buy' if the price is above $100, otherwise 'Don't Buy'.\"\"\"\n",
        "\n",
        "ticker_symbol = str(input(\"Enter the stock ticker symbol: \")).upper()\n",
        "ticker_data = yf.Ticker(ticker_symbol)\n",
        "current_price = ticker_data.history(period='1d')['Close'][0]\n",
        "print(f\"Current price of {ticker_symbol}: ${current_price:.2f}\")\n",
        "if current_price > 100:\n",
        "    print(\"Decision: Buy\")\n",
        "else:\n",
        "    print(\"Decision: Don't Buy\")"
      ]
    }
  ]
}