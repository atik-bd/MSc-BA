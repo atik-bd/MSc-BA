{
  "nbformat": 4,
  "nbformat_minor": 0,
  "metadata": {
    "colab": {
      "provenance": [],
      "include_colab_link": true
    },
    "kernelspec": {
      "name": "python3",
      "display_name": "Python 3"
    },
    "language_info": {
      "name": "python"
    }
  },
  "cells": [
    {
      "cell_type": "markdown",
      "metadata": {
        "id": "view-in-github",
        "colab_type": "text"
      },
      "source": [
        "<a href=\"https://colab.research.google.com/github/atik-bd/MSc-BA/blob/main/Math%20Exercises.ipynb\" target=\"_parent\"><img src=\"https://colab.research.google.com/assets/colab-badge.svg\" alt=\"Open In Colab\"/></a>"
      ]
    },
    {
      "cell_type": "markdown",
      "source": [
        "**Q1:(Convert Celsius to Fahrenheit)**\n",
        "\n",
        "Write a program that reads a Celsius degree from the console and converts it to Fahrenheit and displays the result. The formula for the conversion is as follows: fahrenheit = (9 / 5) * celsius + 32"
      ],
      "metadata": {
        "id": "oMk8yr5_VEaj"
      }
    },
    {
      "cell_type": "code",
      "execution_count": null,
      "metadata": {
        "id": "ABoGfT7RUsFs",
        "colab": {
          "base_uri": "https://localhost:8080/"
        },
        "outputId": "a1ac3861-8cc2-46bf-a56c-1bf9eb273756"
      },
      "outputs": [
        {
          "output_type": "stream",
          "name": "stdout",
          "text": [
            "Enter temperature in degree celcius:23\n",
            "23 Celsuis is 73.4 Fahrenheit\n"
          ]
        }
      ],
      "source": [
        "celsius = eval(input(\"Enter temperature in degree celcius:\"))\n",
        "fah = (9 / 5) * celsius + 32\n",
        "print(celsius, \"Celsuis is\", fah, \"Fahrenheit\")"
      ]
    },
    {
      "cell_type": "markdown",
      "source": [
        "**Q2: (Compute the volume of a cylinder)**\n",
        "\n",
        "Write a program that reads in the radius and length of a cylinder and computes the area and volume using the following formulas:\n",
        "\n",
        "* area = radius * radius * π\n",
        "* volume = area * length"
      ],
      "metadata": {
        "id": "RBPB8StuVnAd"
      }
    },
    {
      "cell_type": "code",
      "source": [
        "y=str(3)"
      ],
      "metadata": {
        "id": "F-oaSwM2gk6k"
      },
      "execution_count": null,
      "outputs": []
    },
    {
      "cell_type": "code",
      "source": [
        "fruits=['apple','banana','cherry']\n",
        "x,y,z=fruits"
      ],
      "metadata": {
        "id": "NOG3lvS6hLbT"
      },
      "execution_count": null,
      "outputs": []
    },
    {
      "cell_type": "code",
      "source": [
        "celcius, pi=eval(input())\n",
        "fah=(9/5)*celcius*pi+32\n",
        "print(celcius, \"Celcius is\", fah, \"Fahrenheit\")"
      ],
      "metadata": {
        "colab": {
          "base_uri": "https://localhost:8080/"
        },
        "id": "Zpe_-LNG2ZDe",
        "outputId": "ec1598d3-5222-4550-8e46-a8c098f1e283"
      },
      "execution_count": null,
      "outputs": [
        {
          "output_type": "stream",
          "name": "stdout",
          "text": [
            "4,6\n",
            "4 Celcius is 75.2 Fahrenheit\n"
          ]
        }
      ]
    },
    {
      "cell_type": "code",
      "source": [
        "7+7"
      ],
      "metadata": {
        "colab": {
          "base_uri": "https://localhost:8080/"
        },
        "id": "K5QmZp1B3ne6",
        "outputId": "4a6b8d1e-85cc-4a91-9dc3-af992420c42f"
      },
      "execution_count": null,
      "outputs": [
        {
          "output_type": "execute_result",
          "data": {
            "text/plain": [
              "14"
            ]
          },
          "metadata": {},
          "execution_count": 11
        }
      ]
    },
    {
      "cell_type": "code",
      "source": [
        "x=4\n",
        "x=9\n",
        "print(x)"
      ],
      "metadata": {
        "colab": {
          "base_uri": "https://localhost:8080/"
        },
        "id": "2JtShxmK24_K",
        "outputId": "a37072c3-7625-43e5-9887-33a4ba5c45f2"
      },
      "execution_count": null,
      "outputs": [
        {
          "output_type": "stream",
          "name": "stdout",
          "text": [
            "9\n"
          ]
        }
      ]
    },
    {
      "cell_type": "code",
      "source": [
        "x=y=z=\"oranges\"\n",
        "print(x)\n",
        "print(y)\n",
        "print(z)"
      ],
      "metadata": {
        "colab": {
          "base_uri": "https://localhost:8080/"
        },
        "id": "HF5g2uTbgJAX",
        "outputId": "0d78b25c-cb47-44d3-ad13-b7a17d03c785"
      },
      "execution_count": null,
      "outputs": [
        {
          "output_type": "stream",
          "name": "stdout",
          "text": [
            "oranges\n",
            "oranges\n",
            "oranges\n"
          ]
        }
      ]
    },
    {
      "cell_type": "code",
      "source": [
        "fruits=['apple','banana','cherry']\n",
        "x,y,z=fruits\n",
        "print(x)\n",
        "print(y)\n",
        "print(z)\n"
      ],
      "metadata": {
        "id": "DnL3WWmVfGS2"
      },
      "execution_count": null,
      "outputs": []
    },
    {
      "cell_type": "code",
      "source": [
        "x=4\n",
        "x"
      ],
      "metadata": {
        "id": "vINJmgzQhQJT"
      },
      "execution_count": null,
      "outputs": []
    },
    {
      "cell_type": "code",
      "source": [
        "radius, length, pi=eval(input(\"Enter the radius:\"))\n",
        "pi=3.1415\n",
        "area=radius*radius*pi\n",
        "volume=area*length\n",
        "print(\"The area of the cynliner is:\", area, \"and the Volume of the cylinder is:\", volume)"
      ],
      "metadata": {
        "id": "BKY44_1SfQGs"
      },
      "execution_count": null,
      "outputs": []
    },
    {
      "cell_type": "code",
      "source": [
        "x=5\n",
        "x=\"Kumar\"\n",
        "x"
      ],
      "metadata": {
        "id": "IwhrLGkcjChs"
      },
      "execution_count": null,
      "outputs": []
    },
    {
      "cell_type": "code",
      "source": [
        "PI = 3.1415\n",
        "\n",
        "\n",
        "\n",
        "\n",
        "\n",
        "\n",
        "area = rad * rad * PI\n",
        "vol = area * len\n",
        "\n",
        "print(\"The area is\", area)\n",
        "print(\"Thr volume is\", vol)"
      ],
      "metadata": {
        "id": "pf26qVjnVkqK",
        "colab": {
          "base_uri": "https://localhost:8080/"
        },
        "outputId": "0cab6a2e-c68c-4c5b-a393-62bc755cdc6e"
      },
      "execution_count": null,
      "outputs": [
        {
          "output_type": "stream",
          "name": "stdout",
          "text": [
            "Enter the radius and length of a cylinder:5,6,8\n",
            "The area is 200\n",
            "Thr volume is 1200\n"
          ]
        }
      ]
    },
    {
      "cell_type": "markdown",
      "source": [
        "**Q3: (Convert feet into meters)**\n",
        "Write a program that reads a number in feet, converts it to meters, and displays the result. One foot is 0.305 meters.\n"
      ],
      "metadata": {
        "id": "uBS5x21yV3HP"
      }
    },
    {
      "cell_type": "markdown",
      "source": [
        "**Q4: (Convert pounds into kilograms)**\n",
        "\n",
        "Write a program that converts pounds into kilograms. The program prompts the user to enter a value in pounds, converts it to kilograms, and displays the result. One pound is 0.454 kilograms. Here is a sample run:"
      ],
      "metadata": {
        "id": "QPdf3CrZWHI7"
      }
    },
    {
      "cell_type": "markdown",
      "source": [
        "**Q5:(Financial application: calculate tips)**\n",
        "\n",
        "Write a program that reads the subtotal and the gratuity rate and computes the gratuity and total. For example, if the user enters 10 for the subtotal and 15% for the gratuity rate, the program displays 1.5 as the gratuity and 11.5 as the total.\n"
      ],
      "metadata": {
        "id": "Lef0k4KgWYL9"
      }
    },
    {
      "cell_type": "code",
      "source": [
        "feet = eval(input(\"Enter a value for feet:\"))\n",
        "metre = feet * 0.305\n",
        "print(feet, \"feet is\", metre, \"metres\")"
      ],
      "metadata": {
        "id": "2ZGswYG3V1GO"
      },
      "execution_count": null,
      "outputs": []
    },
    {
      "cell_type": "code",
      "source": [
        "pounds = eval(input(\"Enter a value in pounds: \"))\n",
        "kg = pounds * 0.454\n",
        "print(pounds, \"Pounds is\", kg, \"Kilograms\")"
      ],
      "metadata": {
        "id": "N3o4RGVUWCZP"
      },
      "execution_count": null,
      "outputs": []
    },
    {
      "cell_type": "code",
      "source": [
        "subTotal, gratRate = eval(input(\"Enter the subtotal and a gratuity rate: \"))\n",
        "grat = subTotal * (gratRate / 100)\n",
        "total = subTotal + grat\n",
        "print(\"The gratuity is\", grat, \"and the total is\", total)"
      ],
      "metadata": {
        "id": "RW3J049fWWhd"
      },
      "execution_count": null,
      "outputs": []
    },
    {
      "cell_type": "markdown",
      "source": [
        "y=x^2+2x-3"
      ],
      "metadata": {
        "id": "5mTXHUanquE9"
      }
    },
    {
      "cell_type": "code",
      "source": [
        "import numpy as np\n",
        "a,b,c=2,3,-4\n",
        "d=np.sqrt(b**2-4*a*c)\n",
        "x1=(-b+d)/2*a\n",
        "x2=(-b-d)/2*a\n",
        "print(x1)\n",
        "print(x2)"
      ],
      "metadata": {
        "colab": {
          "base_uri": "https://localhost:8080/"
        },
        "id": "NI2n-gpMrH4d",
        "outputId": "cf93654c-9270-4a68-e86c-df84c8e59634"
      },
      "execution_count": null,
      "outputs": [
        {
          "output_type": "stream",
          "name": "stdout",
          "text": [
            "3.4031242374328485\n",
            "-9.403124237432849\n"
          ]
        }
      ]
    },
    {
      "cell_type": "markdown",
      "source": [],
      "metadata": {
        "id": "Qx13LmxEqtwO"
      }
    },
    {
      "cell_type": "markdown",
      "source": [
        "**Q6: (Sum the digits in an integer)**\n",
        "\n",
        "Write a program that reads an integer between 0 and 1000 and adds all the digits in the integer. For example, if an integer is 932, the sum of all its digits is 14. (Hint: Use the % operator to extract digits, and use the // operator to remove the extracted digit. For instance, 932 % 10 = 2 and 932 // 10 = 93.)"
      ],
      "metadata": {
        "id": "B9gfTRduXQu0"
      }
    },
    {
      "cell_type": "code",
      "source": [
        "num = eval(input(\"Enter a number between 0 and 1000: \"))\n",
        "num1 = num % 10\n",
        "num //= 10\n",
        "num2 = num % 10\n",
        "num //= 10\n",
        "num3 = num\n",
        "print(\"Number 1 is:\", num1)\n",
        "print(\"Number 2 is:\", num2)\n",
        "print(\"Number 3 is:\", num3)\n",
        "print(\"The sum of the digits is\", (num1 + num2 + num3))"
      ],
      "metadata": {
        "id": "tReHmXJfXO4P",
        "colab": {
          "base_uri": "https://localhost:8080/"
        },
        "outputId": "2aa2794c-0872-4771-bba1-fa9acf33793b"
      },
      "execution_count": null,
      "outputs": [
        {
          "output_type": "stream",
          "name": "stdout",
          "text": [
            "Enter a number between 0 and 1000: 567\n",
            "Number 1 is: 7\n",
            "Number 2 is: 6\n",
            "Number 3 is: 5\n",
            "The sum of the digits is 18\n"
          ]
        }
      ]
    },
    {
      "cell_type": "code",
      "source": [
        "x=int(3)\n",
        "y=str(3)\n",
        "z=float(3)\n",
        "print(x)\n",
        "print(y)\n",
        "print(z)"
      ],
      "metadata": {
        "colab": {
          "base_uri": "https://localhost:8080/"
        },
        "id": "yQHuwmDiqrGL",
        "outputId": "66d60ab2-5c5b-4e5e-b1eb-cd3ec0c78fc5"
      },
      "execution_count": null,
      "outputs": [
        {
          "output_type": "stream",
          "name": "stdout",
          "text": [
            "3\n",
            "3\n",
            "3.0\n"
          ]
        }
      ]
    },
    {
      "cell_type": "markdown",
      "source": [
        "**Q7: (Find the number of years and days)**\n",
        "\n",
        "Write a program that prompts the user to enter the minutes (e.g., 1 billion), and displays the number of years and days for the minutes.\n",
        "\n"
      ],
      "metadata": {
        "id": "YzpTyK21Xhf7"
      }
    },
    {
      "cell_type": "code",
      "source": [
        "min = int(input(\"Enter the number of minutes: \"))\n",
        "years = int(min / (365 * 24 * 60))\n",
        "remainingMin = min % (365*24*60)\n",
        "days = int(remainingMin / (24 * 60))\n",
        "print(remainingMin)\n",
        "print(min, \"minutes is approximately\", years, \"years and\", days, \"days\")"
      ],
      "metadata": {
        "id": "0hL6D2D5XgG0",
        "colab": {
          "base_uri": "https://localhost:8080/"
        },
        "outputId": "672262d2-0ffa-4bb4-bdfa-e8670f5b8c9d"
      },
      "execution_count": null,
      "outputs": [
        {
          "output_type": "stream",
          "name": "stdout",
          "text": [
            "Enter the number of minutes: 100000000\n",
            "136000\n",
            "100000000 minutes is approximately 190 years and 94 days\n"
          ]
        }
      ]
    },
    {
      "cell_type": "markdown",
      "source": [
        "**Q8: (Science: calculate energy)**\n",
        "\n",
        "Write a program that calculates the energy needed to heat water from an initial temperature to a final temperature. Your program should prompt the user to enter the amount of water in kilograms and the initial and final temperatures of the water. The formula to compute the energy is Q = M * (finalTemperature – initialTemperature) * 4184 where M is the weight of water in kilograms, temperatures are in degrees Celsius, and energy Q is measured in joules.\n"
      ],
      "metadata": {
        "id": "fQmTjdRsXvUj"
      }
    },
    {
      "cell_type": "code",
      "source": [
        "water, intitemp, finaltemp=eval(input(\"DFDGGHH:\"))\n",
        "print(\"The shsjhsksksksms:\", water*(finaltemp-intitemp)*4184)"
      ],
      "metadata": {
        "id": "uM5lOiqUtxT9"
      },
      "execution_count": null,
      "outputs": []
    },
    {
      "cell_type": "code",
      "source": [
        "water = eval(input(\"Enter the amount of water in kilograms:\"))\n",
        "initTemp = eval(input(\"Enter the initial temperature:\"))\n",
        "finTemp = eval(input(\"Enter the final temperature:\"))\n",
        "q = water * (finTemp - initTemp) * 4184\n",
        "print(\"The energy needed is\",q)"
      ],
      "metadata": {
        "id": "y8kIVkCqXtHn"
      },
      "execution_count": null,
      "outputs": []
    },
    {
      "cell_type": "markdown",
      "source": [
        "**Q9: (Science: wind-chill temperature)**\n",
        "\n",
        "\n",
        "Write a program that prompts the user to enter a temperature between -58 and 41°F and a wind speed greater than or equal to 2 and displays the wind-chill temperature."
      ],
      "metadata": {
        "id": "NhwVJxLdYCS2"
      }
    },
    {
      "cell_type": "code",
      "source": [
        "\n",
        "2**3"
      ],
      "metadata": {
        "id": "kTvsYvI_ulx_"
      },
      "execution_count": null,
      "outputs": []
    },
    {
      "cell_type": "code",
      "source": [
        "y=2x^2+4x-4\n"
      ],
      "metadata": {
        "id": "4KlFccNTu3EN"
      },
      "execution_count": null,
      "outputs": []
    },
    {
      "cell_type": "code",
      "source": [
        "temp = eval(input(\"Enter the temperature in Fahrenheit between -58 and 41:\"))\n",
        "windSpeed = eval(input(\"Enter the wind speed in miles per hour:\"))\n",
        "twc = 35.74 + 0.6215 * temp - 35.75 * windSpeed ** 0.16 + 0.4275 * temp * windSpeed ** 0.16\n",
        "print(\"The wind chill index is\", twc)"
      ],
      "metadata": {
        "id": "Y24pJnz-YAJj"
      },
      "execution_count": null,
      "outputs": []
    },
    {
      "cell_type": "markdown",
      "source": [
        "**Q10: (Physics: find runway length)**\n",
        "\n",
        "Given an airplane’s acceleration a and take-off speed v, you can compute the minimum runway length needed for an airplane to take off. Write a program that prompts the user to enter v in meters/second (m/s) and the acceleration a in meters/second squared and displays the minimum runway length."
      ],
      "metadata": {
        "id": "T1mF60aYYuO1"
      }
    },
    {
      "cell_type": "code",
      "source": [
        "speed, acc = eval(input(\"Enter speed and acceleration: \"))\n",
        "len = speed ** 2 / (2 * acc)\n",
        "print(\"The minimum runway length for this airplane is\", len, \"meters\")"
      ],
      "metadata": {
        "id": "CSUcKgjkYrVt"
      },
      "execution_count": null,
      "outputs": []
    },
    {
      "cell_type": "markdown",
      "source": [
        "**Q11: (Financial application: investment amount)**\n",
        "\n",
        "Suppose you want to deposit a certain amount of money into a savings account with a fixed annual interest rate. What amount do you need to deposit in order to have $5,000 in the account after three years? The initial deposit amount can be obtained. Write a program that prompts the user to enter final account value, annual interest rate in percent, and the number of years, and displays the initial deposit amount."
      ],
      "metadata": {
        "id": "qEd--E_faxlf"
      }
    },
    {
      "cell_type": "code",
      "source": [
        "finAccVal = eval(input(\"Enter final account value: \"))\n",
        "monthInterRatePerc = eval(input(\"Enter annual interest rate in percent: \")) / (100 * 12)\n",
        "numOfMonths = eval(input(\"Enter number of years: \")) * 12\n",
        "initialDepositAmount = finAccVal / (1 + monthInterRatePerc) ** numOfMonths\n",
        "print(\"Initial deposit value is\", initialDepositAmount)"
      ],
      "metadata": {
        "id": "lLUn3KvCapzE"
      },
      "execution_count": null,
      "outputs": []
    },
    {
      "cell_type": "markdown",
      "source": [
        "**(Split digits)**\n",
        "\n",
        "Write a program that prompts the user to enter a four-digit integer and displays the number in reverse order."
      ],
      "metadata": {
        "id": "AkWLaCWUbq3A"
      }
    },
    {
      "cell_type": "code",
      "source": [
        "num = int(input(\"Enter an integer: \"))\n",
        "n1 = num % 10\n",
        "num //= 10\n",
        "n2 = num % 10\n",
        "num //= 10\n",
        "n3 = num % 10\n",
        "num //= 10\n",
        "n4 = num\n",
        "print(n4)\n",
        "print(n3)\n",
        "print(n2)\n",
        "print(n1)"
      ],
      "metadata": {
        "id": "j52WeSDDbo_G"
      },
      "execution_count": null,
      "outputs": []
    },
    {
      "cell_type": "markdown",
      "source": [
        "**(Geometry: area of a triangle) **\n",
        "\n",
        "Write a program that prompts the user to enter the three points (x1, y1), (x2, y2), and (x3, y3) of a triangle and displays its area.\n"
      ],
      "metadata": {
        "id": "t0UPDq5Wb3Sh"
      }
    },
    {
      "cell_type": "code",
      "source": [
        "x1, y1, x2, y2, x3, y3 = eval(input(\"Enter three points for a triangle: \"))\n",
        "\n",
        "side1 = ((x1 - x2) ** 2 + (y1 - y2) ** 2) ** 0.5\n",
        "side2 = ((x1 - x3) ** 2 + (y1 - y3) ** 2) ** 0.5\n",
        "side3 = ((x2 - x3) ** 2 + (y2 - y3) ** 2) ** 0.5\n",
        "s = (side1 + side2 + side3) / 2\n",
        "area = (s * (s - side1) * (s - side2) * (s - side3)) ** 0.5\n",
        "print(\"The area of the triangle is\", area)"
      ],
      "metadata": {
        "id": "by1g0e8YbzbA"
      },
      "execution_count": null,
      "outputs": []
    },
    {
      "cell_type": "markdown",
      "source": [
        "**(Geometry: area of a hexagon)**\n",
        "\n",
        "Write a program that prompts the user to enter the side of a hexagon and displays its area."
      ],
      "metadata": {
        "id": "IMf6M6QicFa8"
      }
    },
    {
      "cell_type": "code",
      "source": [
        "side = eval(input(\"Enter the side: \"))\n",
        "area = (3 * 3 ** 0.5 * side ** 2) / 2\n",
        "print(\"The area of the hexagon is\", area)"
      ],
      "metadata": {
        "id": "pMZZUDJacApo"
      },
      "execution_count": null,
      "outputs": []
    },
    {
      "cell_type": "markdown",
      "source": [
        "**(Physics: acceleration)**\n",
        "\n",
        "Write a program that prompts the user to enter the starting velocity in meters/second, the ending velocity in meters/second, and the time span t in seconds, and displays the average acceleration."
      ],
      "metadata": {
        "id": "IDd5BlgIcXkZ"
      }
    },
    {
      "cell_type": "code",
      "source": [
        "v0, v1, t = eval(input(\"Enter v0, v1, and t: \"))\n",
        "a = (v1 - v0) / t\n",
        "print(\"The average acceleration is\", a)"
      ],
      "metadata": {
        "id": "O_loAZeOcVay"
      },
      "execution_count": null,
      "outputs": []
    },
    {
      "cell_type": "markdown",
      "source": [
        "**(Health application: compute BMI)**\n",
        "\n",
        "Body mass index (BMI) is a measure of health based on weight. It can be calculated by taking your weight in kilograms and dividing it by the square of your height in meters. Write a program that prompts the user to enter a weight in pounds and height in inches and displays the BMI. Note that one pound is 0.45359237 kilograms and one inch is 0.0254 meters."
      ],
      "metadata": {
        "id": "6jevWQL6clyX"
      }
    },
    {
      "cell_type": "code",
      "source": [
        "\n",
        "weight = eval(input(\"Enter weight in pounds:\"))\n",
        "height = eval(input(\"Enter height in inches:\"))\n",
        "weight = weight *0.45359237\n",
        "height = height *0.0254\n",
        "bmi = weight / height**2\n",
        "print(\"BMI is\",bmi)"
      ],
      "metadata": {
        "id": "dDzcYbs4chWX"
      },
      "execution_count": null,
      "outputs": []
    },
    {
      "cell_type": "markdown",
      "source": [
        "**(Current time)**\n",
        "\n",
        "Listing 2.7, ShowCurrentTime.py, gives a program that displays the current time in GMT. Revise the program so that it prompts the user to enter the time zone in hours away from (offset to) GMT and displays the time in the specified time zone."
      ],
      "metadata": {
        "id": "BAxK-fjjfvCf"
      }
    },
    {
      "cell_type": "code",
      "source": [
        "import time\n",
        "\n",
        "tzo = eval(input(\"Enter the time zone offset to GMT:\"))\n",
        "currentTime = time.time()\n",
        "totalSeconds = int(currentTime)\n",
        "currentSecond = totalSeconds % 60\n",
        "totalMinutes = totalSeconds // 60\n",
        "currentMintute = totalMinutes % 60\n",
        "totalHours = totalMinutes // 60\n",
        "currentHour = totalHours % 24\n",
        "currentHour += tzo\n",
        "print(currentHour, \":\", currentMintute, \":\", currentSecond)"
      ],
      "metadata": {
        "id": "jCTGWw1GflTU"
      },
      "execution_count": null,
      "outputs": []
    },
    {
      "cell_type": "markdown",
      "source": [
        "**(Financial application: calculate future investment value)**\n",
        "\n",
        "Write a program that reads in an investment amount, the annual interest rate, and the number of years, and displays the future investment value. For example, if you enter the amount 1000, an annual interest rate of 4.25%, and the number of years as 1, the future investment value is 1043.33."
      ],
      "metadata": {
        "id": "sqkqUCeNgGRl"
      }
    },
    {
      "cell_type": "code",
      "source": [
        "investAmount = eval(input(\"Enter investment amount:\"))\n",
        "annInterRate = eval(input(\"Enter annual interest rate:\")) / (100 * 12)\n",
        "numOfYears = eval(input(\"Enter number of years:\")) * 12\n",
        "\n",
        "futureVal = investAmount * (1 + annInterRate) ** numOfYears\n",
        "print(\"Accumulated value is\", futureVal)"
      ],
      "metadata": {
        "id": "JYcyf_BPgCKz"
      },
      "execution_count": null,
      "outputs": []
    },
    {
      "cell_type": "markdown",
      "source": [
        "**(Financial application: calculate interest)**\n",
        "\n",
        "If you know the balance and the annual percentage interest rate, you can compute the interest on the next monthly payment using the following formula: interest = balance * (annualInterestRate / 1200)\n",
        "\n",
        "Write a program that reads the balance and the annual percentage interest rate and displays the interest for the next month."
      ],
      "metadata": {
        "id": "eklQbQ9ygTqO"
      }
    },
    {
      "cell_type": "code",
      "source": [
        "balance, ir = eval(input(\"Enter balance and interest rate (e.g., 3 for 3%):\"))\n",
        "intreset = balance * (ir / 1200)\n",
        "print(\"The interest is\", intreset)"
      ],
      "metadata": {
        "id": "BSAkyHOPgQm5"
      },
      "execution_count": null,
      "outputs": []
    },
    {
      "cell_type": "markdown",
      "source": [
        "**(Financial application: compound value)**\n",
        "\n",
        "Suppose you save $100 each month into a savings account with an annual interest rate of 5%. Therefore, the monthly interest rate is 0.05/12 = 0.00417. After the first month, the value in the account becomes 100 * (1 + 0.00417) = 100.417\n",
        "\n",
        "After the second month, the value in the account becomes (100 + 100.417) * (1 + 0.00417) = 201.252\n",
        "\n",
        "After the third month, the value in the account becomes (100 + 201.252) * (1 + 0.00417) = 302.507 and so on.\n",
        "\n",
        "Write a program that prompts the user to enter a monthly saving amount and displays the account value after the sixth month."
      ],
      "metadata": {
        "id": "WiQ-z1R6iNw_"
      }
    },
    {
      "cell_type": "code",
      "source": [
        "monthlySavingAmount = eval(input(\"Enter the monthly saving amount: \"))\n",
        "MONTHLY_INTEREST_RATE = 0.00417\n",
        "total = monthlySavingAmount * (1 + MONTHLY_INTEREST_RATE)\n",
        "total = (monthlySavingAmount + total) * (1 + MONTHLY_INTEREST_RATE)\n",
        "total = (monthlySavingAmount + total) * (1 + MONTHLY_INTEREST_RATE)\n",
        "total = (monthlySavingAmount + total) * (1 + MONTHLY_INTEREST_RATE)\n",
        "total = (monthlySavingAmount + total) * (1 + MONTHLY_INTEREST_RATE)\n",
        "total = (monthlySavingAmount + total) * (1 + MONTHLY_INTEREST_RATE)\n",
        "print(\"After the sixth month, the account value is\",total)"
      ],
      "metadata": {
        "id": "4s_wCNwCgijI"
      },
      "execution_count": null,
      "outputs": []
    }
  ]
}