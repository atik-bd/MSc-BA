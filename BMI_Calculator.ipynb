{
  "nbformat": 4,
  "nbformat_minor": 0,
  "metadata": {
    "colab": {
      "provenance": [],
      "authorship_tag": "ABX9TyOJxd98oT/KfwiC/Bax9PFF",
      "include_colab_link": true
    },
    "kernelspec": {
      "name": "python3",
      "display_name": "Python 3"
    },
    "language_info": {
      "name": "python"
    }
  },
  "cells": [
    {
      "cell_type": "markdown",
      "metadata": {
        "id": "view-in-github",
        "colab_type": "text"
      },
      "source": [
        "<a href=\"https://colab.research.google.com/github/atik-bd/MSc-BA/blob/main/BMI_Calculator.ipynb\" target=\"_parent\"><img src=\"https://colab.research.google.com/assets/colab-badge.svg\" alt=\"Open In Colab\"/></a>"
      ]
    },
    {
      "cell_type": "code",
      "execution_count": 3,
      "metadata": {
        "colab": {
          "base_uri": "https://localhost:8080/"
        },
        "id": "qsssmRgKHdYr",
        "outputId": "a2df6f64-4c13-4fb2-ece6-de682c0a102f"
      },
      "outputs": [
        {
          "output_type": "stream",
          "name": "stdout",
          "text": [
            "BMI Calculator\n",
            "Enter weight unit (kg or lbs): kg\n",
            "Enter your weight in kilograms: 70\n",
            "Enter height unit (m or in): m\n",
            "Enter your height in meters: 1.67\n",
            "BMI = 25.1 kg/m² (Overweight)\n"
          ]
        }
      ],
      "source": [
        "\"\"\"This script generates a simple body mass index (BMI) calculator in Python.\n",
        "The formula for calculating BMI is widely recognized in health and fitness literature.\n",
        "For instance, the World Health Organization (WHO) defines BMI as weight in kilograms divided\n",
        "by the square of height in meters (World Health Organization, 2021).\n",
        "The BMI categories used in the get_bmi_category function align with the classifications provided\n",
        "by the Centers for Disease Control and Prevention (CDC), which are based on\n",
        "standard BMI ranges (Centers for Disease Control and Prevention, 2020).\"\"\"\n",
        "\n",
        "def calculate_bmi(weight_kg, height_m):\n",
        "    \"\"\"Calculates the Body Mass Index (BMI) based on weight and height.\n",
        "    Parameters:\n",
        "        weight_kg (float): Weight in kilograms.\n",
        "        height_m (float): Height in meters.\n",
        "    Returns:\n",
        "        float: BMI value rounded to two decimal places.\"\"\"\n",
        "    bmi = weight_kg / (height_m ** 2)\n",
        "    return round(bmi, 2)\n",
        "\n",
        "def get_bmi_category(bmi):\n",
        "    \"\"\"Determines the BMI category based on the BMI value.\n",
        "    Parameters:\n",
        "        bmi (float): BMI value.\n",
        "    Returns:\n",
        "        str: BMI category ('Underweight', 'Normal', 'Overweight', or 'Obese').\"\"\"\n",
        "    if bmi < 18.5:\n",
        "        return \"Underweight\"\n",
        "    elif 18.5 <= bmi < 25:\n",
        "        return \"Normal\"\n",
        "    elif 25 <= bmi < 30:\n",
        "        return \"Overweight\"\n",
        "    else:\n",
        "        return \"Obese\"\n",
        "\n",
        "def BMI():\n",
        "    \"\"\"Prompts the user for weight and height inputs, calculates BMI, and displays the BMI value along with its category.\n",
        "    Provides input validation to ensure correct units and positive numerical values.\"\"\"\n",
        "    print(\"BMI Calculator\")\n",
        "\n",
        "    while True:  # Get weight input from the user\n",
        "        weight_unit = input(\"Enter weight unit (kg or lbs): \").strip().lower()\n",
        "        if weight_unit in [\"kg\", \"lbs\"]:\n",
        "            break\n",
        "        print(\"Invalid input. Please enter 'kg' or 'lbs'.\")\n",
        "    if weight_unit == \"kg\":\n",
        "        weight = float(input(\"Enter your weight in kilograms: \"))\n",
        "    elif weight_unit == \"lbs\":\n",
        "        weight = float(input(\"Enter your weight in pounds: \"))\n",
        "        weight = weight * 0.453592  # Convert pounds to kilograms\n",
        "    while True:  # Get height input from the user\n",
        "        height_unit = input(\"Enter height unit (m or in): \").strip().lower()\n",
        "        if height_unit in [\"m\", \"in\"]:\n",
        "            break\n",
        "        print(\"Invalid input. Please enter 'm' or 'in'.\")\n",
        "    if height_unit == \"m\":\n",
        "        height = float(input(\"Enter your height in meters: \"))\n",
        "    elif height_unit == \"in\":\n",
        "        height = float(input(\"Enter your height in inches: \"))\n",
        "        height = height * 0.0254  # Convert inches to meters\n",
        "    bmi = calculate_bmi(weight, height)  # Calculate BMI and determine category\n",
        "    category = get_bmi_category(bmi)\n",
        "    print(f\"BMI = {bmi} kg/m² ({category})\")  # Display the results\n",
        "\n",
        "BMI()  # Executes the BMI funtion"
      ]
    }
  ]
}