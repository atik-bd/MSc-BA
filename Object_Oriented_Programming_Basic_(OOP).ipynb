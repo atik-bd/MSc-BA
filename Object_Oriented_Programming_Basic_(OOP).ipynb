{
  "nbformat": 4,
  "nbformat_minor": 0,
  "metadata": {
    "colab": {
      "provenance": [],
      "authorship_tag": "ABX9TyMiVZ+o5nJoau2MCe1SKESY",
      "include_colab_link": true
    },
    "kernelspec": {
      "name": "python3",
      "display_name": "Python 3"
    },
    "language_info": {
      "name": "python"
    }
  },
  "cells": [
    {
      "cell_type": "markdown",
      "metadata": {
        "id": "view-in-github",
        "colab_type": "text"
      },
      "source": [
        "<a href=\"https://colab.research.google.com/github/atik-bd/MSc-BA/blob/main/Object_Oriented_Programming_Basic_(OOP).ipynb\" target=\"_parent\"><img src=\"https://colab.research.google.com/assets/colab-badge.svg\" alt=\"Open In Colab\"/></a>"
      ]
    },
    {
      "cell_type": "code",
      "source": [
        "\"\"\"\n",
        "class Employee:\n",
        "  pass\n",
        "emp_1= Employee()\n",
        "emp_2= Employee()\n",
        "print(emp_1)\n",
        "print(emp_2)\n",
        "\"\"\""
      ],
      "metadata": {
        "id": "DQQ_HlkW_9g2"
      },
      "execution_count": null,
      "outputs": []
    },
    {
      "cell_type": "code",
      "source": [
        "\"\"\"\n",
        "emp_1.first= 'Atik'\n",
        "emp_1.last= 'Mahbub'\n",
        "emp_1.email= 'atikmahbub@gmail.com'\n",
        "emp_1.pay= 50000\n",
        "\n",
        "emp_2.first= 'Test'\n",
        "emp_2.last= 'User'\n",
        "emp_2.email= 'test.user@gmail.com'\n",
        "emp_2.pay= 60000\n",
        "print(emp_1.email)\n",
        "print(emp_2.email)\n",
        "\"\"\""
      ],
      "metadata": {
        "id": "r498IPCSCM9s"
      },
      "execution_count": null,
      "outputs": []
    },
    {
      "cell_type": "code",
      "source": [
        "class Employee:\n",
        "  def __init__(self, first, last, pay):\n",
        "    #check special init method\n",
        "    self.first= first\n",
        "    self.last= last\n",
        "    self.pay= pay\n",
        "    self.email= first + '.' + last + '@gmail.com'"
      ],
      "metadata": {
        "id": "Kji-JfZyEhDy"
      },
      "execution_count": null,
      "outputs": []
    },
    {
      "cell_type": "code",
      "source": [
        "emp_1= Employee('Atik', 'Mahbub', 50000)\n",
        "emp_2= Employee('Test', 'User', 60000)"
      ],
      "metadata": {
        "id": "IZiP5dhzEkn9"
      },
      "execution_count": null,
      "outputs": []
    },
    {
      "cell_type": "code",
      "source": [
        "print(emp_1.email)\n",
        "print(emp_2.email)"
      ],
      "metadata": {
        "colab": {
          "base_uri": "https://localhost:8080/"
        },
        "id": "Z25GuHlEE9Rr",
        "outputId": "083b490b-b7d6-457b-c5bc-1f4499cb013f"
      },
      "execution_count": null,
      "outputs": [
        {
          "output_type": "stream",
          "name": "stdout",
          "text": [
            "Atik.Mahbub@gmail.com\n",
            "Test.User@gmail.com\n"
          ]
        }
      ]
    }
  ]
}