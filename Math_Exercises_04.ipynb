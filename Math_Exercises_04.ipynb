{
  "nbformat": 4,
  "nbformat_minor": 0,
  "metadata": {
    "colab": {
      "provenance": [],
      "authorship_tag": "ABX9TyNhfDpmCkaa/pZzDSD5z+ww",
      "include_colab_link": true
    },
    "kernelspec": {
      "name": "python3",
      "display_name": "Python 3"
    },
    "language_info": {
      "name": "python"
    }
  },
  "cells": [
    {
      "cell_type": "markdown",
      "metadata": {
        "id": "view-in-github",
        "colab_type": "text"
      },
      "source": [
        "<a href=\"https://colab.research.google.com/github/atik-bd/MSc-BA/blob/main/Math_Exercises_04.ipynb\" target=\"_parent\"><img src=\"https://colab.research.google.com/assets/colab-badge.svg\" alt=\"Open In Colab\"/></a>"
      ]
    },
    {
      "cell_type": "code",
      "execution_count": null,
      "metadata": {
        "colab": {
          "base_uri": "https://localhost:8080/"
        },
        "id": "IWeACFHy-jFt",
        "outputId": "16f58a77-f64d-41a9-bd95-f8d0c402865c"
      },
      "outputs": [
        {
          "output_type": "stream",
          "name": "stdout",
          "text": [
            "area_of_circle: 78.53981633974483 perimeter_of_circle: 31.41592653589793\n"
          ]
        }
      ],
      "source": [
        "#1. Area of a circle is calculated as follows: area = π x r x r and perimeter = 2 x π x r. Write a function that calculates area_of_circle and perimeter_of_circle.\n",
        "import math\n",
        "def radius(r):\n",
        "  area= math.pi*r*r\n",
        "  perimeter=2*math.pi*r\n",
        "  print('area_of_circle:',area,'perimeter_of_circle:',perimeter)\n",
        "radius(5)"
      ]
    },
    {
      "cell_type": "code",
      "source": [
        "#2. Write a function called add_all_nums which takes arbitrary number of arguments and sums all the arguments. Check if all the list items are number types. If not, provide reasonable feedback.\n",
        "def add_all_nums(*nums):\n",
        "    total = 0\n",
        "    for x in nums:\n",
        "        if not isinstance(x, (int, float)):\n",
        "            return \"Error: All arguments must be numbers.\"\n",
        "        total += x\n",
        "    return total\n",
        "nums=input(\"Enter numbers separated by spaces: \").split()\n",
        "nums = [float(x) for x in nums]\n",
        "result = add_all_nums(*nums)\n",
        "print(f\"The sum of the numbers is: {result}\")"
      ],
      "metadata": {
        "colab": {
          "base_uri": "https://localhost:8080/"
        },
        "id": "1GjHt6kLB7fp",
        "outputId": "7353e94b-bfd8-4acc-db66-640b3d20df58"
      },
      "execution_count": null,
      "outputs": [
        {
          "output_type": "stream",
          "name": "stdout",
          "text": [
            "Enter numbers separated by spaces: 1.1 2.3\n",
            "The sum of the numbers is: 3.4\n"
          ]
        }
      ]
    },
    {
      "cell_type": "code",
      "source": [
        "#3. Temperature in °C can be converted to °F using this formula: °F = (°C x 9/5) + 32. Write a function which converts °C to °F, convert_celsius_2_fahrenheit.\n",
        "def convert_celsius_2_fahrenheit(celsius):\n",
        "  farenheit= (celsius*(9/5)+32)\n",
        "  return farenheit\n",
        "celsius=float(input(\"Enter Temperature in Celsius \"))\n",
        "fahrenheit = convert_celsius_2_fahrenheit(celsius)\n",
        "print(f\"{celsius}°C is equal to {fahrenheit}°F\")"
      ],
      "metadata": {
        "colab": {
          "base_uri": "https://localhost:8080/"
        },
        "id": "-VaYj4W6FVeL",
        "outputId": "99cc9707-e4c6-43b2-a95c-e382eb71e348"
      },
      "execution_count": null,
      "outputs": [
        {
          "output_type": "stream",
          "name": "stdout",
          "text": [
            "Enter Temperature in Celsius 25\n",
            "25.0°C is equal to 77.0°F\n"
          ]
        }
      ]
    },
    {
      "cell_type": "code",
      "source": [
        "#4. Write a function called check_season, it takes a month parameter and returns the season: Autumn, Winter, Spring, or Summer.\n"
      ],
      "metadata": {
        "id": "FiEBv1iUJ4B0"
      },
      "execution_count": null,
      "outputs": []
    }
  ]
}