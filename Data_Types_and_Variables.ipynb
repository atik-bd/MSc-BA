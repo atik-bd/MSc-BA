{
  "nbformat": 4,
  "nbformat_minor": 0,
  "metadata": {
    "colab": {
      "provenance": [],
      "authorship_tag": "ABX9TyNp4U+1YLrn9xGhhXLNU0GV",
      "include_colab_link": true
    },
    "kernelspec": {
      "name": "python3",
      "display_name": "Python 3"
    },
    "language_info": {
      "name": "python"
    }
  },
  "cells": [
    {
      "cell_type": "markdown",
      "metadata": {
        "id": "view-in-github",
        "colab_type": "text"
      },
      "source": [
        "<a href=\"https://colab.research.google.com/github/atik-bd/MSc-BA/blob/main/Data_Types_and_Variables.ipynb\" target=\"_parent\"><img src=\"https://colab.research.google.com/assets/colab-badge.svg\" alt=\"Open In Colab\"/></a>"
      ]
    },
    {
      "cell_type": "markdown",
      "source": [
        "##INTRODUCTORY PROGRAMMING, DATABASES AND STATISTICS\n"
      ],
      "metadata": {
        "id": "M92IfmS0su0N"
      }
    },
    {
      "cell_type": "code",
      "execution_count": null,
      "metadata": {
        "colab": {
          "base_uri": "https://localhost:8080/"
        },
        "id": "As3AcOLashaz",
        "outputId": "dd7f7bd3-cce4-4a73-f011-743ecba8c430"
      },
      "outputs": [
        {
          "output_type": "stream",
          "name": "stdout",
          "text": [
            "Exercise 2: Data Types and Variables\n",
            "Name: Atik Mahbub\n",
            "ID: 20062447\n"
          ]
        }
      ],
      "source": [
        "print('Exercise 2: Data Types and Variables\\nName: Atik Mahbub\\nID: 20062447')"
      ]
    },
    {
      "cell_type": "code",
      "source": [
        "#1.Create a variable age and assign it the value 25.\n",
        "age=25\n",
        "print(age)"
      ],
      "metadata": {
        "colab": {
          "base_uri": "https://localhost:8080/"
        },
        "id": "zd6ewCsztVWi",
        "outputId": "1c362fc3-41ce-463f-ddf5-1ab36c8d5d7e"
      },
      "execution_count": null,
      "outputs": [
        {
          "output_type": "stream",
          "name": "stdout",
          "text": [
            "25\n"
          ]
        }
      ]
    },
    {
      "cell_type": "code",
      "source": [
        "#2.Create a variable name and assign it a string containing your name.\n",
        "name='Atik Mahbub'\n",
        "print(name)"
      ],
      "metadata": {
        "colab": {
          "base_uri": "https://localhost:8080/"
        },
        "id": "7McIYO1ntndv",
        "outputId": "82fe196d-a348-4f7a-92c9-35f9ecab8b2b"
      },
      "execution_count": null,
      "outputs": [
        {
          "output_type": "stream",
          "name": "stdout",
          "text": [
            "Atik Mahbub\n"
          ]
        }
      ]
    },
    {
      "cell_type": "code",
      "source": [
        "#3.Print the type of the variable age.\n",
        "type(age)"
      ],
      "metadata": {
        "colab": {
          "base_uri": "https://localhost:8080/"
        },
        "id": "bj5RK00jtvUj",
        "outputId": "e753eb20-5374-4c99-c19b-ab768179cf2d"
      },
      "execution_count": null,
      "outputs": [
        {
          "output_type": "execute_result",
          "data": {
            "text/plain": [
              "int"
            ]
          },
          "metadata": {},
          "execution_count": 16
        }
      ]
    },
    {
      "cell_type": "code",
      "source": [
        "#4.Convert the variable age to a string and store it in a new variable age_str.\n",
        "age_str = str(age)\n",
        "print(age_str)"
      ],
      "metadata": {
        "colab": {
          "base_uri": "https://localhost:8080/"
        },
        "id": "Aoc5NeJYuNz_",
        "outputId": "ac708f60-3db3-4686-bbea-073dfcfbd056"
      },
      "execution_count": null,
      "outputs": [
        {
          "output_type": "stream",
          "name": "stdout",
          "text": [
            "25\n"
          ]
        }
      ]
    },
    {
      "cell_type": "code",
      "source": [
        "#5.Create a variable height and assign it the value 175.5 (floating-point number).\n",
        "height=175.5\n",
        "print(height)"
      ],
      "metadata": {
        "colab": {
          "base_uri": "https://localhost:8080/"
        },
        "id": "K9kD4vbvvBmB",
        "outputId": "27233ea2-7821-4c56-d02a-6b2fe3cf3b4a"
      },
      "execution_count": null,
      "outputs": [
        {
          "output_type": "stream",
          "name": "stdout",
          "text": [
            "175.5\n"
          ]
        }
      ]
    },
    {
      "cell_type": "code",
      "source": [
        "#6.Print the type of the variable height.\n",
        "type(height)"
      ],
      "metadata": {
        "colab": {
          "base_uri": "https://localhost:8080/"
        },
        "id": "4obzqWkTvTy_",
        "outputId": "e0a01d36-dcfa-4366-931d-3fbbc176742f"
      },
      "execution_count": null,
      "outputs": [
        {
          "output_type": "execute_result",
          "data": {
            "text/plain": [
              "float"
            ]
          },
          "metadata": {},
          "execution_count": 23
        }
      ]
    },
    {
      "cell_type": "code",
      "source": [
        "#7.Create a variable is_student and assign it a boolean value representing whether you are a student or not.\n",
        "is_student=True\n",
        "print(is_student)"
      ],
      "metadata": {
        "colab": {
          "base_uri": "https://localhost:8080/"
        },
        "id": "UZs9QT6uvbN_",
        "outputId": "7bee325a-1360-454b-b58e-21a29788adca"
      },
      "execution_count": null,
      "outputs": [
        {
          "output_type": "stream",
          "name": "stdout",
          "text": [
            "True\n"
          ]
        }
      ]
    },
    {
      "cell_type": "code",
      "source": [
        "#8.Print the type of the variable is_student.\n",
        "type(is_student)"
      ],
      "metadata": {
        "colab": {
          "base_uri": "https://localhost:8080/"
        },
        "id": "iCj-blhzvncQ",
        "outputId": "89b877e4-bcce-4c18-b446-7a3273543826"
      },
      "execution_count": null,
      "outputs": [
        {
          "output_type": "execute_result",
          "data": {
            "text/plain": [
              "bool"
            ]
          },
          "metadata": {},
          "execution_count": 25
        }
      ]
    },
    {
      "cell_type": "code",
      "source": [
        "#9.Create a list colors containing the names of three colors.\n",
        "colors=['Blue','Black','Brown']\n",
        "print(colors)"
      ],
      "metadata": {
        "colab": {
          "base_uri": "https://localhost:8080/"
        },
        "id": "MoLCa8uavuGM",
        "outputId": "df4c1b07-a617-49c1-c404-c48d36ad643e"
      },
      "execution_count": null,
      "outputs": [
        {
          "output_type": "stream",
          "name": "stdout",
          "text": [
            "['Blue', 'Black', 'Brown']\n"
          ]
        }
      ]
    },
    {
      "cell_type": "code",
      "source": [
        "#10.Print the second element of the list colors.\n",
        "colors[1]"
      ],
      "metadata": {
        "colab": {
          "base_uri": "https://localhost:8080/",
          "height": 36
        },
        "id": "OfEu9og_v8Uh",
        "outputId": "2a86973e-abff-40c6-b68d-cae0c9d4ded0"
      },
      "execution_count": null,
      "outputs": [
        {
          "output_type": "execute_result",
          "data": {
            "text/plain": [
              "'Black'"
            ],
            "application/vnd.google.colaboratory.intrinsic+json": {
              "type": "string"
            }
          },
          "metadata": {},
          "execution_count": 27
        }
      ]
    },
    {
      "cell_type": "code",
      "source": [
        "#11.Create a tuple dimensions containing the length, width, and height of a box.\n",
        "dimensions=(10,20,30)\n",
        "print(dimensions)"
      ],
      "metadata": {
        "colab": {
          "base_uri": "https://localhost:8080/"
        },
        "id": "LvCRHSycwAmY",
        "outputId": "30e7afb4-9379-40f3-a911-ea1504a03fc7"
      },
      "execution_count": null,
      "outputs": [
        {
          "output_type": "stream",
          "name": "stdout",
          "text": [
            "(10, 20, 30)\n"
          ]
        }
      ]
    },
    {
      "cell_type": "code",
      "source": [
        "#12.Print the third element of the tuple dimensions.\n",
        "dimensions[2]"
      ],
      "metadata": {
        "colab": {
          "base_uri": "https://localhost:8080/"
        },
        "id": "jkHs1MS04lAu",
        "outputId": "edea6e82-0723-4b36-ce78-220554f197a6"
      },
      "execution_count": null,
      "outputs": [
        {
          "output_type": "execute_result",
          "data": {
            "text/plain": [
              "30"
            ]
          },
          "metadata": {},
          "execution_count": 30
        }
      ]
    },
    {
      "cell_type": "code",
      "source": [
        "#13.Create a dictionary person with keys \"name\", \"age\", and \"city\", and assign appropriate values.\n",
        "person={'name':'Atik','age':33,'city':'Dhaka'}\n",
        "print(person)"
      ],
      "metadata": {
        "colab": {
          "base_uri": "https://localhost:8080/"
        },
        "id": "-7hdsCdw4s6b",
        "outputId": "29e4ca93-bbaa-4ca6-cd6c-1866be7d1758"
      },
      "execution_count": null,
      "outputs": [
        {
          "output_type": "stream",
          "name": "stdout",
          "text": [
            "{'name': 'Atik', 'age': 33, 'city': 'Dhaka'}\n"
          ]
        }
      ]
    },
    {
      "cell_type": "code",
      "source": [
        "#14.Print the value associated with the key \"age\" in the dictionary person.\n",
        "person['age']"
      ],
      "metadata": {
        "colab": {
          "base_uri": "https://localhost:8080/"
        },
        "id": "P-PQzX7_455P",
        "outputId": "1c4b5e0c-4eed-42bd-9c8d-0214e311d814"
      },
      "execution_count": null,
      "outputs": [
        {
          "output_type": "execute_result",
          "data": {
            "text/plain": [
              "33"
            ]
          },
          "metadata": {},
          "execution_count": 32
        }
      ]
    },
    {
      "cell_type": "code",
      "source": [
        "#15.Create a set unique_numbers containing three unique integers.\n",
        "unique_numbers={1,2,3}\n",
        "print(unique_numbers)"
      ],
      "metadata": {
        "colab": {
          "base_uri": "https://localhost:8080/"
        },
        "id": "wmu1NK6z5Dd2",
        "outputId": "87576eac-534c-4a59-d587-e6fdc94522b3"
      },
      "execution_count": null,
      "outputs": [
        {
          "output_type": "stream",
          "name": "stdout",
          "text": [
            "{1, 2, 3}\n"
          ]
        }
      ]
    },
    {
      "cell_type": "code",
      "source": [
        "#16.Add a new integer to the set unique_numbers.\n",
        "unique_numbers.add(4)\n",
        "print(unique_numbers)"
      ],
      "metadata": {
        "colab": {
          "base_uri": "https://localhost:8080/"
        },
        "id": "5X2GowxZ5L07",
        "outputId": "89eebc43-80e0-49a8-bae4-93d372f2b720"
      },
      "execution_count": null,
      "outputs": [
        {
          "output_type": "stream",
          "name": "stdout",
          "text": [
            "{1, 2, 3, 4}\n"
          ]
        }
      ]
    },
    {
      "cell_type": "code",
      "source": [
        "#17.Create a variable x and assign it the value 10.\n",
        "x=10\n",
        "print(x)"
      ],
      "metadata": {
        "colab": {
          "base_uri": "https://localhost:8080/"
        },
        "id": "T-GQlPDi5YDk",
        "outputId": "3d966c81-8275-4b7d-fe53-c9f6ec959186"
      },
      "execution_count": null,
      "outputs": [
        {
          "output_type": "stream",
          "name": "stdout",
          "text": [
            "10\n"
          ]
        }
      ]
    },
    {
      "cell_type": "code",
      "source": [
        "#18.Increment the value of x by 5.\n",
        "x+=5\n",
        "print(x)"
      ],
      "metadata": {
        "colab": {
          "base_uri": "https://localhost:8080/"
        },
        "id": "aBx1qYqS59OF",
        "outputId": "a5dea51e-4561-4829-ce1a-6f5fd09adeb7"
      },
      "execution_count": null,
      "outputs": [
        {
          "output_type": "stream",
          "name": "stdout",
          "text": [
            "15\n"
          ]
        }
      ]
    },
    {
      "cell_type": "code",
      "source": [
        "#19.Create a variable y and assign it the value of x squared\n",
        "y=x**2\n",
        "print(y)"
      ],
      "metadata": {
        "colab": {
          "base_uri": "https://localhost:8080/"
        },
        "id": "tu334RHq60eb",
        "outputId": "efd36f48-3fa7-498c-9cd2-22347f047b92"
      },
      "execution_count": null,
      "outputs": [
        {
          "output_type": "stream",
          "name": "stdout",
          "text": [
            "225\n"
          ]
        }
      ]
    },
    {
      "cell_type": "code",
      "source": [
        "#20.Swap the values of variables x and y.\n",
        "x,y=y,x\n",
        "print(x,y)"
      ],
      "metadata": {
        "colab": {
          "base_uri": "https://localhost:8080/"
        },
        "id": "K7WJgHe77E_O",
        "outputId": "eb63a8bc-f063-41ac-be0b-5dafb41ce1a8"
      },
      "execution_count": null,
      "outputs": [
        {
          "output_type": "stream",
          "name": "stdout",
          "text": [
            "225 15\n"
          ]
        }
      ]
    }
  ]
}